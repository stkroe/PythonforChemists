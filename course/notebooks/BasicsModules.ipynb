{
  "cells": [
    {
      "cell_type": "markdown",
      "metadata": {},
      "source": [
        "# Basic Modules"
      ]
    },
    {
      "cell_type": "markdown",
      "metadata": {},
      "source": [
        "# Numpy and Pandas \n",
        "\n",
        "\n",
        "## Numpy \n",
        "\n",
        "- Numpy is the most important library for Python. \n",
        "- The standard data types in Python are very slow and not very efficient for data analysis. \n",
        "- Numpy is based mainly on `C` an `C++`. \n",
        "- This allows Numpy to be faster than plain Python. \n",
        "- With Numpy a new data type is introduced **numpy arrays**. \n",
        "- Numpy arrays are multidimensional arrays that are much faster than Python lists. \n",
        "- The libary also includes many mathematical functions and methods for linear algebra. \n",
        "\n",
        "\n",
        "More information can be found at the [Numpy website](https://numpy.org/).\n",
        "\n",
        "Load the required libraries"
      ]
    },
    {
      "cell_type": "code",
      "execution_count": null,
      "metadata": {},
      "outputs": [],
      "source": [
        "import numpy as np"
      ]
    },
    {
      "cell_type": "markdown",
      "metadata": {},
      "source": [
        "###  Numpy Arrays \n",
        "\n",
        "\n",
        "An array can be described as multidimensional lists. For example a matrix is a 2D array."
      ]
    },
    {
      "cell_type": "code",
      "execution_count": null,
      "metadata": {},
      "outputs": [],
      "source": [
        "mat = np.array([[1, 2, 3], [4, 5, 6], [7, 8, 9]])\n",
        "print(mat)"
      ]
    },
    {
      "cell_type": "markdown",
      "metadata": {},
      "source": [
        "The elements of an array can be accessed using the index of the element. "
      ]
    },
    {
      "cell_type": "code",
      "execution_count": null,
      "metadata": {},
      "outputs": [],
      "source": [
        "print(mat[0, 0])   # 1 element at row 0, column 0\n",
        "\n",
        "\n",
        "print(mat[1, 2])  # 6 element at row 1, column 2\n",
        "\n",
        "\n",
        "print(mat[:, 0])  # [1 4 7] all elements in column 0\n",
        "\n",
        "\n",
        "print(mat[1, :])  # [4 5 6] all elements in row 1"
      ]
    },
    {
      "cell_type": "code",
      "execution_count": null,
      "metadata": {},
      "outputs": [],
      "source": [
        "empty_mat = np.empty((3,3),dtype=float)\n",
        "print(empty_mat)"
      ]
    },
    {
      "cell_type": "code",
      "execution_count": null,
      "metadata": {},
      "outputs": [],
      "source": [
        "ones_mat = np.ones((3, 3))\n",
        "print(ones_mat)"
      ]
    },
    {
      "cell_type": "code",
      "execution_count": null,
      "metadata": {},
      "outputs": [],
      "source": [
        "zeros_mat = np.zeros((3, 3))\n",
        "print(zeros_mat)"
      ]
    },
    {
      "cell_type": "code",
      "execution_count": null,
      "metadata": {},
      "outputs": [],
      "source": [
        "arr = np.arange(1, 10, 2) # an array from 1 to 10 with a step of 2\n",
        "print(arr)"
      ]
    },
    {
      "cell_type": "code",
      "execution_count": null,
      "metadata": {},
      "outputs": [],
      "source": [
        "arr2 = np.linspace(0,100,5) # an array from 0 to 100 with 5 elements\n",
        "print(arr2)"
      ]
    },
    {
      "cell_type": "code",
      "execution_count": null,
      "metadata": {},
      "outputs": [],
      "source": [
        "rand_mat = np.random.rand(3,3) # a 3x3 matrix with random numbers between 0 and 1\n",
        "print(rand_mat)"
      ]
    },
    {
      "cell_type": "markdown",
      "metadata": {},
      "source": [
        "---\n",
        "\n",
        "\n",
        "\n",
        "## Pandas \n",
        "\n",
        "\n",
        "- Pandas is a library for data manipulation and analysis. \n",
        "- It is built on top of Numpy. \n",
        "- With Pandas you are working with **dataframes** and not with arrays like in Numpy. \n",
        "- Dataframes are two-dimensional labeled data structures with columns of potentially different types.\n",
        "- It is like a table in a database or a spreadsheet. Pandas has a lot of methods to manipulate dataframes. \n",
        "- You can select subsets of the data, filter, sort, group, merge, join, etc. \n",
        "- You can statistically analyze the data, export the data to different file formats, but also plot the data with the help of `matplotlib`.\n",
        "\n",
        "\n",
        "More information can be found under [Pandas website](https://pandas.pydata.org/)."
      ]
    },
    {
      "cell_type": "code",
      "execution_count": null,
      "metadata": {},
      "outputs": [],
      "source": [
        "import pandas as pd"
      ]
    },
    {
      "cell_type": "markdown",
      "metadata": {},
      "source": [
        "### Panda DataFrames \n",
        "\n",
        "\n",
        "Panda DataFrames are two-dimensional labeled data structures with columns of potentially different types like a table."
      ]
    },
    {
      "cell_type": "code",
      "execution_count": null,
      "metadata": {},
      "outputs": [],
      "source": [
        "data = {\n",
        "    \"Name\": [\"Water\", \"Oxygen\", \"Hydrogen\", \"Carbon Dioxide\", \"Methane\", \"Ammonia\", \"Nitrogen\", \"Sulfur Dioxide\"],\n",
        "    \"Formula\": [\"H2O\", \"O2\", \"H2\", \"CO2\", \"CH4\", \"NH3\", \"N2\", \"SO2\"],\n",
        "    \"Molar Mass (g/mol)\": [18.015, 32.00, 2.016, 44.01, 16.04, 17.03, 28.013, 64.07]\n",
        "}\n",
        "\n",
        "df = pd.DataFrame(data)\n",
        "print(df)"
      ]
    },
    {
      "cell_type": "markdown",
      "metadata": {},
      "source": [
        "### Panda DataSeries \n",
        "\n",
        "Panda DataSeries are one-dimensional labeled arrays."
      ]
    },
    {
      "cell_type": "code",
      "execution_count": null,
      "metadata": {},
      "outputs": [],
      "source": [
        "series_data = pd.Series([1, 2, 3, 4, 5], index=[\"a\", \"b\", \"c\", \"d\", \"e\"])\n",
        "print(series_data)"
      ]
    },
    {
      "cell_type": "markdown",
      "metadata": {},
      "source": [
        "# Matplotlib \n",
        "\n",
        "Matplotlib is the main **plotting** library in Python. It is mainly used for static 2D plots.\n",
        "\n",
        "More information can be found under [Matplotlib website](https://matplotlib.org/).\n",
        "\n",
        "Later in this course we will get a detailed tutorial on how to use Matplotlib.\n"
      ]
    }
  ],
  "metadata": {
    "kernelspec": {
      "display_name": "Python 3 (ipykernel)",
      "language": "python",
      "name": "python3",
      "path": "/Users/stk/y/envs/myenv/share/jupyter/kernels/python3"
    }
  },
  "nbformat": 4,
  "nbformat_minor": 4
}
