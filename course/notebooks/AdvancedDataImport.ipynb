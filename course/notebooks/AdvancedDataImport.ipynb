{
 "cells": [
  {
   "cell_type": "markdown",
   "metadata": {},
   "source": [
    "---\n",
    "title: \"Advanced Data Reading\"\n",
    "--- "
   ]
  },
  {
   "cell_type": "code",
   "execution_count": null,
   "metadata": {
    "vscode": {
     "languageId": "plaintext"
    }
   },
   "outputs": [],
   "source": [
    "# open the file for reading\n",
    "# data is from diechemiker.org (c) Julia Opitz 2015\n",
    "data_file = open('data/fragmentation.csv', 'r') \n",
    "#read all lines into a list\n",
    "fragments = data_file.readlines() \n",
    "# remove the first line from the list and store it as the header\n",
    "header = fragments.pop(0)\n",
    "print(header)\n",
    "# remove the second line from the list and store it as the names of the columns\n",
    "names = fragments.pop(0) \n",
    " # remove the newline character from the end of the line\n",
    "names = names.strip()\n",
    "# split the names into a list of values\n",
    "names = names.split(' ') \n",
    "print(names)\n",
    "# strip the newline character from each line\n",
    "data = [line.strip() for line in fragments]\n",
    "# split each line into a list of values\n",
    "data = [line.split(' ') for line in data] \n",
    "# convert each value to a float\n",
    "data = [[float(value) for value in line] for line in data] \n",
    "# close the file\n",
    "data_file.close()\n",
    "print(data)"
   ]
  },
  {
   "cell_type": "markdown",
   "metadata": {},
   "source": []
  }
 ],
 "metadata": {
  "language_info": {
   "name": "python"
  }
 },
 "nbformat": 4,
 "nbformat_minor": 2
}
