{
  "cells": [
    {
      "cell_type": "markdown",
      "metadata": {},
      "source": [
        "---\n",
        "title: \"Simple Data Inspection\"\n",
        "--- "
      ]
    },
    {
      "cell_type": "markdown",
      "metadata": {},
      "source": [
        "## Inspection of Data \n",
        "\n",
        "After you load your data you have to inspect it to:\n",
        "\n",
        "- check if no data is consistent, no missing values\n",
        "- check if the data is in the correct format\n",
        "- check if the data is in the correct range\n",
        "- check if the data is in the correct distribution\n",
        "- get first insights into the data"
      ]
    },
    {
      "cell_type": "code",
      "execution_count": null,
      "metadata": {},
      "outputs": [],
      "source": [
        "#| echo: false\n",
        "#| eval: true\n",
        "temperature_data = \"https://raw.githubusercontent.com/stkroe/PythonForChemists/main/course/data/lectures/temperatures.csv\"\n",
        "temperature_nan_data =\"https://raw.githubusercontent.com/stkroe/PythonForChemists/main/course/data/lectures/temperatures_nan.dat\""
      ]
    },
    {
      "cell_type": "markdown",
      "metadata": {},
      "source": [
        "### Numpy \n",
        "\n",
        "#### Overview of the Data "
      ]
    },
    {
      "cell_type": "code",
      "execution_count": null,
      "metadata": {},
      "outputs": [],
      "source": [
        "import numpy as np\n",
        "data = np.loadtxt(temperature_data, delimiter=';', skiprows=1)"
      ]
    },
    {
      "cell_type": "markdown",
      "metadata": {},
      "source": [
        "First of all you can use the `print()` function to get a quick overview of the data."
      ]
    },
    {
      "cell_type": "code",
      "execution_count": null,
      "metadata": {},
      "outputs": [],
      "source": [
        "print(data)"
      ]
    },
    {
      "cell_type": "markdown",
      "metadata": {},
      "source": [
        "In numpy you can use the `shape` attribute to get the shape of the data."
      ]
    },
    {
      "cell_type": "code",
      "execution_count": null,
      "metadata": {},
      "outputs": [],
      "source": [
        "print(data.shape)"
      ]
    },
    {
      "cell_type": "markdown",
      "metadata": {},
      "source": [
        "The data has 44640 rows and 2 columns.\n",
        "\n",
        "#### Data Type Conversion\n",
        "You can use the `dtype` attribute to get the data type of the data."
      ]
    },
    {
      "cell_type": "code",
      "execution_count": null,
      "metadata": {},
      "outputs": [],
      "source": [
        "print(data.dtype)"
      ]
    },
    {
      "cell_type": "markdown",
      "metadata": {},
      "source": [
        "The data type is `float64`.\n",
        "\n",
        "You can transform the data to a `float64` data type if it is not already in this format."
      ]
    },
    {
      "cell_type": "code",
      "execution_count": null,
      "metadata": {},
      "outputs": [],
      "source": [
        "data = data.astype('float64')"
      ]
    },
    {
      "cell_type": "markdown",
      "metadata": {},
      "source": [
        "#### Missing Data and Corrupted Data \n",
        "You can use the `isnan()` function to check if there are missing values in the data."
      ]
    },
    {
      "cell_type": "code",
      "execution_count": null,
      "metadata": {},
      "outputs": [],
      "source": [
        "print(np.isnan(data).sum())"
      ]
    },
    {
      "cell_type": "markdown",
      "metadata": {},
      "source": [
        "### Pandas \n",
        "\n",
        "\n",
        "#### Overview of the Data \n",
        "\n",
        "\n",
        "You can use the `head()` function to get a quick overview of the first rows of the data.\n"
      ]
    },
    {
      "cell_type": "code",
      "execution_count": null,
      "metadata": {},
      "outputs": [],
      "source": [
        "import pandas as pd\n",
        "\n",
        "data = pd.read_csv(temperature_data,sep=';')\n",
        "data.head()"
      ]
    },
    {
      "cell_type": "markdown",
      "metadata": {},
      "source": [
        "The `describe()` function gives you a quick overview of the data distribution."
      ]
    },
    {
      "cell_type": "code",
      "execution_count": null,
      "metadata": {},
      "outputs": [],
      "source": [
        "data.describe()"
      ]
    },
    {
      "cell_type": "markdown",
      "metadata": {},
      "source": [
        "The `describe`function shows you the count, mean, standard deviation, minimum, 25%, 50%, 75% and maximum values of the data.\n",
        "\n",
        "In this case, data has 44640 data points, The mean of the temperature is 298(6) K. The minimum temperature is 279 K and the maximum temperature is 316 K. Further the 25% quantile is 294 K, the 50% quantile is 298 K and the 75% quantile is 302 K. The measurement was taken from 1 to 44640 seconds which is 12 hours and 24 minutes.\n",
        "We suppose that is the correct time range which was to be expected.\n",
        " \n",
        "This gives you a quick overview of the data distribution.\n",
        "\n",
        "\n",
        "#### Missing Data and Corrupted Data \n",
        "\n",
        "\n",
        "To check if there is missing data in the data set you can use the `isna()` function."
      ]
    },
    {
      "cell_type": "code",
      "execution_count": null,
      "metadata": {},
      "outputs": [],
      "source": [
        "data.isna().sum()"
      ]
    },
    {
      "cell_type": "markdown",
      "metadata": {},
      "source": [
        "No missing data is found in this case.\n",
        "\n",
        "\n",
        "You can check the data type using `dtypes` function to check if the data is in the correct format."
      ]
    },
    {
      "cell_type": "code",
      "execution_count": null,
      "metadata": {},
      "outputs": [],
      "source": [
        "data.dtypes"
      ]
    },
    {
      "cell_type": "code",
      "execution_count": null,
      "metadata": {},
      "outputs": [],
      "source": [
        "data.dtypes"
      ]
    },
    {
      "cell_type": "markdown",
      "metadata": {},
      "source": [
        "You see that `time` is an `int64` and `temperature` is a `float64`.\n",
        "For the analysis, you might want to convert the `time` to a `float64` as well."
      ]
    },
    {
      "cell_type": "code",
      "execution_count": null,
      "metadata": {},
      "outputs": [],
      "source": [
        "data['time'] = data['time'].astype('float64')"
      ]
    },
    {
      "cell_type": "code",
      "execution_count": null,
      "metadata": {},
      "outputs": [],
      "source": [
        "data['time'] = data['time'].astype('float64')\n",
        "data.dtypes"
      ]
    },
    {
      "cell_type": "markdown",
      "metadata": {},
      "source": [
        "If we have missing data we can use the `fillna()` function to fill the missing data with a specific value."
      ]
    },
    {
      "cell_type": "code",
      "execution_count": null,
      "metadata": {},
      "outputs": [],
      "source": [
        "data.fillna(0)"
      ]
    },
    {
      "cell_type": "code",
      "execution_count": null,
      "metadata": {},
      "outputs": [],
      "source": [
        "data_missing = pd.read_csv(temperature_nan_data, header=None, skipinitialspace=True, sep=' ', names=['time', 'temperature'])\n",
        "data_missing.head()"
      ]
    },
    {
      "cell_type": "markdown",
      "metadata": {},
      "source": [
        "One value is missing in the `temperature` column. We fill it with 0.\n",
        "\n",
        "First let check where the data is missing."
      ]
    },
    {
      "cell_type": "code",
      "execution_count": null,
      "metadata": {},
      "outputs": [],
      "source": [
        "data[data['temperature'].isna()]"
      ]
    },
    {
      "cell_type": "markdown",
      "metadata": {},
      "source": [
        "At index 21 at time 22 s the temperature is missing."
      ]
    },
    {
      "cell_type": "markdown",
      "metadata": {},
      "source": [
        "\n",
        "\n",
        ":::{.callout-note}\n",
        "The handling of missing data is a complex topic.\n",
        "First of all you have to check why the data is missing. Is it a measurement error, a data processing error etc.\n",
        "\n",
        "You have to decide if you want to fill the missing data with a specific value, drop the row or column or interpolate the missing data. The decision depends on the data and the analysis you want to perform. Dropping Data is always a delicate decision because you loose information. Sometimes it is not good scientific practice to drop data. \n",
        "For more information there a lot of research in this topic [https://doi.org/10.1076/edre.7.4.353.8937](https://doi.org/10.1076/edre.7.4.353.8937)\n",
        ":::\n",
        "\n",
        "\n"
      ]
    },
    {
      "cell_type": "markdown",
      "metadata": {},
      "source": [
        "The time step can be estimated by the difference between the time steps of the previous and the next data point."
      ]
    },
    {
      "cell_type": "code",
      "execution_count": null,
      "metadata": {},
      "outputs": [],
      "source": [
        "data['time'].diff()"
      ]
    },
    {
      "cell_type": "markdown",
      "metadata": {},
      "source": [
        "And we can summarize it via:"
      ]
    },
    {
      "cell_type": "code",
      "execution_count": null,
      "metadata": {},
      "outputs": [],
      "source": [
        "data['time'].diff().value_counts()"
      ]
    },
    {
      "cell_type": "code",
      "execution_count": null,
      "metadata": {},
      "outputs": [],
      "source": [
        "data_missing['time'].diff().value_counts()"
      ]
    },
    {
      "cell_type": "markdown",
      "metadata": {},
      "source": [
        "get difference between temperature values"
      ]
    },
    {
      "cell_type": "code",
      "execution_count": null,
      "metadata": {},
      "outputs": [],
      "source": [
        "data_missing[10:30].diff()"
      ]
    },
    {
      "cell_type": "markdown",
      "metadata": {},
      "source": [
        "The time step is constantly 1 second. \n",
        "The difference between the temperature of the previous and the next data point is at $~10^{-2}$ order.\n",
        "We can assume that in this case the data is consistent enough and we can fill the missing data with the mean of the previous and the next data point.\n"
      ]
    },
    {
      "cell_type": "code",
      "execution_count": null,
      "metadata": {},
      "outputs": [],
      "source": [
        "data['temperature'].fillna((data['temperature'].shift() + data['temperature'].shift(-1))/2, inplace=True)"
      ]
    },
    {
      "cell_type": "code",
      "execution_count": null,
      "metadata": {},
      "outputs": [],
      "source": [
        "data_missing['temperature'].fillna((data_missing['temperature'].shift() + data_missing['temperature'].shift(-1))/2, inplace=True)\n",
        "data_missing[20:25]"
      ]
    },
    {
      "cell_type": "markdown",
      "metadata": {},
      "source": [
        "Now can analysis or plot the data.\n",
        "\n",
        "#### Data Type Conversion \n",
        "\n",
        "You get the data type of the data with the `dtypes` function."
      ]
    },
    {
      "cell_type": "code",
      "execution_count": null,
      "metadata": {},
      "outputs": [],
      "source": [
        "data.dtypes"
      ]
    },
    {
      "cell_type": "markdown",
      "metadata": {},
      "source": [
        "You can convert the data type with the `astype()` function."
      ]
    },
    {
      "cell_type": "code",
      "execution_count": null,
      "metadata": {},
      "outputs": [],
      "source": [
        "data['time'] = data['time'].astype('float64')"
      ]
    },
    {
      "cell_type": "markdown",
      "metadata": {},
      "source": [
        "## Example: Data Import and Inspection \n",
        "\n",
        "# Exercises \n",
        "Download it locally and try to solve the exercises. <br>\n",
        "\n",
        "[Data Import and Inspection Example](https://github.com/stkroe/PythonforChemists/blob/main/course/examples/DHP_Example.ipynb)\n",
        "\n",
        "\n",
        "Or open it in `Google Colab`:\n",
        "\n",
        "[Data Import and Inspection Example](https://colab.research.google.com/github/stkroe/PythonforChemists/blob/main/course/examples/DHP_Example.ipynb)\n"
      ]
    }
  ],
  "metadata": {
    "kernelspec": {
      "display_name": "Python 3 (ipykernel)",
      "language": "python",
      "name": "python3",
      "path": "/Users/stk/y/envs/myenv/share/jupyter/kernels/python3"
    }
  },
  "nbformat": 4,
  "nbformat_minor": 4
}
