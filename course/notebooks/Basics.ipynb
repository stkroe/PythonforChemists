{
  "cells": [
    {
      "cell_type": "markdown",
      "metadata": {},
      "source": [
        "---\n",
        "title: \"Python Start\"\n",
        "format: \n",
        "    html:\n",
        "        css: ../../quizzes/quiz.css\n",
        "        include-in-header:\n",
        "         text: |\n",
        "            <script src=\"../../quizzes/basic_python.js\"></script>\n",
        "execute:\n",
        "    echo: true\n",
        "    eval: true\n",
        "    error: true\n",
        "other-links:     \n",
        "    - text: \"Download Code\"\n",
        "      href: \"https://raw.githubusercontent.com/stkroe/PythonForChemists/main/course/notebooks/notebooks/Basics.ipynb\"\n",
        "      icon: \"journal\"\n",
        "code-links:\n",
        "      - text: \"Open in Colab\"\n",
        "        href: \"https://colab.research.google.com/github/stkroe/PythonForChemists/blob/main/course/notebooks/Basics.ipynb\"\n",
        "        icon: \"laptop\"\n",
        "---\n",
        "\n",
        "This will be a very fast and basic start into coding with Python. \n",
        "\n",
        ":::{.callout-note}\n",
        "### Let`s make a initial quiz.\n",
        "You will see coding with Python is very easy and intuitive!\n",
        "::: \n",
        "\n",
        ":::{.callout-note collapse=true}\n",
        "### Quiz\n",
        "<div id=\"quiz-container\"></div>\n",
        ":::\n",
        "\n",
        "# Elemenary Syntax {.unnumbered}\n",
        "\n",
        "## Comands{.unnumbered}\n",
        "\n",
        "Each line of code is a command. The computer reads the code from top to bottom and executes each command in succession order. \n",
        "\n",
        "\n",
        "First of all some terminology:\n",
        "\n",
        "| Term | Definition |\n",
        "|:---------|:------------|\n",
        "| Command | *A line of code that tells the computer to do something.* |\n",
        "| Syntax | *The rules that govern how commands are written.* |\n",
        "| Execute | *To run a command.* |\n",
        "| Comment | *A note in the code that is not executed.* |\n",
        "| Indentation | *The space at the beginning of a line of code that tells the computer that the line is part of a block of code.* |\n",
        "| Error | *A message that tells you that something is wrong with your code.* |\n",
        "| Stack trace | *A list of error messages that Python prints when an error occurs.* |\n",
        "| Variable | *A name that stores a value.* |\n",
        "| Data type | *The type of value that a variable stores.* |\n",
        "| Declaration | *The process of assigning memory to a variable.* |\n",
        "| Integer | *A whole number.* |\n",
        "| Float | *A number with a decimal point.* |\n",
        "| Boolean | *A value that is either True or False.* |\n",
        "| List | *A collection of items.* |\n",
        "| Mutable | *A type of object that can be changed.* |\n",
        "| Immutable | *A type of object that cannot be changed.* |\n",
        "| String | *A sequence of characters.* |\n",
        "| Function | *A block of code that performs a specific task.* |\n",
        "| Module | *A collection of functions and variables.* |\n",
        "| Library | *A collection of modules.* |\n",
        "| Package | *A collection of related modules.* |\n",
        "| Script | *A file that contains code that can be run independently.* |\n",
        ":  {tbl-colwidths=\"[25,75]\" .striped .hover}\n",
        "\n",
        "\n",
        ":::{.callout-note}\n",
        "### Example - Hello World\n",
        "`print` is a command that tells the computer to display the text or variable that follows it. \n",
        ":::\n",
        "\n",
        "Try it out:\n",
        "\n",
        "- Copy the code below and paste it into a code cell.\n",
        "- Or open this file in `Google Colab` and run the code.\n",
        "- Or download this file and run it on your local machine."
      ]
    },
    {
      "cell_type": "code",
      "metadata": {},
      "source": [
        "print(\"Hello World\")"
      ],
      "execution_count": null,
      "outputs": []
    },
    {
      "cell_type": "markdown",
      "metadata": {},
      "source": [
        "If you want to span a command over multiple lines you can use `\\` or <br> \n",
        "if you are using parenthesis in your command you can directly use a new line.\n"
      ]
    },
    {
      "cell_type": "code",
      "metadata": {},
      "source": [
        " result = 1 + 2 + 3 + \\\n",
        "          7 + 8 + 9\n",
        " numbers = [\n",
        "     1, 2, 3,\n",
        "     4, 5, 6,\n",
        "     7, 8, 9\n",
        " ]"
      ],
      "execution_count": null,
      "outputs": []
    },
    {
      "cell_type": "markdown",
      "metadata": {},
      "source": [
        "## Indentation {.unnumbered}\n",
        "In Python code blocks are not structured by brackets or semicolons like `C/C++` or `Java` but by indentation. This means that the code inside a loop or a function is indented by a tab or four spaces.\n",
        "\n",
        ":::{.callout-warning}\n",
        "Indentations are curcial in Python. \n",
        "If you don't indent your code correctly, you will get an typical beginner error.\n",
        "\n",
        "Pay attention to not mix tabs and spaces in your code.\n",
        ":::\n",
        "\n",
        "\n",
        "\n",
        ":::{.callout-note}\n",
        "### Example - Wrong Indentation\n",
        ":::\n",
        "\n",
        "Try it out:"
      ]
    },
    {
      "cell_type": "code",
      "metadata": {},
      "source": [
        "print(\"correct indentation\")\n",
        "    print(\"wrong indentation\")"
      ],
      "execution_count": null,
      "outputs": []
    },
    {
      "cell_type": "markdown",
      "metadata": {},
      "source": [
        "All the lines in the block must have the same indentation:"
      ]
    },
    {
      "cell_type": "code",
      "metadata": {},
      "source": [
        "    print(\"correct indentation\") \n",
        "    print(\"correct indentation\")\n",
        "    print(\"correct indentation\")"
      ],
      "execution_count": null,
      "outputs": []
    },
    {
      "cell_type": "markdown",
      "metadata": {},
      "source": [
        "## Error messages {.unnumbered}\n",
        "\n",
        "When you run a command that has an error, Python will print an error message. \n",
        "\n",
        "The so called stack trace. It is a list of error messages that Python prints when an error occurs.\n",
        "\n",
        "It gives you information about the error and the location of the error in your code.\n",
        "\n",
        "The strack track is read from bottom to top.\n",
        "\n",
        "The last line contains the error message and the line number where the error occured.\n",
        "\n",
        "\n",
        "\n",
        "::: {.callout-tip}\n",
        "Often the error messages are not very clear. You can search for the error message in the internet. [Stackoverflow](https://stackoverflow.com/) has a lot of answers to common errors. Or you can ask some AI *e.g.* [ChatGPT](https://chat.openai.com/).\n",
        ":::\n",
        "\n",
        "\n",
        ":::{.callout-note}\n",
        "Example - Cryptic Error Message \n",
        "What does the error message tell you? If you are not sure ask the internet or your favorite AI.\n",
        ":::"
      ]
    },
    {
      "cell_type": "code",
      "metadata": {},
      "source": [
        "a = [1,2,3]\n",
        "print(a[3])"
      ],
      "execution_count": null,
      "outputs": []
    },
    {
      "cell_type": "markdown",
      "metadata": {},
      "source": [
        ":::{.callout-tip collapse=\"true\"}\n",
        "### Solution \n",
        "The error message tells you that you are trying to access an index that is out of range.\n",
        ":::\n",
        "\n",
        "\n",
        "## Comments {.unnumbered}\n",
        "Comments are important. They help you and others to understand your code. <br>\n",
        "You can use the \\` symbol to write comments.\n",
        "\n",
        "Docstrings are used to document the code for example with [pydoc](https://docs.python.org/3/library/pydoc.html). They are using triple quotes \\`\"\"\" \"\"\"\"\\`.\n"
      ]
    },
    {
      "cell_type": "code",
      "metadata": {},
      "source": [
        "# This is a comment\n",
        "\n",
        "\"\"\"\n",
        "This is a documentation.\n",
        "You can document your code for example by pydoc\n",
        "\"\"\""
      ],
      "execution_count": null,
      "outputs": []
    },
    {
      "cell_type": "markdown",
      "metadata": {},
      "source": [
        "---\n",
        "\n",
        "# Modules {.unnumbered}\n",
        "\n",
        "There exist a lot of libraries and modules in Python. <br>\n",
        "Libraries is a term to describe a collection of modules. <br>\n",
        "Packages are a way to collect related modules together within a single tree-like hierarchy. <br>\n",
        "Modules are a collection of files. <br>\n",
        "A script is a file that can be run independently. <br>\n",
        "You can use the `import` statement to import the whole module. <br>\n",
        "You can use the `from` statement to import a specific part of the module. <br>\n",
        "You can use the `dir()` function to list the names in a module. <br>\n",
        "You can use the `help()` function to get help on a module. <br>\n"
      ]
    },
    {
      "cell_type": "code",
      "metadata": {},
      "source": [
        "import numpy as np \n",
        "# the library numpy is imported\n",
        "from matplotlib import pyplot as plt \n",
        "# the library pyplot is imported from matplotlib module"
      ],
      "execution_count": null,
      "outputs": []
    },
    {
      "cell_type": "markdown",
      "metadata": {},
      "source": [
        "---\n",
        "\n",
        "# Variables {.unnumbered}\n",
        "\n",
        "\n",
        "In Python, you don't need to declare the type of a variable. <br>\n",
        "You can assign a value to a variable using the `=` operator. <br>\n",
        "Python is managing the memory allocation for you. <br>\n"
      ]
    },
    {
      "cell_type": "code",
      "metadata": {},
      "source": [
        "a = 1  #a is a variable\n",
        "b = \"String\" #b is a string\n",
        "print(1, \" is an\", type(a))\n",
        "print(b, \" is a\", type(b))"
      ],
      "execution_count": null,
      "outputs": []
    },
    {
      "cell_type": "markdown",
      "metadata": {},
      "source": [
        "---\n",
        "\n",
        "# Data Types {.unnumbered}\n",
        "\n",
        "\n",
        "Python has several data types. The most common are:\n",
        "\n",
        "- `int` for integers\n",
        "- `float` for floating point numbers\n",
        "- `str` for strings\n",
        "- `bool` for booleans\n",
        "- `list` for lists\n",
        "- `tuple` for tuples\n",
        "- `dict` for dictionaries\n",
        "- `set` for sets\n",
        "\n",
        "You can use the `type()` function to get the type of a variable. <br>\n",
        "You can use the `isinstance()` function to check if a variable is an instance of a class. <br>\n",
        "Type casting is the process of converting one data type to another. <br>\n",
        "You can use the `int()`, `float()`, `str()`, `bool()`, `list()`, `tuple()`, `dict()`, `set()` functions to cast a variable to a different type. <br>\n"
      ]
    },
    {
      "cell_type": "code",
      "metadata": {},
      "source": [
        "x = 5 int\n",
        "print(x,type(x))# print the type of x"
      ],
      "execution_count": null,
      "outputs": []
    },
    {
      "cell_type": "code",
      "metadata": {},
      "source": [
        "y = 5.12 #float\n",
        "print(y,type(y))"
      ],
      "execution_count": null,
      "outputs": []
    },
    {
      "cell_type": "code",
      "metadata": {},
      "source": [
        "c = 2.8j #complex\n",
        "print(c,type(c))"
      ],
      "execution_count": null,
      "outputs": []
    },
    {
      "cell_type": "code",
      "metadata": {},
      "source": [
        "s = \"Hello World\" #string\n",
        "print(s,type(s))"
      ],
      "execution_count": null,
      "outputs": []
    },
    {
      "cell_type": "code",
      "metadata": {},
      "source": [
        "print(\"length of word: \", len(s)) # length of string\n",
        "print(\"character on position 2: \", s[2]) \n",
        "print(\"last 3 characters: \", s[-3:])\n",
        "s2 = s + \"!\"\n",
        "print(s2)\n",
        "s3 = \"\\\"Hello world\\\"!\"\n",
        "print(s3)"
      ],
      "execution_count": null,
      "outputs": []
    },
    {
      "cell_type": "code",
      "metadata": {},
      "source": [
        "d = dict(name=\"Max\",lastname=\"Musterman\",height=1.89) # dictionary\n",
        "print(d,type(d))"
      ],
      "execution_count": null,
      "outputs": []
    },
    {
      "cell_type": "code",
      "metadata": {},
      "source": [
        "b = True # boolean\n",
        "print(b,type(b))"
      ],
      "execution_count": null,
      "outputs": []
    },
    {
      "cell_type": "code",
      "metadata": {},
      "source": [
        "dataset = {1,12,3} # set \n",
        "print(dataset,type(dataset))"
      ],
      "execution_count": null,
      "outputs": []
    },
    {
      "cell_type": "code",
      "metadata": {},
      "source": [
        "dataset2 = set((1.2,2,2)) # set\n",
        "print(dataset2,type(dataset2))"
      ],
      "execution_count": null,
      "outputs": []
    },
    {
      "cell_type": "code",
      "metadata": {},
      "source": [
        "r = range(0,10,2) # range\n",
        "print(r,type(r))"
      ],
      "execution_count": null,
      "outputs": []
    },
    {
      "cell_type": "code",
      "metadata": {},
      "source": [
        "l = [1,2,2,3] # list\n",
        "print(l,type(l))\n",
        "print(\"length of list\",len(l))"
      ],
      "execution_count": null,
      "outputs": []
    },
    {
      "cell_type": "code",
      "metadata": {},
      "source": [
        "t = (1,2)# tuple\n",
        "print(t,type(t))"
      ],
      "execution_count": null,
      "outputs": []
    },
    {
      "cell_type": "code",
      "metadata": {},
      "source": [
        "#type conversion\n",
        "f = float(x)\n",
        "print(f,type(f))"
      ],
      "execution_count": null,
      "outputs": []
    },
    {
      "cell_type": "markdown",
      "metadata": {},
      "source": [
        "---\n",
        "\n",
        "# Lists {.unnumbered}\n",
        "\n",
        "\n",
        "Lists collect multiple items in a single variable. <br>\n",
        "\n",
        "You can use the `[]` operator to create a list. <br>\n",
        "You can use the `append()` method to add an item to a list. <br>\n",
        "You can use the `insert()` method to add an item at a specific position. <br>\n",
        "You can use the `del` statement to delete an item from a list. <br>\n",
        "You can use the `remove()` method to remove an item from a list. <br>\n",
        "You can use the `pop()` method to remove an item at a specific position. <br>\n",
        "You can use the `clear()` method to remove all items from a list. <br>\n",
        "You can use the `copy()` method to copy a list. <br>\n",
        "You can use the `count()` method to count the number of items in a list. <br>\n",
        "You can use the `sort()` method to sort a list. <br>\n",
        "You can use the `reverse()` method to reverse a list. <br>\n",
        "You can use the `extend()` method to add items from another list. <br>\n",
        "You can use the `index()` method to get the index of an item. <br>\n",
        "You can use the `len()` function to get the length of a list. <br>\n",
        "You can use the `list()` function to create a list. <br>\n"
      ]
    },
    {
      "cell_type": "code",
      "metadata": {},
      "source": [
        "a = ['a', 'b', 'c']\n",
        "b = [1,3,'a', 1j]\n",
        "len(a) #length of list"
      ],
      "execution_count": null,
      "outputs": []
    },
    {
      "cell_type": "markdown",
      "metadata": {},
      "source": [
        ":::{.callout-warning}\n",
        "Index is starting with **0** in Python.\n",
        ":::"
      ]
    },
    {
      "cell_type": "code",
      "metadata": {},
      "source": [
        "l = ['first', 'second', 'third']\n",
        "l[0]"
      ],
      "execution_count": null,
      "outputs": []
    },
    {
      "cell_type": "markdown",
      "metadata": {},
      "source": [
        "Last element is reached by index -1.\n"
      ]
    },
    {
      "cell_type": "code",
      "metadata": {},
      "source": [
        "l[-1]"
      ],
      "execution_count": null,
      "outputs": []
    },
    {
      "cell_type": "markdown",
      "metadata": {},
      "source": [
        "---\n",
        "\n",
        "# Mutable and Immutable Objects {.unnumbered}\n",
        "\n",
        "Immutable objects cannot be changed. <br>\n",
        "Mutable objects can be changed. <br>\n",
        "Immutable objects are: `int`, `float`, `bool`, `str`, `tuple`, `frozenset`. <br>\n",
        "Mutable objects are: `list`, `dict`, `set`. <br>\n",
        "\n",
        "That means if you change an immutable object, a new object is created. <br>\n",
        "If you change a mutable object, the object is changed. <br>"
      ]
    },
    {
      "cell_type": "code",
      "metadata": {},
      "source": [
        "a = 1\n",
        "b = a\n",
        "\n",
        "print(\"a:\",a)\n",
        "print(\"b:\",b)\n",
        "\n",
        "a = 2\n",
        "print(\"------\")\n",
        "print(\"a:\",a)\n",
        "print(\"b:\",b)\n",
        "\n",
        "b = 3\n",
        "print(\"------\")\n",
        "print(\"a:\",a)\n",
        "print(\"b:\",b)\n",
        "\n",
        "b = a\n",
        "print(\"------\")\n",
        "print(\"a:\",a)\n",
        "print(\"b:\",b)"
      ],
      "execution_count": null,
      "outputs": []
    },
    {
      "cell_type": "markdown",
      "metadata": {},
      "source": [
        "mutable objects"
      ]
    },
    {
      "cell_type": "code",
      "metadata": {},
      "source": [
        "a = [1,2,3]\n",
        "b = a\n",
        "\n",
        "print(\"a:\",a)\n",
        "print(\"b:\",b)\n",
        "\n",
        "a[0] = 4\n",
        "print(\"------\")\n",
        "print(\"a:\",a)\n",
        "print(\"b:\",b)\n",
        "\n",
        "b[1] = 5\n",
        "print(\"------\")\n",
        "print(\"a:\",a)\n",
        "print(\"b:\",b)"
      ],
      "execution_count": null,
      "outputs": []
    },
    {
      "cell_type": "markdown",
      "metadata": {},
      "source": [
        "This happens because a and b are pointing to the same memory location. So if you change a, b will also change. If you want to avoid this, you can use the copy() method."
      ]
    },
    {
      "cell_type": "code",
      "metadata": {},
      "source": [
        "b = a.copy()\n",
        "print(\"------\")\n",
        "print(\"a:\",a)\n",
        "print(\"b:\",b)\n",
        "\n",
        "a[2] = 6\n",
        "print(\"------\")\n",
        "print(\"a:\",a)\n",
        "print(\"b:\",b)\n",
        "\n",
        "b[2] = 7\n",
        "print(\"------\")\n",
        "print(\"a:\",a)\n",
        "print(\"b:\",b)"
      ],
      "execution_count": null,
      "outputs": []
    },
    {
      "cell_type": "markdown",
      "metadata": {},
      "source": [
        "---\n",
        "\n",
        "# String Formatting {.unnumbered}\n",
        "\n",
        "\n",
        "You can use the following escape characters:\n",
        "\n",
        "- `\\n`: new line\n",
        "- `\\t`: tab\n",
        "- `\\\\`: backslash\n",
        "- `\\'`: single quote\n",
        "- `\\\"`: double quote\n",
        "- `\\b`: backspace\n",
        "- `\\r`: carriage return\n",
        "- `\\f`: form feed\n",
        "- `\\ooo`: octal value\n",
        "- `\\xhh`: hex value\n",
        "\n",
        "\n",
        "\n",
        "You can use the `+` operator to concatenate strings. <br>"
      ]
    },
    {
      "cell_type": "code",
      "metadata": {},
      "source": [
        "a = \"This \" \n",
        "b = \"is a string\"\n",
        "print(a + b)"
      ],
      "execution_count": null,
      "outputs": []
    },
    {
      "cell_type": "markdown",
      "metadata": {},
      "source": [
        "For print formatting you can use the `format()` method. <br>\n",
        "You can use the `f-string` method. <br>\n",
        "See for more information [here](https://docs.python.org/3/tutorial/inputoutput.html#tut-f-strings)"
      ]
    },
    {
      "cell_type": "code",
      "metadata": {},
      "source": [
        "a = 1.5434\n",
        "b = \"nm\"\n",
        "print(\"This is an integer %d %s\" % (a, b))\n",
        "print(\"This is a float formating with minimum \\\n",
        "1 number of character wide and 2 digits %1.2f %s\" % (a, b))\n",
        "print(\"This is scientific notation with \\\n",
        "2 digits %.2e %s\" % (a, b))\n",
        "print(\"This is a string %s %s\" % (a, b))\n",
        "print(\"This is an example of using \\\n",
        "format() method {0} {1}\".format(a, b)) \n",
        "print(\"This is an example of using format() \\\n",
        "method with named arguments {a} {b}\".format(a=a, b=b))"
      ],
      "execution_count": null,
      "outputs": []
    },
    {
      "cell_type": "markdown",
      "metadata": {},
      "source": [
        "---\n",
        "\n",
        "# Operators {.unnumbered}\n",
        "\n",
        "\n",
        "There are different types of operators in Python. <br>\n",
        "\n",
        "\n",
        "-  +: addition\n",
        "-  -: subtraction\n",
        "-  *: multiplication\n",
        "-  /: division\n",
        "-  %: modulo\n",
        "-  **: exponentiation\n",
        "-  //: floor division\n",
        "-  ==: equal\n",
        "-  !=: not equal\n",
        "-  <: less than    \n",
        "-  >: greater than\n",
        "-  <=: less than or equal\n",
        "-  >=: greater than or equal\n",
        "-  and: logical and\n",
        "-  or: logical or\n",
        "-  not: logical not\n",
        "-  is: identity\n",
        "-  in: membership"
      ]
    },
    {
      "cell_type": "code",
      "metadata": {},
      "source": [
        "a = 5.3\n",
        "b = 2\n",
        "c = 3\n",
        "\n",
        "print(\"division: \", a/b)\n",
        "print(\"division: \", b/c, \" type: \", type(b/c))\n",
        "print(\"integer division: \", a//b)\n",
        "print(\"modulo: \", a%b)\n",
        "print(\"float multiplication: \", a*b, \" type: \", type(a*b))\n",
        "print(\"integer multiplication: \", b*c, \" type: \", type(b*c))\n",
        "print(\"exponentiation: \", a**2)"
      ],
      "execution_count": null,
      "outputs": []
    },
    {
      "cell_type": "markdown",
      "metadata": {},
      "source": [
        "---\n",
        "\n",
        "# Control Structures {.unnumbered}\n",
        "\n",
        "Control structures are used to control the flow of a program. <br>\n",
        "The most common control structures are:\n",
        "\n",
        "- You can use the `if` statement to execute a block of code if a condition is true. \n",
        "- You can use the `elif` statement to execute a block of code if the first condition is - false and the second condition is true.\n",
        "- You can use the `else` statement to execute a block of code if the condition is false.\n",
        "- You can use the `for` loop to iterate over a sequence. \n",
        "- You can use the `while` loop to execute a block of code as long as a condition is true. \n",
        "- You can use the `break` statement to exit a loop. \n",
        "- You can use the `continue` statement to skip the rest of the code in a loop. \n",
        "- You can use the `pass` statement to do nothing.\n",
        "\n",
        "## if statement {.unnumbered}"
      ]
    },
    {
      "cell_type": "code",
      "metadata": {},
      "source": [
        "x = 0\n",
        "if x < 0:\n",
        "    print(\"x < 0\")\n",
        "elif x > 0:\n",
        "    print(\"x > 0\")\n",
        "else:\n",
        "    print(\"x = 0\")"
      ],
      "execution_count": null,
      "outputs": []
    },
    {
      "cell_type": "markdown",
      "metadata": {},
      "source": [
        "## break,continue,pass {.unnumbered}\n"
      ]
    },
    {
      "cell_type": "code",
      "metadata": {},
      "source": [
        "for i in range(10):\n",
        "    if i == 5:\n",
        "        break\n",
        "    print(i)"
      ],
      "execution_count": null,
      "outputs": []
    },
    {
      "cell_type": "code",
      "metadata": {},
      "source": [
        "for i in range(10):\n",
        "    if i == 5:\n",
        "        continue\n",
        "    print(i)"
      ],
      "execution_count": null,
      "outputs": []
    },
    {
      "cell_type": "code",
      "metadata": {},
      "source": [
        "for i in range(10):\n",
        "    if i == 5:\n",
        "        pass\n",
        "    print(i)"
      ],
      "execution_count": null,
      "outputs": []
    },
    {
      "cell_type": "markdown",
      "metadata": {},
      "source": [
        "## For Loops {.unnumbered}"
      ]
    },
    {
      "cell_type": "code",
      "metadata": {},
      "source": [
        "for i in range(5): #from 0 to 4 \n",
        "    print(i)"
      ],
      "execution_count": null,
      "outputs": []
    },
    {
      "cell_type": "code",
      "metadata": {},
      "source": [
        "for i in range(1,10,2): # start 1, stop 10 excluded, step 2\n",
        "    print(i)"
      ],
      "execution_count": null,
      "outputs": []
    },
    {
      "cell_type": "code",
      "metadata": {},
      "source": [
        "l = list(range(0,10))"
      ],
      "execution_count": null,
      "outputs": []
    },
    {
      "cell_type": "code",
      "metadata": {},
      "source": [
        "l"
      ],
      "execution_count": null,
      "outputs": []
    },
    {
      "cell_type": "code",
      "metadata": {},
      "source": [
        "for i in l:  # using list\n",
        "    print(i)"
      ],
      "execution_count": null,
      "outputs": []
    },
    {
      "cell_type": "markdown",
      "metadata": {},
      "source": [
        "## While Loops {.unnumbered}"
      ]
    },
    {
      "cell_type": "code",
      "metadata": {},
      "source": [
        "x = 0\n",
        "while x  < 4:\n",
        "    print(l[x])\n",
        "    x = x + 1"
      ],
      "execution_count": null,
      "outputs": []
    },
    {
      "cell_type": "code",
      "metadata": {},
      "source": [
        "print(\"while loop with continue and break statement\")\n",
        "n = 0\n",
        "while(n < 10):\n",
        "    n+=1\n",
        "    if n == 5:\n",
        "        continue\n",
        "    if n == 7:\n",
        "        print(\"The loop reached 7 and will break now.\")\n",
        "        break\n",
        "    print(n)"
      ],
      "execution_count": null,
      "outputs": []
    },
    {
      "cell_type": "markdown",
      "metadata": {},
      "source": [
        "## Functions {.unnumbered}\n",
        "\n",
        "\n",
        "Functions are defined using the `def` keyword. <br>\n",
        "You can use the `return` keyword to return a value from a function. <br>\n",
        "The parameters of a function are defined in the parentheses. <br>\n",
        "Multiple parameters are separated by commas. <br>\n",
        "You can use default values for the parameter *e.g.* `b=5`. <br>\n",
        "Multiple return values are separated by commas. <br>\n",
        "They are stored in a tuple. <br>\n"
      ]
    },
    {
      "cell_type": "code",
      "metadata": {},
      "source": [
        "def summation(a,b=5):\n",
        "    return a+b, a-b"
      ],
      "execution_count": null,
      "outputs": []
    },
    {
      "cell_type": "code",
      "metadata": {},
      "source": [
        "summation(4,2)"
      ],
      "execution_count": null,
      "outputs": []
    },
    {
      "cell_type": "code",
      "metadata": {},
      "source": [
        "sum, sub = summation(4)\n",
        "print(sum)\n",
        "print(sub)"
      ],
      "execution_count": null,
      "outputs": []
    },
    {
      "cell_type": "code",
      "metadata": {},
      "source": [
        "x = 3\n",
        "\n",
        "def multiple_return_value(x,a,b):\n",
        "    n = x+a\n",
        "    m = x-b\n",
        "    return [n,m]\n",
        "print(multiple_return_value(x,5,10)[0],multiple_return_value(x,5,10)[1])"
      ],
      "execution_count": null,
      "outputs": []
    },
    {
      "cell_type": "markdown",
      "metadata": {},
      "source": [
        "---\n",
        "\n",
        "## Style guideline for writing python code {.unnumbered}\n",
        "\n",
        "\n",
        "For writing a readable code, it is important to follow a style guideline. <br>\n",
        "The most common style guideline for Python is [PEP 8](https://www.python.org/dev/peps/pep-0008/). <br>\n",
        "\n",
        "---\n",
        "\n",
        "# Exercises {.unnumbered}\n",
        "Download it locally and try to solve the exercises. <br>\n",
        "\n",
        "[Basic Python](https://github.com/stkroe/PythonforChemists/blob/main/course/examples/notebooks/ex1/)\n",
        "\n",
        "\n",
        "\n",
        "Or open it in `Google Colab`:\n",
        "\n",
        "[Basic Python](https://colab.research.google.com/github/stkroe/PythonforChemists/blob/main/course/examples/notebooks/ex1/material/student/BasicExercises.ipynb)\n"
      ]
    }
  ],
  "metadata": {
    "kernelspec": {
      "name": "python3",
      "language": "python",
      "display_name": "Python 3 (ipykernel)",
      "path": "/Users/stk/y/envs/myenv/share/jupyter/kernels/python3"
    }
  },
  "nbformat": 4,
  "nbformat_minor": 4
}