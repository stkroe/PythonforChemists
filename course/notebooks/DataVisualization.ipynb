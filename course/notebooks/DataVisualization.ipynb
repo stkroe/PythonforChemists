{
  "cells": [
    {
      "cell_type": "markdown",
      "metadata": {},
      "source": [
        "---\n",
        "title: \"Introduction into Data Visualization\"\n",
        "--- \n",
        "\n"
      ]
    },
    {
      "cell_type": "markdown",
      "metadata": {},
      "source": [
        "\n",
        "# Data Visualization \n",
        "\n",
        "\n",
        "\n",
        "Visualization of data helps us to understand the data better and communicate the results.\n",
        "It is easier to understand a graph than a table of numbers. \n",
        "\n",
        "---\n",
        "\n"
      ]
    },
    {
      "cell_type": "markdown",
      "metadata": {},
      "source": [
        "\n",
        "## Which technique should you use? \n",
        "\n",
        "\n",
        "- How many variables do you have and how many do you want to compare at once?\n",
        "- What type of data do you have?\n",
        "- What type of relationship are you trying to represent?\n",
        "- Do you want to analyze the distribution of the data?\n",
        "- Do you want to analyze the correlation between the variables?\n",
        "- Do you want to show ranking or ordering of the data?\n",
        "- Do you want to a trend over time?\n",
        "- Do you want to show the composition of the data?\n",
        "- Do you want to predict the future values of the data?\n",
        "- Do you want to show the relationship between the variables?\n",
        "\n"
      ]
    },
    {
      "cell_type": "markdown",
      "metadata": {},
      "source": [
        "\n",
        "### Additional resources \n",
        "\n",
        "A good handbook for data visualization in Python is the book [\"Python Data Science Handbook\" by Jake VanderPlas](https://jakevdp.github.io/PythonDataScienceHandbook/04.00-introduction-to-matplotlib.html)\n",
        "\n",
        "\n",
        "---\n",
        "\n"
      ]
    },
    {
      "cell_type": "markdown",
      "metadata": {},
      "source": [
        "## How you should visualize data? \n",
        "\n",
        "\n",
        "- A graphic should have a suitable font size.\n",
        "- Choose colors that are easy to distinguish also for colorblind people (e.g. [colorbrewer](https://colorbrewer2.org/).\n",
        "- The axis ticks and limits should be chosen in a way that the data is easy to read.\n",
        "- Axis should be labeled and physical units should be not forgotten.\n",
        "- The graphic should be not overloaded with information.\n",
        "- Have always in mind who is the target audience of your graphic and where the graphic will be presented *e.g.* in a scientific paper, in a presentation or in a poster."
      ]
    }
  ],
  "metadata": {
    "kernelspec": {
      "display_name": "Python 3 (ipykernel)",
      "language": "python",
      "name": "python3",
      "path": "/Users/stk/y/envs/myenv/share/jupyter/kernels/python3"
    }
  },
  "nbformat": 4,
  "nbformat_minor": 4
}
