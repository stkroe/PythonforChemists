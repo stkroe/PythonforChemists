{
 "cells": [
  {
   "cell_type": "raw",
   "metadata": {
    "vscode": {
     "languageId": "raw"
    }
   },
   "source": [
    "---\n",
    "title: \"Introduction into Data Visualization\"\n",
    "execute:\n",
    "    echo: true\n",
    "    eval: false\n",
    "--- "
   ]
  },
  {
   "cell_type": "markdown",
   "metadata": {},
   "source": [
    "# Data Visualization {.unnumbered}"
   ]
  },
  {
   "cell_type": "markdown",
   "metadata": {},
   "source": [
    "## Why we should viusalize data? {.unnumbered}"
   ]
  },
  {
   "cell_type": "markdown",
   "metadata": {},
   "source": [
    "Visualization of data helps us to understand the data better. It helps us to understand the relationship between different features and the target variable. You can identify outliers. Further the distribution of the data can be understood and correlation can be identified.\n",
    "\n",
    "There exists are lot of different visualization techniques:"
   ]
  },
  {
   "cell_type": "markdown",
   "metadata": {},
   "source": []
  },
  {
   "cell_type": "markdown",
   "metadata": {},
   "source": [
    "- [Line plot](https://matplotlib.org/stable/api/_as_gen/matplotlib.pyplot.plot.html): \n",
    "Show the relationship of observable over the abscissa *e.g.* time vs radioactivity decay as continuous function."
   ]
  },
  {
   "cell_type": "markdown",
   "metadata": {},
   "source": [
    "- [Scatter plot](https://matplotlib.org/stable/api/_as_gen/matplotlib.pyplot.scatter.html):\n",
    "Show the relationship of observable over the abscissa *e.g.* time vs temperature as discrete function."
   ]
  },
  {
   "cell_type": "markdown",
   "metadata": {},
   "source": [
    "- [Histogram] (https://matplotlib.org/stable/api/_as_gen/matplotlib.pyplot.hist.html):\n",
    "Show the distribution of a single variable *e.g.* count of a mass of individuals in a population. The data is divided into bins and the number of data points in each bin is plotted."
   ]
  },
  {
   "cell_type": "markdown",
   "metadata": {},
   "source": [
    "- [Kernel density plot](https://seaborn.pydata.org/generated/seaborn.kdeplot.html):\n",
    "Show the distribution of a single variable *e.g.* distribution of a mass of individuals in a population. The data is smoothed by a kernel density and the density of the data is plotted continuously."
   ]
  },
  {
   "cell_type": "markdown",
   "metadata": {},
   "source": [
    "- [Bar plot](https://matplotlib.org/stable/api/_as_gen/matplotlib.pyplot.bar.html):\n",
    "Show the relationship of a categorical variable with a numerical variable *e.g.* cancer cell survival time for different treatment groups. The height of the bar is proportional to the value of the investigated variable."
   ]
  },
  {
   "cell_type": "markdown",
   "metadata": {},
   "source": [
    "- [Heatmap](https://seaborn.pydata.org/generated/seaborn.heatmap.html): \n",
    "Show the relationship of two categorical variables with a numerical variable *e.g.* cancer cell survival time for different treatment groups and different cancer types. The color of the cell is proportional to the value of the investigated variable."
   ]
  },
  {
   "cell_type": "markdown",
   "metadata": {},
   "source": [
    "- [Network plot](https://networkx.org/documentation/stable/auto_examples/index.html):\n",
    "It is used to show the relationship between different nodes. It is used to show the relationship between different entities *e.g.*  protein-protein interaction network [PPI](http://www.ncbi.nlm.nih.gov/pmc/articles/pmc4017556/)."
   ]
  },
  {
   "cell_type": "markdown",
   "metadata": {},
   "source": [
    "- [Box plot](https://seaborn.pydata.org/generated/seaborn.boxplot.html):\n",
    "Show the distribution of a numerical variable for different categories. It shows the minimum, first quartile, median, third quartile and maximum of your data. Outliers can be identified. An example of this *e.g.* is the distribution of cancer cell survival time for different treatment groups."
   ]
  },
  {
   "cell_type": "markdown",
   "metadata": {},
   "source": [
    "- [Pie chart](https://matplotlib.org/stable/api/_as_gen/matplotlib.pyplot.pie.html):\n",
    "Show the proportion of different categories in a single variable *e.g.* the content of different amino acids in a protein."
   ]
  },
  {
   "cell_type": "markdown",
   "metadata": {},
   "source": [
    "- [Violin plot](https://seaborn.pydata.org/generated/seaborn.violinplot.html): Show the distribution of a numerical variable for different categories. It is similar to a box plot but it also shows the probability density of the data at different values. An example of this *e.g.* is the distribution of cancer cell survival time for different treatment groups."
   ]
  },
  {
   "cell_type": "markdown",
   "metadata": {},
   "source": [
    "\n",
    "- [Regression plot](https://seaborn.pydata.org/generated/seaborn.regplot.html):\n",
    "Show a regression model between two variables *e.g.* the relationship between the concentration and the time."
   ]
  },
  {
   "cell_type": "markdown",
   "metadata": {},
   "source": [
    "## Which technique should you use? {.unnumbered}"
   ]
  },
  {
   "cell_type": "markdown",
   "metadata": {},
   "source": [
    "- How many variables do you have and how many do you want to compare at once?\n",
    "- What type of data do you have?\n",
    "- What type of relationship are you trying to represent?\n",
    "- Do you want to analyze the distribution of the data?\n",
    "- Do you want to analyze the correlation between the variables?\n",
    "- Do you want to show ranking or ordering of the data?\n",
    "- Do you want to a trend over time?\n",
    "- Do you want to show the composition of the data?\n",
    "- Do you want to predict the future values of the data?\n",
    "- Do you want to show the relationship between the variables?"
   ]
  },
  {
   "cell_type": "markdown",
   "metadata": {},
   "source": [
    "### Additional resources {.unnumbered}"
   ]
  },
  {
   "cell_type": "markdown",
   "metadata": {},
   "source": [
    "\n",
    "A good handbook for data visualization in Python  <br\n",
    "is the book \"Python Data Science Handbook\" by Jake VanderPlas: <br>\n",
    "[https://jakevdp.github.io/PythonDataScienceHandbook/04.00-introduction-to-matplotlib.html](https://jakevdp.github.io/PythonDataScienceHandbook/04.00-introduction-to-matplotlib.html)"
   ]
  },
  {
   "cell_type": "markdown",
   "metadata": {},
   "source": [
    "How you should visualize the data depends on the data and the question you want to answer. For example descriptive statistics can be visualized with a boxplot, a violinplot, a histogram or a density plot. Relationships between two variables can be visualized with a scatterplot, a lineplot, a regplot or a jointplot. "
   ]
  },
  {
   "cell_type": "markdown",
   "metadata": {},
   "source": [
    "## How you should visualize data? {.unnumbered}"
   ]
  },
  {
   "cell_type": "markdown",
   "metadata": {},
   "source": [
    "- A graphic should have a suitable font size.\n",
    "- Choose colors that are easy to distinguish also for colorblind people.\n",
    "- The axis ticks and limits should be chosen in a way that the data is easy to read.\n",
    "- Axis should be labeled and physical units should be not forgotten.\n",
    "- The graphic should be not overloaded with information."
   ]
  }
 ],
 "metadata": {
  "kernelspec": {
   "display_name": "course",
   "language": "python",
   "name": "python3"
  },
  "language_info": {
   "codemirror_mode": {
    "name": "ipython",
    "version": 3
   },
   "file_extension": ".py",
   "mimetype": "text/x-python",
   "name": "python",
   "nbconvert_exporter": "python",
   "pygments_lexer": "ipython3",
   "version": "3.11.8"
  }
 },
 "nbformat": 4,
 "nbformat_minor": 2
}
