{
  "cells": [
    {
      "cell_type": "markdown",
      "metadata": {},
      "source": [
        "# Python Intermediate"
      ]
    },
    {
      "cell_type": "markdown",
      "metadata": {},
      "source": [
        "\n",
        "\n",
        "Often we need with user input, files, system and paths. In this chapter we will cover these topics.\n",
        "\n",
        "# I/O (Input/Output) \n",
        "\n",
        "\n",
        "You can use the `print()` function to **print a message** to the screen. <br>\n",
        "You can use the `input()` function to get **input from the user**. <br>\n",
        "You can use the `open()` function to **open a file**. <br>\n",
        "You can use the `write()` function to **write to a file**. <br>\n",
        "You can use the `read()` function to **read from a file**. <br>\n",
        "You can use the `close()` function to **close a file**. <br>\n",
        "You can use the `with` statement to **open a file** and **automatically close** it when you are done. <br>\n",
        "You can use the `os` module to **work with files and directories**. <br>\n",
        "You can use the `sys` module to **work with command line arguments**. <br>\n",
        "You can use the `argparse` module to work also with **command line arguments**. <br>\n",
        "\n",
        " This should print \"Hello World!\" to the console"
      ]
    },
    {
      "cell_type": "code",
      "execution_count": null,
      "metadata": {},
      "outputs": [],
      "source": [
        "print(\"Hello World!\")"
      ]
    },
    {
      "cell_type": "markdown",
      "metadata": {},
      "source": [
        "This should ask the user to enter a number and print it to the console."
      ]
    },
    {
      "cell_type": "code",
      "execution_count": null,
      "metadata": {},
      "outputs": [],
      "source": [
        "#| eval: false\n",
        "print(input(\"Enter a number: \"))"
      ]
    },
    {
      "cell_type": "markdown",
      "metadata": {},
      "source": [
        "This should write \"Hello World!\" to the file \"file.txt\"."
      ]
    },
    {
      "cell_type": "code",
      "execution_count": null,
      "metadata": {},
      "outputs": [],
      "source": [
        "open(\"file.txt\", \"w\").write(\"Hello World!\") "
      ]
    },
    {
      "cell_type": "markdown",
      "metadata": {},
      "source": [
        "This should read the file \"file.txt\" and print the content to the console"
      ]
    },
    {
      "cell_type": "code",
      "execution_count": null,
      "metadata": {},
      "outputs": [],
      "source": [
        "print(open(\"file.txt\").read()) "
      ]
    },
    {
      "cell_type": "markdown",
      "metadata": {},
      "source": [
        "This should print \"Hello World!\" to the console without a newline"
      ]
    },
    {
      "cell_type": "code",
      "execution_count": null,
      "metadata": {},
      "outputs": [],
      "source": [
        "print(\"Hello World without newline.\", end=\"\") \n",
        "print(\"Next print statement.\")"
      ]
    },
    {
      "cell_type": "markdown",
      "metadata": {},
      "source": [
        "This should read the file \"file.txt\" and print the content to the console"
      ]
    },
    {
      "cell_type": "code",
      "execution_count": null,
      "metadata": {},
      "outputs": [],
      "source": [
        "with open(\"file.txt\", \"r\") as file: print(file.read()) "
      ]
    },
    {
      "cell_type": "markdown",
      "metadata": {},
      "source": [
        "Write a file with the content \"Hello World!\" and close it"
      ]
    },
    {
      "cell_type": "code",
      "execution_count": null,
      "metadata": {},
      "outputs": [],
      "source": [
        "file = open(\"file.txt\", \"w\")\n",
        "file.write(\"Hello World!\")\n",
        "file.close()"
      ]
    },
    {
      "cell_type": "markdown",
      "metadata": {},
      "source": [
        "\n",
        "\n",
        "# System \n",
        "\n",
        "\n",
        "There are a lot of modules in Python to work with the system. <br>\n",
        "You can use the `os` module to **work with files and directories**. <br>\n",
        "You can use the `sys` module to **work with command line arguments**. <br>\n",
        "You can use the `argparse` module to work also with **command line arguments**. <br>\n",
        "\n",
        "Most important functions are: <br>\n",
        "- `os.getcwd()` to get the current working directory. <br>\n",
        "- `os.chdir()` to change the current working directory. <br>\n",
        "- `os.listdir()` to list the files in a directory. <br>\n",
        "- `os.mkdir()` to create a directory. <br>\n",
        "- `os.rmdir()` to remove a directory. <br>\n",
        "- `os.remove()` to remove a file. <br>\n",
        "- `os.rename()` to rename a file. <br>\n",
        "- `os.path.exists()` to check if a file or directory exists. <br>\n",
        "- `os.path.isfile()` to check if a file exists. <br>\n",
        "- `os.path.isdir()` to check if a directory exists. <br>\n",
        "- `os.path.join()` to join two paths. <br>\n",
        "- `os.path.basename()` to get the base name of a path. <br>\n",
        "- `os.path.dirname()` to get the directory name of a path. <br>\n",
        "- `os.path.abspath()` to get the absolute path of a path. <br>\n",
        "- `os.path.split()` to split a path into a directory and a file. <br>\n",
        "- `os.path.splitext()` to split a path into a base name and an extension. <br>\n",
        "- `os.path.getsize()` to get the size of a file. <br>\n",
        "- `os.path.getmtime()` to get the modification time of a file. <br>\n",
        "\n",
        "- `sys.argv` to get the command line arguments. <br>\n",
        "- `sys.exit()` to exit the program. <br>\n",
        "- `sys.stdin` to read from the standard input. <br>\n",
        "- `sys.stdout` to write to the standard output. <br>\n",
        "- `sys.stderr` to write to the standard error. <br>\n",
        "\n",
        "- `argparse.ArgumentParser()` to create a parser. <br>\n",
        "- `add_argument()` to add an argument to the parser. <br>\n",
        "- `parse_args()` to parse the command line arguments. <br>\n",
        "\n",
        "\n",
        "This should remove the file \"file.txt\""
      ]
    },
    {
      "cell_type": "code",
      "execution_count": null,
      "metadata": {},
      "outputs": [],
      "source": [
        "import os\n",
        "os.remove(\"file.txt\")"
      ]
    },
    {
      "cell_type": "markdown",
      "metadata": {},
      "source": [
        "For `sys` you can use the `sys.argv` to get the command line arguments. <br>\n",
        "`sys.argv` is a list of the command line arguments. <br>\n",
        "`sys.argv[0]` is the name of the script. <br>\n",
        "`sys.argv[1]` is the first argument. <br>\n"
      ]
    },
    {
      "cell_type": "code",
      "execution_count": null,
      "metadata": {},
      "outputs": [],
      "source": [
        "import sys\n",
        "first_argument = sys.argv[1]"
      ]
    },
    {
      "cell_type": "markdown",
      "metadata": {},
      "source": [
        "For more information about the sys module you can visit the [official documentation](https://docs.python.org/3/library/sys.html).\n",
        "\n",
        "\n",
        "For `Argparse` you can use the following code:\n",
        "For python scripts:\n",
        "You can use argparse to parse command line arguments."
      ]
    },
    {
      "cell_type": "code",
      "execution_count": null,
      "metadata": {},
      "outputs": [],
      "source": [
        "#| eval: false\n",
        "from argparse import ArgumentParser\n",
        "\n",
        "parser = ArgumentParser(description=\"This is a description.\")\n",
        "parser.add_argument(\"--arg1\", help=\"This is the first argument.\")\n",
        "parser.add_argument(\"---arg2\", help=\"This is the second argument.\")\n",
        "args = parser.parse_args()"
      ]
    },
    {
      "cell_type": "markdown",
      "metadata": {},
      "source": [
        "For more information about `Argparse` you can visit the [official documentation](https://docs.python.org/3/library/argparse.html).\n",
        "\n",
        "---\n",
        "\n",
        "# Paths \n",
        "\n",
        "Pay attention to the paths in your code. They\n",
        "are different defined in Windows and Linux. In Windows and macOS, you use backslashes `/` and in Linux, you use forward slashes `\\`. \n",
        "\n",
        "To avoid this problem you can use the `os` or `pathlib` module to make your code platform independent.\n"
      ]
    },
    {
      "cell_type": "code",
      "execution_count": null,
      "metadata": {},
      "outputs": [],
      "source": [
        "import os\n",
        "\n",
        "path = os.path.join('folder1', 'folder2', 'folder3', 'data.dat')\n",
        "print(path)"
      ]
    },
    {
      "cell_type": "code",
      "execution_count": null,
      "metadata": {},
      "outputs": [],
      "source": [
        "working_dir = os.getcwd()\n",
        "print(working_dir)"
      ]
    },
    {
      "cell_type": "code",
      "execution_count": null,
      "metadata": {},
      "outputs": [],
      "source": [
        "from pathlib import Path\n",
        "\n",
        "path = Path('folder1') / 'folder2' / 'folder3' / 'data.dat'\n",
        "print(path)"
      ]
    },
    {
      "cell_type": "code",
      "execution_count": null,
      "metadata": {},
      "outputs": [],
      "source": [
        "working_dir = Path.cwd()\n",
        "print(working_dir)"
      ]
    },
    {
      "cell_type": "markdown",
      "metadata": {},
      "source": [
        "\n",
        "# Lists\n",
        "\n",
        "\n",
        "Lists collect multiple items in a single variable. <br>\n",
        "\n",
        "You can use the `[]` operator to create a list. <br>\n",
        "You can use the `append()` method to add an item to a list. <br>\n",
        "You can use the `insert()` method to add an item at a specific position. <br>\n",
        "You can use the `del` statement to delete an item from a list. <br>\n",
        "You can use the `remove()` method to remove an item from a list. <br>\n",
        "You can use the `pop()` method to remove an item at a specific position. <br>\n",
        "You can use the `clear()` method to remove all items from a list. <br>\n",
        "You can use the `copy()` method to copy a list. <br>\n",
        "You can use the `count()` method to count the number of items in a list. <br>\n",
        "You can use the `sort()` method to sort a list. <br>\n",
        "You can use the `reverse()` method to reverse a list. <br>\n",
        "You can use the `extend()` method to add items from another list. <br>\n",
        "You can use the `index()` method to get the index of an item. <br>\n",
        "You can use the `len()` function to get the length of a list. <br>\n",
        "You can use the `list()` function to create a list. <br>"
      ]
    },
    {
      "cell_type": "code",
      "execution_count": null,
      "metadata": {},
      "outputs": [],
      "source": [
        "a = ['a', 'b', 'c']\n",
        "b = [1,3,'a', 1j]\n",
        "len(a) #length of list"
      ]
    },
    {
      "cell_type": "markdown",
      "metadata": {},
      "source": [
        "### Warning\n",
        "Index is starting with **0** in Python.\n"
      ]
    },
    {
      "cell_type": "code",
      "execution_count": null,
      "metadata": {},
      "outputs": [],
      "source": [
        "l = ['first', 'second', 'third']\n",
        "l[0]"
      ]
    },
    {
      "cell_type": "markdown",
      "metadata": {},
      "source": [
        "Last element is reached by index -1.\n"
      ]
    },
    {
      "cell_type": "code",
      "execution_count": null,
      "metadata": {},
      "outputs": [],
      "source": [
        "l[-1]"
      ]
    },
    {
      "cell_type": "markdown",
      "metadata": {},
      "source": [
        "\n",
        "\n",
        "# Mutable and Immutable Objects \n",
        "\n",
        "Immutable objects cannot be changed. <br>\n",
        "Mutable objects can be changed. <br>\n",
        "Immutable objects are: `int`, `float`, `bool`, `str`, `tuple`, `frozenset`. <br>\n",
        "Mutable objects are: `list`, `dict`, `set`. <br>\n",
        "\n",
        "That means if you change an immutable object, a new object is created. <br>\n",
        "If you change a mutable object, the object is changed. <br>"
      ]
    },
    {
      "cell_type": "code",
      "execution_count": null,
      "metadata": {},
      "outputs": [
        {
          "name": "stdout",
          "output_type": "stream",
          "text": [
            "a: 1\n",
            "b: 1\n",
            "------\n",
            "a: 2\n",
            "b: 1\n",
            "------\n",
            "a: 2\n",
            "b: 3\n",
            "------\n",
            "a: 2\n",
            "b: 2\n"
          ]
        }
      ],
      "source": [
        "a = 1\n",
        "b = a\n",
        "\n",
        "print(\"a:\",a)\n",
        "print(\"b:\",b)\n",
        "\n",
        "a = 2\n",
        "print(\"\")\n",
        "print(\"a:\",a)\n",
        "print(\"b:\",b)\n",
        "\n",
        "b = 3\n",
        "print(\"\")\n",
        "print(\"a:\",a)\n",
        "print(\"b:\",b)\n",
        "\n",
        "b = a\n",
        "print(\"\")\n",
        "print(\"a:\",a)\n",
        "print(\"b:\",b)"
      ]
    },
    {
      "cell_type": "markdown",
      "metadata": {},
      "source": [
        "mutable objects"
      ]
    },
    {
      "cell_type": "code",
      "execution_count": null,
      "metadata": {},
      "outputs": [
        {
          "name": "stdout",
          "output_type": "stream",
          "text": [
            "a: [1, 2, 3]\n",
            "b: [1, 2, 3]\n",
            "------\n",
            "a: [4, 2, 3]\n",
            "b: [4, 2, 3]\n",
            "------\n",
            "a: [4, 5, 3]\n",
            "b: [4, 5, 3]\n"
          ]
        }
      ],
      "source": [
        "a = [1,2,3]\n",
        "b = a\n",
        "\n",
        "print(\"a:\",a)\n",
        "print(\"b:\",b)\n",
        "\n",
        "a[0] = 4\n",
        "print(\"\")\n",
        "print(\"a:\",a)\n",
        "print(\"b:\",b)\n",
        "\n",
        "b[1] = 5\n",
        "print(\"\")\n",
        "print(\"a:\",a)\n",
        "print(\"b:\",b)"
      ]
    },
    {
      "cell_type": "markdown",
      "metadata": {},
      "source": [
        "This happens because a and b are pointing to the same memory location. So if you change a, b will also change. If you want to avoid this, you can use the copy() method."
      ]
    },
    {
      "cell_type": "code",
      "execution_count": null,
      "metadata": {},
      "outputs": [
        {
          "name": "stdout",
          "output_type": "stream",
          "text": [
            "------\n",
            "a: [4, 5, 3]\n",
            "b: [4, 5, 3]\n",
            "------\n",
            "a: [4, 5, 6]\n",
            "b: [4, 5, 3]\n",
            "------\n",
            "a: [4, 5, 6]\n",
            "b: [4, 5, 7]\n"
          ]
        }
      ],
      "source": [
        "b = a.copy()\n",
        "print(\"\")\n",
        "print(\"a:\",a)\n",
        "print(\"b:\",b)\n",
        "\n",
        "a[2] = 6\n",
        "print(\"\")\n",
        "print(\"a:\",a)\n",
        "print(\"b:\",b)\n",
        "\n",
        "b[2] = 7\n",
        "print(\"\")\n",
        "print(\"a:\",a)\n",
        "print(\"b:\",b)"
      ]
    },
    {
      "cell_type": "markdown",
      "metadata": {},
      "source": [
        "\n",
        "\n",
        "# Control Structures\n",
        "\n",
        "Control structures are used to control the flow of a program. <br>\n",
        "The most common control structures are:\n",
        "\n",
        "- You can use the `if` statement to execute a block of code if a condition is true. \n",
        "- You can use the `elif` statement to execute a block of code if the first condition is - false and the second condition is true.\n",
        "- You can use the `else` statement to execute a block of code if the condition is false.\n",
        "- You can use the `for` loop to iterate over a sequence. \n",
        "- You can use the `while` loop to execute a block of code as long as a condition is true. \n",
        "- You can use the `break` statement to exit a loop. \n",
        "- You can use the `continue` statement to skip the rest of the code in a loop. \n",
        "- You can use the `pass` statement to do nothing.\n",
        "\n",
        "## if statement"
      ]
    },
    {
      "cell_type": "code",
      "execution_count": null,
      "metadata": {},
      "outputs": [
        {
          "name": "stdout",
          "output_type": "stream",
          "text": [
            "x = 0\n"
          ]
        }
      ],
      "source": [
        "x = 0\n",
        "if x < 0:\n",
        "    print(\"x < 0\")\n",
        "elif x > 0:\n",
        "    print(\"x > 0\")\n",
        "else:\n",
        "    print(\"x = 0\")"
      ]
    },
    {
      "cell_type": "markdown",
      "metadata": {},
      "source": [
        "## break,continue,pass\n"
      ]
    },
    {
      "cell_type": "code",
      "execution_count": null,
      "metadata": {},
      "outputs": [
        {
          "name": "stdout",
          "output_type": "stream",
          "text": [
            "0\n",
            "1\n",
            "2\n",
            "3\n",
            "4\n"
          ]
        }
      ],
      "source": [
        "for i in range(10):\n",
        "    if i == 5:\n",
        "        break\n",
        "    print(i)"
      ]
    },
    {
      "cell_type": "code",
      "execution_count": null,
      "metadata": {},
      "outputs": [
        {
          "name": "stdout",
          "output_type": "stream",
          "text": [
            "0\n",
            "1\n",
            "2\n",
            "3\n",
            "4\n",
            "6\n",
            "7\n",
            "8\n",
            "9\n"
          ]
        }
      ],
      "source": [
        "for i in range(10):\n",
        "    if i == 5:\n",
        "        continue\n",
        "    print(i)"
      ]
    },
    {
      "cell_type": "code",
      "execution_count": null,
      "metadata": {},
      "outputs": [
        {
          "name": "stdout",
          "output_type": "stream",
          "text": [
            "0\n",
            "1\n",
            "2\n",
            "3\n",
            "4\n",
            "5\n",
            "6\n",
            "7\n",
            "8\n",
            "9\n"
          ]
        }
      ],
      "source": [
        "for i in range(10):\n",
        "    if i == 5:\n",
        "        pass\n",
        "    print(i)"
      ]
    },
    {
      "cell_type": "markdown",
      "metadata": {},
      "source": [
        "## For Loops"
      ]
    },
    {
      "cell_type": "code",
      "execution_count": null,
      "metadata": {},
      "outputs": [
        {
          "name": "stdout",
          "output_type": "stream",
          "text": [
            "0\n",
            "1\n",
            "2\n",
            "3\n",
            "4\n"
          ]
        }
      ],
      "source": [
        "for i in range(5): #from 0 to 4 \n",
        "    print(i)"
      ]
    },
    {
      "cell_type": "code",
      "execution_count": null,
      "metadata": {},
      "outputs": [
        {
          "name": "stdout",
          "output_type": "stream",
          "text": [
            "1\n",
            "3\n",
            "5\n",
            "7\n",
            "9\n"
          ]
        }
      ],
      "source": [
        "for i in range(1,10,2): # start 1, stop 10 excluded, step 2\n",
        "    print(i)"
      ]
    },
    {
      "cell_type": "code",
      "execution_count": null,
      "metadata": {},
      "outputs": [],
      "source": [
        "l = list(range(0,10))"
      ]
    },
    {
      "cell_type": "code",
      "execution_count": null,
      "metadata": {},
      "outputs": [
        {
          "data": {
            "text/plain": [
              "[0, 1, 2, 3, 4, 5, 6, 7, 8, 9]"
            ]
          },
          "metadata": {},
          "output_type": "display_data"
        }
      ],
      "source": [
        "l"
      ]
    },
    {
      "cell_type": "code",
      "execution_count": null,
      "metadata": {},
      "outputs": [
        {
          "name": "stdout",
          "output_type": "stream",
          "text": [
            "0\n",
            "1\n",
            "2\n",
            "3\n",
            "4\n",
            "5\n",
            "6\n",
            "7\n",
            "8\n",
            "9\n"
          ]
        }
      ],
      "source": [
        "for i in l:  # using list\n",
        "    print(i)"
      ]
    },
    {
      "cell_type": "markdown",
      "metadata": {},
      "source": [
        "## While Loops"
      ]
    },
    {
      "cell_type": "code",
      "execution_count": null,
      "metadata": {},
      "outputs": [
        {
          "name": "stdout",
          "output_type": "stream",
          "text": [
            "0\n",
            "1\n",
            "2\n",
            "3\n"
          ]
        }
      ],
      "source": [
        "x = 0\n",
        "while x  < 4:\n",
        "    print(l[x])\n",
        "    x = x + 1"
      ]
    },
    {
      "cell_type": "code",
      "execution_count": null,
      "metadata": {},
      "outputs": [
        {
          "name": "stdout",
          "output_type": "stream",
          "text": [
            "while loop with continue and break statement\n",
            "1\n",
            "2\n",
            "3\n",
            "4\n",
            "6\n",
            "The loop reached 7 and will break now.\n"
          ]
        }
      ],
      "source": [
        "print(\"while loop with continue and break statement\")\n",
        "n = 0\n",
        "while(n < 10):\n",
        "    n+=1\n",
        "    if n == 5:\n",
        "        continue\n",
        "    if n == 7:\n",
        "        print(\"The loop reached 7 and will break now.\")\n",
        "        break\n",
        "    print(n)"
      ]
    },
    {
      "cell_type": "markdown",
      "metadata": {},
      "source": [
        "## Functions\n",
        "\n",
        "\n",
        "Functions are defined using the `def` keyword. <br>\n",
        "You can use the `return` keyword to return a value from a function. <br>\n",
        "The parameters of a function are defined in the parentheses. <br>\n",
        "Multiple parameters are separated by commas. <br>\n",
        "You can use default values for the parameter *e.g.* `b=5`. <br>\n",
        "Multiple return values are separated by commas. <br>\n",
        "They are stored in a tuple. <br>\n"
      ]
    },
    {
      "cell_type": "code",
      "execution_count": null,
      "metadata": {},
      "outputs": [],
      "source": [
        "def summation(a,b=5):\n",
        "    return a+b, a-b"
      ]
    },
    {
      "cell_type": "code",
      "execution_count": null,
      "metadata": {},
      "outputs": [
        {
          "data": {
            "text/plain": [
              "(6, 2)"
            ]
          },
          "metadata": {},
          "output_type": "display_data"
        }
      ],
      "source": [
        "summation(4,2)"
      ]
    },
    {
      "cell_type": "code",
      "execution_count": null,
      "metadata": {},
      "outputs": [
        {
          "name": "stdout",
          "output_type": "stream",
          "text": [
            "9\n",
            "-1\n"
          ]
        }
      ],
      "source": [
        "sum, sub = summation(4)\n",
        "print(sum)\n",
        "print(sub)"
      ]
    },
    {
      "cell_type": "code",
      "execution_count": null,
      "metadata": {},
      "outputs": [
        {
          "name": "stdout",
          "output_type": "stream",
          "text": [
            "8 -7\n"
          ]
        }
      ],
      "source": [
        "x = 3\n",
        "\n",
        "def multiple_return_value(x,a,b):\n",
        "    n = x+a\n",
        "    m = x-b\n",
        "    return [n,m]\n",
        "print(multiple_return_value(x,5,10)[0],multiple_return_value(x,5,10)[1])"
      ]
    },
    {
      "cell_type": "markdown",
      "metadata": {},
      "source": [
        "\n",
        "\n",
        "## Style guideline for writing python code\n",
        "\n",
        "\n",
        "For writing a readable code, it is important to follow a style guideline. <br>\n",
        "The most common style guideline for Python is [PEP 8](https://www.python.org/dev/peps/pep-0008/). <br>\n",
        "\n",
        "\n",
        "\n",
        "\n"
      ]
    },
    {
      "cell_type": "markdown",
      "metadata": {},
      "source": [
        "# Exercises\n",
        "Download it locally and try to solve the exercises. <br>\n",
        "\n",
        "[Basic Python](https://github.com/stkroe/PythonforChemists/blob/main/course/examples/notebooks/ex1.zip)\n",
        "\n",
        "\n",
        "\n",
        "Or open it in `Google Colab`:\n",
        "\n",
        "[Basic Python](https://colab.research.google.com/github/stkroe/PythonforChemists/blob/main/course/examples/notebooks/ex1/material/student/BasicExercises.ipynb)"
      ]
    },
    {
      "cell_type": "code",
      "execution_count": null,
      "metadata": {},
      "outputs": [],
      "source": []
    },
    {
      "cell_type": "markdown",
      "metadata": {},
      "source": []
    }
  ],
  "metadata": {
    "kernelspec": {
      "display_name": "Python 3 (ipykernel)",
      "language": "python",
      "name": "python3",
      "path": "/Users/stk/y/envs/myenv/share/jupyter/kernels/python3"
    }
  },
  "nbformat": 4,
  "nbformat_minor": 4
}
