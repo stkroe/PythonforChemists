{
 "cells": [
  {
   "cell_type": "raw",
   "metadata": {
    "vscode": {
     "languageId": "raw"
    }
   },
   "source": [
    "---\n",
    "title: \"Introduction to Data Science\"\n",
    "execute:\n",
    "    echo: true\n",
    "    eval: false\n",
    "--- "
   ]
  },
  {
   "cell_type": "markdown",
   "metadata": {},
   "source": [
    "### More information {.unnumbered}\n",
    "- [Data Science for Beginner](https://microsoft.github.io/Data-Science-For-Beginners/#/) by Microsoft\n",
    "- [Research Data Managment (RDM) in Chemistry](https://knowledgebase.nfdi4chem.de/knowledge_base/)"
   ]
  },
  {
   "cell_type": "markdown",
   "metadata": {},
   "source": [
    "# Data Collection and Storage {.unnumbered}"
   ]
  },
  {
   "cell_type": "markdown",
   "metadata": {},
   "source": [
    "## What is data? {.unnumbered}\n",
    "Data is a collection of numbers, words, measurements, observations or just descriptions of things."
   ]
  },
  {
   "cell_type": "markdown",
   "metadata": {},
   "source": [
    "## How do you get data? {.unnumbered}"
   ]
  },
  {
   "cell_type": "markdown",
   "metadata": {},
   "source": [
    "At the beginning of every data science project, you need to collect data. \n",
    "\n",
    "Data can be collected from various sources, such as:\n",
    "- experimental measurements\n",
    "- calculations and simulations\n",
    "- surveys\n",
    "- existing databases\n",
    "- web scraping\n",
    "- APIs\n",
    "- etc."
   ]
  },
  {
   "cell_type": "markdown",
   "metadata": {},
   "source": [
    "## How do you store the data? {.unnumbered}"
   ]
  },
  {
   "cell_type": "markdown",
   "metadata": {},
   "source": [
    "This data can be stored in different locations, such as:\n",
    "- local files\n",
    "- databases\n",
    "- cloud storages\n",
    "- cluster storages\n",
    "- web servers\n",
    "- etc.\n",
    "\n",
    "\n",
    "\n",
    "\n",
    "\n"
   ]
  },
  {
   "cell_type": "markdown",
   "metadata": {},
   "source": [
    "If you measure data yourself, either the your measurement device will store the data in a specific format, or you will have to store it yourself. Sometimes you have to transform the data into a different format to be able to work with it.\n"
   ]
  },
  {
   "cell_type": "markdown",
   "metadata": {},
   "source": [
    "If you use data from external sources, you have to make sure that you have legal rights to use the data. Check the data license and terms of use.\n",
    "\n",
    "Further make sure how the data is stored and how you can access it.\n",
    "\n",
    "\n"
   ]
  },
  {
   "cell_type": "markdown",
   "metadata": {},
   "source": [
    "## How do you access external data? {.unnumbered}"
   ]
  },
  {
   "cell_type": "markdown",
   "metadata": {},
   "source": [
    "To access data from exeternal sources, you can use different tools and libraries.\n",
    "\n",
    "For example, if you want to access data from a chemical database e.g. \n",
    "- [Materials Project](https://next-gen.materialsproject.org/api), you can use the `pymatgen` [library](https://pymatgen.org/). (Requires API key, which can be obtained by registering on the website.)\n",
    "\n",
    "- [RCSB PDB Protein Data Bank](https://www.rcsb.org/docs/programmatic-access/web-apis-overview), you can use the `rcsb` [library](https://rcsbapi.readthedocs.io/en/latest/).\n",
    "\n",
    "- [PubChem](https://pubchem.ncbi.nlm.nih.gov/docs/programmatic-access), you can use the `pubchempy` [library](https://pubchempy.readthedocs.io/en/latest/guide/introduction.html).\n",
    "\n",
    "... and many more.\n"
   ]
  },
  {
   "cell_type": "markdown",
   "metadata": {},
   "source": [
    "If you use APIs please read the documentation of the API to understand how to access the data. And make sure to respect the API usage policy and database terms of use."
   ]
  },
  {
   "cell_type": "markdown",
   "metadata": {},
   "source": [
    "## Which data formats do you use? {.unnumbered}"
   ]
  },
  {
   "cell_type": "markdown",
   "metadata": {},
   "source": [
    "Data can be stored in various data formats, such as:\n",
    "- Plain Text files (e.g. CSV, DAT, TXT)\n",
    "- Text files with structure (e.g. JSON, XML)\n",
    "- Spreadsheet files\n",
    "- Binary files (e.g. HDF5, Parquet, NetCDF,Feather, Pickle, npy, etc.)\n",
    "- Databases \n",
    "- chemical and molecular data formats (e.g. XYZ, CIF, PDB, etc.)\n",
    "- etc."
   ]
  },
  {
   "cell_type": "markdown",
   "metadata": {},
   "source": [
    "### Plain Text Files {.unnumbered}\n",
    "\n",
    "A text file often contains a header with the names of the columns and then the data in rows. Columns can be seperated by different delimiters (`spaces`, `,`, `;`, `tabs`, ...). <br> For example, a file with data from an experiment could look like this:\n",
    "\n",
    "```plaintext\n",
    "Time/s  Temperature/°C\n",
    "0         20\n",
    "10        21\n",
    "...     ...\n",
    "\n",
    "```"
   ]
  },
  {
   "cell_type": "markdown",
   "metadata": {},
   "source": [
    "#### JSON or XML {.unnumbered}\n",
    "[JSON](https://en.wikipedia.org/wiki/JSON) stands for JavaScript Object Notation. Data is structured in a key-value format, so that both humans and machines can read it easily. <br> For example, a JSON file with the same data as above could look like this:\n",
    "\n",
    "\n",
    "```json\n",
    "{\n",
    "  \"data\": [\n",
    "    {\"Time\": 0, \"Temperature\": 20},\n",
    "    {\"Time\": 10, \"Temperature\": 21},\n",
    "    ...\n",
    "  ]\n",
    "}\n",
    "```\n",
    "\n",
    "[XML](https://en.wikipedia.org/wiki/XML) stands for Extensible Markup Language. It is also designed to be both human-readable and machine-readable. <br> For example, an XML file with the same data as above could look like this:\n",
    "\n",
    "```xml\n",
    "<data>\n",
    "  <measurement>\n",
    "    <Time>0</Time>\n",
    "    <Temperature>20</Temperature>\n",
    "  </measurement>\n",
    "  <measurement>\n",
    "    <Time>10</Time>\n",
    "    <Temperature>21</Temperature>\n",
    "  </measurement>\n",
    "  ...\n",
    "  ```"
   ]
  },
  {
   "cell_type": "markdown",
   "metadata": {},
   "source": [
    "### Binary Files {.unnumbered}\n",
    "\n",
    "Data is stored in a binary format and can be read with specific libraries. It is often used for large datasets, as it is more efficient than plain text files. The computer is able to read and write binary files faster than text files. <br> Some common binary file formats are:\n",
    "\n",
    "- [**HDF5**](https://en.wikipedia.org/wiki/Hierarchical_Data_Format): Hierarchical Data Format, used for large datasets\n",
    "- [**Parquet**](https://en.wikipedia.org/wiki/Apache_Parquet): Columnar storage format, used for big data\n",
    "- [**NetCDF**](https://en.wikipedia.org/wiki/NetCDF): Network Common Data Form, array-orriented, often for geoscience data\n",
    "- [**Feather**](https://arrow.apache.org/docs/python/feather.html): a fast column-based serialization for data frames, initially designed for R and Python, helps to share data between languages\n",
    "- [**Pickle**](https://docs.python.org/3/library/pickle.html): Python-specific format, used for serializing Python objects\n",
    "- [**npy**](https://numpy.org/doc/stable/reference/generated/numpy.lib.format.html): Numpy-specific format, used for saving numpy arrays\n",
    "\n",
    "Here is a list of comparison of binary file formats: [Comparison of data serialization formats](https://en.wikipedia.org/wiki/Comparison_of_data-serialization_formats)"
   ]
  },
  {
   "cell_type": "markdown",
   "metadata": {},
   "source": [
    "### Databases {.unnumbered}\n",
    "\n",
    "Databases are designed for big data storage. The advantage of databases is that they can be queried and updated easily. There are different types of databases, such as:\n",
    "- **[SQL](https://en.wikipedia.org/wiki/SQL)** databases (e.g. SQLite, MySQL, PostgreSQL)\n",
    "- **[NoSQL](https://en.wikipedia.org/wiki/NoSQL)** databases (e.g. MongoDB)\n",
    "- **[Graph databases](https://en.wikipedia.org/wiki/Graph_database#List_of_graph_databases)**\n",
    "- **[Time series databases](https://en.wikipedia.org/wiki/Time_series_database)**\n"
   ]
  },
  {
   "cell_type": "markdown",
   "metadata": {
    "vscode": {
     "languageId": "raw"
    }
   },
   "source": [
    "### Chemical and Molecular Data Formats {.unnumbered}\n",
    "\n",
    "There are specific data formats for chemical and molecular data, such as:"
   ]
  },
  {
   "cell_type": "markdown",
   "metadata": {
    "vscode": {
     "languageId": "raw"
    }
   },
   "source": [
    "- **[XYZ](https://en.wikipedia.org/wiki/XYZ_file_format)**: Cartesian coordinates of atoms\n",
    "\n",
    "- **[CIF](https://en.wikipedia.org/wiki/Crystallographic_Information_File)**: Crystallographic Information File, used for crystallographic data\n",
    "\n",
    "- **[PDB](https://en.wikipedia.org/wiki/Protein_Data_Bank_(file_format))**: Protein Data Bank, used for protein structures\n",
    "\n",
    "- **[MOL](https://en.wikipedia.org/wiki/Chemical_table_file)**: Molecule file format, used for chemical structures\n",
    "\n",
    "- **[SDF](https://en.wikipedia.org/wiki/Chemical_table_file)**: Structure Data File, used for chemical structures\n",
    "\n",
    "- **[SMILES](https://en.wikipedia.org/wiki/Simplified_molecular-input_line-entry_system)**: Simplified Molecular Input Line Entry System, used for chemical structures\n",
    "\n",
    "- **[InChI](https://en.wikipedia.org/wiki/International_Chemical_Identifier)**: International Chemical Identifier, used for chemical structures\n",
    "\n",
    "- **[nmrML](https://nmrml.org/)**: Nuclear Magnetic Resonance Markup Language, used for NMR data\n",
    "\n",
    "- **[NMReDATA](https://nmredata.org/)**: Nuclear Magnetic Resonance Electronic Data Aggregation, used for NMR data\n",
    "\n",
    "- **[JCAMP-DX](https://iupac.org/what-we-do/digital-standards/jcamp-dx/)**: Joint Committee on Atomic and Molecular Physical Data, used for spectroscopy data\n",
    "\n",
    "- **[mzML](https://link.springer.com/protocol/10.1007/978-1-60761-444-9_22)**: Mass Spectrometry Markup Language, used for mass spectrometry data\n",
    "\n",
    "- **[animl](https://www.animl.org/)**: Analytical Information Markup Language, used for analytical data\n",
    "\n",
    "- **[FASTA](https://en.wikipedia.org/wiki/FASTA_format)**: used for DNA and protein sequences\n",
    "\n",
    "etc.\n"
   ]
  },
  {
   "cell_type": "markdown",
   "metadata": {},
   "source": [
    "\n",
    "### Other Data Formats {.unnumbered}\n",
    "- [**Images**](https://en.wikipedia.org/wiki/Image_file_formats): Images can be stored in different formats, such as JPEG, PNG, TIFF, BMP, GIF, etc.\n",
    "\n",
    "- [**Audio**](https://en.wikipedia.org/wiki/Audio_file_format): Audio files can be stored in different formats, such as MP3, WAV, FLAC, etc.\n",
    "\n",
    "- [**Video**](https://en.wikipedia.org/wiki/Video_file_format): Video files can be stored in different formats, such as MP4, AVI, MOV, etc.\n"
   ]
  },
  {
   "cell_type": "markdown",
   "metadata": {},
   "source": [
    "## What type of data do you have? {.unnumbered}"
   ]
  },
  {
   "cell_type": "markdown",
   "metadata": {},
   "source": [
    "Next what do you have to consider is the types of your data. "
   ]
  },
  {
   "cell_type": "markdown",
   "metadata": {
    "vscode": {
     "languageId": "raw"
    }
   },
   "source": [
    "Depending on the type of data analysis could be different."
   ]
  },
  {
   "cell_type": "markdown",
   "metadata": {},
   "source": [
    "### Numerical Data {.unnumbered}\n",
    "Numerical data is data that is expressed with numbers. It can be further divided into two types:\n",
    "- **Discrete**: Data that can only take certain values (e.g. integers)\n",
    "- **Continuous**: Data that can take any value within a certain range (e.g. real numbers)\n",
    "\n",
    "For example, \n",
    "- measured temperature over time -> continuous\n",
    "- number of chemical substances, which are measured -> discrete \n",
    "\n",
    "\n",
    "\n"
   ]
  },
  {
   "cell_type": "markdown",
   "metadata": {},
   "source": [
    "### Categorical Data {.unnumbered}\n",
    "Categorial means that data is divided into categories. It can be further divided into two types:\n",
    "- **Ordinal**: Data that has a specific order or ranking \n",
    "- **Nominal**: Data that has no specific order or ranking \n",
    "\n",
    "For example,\n",
    "- blood type -> nominal {A, B, AB, O}\n",
    "- chemical function group -> nominal {alcohol, ketone, aldehyde, carboxylic acid, etc.}\n",
    "- purity of a substance -> ordinal {low, medium, high}\n",
    "- hardness of a material -> ordinal {soft, medium, hard}"
   ]
  },
  {
   "cell_type": "markdown",
   "metadata": {},
   "source": [
    "# Quiz {.unnumbered}"
   ]
  },
  {
   "cell_type": "markdown",
   "metadata": {},
   "source": []
  },
  {
   "cell_type": "markdown",
   "metadata": {},
   "source": []
  },
  {
   "cell_type": "raw",
   "metadata": {},
   "source": []
  },
  {
   "cell_type": "markdown",
   "metadata": {},
   "source": []
  },
  {
   "cell_type": "markdown",
   "metadata": {
    "vscode": {
     "languageId": "r"
    }
   },
   "source": []
  },
  {
   "cell_type": "markdown",
   "metadata": {},
   "source": []
  }
 ],
 "metadata": {
  "kernelspec": {
   "display_name": "myenv",
   "language": "python",
   "name": "python3"
  },
  "language_info": {
   "codemirror_mode": {
    "name": "ipython",
    "version": 3
   },
   "file_extension": ".py",
   "mimetype": "text/x-python",
   "name": "python",
   "nbconvert_exporter": "python",
   "pygments_lexer": "ipython3",
   "version": "3.12.7"
  }
 },
 "nbformat": 4,
 "nbformat_minor": 2
}
