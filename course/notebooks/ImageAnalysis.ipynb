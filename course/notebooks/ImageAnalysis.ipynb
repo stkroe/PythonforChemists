{
  "cells": [
    {
      "cell_type": "markdown",
      "metadata": {},
      "source": [
        "---\n",
        "title: \"Analysis of Image Data\"\n",
        "execute: \n",
        "  echo: True\n",
        "  eval: True\n",
        "other-links: \n",
        "      - text: \"Download Code\"\n",
        "        href: \"https://raw.githubusercontent.com/stkroe/PythonForChemists/main/course/notebooks/ImageAnalysis.ipynb\"\n",
        "        icon: \"journal\"\n",
        "code-links:\n",
        "      - text: \"Open in Colab\"\n",
        "        href: \"https://colab.research.google.com/github/stkroe/PythonForChemists/blob/main/course/notebooks/ImageAnalysis.ipynb\"\n",
        "        icon: \"laptop\"\n",
        "--- \n",
        "\n",
        "##   Image Data Analysis {.unnumbered}"
      ]
    }
  ],
  "metadata": {
    "kernelspec": {
      "name": "python3",
      "language": "python",
      "display_name": "Python 3 (ipykernel)",
      "path": "/Users/stk/y/envs/myenv/share/jupyter/kernels/python3"
    }
  },
  "nbformat": 4,
  "nbformat_minor": 4
}