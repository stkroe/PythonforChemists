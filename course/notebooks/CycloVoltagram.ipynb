{
  "cells": [
    {
      "cell_type": "markdown",
      "metadata": {},
      "source": [
        "---\n",
        "title: \"Cycle Voltammetry Data Analysis\"\n",
        "execute: \n",
        "  echo: True\n",
        "  eval: True\n",
        "other-links: \n",
        "      - text: \"Download Code\"\n",
        "        href: \"https://raw.githubusercontent.com/stkroe/PythonForChemists/main/course/notebooks/CycloVoltagram.ipynb\"\n",
        "        icon: \"journal\"\n",
        "code-links:\n",
        "      - text: \"Open in Colab\"\n",
        "        href: \"https://colab.research.google.com/github/stkroe/PythonForChemists/blob/main/course/notebooks/CycloVoltagram.ipynb\"\n",
        "        icon: \"laptop\"\n",
        "--- \n",
        "\n",
        "##   Cycle Voltammetry Data Analysis {.unnumbered}\n",
        "\n",
        "Cycle voltammetry is a powerful technique to study the electrochemical behavior of a system. The cyclic voltammogram is a plot of the current versus the applied potential. The shape of the cyclic voltammogram can provide information about the redox behavior of the system. In this notebook, we will analyze a cyclic voltammogram using Python.\n"
      ]
    },
    {
      "cell_type": "code",
      "metadata": {},
      "source": [
        "import numpy as np\n",
        "import matplotlib.pyplot as plt\n",
        "\n",
        "# Simulated CV data (potential in V, current in mA)\n",
        "potential = np.linspace(-1, 1, 500)  # Potential sweep from -1V to 1V\n",
        "current = np.sin(3 * np.pi * potential) + 0.1 * np.random.randn(len(potential))  # Simulated current response\n",
        "\n",
        "# Find oxidation and reduction peaks\n",
        "oxidation_peak_idx = np.argmax(current)\n",
        "reduction_peak_idx = np.argmin(current)\n",
        "oxidation_peak = (potential[oxidation_peak_idx], current[oxidation_peak_idx])\n",
        "reduction_peak = (potential[reduction_peak_idx], current[reduction_peak_idx])\n",
        "\n",
        "# Plot CV\n",
        "plt.figure(figsize=(8, 6), dpi=120)\n",
        "plt.plot(potential, current, label='Cyclic Voltammogram', color='blue')\n",
        "plt.scatter(*oxidation_peak, color='red', label='Oxidation Peak', zorder=3)\n",
        "plt.scatter(*reduction_peak, color='green', label='Reduction Peak', zorder=3)\n",
        "\n",
        "# Labels and annotations\n",
        "plt.xlabel('Potential (V)')\n",
        "plt.ylabel('Current (mA)')\n",
        "plt.title('Cyclic Voltammogram Analysis')\n",
        "plt.axhline(0, color='black', linewidth=0.8, linestyle='--')\n",
        "plt.axvline(0, color='black', linewidth=0.8, linestyle='--')\n",
        "plt.legend()\n",
        "plt.grid(alpha=0.3)\n",
        "plt.show()\n",
        "\n",
        "# Print peak information\n",
        "print(f\"Oxidation Peak: Potential = {oxidation_peak[0]:.2f} V, Current = {oxidation_peak[1]:.2f} mA\")\n",
        "print(f\"Reduction Peak: Potential = {reduction_peak[0]:.2f} V, Current = {reduction_peak[1]:.2f} mA\")"
      ],
      "execution_count": null,
      "outputs": []
    }
  ],
  "metadata": {
    "kernelspec": {
      "name": "python3",
      "language": "python",
      "display_name": "Python 3 (ipykernel)",
      "path": "/Users/stk/y/envs/myenv/share/jupyter/kernels/python3"
    }
  },
  "nbformat": 4,
  "nbformat_minor": 4
}