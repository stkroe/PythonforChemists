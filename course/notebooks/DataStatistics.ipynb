{
 "cells": [
  {
   "cell_type": "code",
   "execution_count": null,
   "metadata": {
    "vscode": {
     "languageId": "plaintext"
    }
   },
   "outputs": [],
   "source": [
    "---\n",
    "title: \"Statistical Analsyis\"\n",
    "execute:\n",
    "    echo: true\n",
    "    eval: true\n",
    "---"
   ]
  },
  {
   "cell_type": "markdown",
   "metadata": {},
   "source": [
    "# Statistical Analaysis {.unnumbered}"
   ]
  },
  {
   "cell_type": "markdown",
   "metadata": {},
   "source": [
    "#### Statistical analysis: {.unnumbered}"
   ]
  },
  {
   "cell_type": "code",
   "execution_count": null,
   "metadata": {},
   "outputs": [
    {
     "name": "stdout",
     "output_type": "stream",
     "text": [
      "mean of age: \n",
      " 39.2\n",
      "std of age: \n",
      " 14.060583202698243\n",
      "median of age: \n",
      " 36.0\n",
      "max of age: \n",
      " 60\n",
      "min of age: \n",
      " 23\n",
      "sum of age: \n",
      " 196\n",
      "Statisical summary: \n",
      "              age\n",
      "count   5.000000\n",
      "mean   39.200000\n",
      "std    14.060583\n",
      "min    23.000000\n",
      "25%    32.000000\n",
      "50%    36.000000\n",
      "75%    45.000000\n",
      "max    60.000000\n",
      "Mean of age group by city: \n",
      " city\n",
      "Berlin      45.0\n",
      "London      32.0\n",
      "New York    23.0\n",
      "Paris       48.0\n",
      "Name: age, dtype: float64\n",
      "Count the person in the differen jobs \n",
      " job\n",
      "student    3\n",
      "teacher    2\n",
      "Name: count, dtype: int64\n"
     ]
    }
   ],
   "source": [
    "print(\"mean of age: \\n\", data[\"age\"].mean()) # mean of age\n",
    "print(\"std of age: \\n\", data[\"age\"].std()) # standard deviation of age\n",
    "print(\"median of age: \\n\", data[\"age\"].median()) # median of age\n",
    "print(\"max of age: \\n\", data[\"age\"].max()) # max of age\n",
    "print(\"min of age: \\n\", data[\"age\"].min()) # min of age\n",
    "print(\"sum of age: \\n\", data[\"age\"].sum()) # sum of age\n",
    "print(\"Statisical summary: \\n\", data.describe()) # statistical summary\n",
    "# mean of age group by city\n",
    "print(\"Mean of age group by city: \\n\", data.groupby(\"city\")[\"age\"].mean()) \n",
    "# count the person in the differen jobs\n",
    "print(\"Count the person in the differen jobs \\n\", data[\"job\"].value_counts())"
   ]
  },
  {
   "cell_type": "markdown",
   "metadata": {},
   "source": [
    "#### Sort data: {.unnumbered}"
   ]
  },
  {
   "cell_type": "code",
   "execution_count": null,
   "metadata": {},
   "outputs": [
    {
     "name": "stdout",
     "output_type": "stream",
     "text": [
      "sorted after age:      name  age      job      city\n",
      "0   John   23  student  New York\n",
      "3  Linda   32  student    London\n",
      "1   Anna   36  teacher     Paris\n",
      "2  Peter   45  student    Berlin\n",
      "4  Maria   60  teacher     Paris\n"
     ]
    }
   ],
   "source": [
    "# sort the data by age in descending order\n",
    "print(\"sorted after age: \",data.sort_values(by=\"age\", ascending=True))"
   ]
  },
  {
   "cell_type": "markdown",
   "metadata": {},
   "source": [
    "#### Create pivot tables: {.unnumbered}"
   ]
  },
  {
   "cell_type": "markdown",
   "metadata": {},
   "source": [
    "Pivot tables are used to summarize and aggregate data inside a dataframe."
   ]
  },
  {
   "cell_type": "code",
   "execution_count": null,
   "metadata": {},
   "outputs": [
    {
     "data": {
      "text/html": [
       "<div>\n",
       "<style scoped>\n",
       "    .dataframe tbody tr th:only-of-type {\n",
       "        vertical-align: middle;\n",
       "    }\n",
       "\n",
       "    .dataframe tbody tr th {\n",
       "        vertical-align: top;\n",
       "    }\n",
       "\n",
       "    .dataframe thead th {\n",
       "        text-align: right;\n",
       "    }\n",
       "</style>\n",
       "<table border=\"1\" class=\"dataframe\">\n",
       "  <thead>\n",
       "    <tr style=\"text-align: right;\">\n",
       "      <th>job</th>\n",
       "      <th>student</th>\n",
       "      <th>teacher</th>\n",
       "    </tr>\n",
       "    <tr>\n",
       "      <th>city</th>\n",
       "      <th></th>\n",
       "      <th></th>\n",
       "    </tr>\n",
       "  </thead>\n",
       "  <tbody>\n",
       "    <tr>\n",
       "      <th>Berlin</th>\n",
       "      <td>45.0</td>\n",
       "      <td>NaN</td>\n",
       "    </tr>\n",
       "    <tr>\n",
       "      <th>London</th>\n",
       "      <td>32.0</td>\n",
       "      <td>NaN</td>\n",
       "    </tr>\n",
       "    <tr>\n",
       "      <th>New York</th>\n",
       "      <td>23.0</td>\n",
       "      <td>NaN</td>\n",
       "    </tr>\n",
       "    <tr>\n",
       "      <th>Paris</th>\n",
       "      <td>NaN</td>\n",
       "      <td>48.0</td>\n",
       "    </tr>\n",
       "  </tbody>\n",
       "</table>\n",
       "</div>"
      ],
      "text/plain": [
       "job       student  teacher\n",
       "city                      \n",
       "Berlin       45.0      NaN\n",
       "London       32.0      NaN\n",
       "New York     23.0      NaN\n",
       "Paris         NaN     48.0"
      ]
     },
     "metadata": {},
     "output_type": "display_data"
    }
   ],
   "source": [
    "# pivot table\n",
    "data.pivot_table(index=\"city\", columns=\"job\", values=\"age\", aggfunc=\"mean\") "
   ]
  }
 ],
 "metadata": {
  "language_info": {
   "name": "python"
  }
 },
 "nbformat": 4,
 "nbformat_minor": 2
}
