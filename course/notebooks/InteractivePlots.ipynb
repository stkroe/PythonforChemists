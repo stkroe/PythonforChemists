{
  "cells": [
    {
      "cell_type": "markdown",
      "metadata": {},
      "source": [
        "# Interactive Plots\n",
        "\n",
        "\n",
        "\n",
        "\n",
        "## Interactive Plots \n",
        "\n",
        "### Matplotlib and ipywidget "
      ]
    },
    {
      "cell_type": "code",
      "execution_count": null,
      "metadata": {},
      "outputs": [],
      "source": [
        "from matplotlib import pyplot as plt\n",
        "import numpy as np\n",
        "import ipywidgets as widgets\n",
        "from IPython.display import display\n",
        "\n",
        "x = np.linspace(0, 10, 100)\n",
        "y = np.sin(x)\n",
        "\n",
        "def plot_sine(frequency):\n",
        "    plt.plot(x, np.sin(frequency*x))\n",
        "    plt.show()\n",
        "  \n",
        "frequency_slider = widgets.FloatSlider(value=1, min=0.1, max=10, step=0.1)\n",
        "widgets.interactive(plot_sine, frequency=frequency_slider)"
      ]
    },
    {
      "cell_type": "markdown",
      "metadata": {},
      "source": [
        "---\n",
        "\n",
        "### Plotly \n",
        "\n",
        "Ploty is a library that allows you to create interactive plots and dashboards, see the [Plotly website](https://plotly.com/graphing-libraries/)."
      ]
    },
    {
      "cell_type": "code",
      "execution_count": null,
      "metadata": {},
      "outputs": [],
      "source": [
        "import plotly.express as px\n",
        "import numpy as np\n",
        "\n",
        "x = np.linspace(0, 10, 100)\n",
        "y = np.sin(x)\n",
        "\n",
        "fig = px.line(x=x, y=y, title='Sine function')\n",
        "fig.show()"
      ]
    },
    {
      "cell_type": "markdown",
      "metadata": {},
      "source": [
        "---\n",
        "\n",
        "### Bokeh \n",
        "\n",
        "Bokeh is a library that allows you to create interactive plots and dashboards, see the [Bokeh website](https://docs.bokeh.org/en/latest/index.html)."
      ]
    },
    {
      "cell_type": "code",
      "execution_count": null,
      "metadata": {},
      "outputs": [],
      "source": [
        "from bokeh.plotting import figure, show\n",
        "from bokeh.io import output_notebook\n",
        "import numpy as np\n",
        "\n",
        "output_notebook()\n",
        "\n",
        "x = np.linspace(0, 10, 100)\n",
        "y = np.sin(x)\n",
        "\n",
        "p = figure(title='Sine function')\n",
        "p.line(x, y)\n",
        "show(p)"
      ]
    },
    {
      "cell_type": "markdown",
      "metadata": {},
      "source": [
        "---\n",
        "\n",
        "### Altair \n",
        "\n",
        "Altair is a library that allows you to create interactive plots and dashboards, see the [Altair website](https://altair-viz.github.io/)."
      ]
    },
    {
      "cell_type": "code",
      "execution_count": null,
      "metadata": {},
      "outputs": [],
      "source": [
        "import altair as alt\n",
        "import pandas as pd\n",
        "import numpy as np\n",
        "\n",
        "x = np.linspace(0, 10, 100)\n",
        "y = np.sin(x)\n",
        "\n",
        "df = pd.DataFrame({'x': x, 'y': y})\n",
        "\n",
        "alt.Chart(df).mark_line().encode(\n",
        "    x='x',\n",
        "    y='y'\n",
        ").properties(\n",
        "    title='Sine function'\n",
        ")"
      ]
    }
  ],
  "metadata": {
    "kernelspec": {
      "display_name": "Python 3 (ipykernel)",
      "language": "python",
      "name": "python3",
      "path": "/Users/stk/y/envs/myenv/share/jupyter/kernels/python3"
    }
  },
  "nbformat": 4,
  "nbformat_minor": 4
}
