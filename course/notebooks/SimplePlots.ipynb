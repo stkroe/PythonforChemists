{
  "cells": [
    {
      "cell_type": "markdown",
      "metadata": {},
      "source": [
        "---\n",
        "title: \"Basic Data Visualization Techniques\"\n",
        "---\n",
        "\n",
        "\n",
        "## Basic Data Visualization Technique \n",
        "\n",
        "\n",
        "The most popular data visualization libraries in Python is Matplotlib.\n",
        "Let`s start with the basic data visualization techniques using Matplotlib.\n",
        "\n",
        "\n",
        "### 1. Generate some x-y data points. "
      ]
    },
    {
      "cell_type": "code",
      "execution_count": null,
      "metadata": {},
      "outputs": [],
      "source": [
        "from matplotlib import pyplot as plt\n",
        "import numpy as np\n",
        "\n",
        "x = np.linspace(0, 10, 100)\n",
        "y = np.sin(x)"
      ]
    },
    {
      "cell_type": "markdown",
      "metadata": {},
      "source": [
        "---\n",
        "\n",
        "### 2. Plot the data points. "
      ]
    },
    {
      "cell_type": "code",
      "execution_count": null,
      "metadata": {
        "fig-dpi": 72,
        "fig-height": 1,
        "fig-width": 1
      },
      "outputs": [],
      "source": [
        "plt.plot(x, y)\n",
        "plt.show()"
      ]
    },
    {
      "cell_type": "markdown",
      "metadata": {},
      "source": [
        "To add more graphs to the same figure, use `plt.plot()` multiple times before `plt.show()`.\n",
        "If you want to create a new figure, use `plt.figure()` before `plt.plot()`."
      ]
    },
    {
      "cell_type": "code",
      "execution_count": null,
      "metadata": {
        "fig-dpi": 72,
        "fig-height": 1,
        "fig-width": 1
      },
      "outputs": [],
      "source": [
        "plt.plot(x,y)\n",
        "plt.plot(x,2*y)\n",
        "plt.show()\n",
        "plt.plot(x, y)\n",
        "plt.show()"
      ]
    },
    {
      "cell_type": "markdown",
      "metadata": {},
      "source": [
        "---\n",
        "\n",
        "### 3. Adjust the plot. \n",
        "\n",
        "\n",
        "The `plot()` function takes the following arguments:\n",
        "\n",
        "- x-axis data points\n",
        "- y-axis data points\n",
        "- [color](https://matplotlib.org/stable/users/explain/colors/colors.html): hex, or color name (e.g., 'red', 'blue','black'), abbreviated (e.g., 'r', 'b','k')\n",
        "- [linestyle](https://matplotlib.org/stable/gallery/lines_bars_and_markers/linestyles.html): '-', '--', '-.', ':' or \"solid\", \"dashed\", \"dashdot\", \"dotted\"\n",
        "- [marker](https://matplotlib.org/stable/api/markers_api.html): 'o', 'x', '+', '*', 's', 'd', '^', 'v', '>', '<', 'p', 'h'\n",
        "- linewidth - width of the line\n",
        "- alpha - transparency of the line\n",
        "- markerfacecolor - color of the marker face\n",
        "- markersize - size of the marker\n",
        "- label - label for the data points\n",
        "\n",
        "\n",
        "\n",
        "You have to call `plt.legend()` to show the labels."
      ]
    },
    {
      "cell_type": "code",
      "execution_count": null,
      "metadata": {
        "fig-dpi": 72,
        "fig-height": 1,
        "fig-width": 1
      },
      "outputs": [],
      "source": [
        "plt.figure()\n",
        "plt.plot(x, y, color='red', linestyle='dashed', linewidth=2, marker='o', \n",
        "            markerfacecolor='blue', markersize=5,\n",
        "            label='sin(x)')\n",
        "plt.plot(x, 2*y, color='green', linestyle='dotted', linewidth=2, marker='x',\n",
        "            markerfacecolor='yellow', markersize=5,\n",
        "            label='2*sin(x)')\n",
        "plt.legend()\n",
        "plt.show()"
      ]
    },
    {
      "cell_type": "markdown",
      "metadata": {},
      "source": [
        "---\n",
        "\n",
        "### 4. Adust the figure \n",
        "\n",
        "\n",
        "This plot figure can be adjusted by changing the figure size, title, labels, and so on.\n",
        " \n",
        "- `plt.xlabel()`: Set the x-axis label of the current axis.\n",
        "- `plt.ylabel()`: Set the y-axis label of the current axis.\n",
        "- `plt.title()`: Set a title for the axes.\n",
        "- `plt.legend()`: Place a legend on the axes.\n",
        "- `plt.grid()`: Configure the grid lines.\n",
        "- `plt.xlim()`: Get or set the x-limits of the current axes.\n",
        "- `plt.ylim()`: Get or set the y-limits of the current axes.\n",
        "- `plt.xticks()`: Get or set the current tick locations and labels of the x-axis.\n",
        "- `plt.yticks()`: Get or set the current tick locations and labels of the y-axis.\n",
        "- `plt.figure()`: Create a new figure.\n",
        "- `plt.show()`: Display a figure."
      ]
    },
    {
      "cell_type": "code",
      "execution_count": null,
      "metadata": {
        "fig-dpi": 72,
        "fig-height": 4,
        "fig-width": 5
      },
      "outputs": [],
      "source": [
        "plt.figure(figsize=(4, 4), dpi=100)\n",
        "# Create a figure with a specific size and resolution\n",
        "plt.plot(x, y, color='red', linestyle='dashed', linewidth=2, marker='o', \n",
        "            markerfacecolor='blue', markersize=5,\n",
        "            label='sin(x)')\n",
        "plt.plot(x, 2*y, color='green', linestyle='dotted', linewidth=2, marker='x',\n",
        "            markerfacecolor='yellow', markersize=5,\n",
        "            label='2*sin(x)')\n",
        "plt.xlim([0, 10]) # set the x-axis limits\n",
        "plt.ylim([-3, 3]) # set the y-axis limits\n",
        "plt.xticks(np.arange(0, 11, 2)) # set the x-axis ticks\n",
        "plt.yticks(np.arange(-3, 4, 1)) # set the y-axis ticks\n",
        "plt.xlabel('x') # set the x-axis label\n",
        "plt.ylabel('y') # set the y-axis label\n",
        "plt.title('Sine and Double Sine Functions') # set the title of the plot\n",
        "plt.grid(linewidth=0.1)# set the grid linewidth\n",
        "plt.legend(loc='upper left') # set the location of the legend: upper left, upper right, lower left, lower right\n",
        "plt.show()"
      ]
    },
    {
      "cell_type": "markdown",
      "metadata": {},
      "source": [
        "---\n",
        "\n",
        "\n",
        "## Creating multiple plots \n",
        "\n",
        "You can create multiple plots in the same figure by using the `subplot()` function.\n"
      ]
    },
    {
      "cell_type": "code",
      "execution_count": null,
      "metadata": {
        "fig-dpi": 72,
        "fig-height": 1,
        "fig-width": 1
      },
      "outputs": [],
      "source": [
        "plt.subplot(2, 1, 1)\n",
        "plt.plot(x, y, color='red', linestyle='dashed', linewidth=2, marker='o', \n",
        "            markerfacecolor='blue', markersize=5,\n",
        "            label='sin(x)')\n",
        "plt.xlabel('x')\n",
        "plt.ylabel('y')\n",
        "plt.title('Sine Function')\n",
        "plt.legend()\n",
        "\n",
        "plt.subplot(2, 1, 2)\n",
        "plt.plot(x, 2*y, color='green', linestyle='dotted', linewidth=2, marker='x',\n",
        "            markerfacecolor='yellow', markersize=5,\n",
        "            label='2*sin(x)')\n",
        "plt.xlabel('x')\n",
        "plt.ylabel('y')\n",
        "plt.title('Double Sine Function')\n",
        "plt.legend()   \n",
        "plt.tight_layout()\n",
        "plt.show()"
      ]
    },
    {
      "cell_type": "code",
      "execution_count": null,
      "metadata": {},
      "outputs": [],
      "source": [
        "fig = plt.figure(figsize=(4,2),dpi=72,layout='constrained', facecolor='lightskyblue')\n",
        "# Create a figure with a specific layout and background color\n",
        "# constrained layout automatically adjusts the subplots to fit the figure\n",
        "fig.suptitle('Figure') # set the title of the figure object\n",
        "subL, subR = fig.subfigures(1, 2) # create two subfigures\n",
        "subL.set_facecolor('thistle') # set the background color of the left subfigure\n",
        "sub_subL = subL.subplots(2, 1, sharex=True) # create two subplots in the left subfigure\n",
        "sub_subL[1].set_xlabel('x [m]')\n",
        "subL.suptitle('Left subfigure') # set the title of the left subfigure\n",
        "subR.set_facecolor('lightyellow') # set the background color of the right subfigure\n",
        "sub_subR = subR.subplots(1, 2, sharey=True) \n",
        "sub_subR[0].set_title('Axes 1') # set the title of the first subplot in the right subfigure\n",
        "sub_subR[1].set_title('Axes 2') # set the title of the second subplot in the right subfigure\n",
        "subR.suptitle('Right subfigure')"
      ]
    },
    {
      "cell_type": "markdown",
      "metadata": {},
      "source": [
        "### Subfigures and Gridspec\n",
        "\n",
        "You can also create subfigures and gridspecs to create more complex layouts."
      ]
    },
    {
      "cell_type": "code",
      "execution_count": null,
      "metadata": {},
      "outputs": [],
      "source": [
        "from matplotlib.gridspec import GridSpec\n",
        "from matplotlib import pyplot as plt\n",
        "import numpy as np"
      ]
    },
    {
      "cell_type": "code",
      "execution_count": null,
      "metadata": {},
      "outputs": [],
      "source": [
        "x = np.linspace(0, 10, 100)\n",
        "y = np.sin(x)\n",
        "\n",
        "fig, ax = plt.subplots(3,2, figsize=(3,4), dpi=96, sharex=True, sharey=True, constrained_layout=True,gridspec_kw={'hspace': 0.5, 'wspace': 0.5})\n",
        "\n",
        "for i in range(3):\n",
        "    for j in range(2):\n",
        "        ax[i,j].plot(x, y*(i+1)*(j+1))\n",
        "\n",
        "plt.show()"
      ]
    },
    {
      "cell_type": "code",
      "execution_count": null,
      "metadata": {},
      "outputs": [],
      "source": [
        "x = np.linspace(0, 10, 100)\n",
        "y = np.sin(x)\n",
        "\n",
        "fig = plt.figure(figsize=(4, 6), dpi=100)\n",
        "gs = GridSpec(3, 2, figure=fig, hspace=0.4, wspace=0.3)\n",
        "\n",
        "for i in range(3):\n",
        "    for j in range(2):\n",
        "        ax = fig.add_subplot(gs[i, j])\n",
        "        ax.plot(x, y*(i+1)*(j+1))\n",
        "        ax.set_title(f'Plot {i+1}, {j+1}')\n",
        "\n",
        "plt.show()"
      ]
    },
    {
      "cell_type": "markdown",
      "metadata": {},
      "source": [
        "### Exercises \n",
        "Download it locally and try to solve the exercises. <br>\n",
        "\n",
        "[Simple Plot Example](https://github.com/stkroe/PythonforChemists/blob/main/course/examples/SimplePlotExmple.ipynb)\n",
        "\n",
        "\n",
        "\n",
        "Or open it in `Google Colab`:\n",
        "\n",
        "[Simple Plot Example](https://colab.research.google.com/github/stkroe/PythonforChemists/blob/main/course/examples/SimplePlotExample.ipynb)\n",
        "\n",
        "\n",
        "\n",
        "\n",
        "\n",
        "<!-- Let`s try to create 4x3 subplots with specific adjustments.\n",
        "\n",
        "- `plt.subplots(4, 3)`: create 4x3 subplots\n",
        "- `figsize=(3, 4)`: set the figure size to 3x4 inches\n",
        "- `sharex=True`: all subplots share the x-axis\n",
        "- `sharey=True`: all subplots share the y-axis\n",
        "-  `constraint_layout=True`: automatically adjust the subplot parameters to give the specified padding around the subplots\n",
        "- `gridspec_kw={'hspace': 0.5, 'wspace': 0.5}`: set the horizontal and vertical space between the subplots to 0.5 inches\n",
        "\n",
        "\n",
        "Play with the code below to understand the different parameters:\n",
        "\n",
        "\n",
        "```{ojs}\n",
        "//| echo: false\n",
        "\n",
        "viewof figx = Inputs.range(\n",
        "  [1, 10], \n",
        "  {value: 5, step: 0.5, label: \"Figure x-size:\"}\n",
        ")\n",
        "viewof figy = Inputs.range(\n",
        "  [1, 10], \n",
        "  {value: 5, step: 0.5, label: \"Figure y-size:\"}\n",
        ")\n",
        "viewof constrained = Inputs.select([\"True\", \"False\"], {label: \"Select an option:\"})\n",
        "viewof dpi = Inputs.range(\n",
        "  [70, 100], \n",
        "  {value:75, step:5 , label: \"Dpi:\"}\n",
        ")\n",
        "viewof space_h = Inputs.range(\n",
        "  [0.1, 1], \n",
        "  {value: 0.5, step: 0.05, label: \"horizonatal space:\"}\n",
        ")\n",
        "viewof space_w = Inputs.range(\n",
        "  [0.1, 1], \n",
        "  {value: 0.5, step: 0.05, label: \"width space:\"}\n",
        ")\n",
        "```"
      ]
    },
    {
      "cell_type": "markdown",
      "metadata": {},
      "source": [
        "#| edit: False\n",
        "#| runbutton: True\n",
        "#| input:\n",
        "#|   - figx\n",
        "#|   - figy\n",
        "#|   - constrained\n",
        "#|   - dpi\n",
        "#|   - space_w\n",
        "#|   - space_h\n",
        "\n",
        "import matplotlib.pyplot as plt\n",
        "import numpy as np\n",
        "\n",
        "x = np.linspace(0, 10, 100)\n",
        "y = np.sin(x)\n",
        "\n",
        "fig, ax = plt.subplots(3,2, figsize=(figx,figy), dpi=dpi, sharex=True, sharey=True, constrained_layout=constrained,gridspec_kw={'hspace': space_h, 'wspace': space_w})\n",
        "\n",
        "for i in range(3):\n",
        "    for j in range(2):\n",
        "        ax[i,j].plot(x, y*(i+1)*(j+1))\n",
        "\n",
        "plt.show()\n",
        "\n",
        "``` -->\n"
      ]
    }
  ],
  "metadata": {
    "kernelspec": {
      "display_name": "Python 3 (ipykernel)",
      "language": "python",
      "name": "python3",
      "path": "/Users/stk/y/envs/myenv/share/jupyter/kernels/python3"
    }
  },
  "nbformat": 4,
  "nbformat_minor": 4
}
