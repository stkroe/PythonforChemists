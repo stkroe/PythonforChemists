{
 "cells": [
  {
   "cell_type": "raw",
   "metadata": {
    "vscode": {
     "languageId": "raw"
    }
   },
   "source": [
    "---\n",
    "title: \"Simple Data Models\"\n",
    "execute:\n",
    "    echo: true\n",
    "    eval: true\n",
    "---"
   ]
  },
  {
   "cell_type": "markdown",
   "metadata": {},
   "source": [
    "Often we want to find a model which can explain the data.\n",
    "It is important to understand the data and the model to be able to interpret the results and make predictions."
   ]
  },
  {
   "cell_type": "markdown",
   "metadata": {},
   "source": [
    "## Linear Regression {.unnumbered}"
   ]
  },
  {
   "cell_type": "markdown",
   "metadata": {},
   "source": [
    "The simplest model is the linear regression model. It assumes that the data has a linear relationship with the target variable. The model is defined as:\n",
    "\n",
    "$$\n",
    "y = \\beta_0 + \\beta_1 x_1 + \\beta_2 x_2 + \\ldots + \\beta_n x_n + \\epsilon\n",
    "$$\n",
    "\n",
    "where $y$ is the target variable, $x_1, x_2, \\ldots, x_n$ are the features, $\\beta_0, \\beta_1, \\ldots, \\beta_n$ are the coefficients, and $\\epsilon$ is the error term."
   ]
  },
  {
   "cell_type": "markdown",
   "metadata": {},
   "source": [
    "In `python` there exists serveral libraries which can be used to fit a linear regression model.\n"
   ]
  },
  {
   "cell_type": "markdown",
   "metadata": {},
   "source": [
    "## Using `scipy`{.unnumbered}"
   ]
  },
  {
   "cell_type": "markdown",
   "metadata": {},
   "source": [
    "A easy way is to use `scipy` library. The `scipy` library has a function called `linregress` which can be used to fit a linear regression model. The function returns the slope, intercept, r-value, p-value, and the standard error of the estimate.\n",
    "\n"
   ]
  },
  {
   "cell_type": "code",
   "execution_count": null,
   "metadata": {},
   "outputs": [
    {
     "name": "stdout",
     "output_type": "stream",
     "text": [
      "version of scipy:  1.15.2\n",
      "slope: 1.083649    intercept: -3.115410\n",
      "R-squared: 0.565793\n",
      "p-value: 0.142451\n",
      "standard error: 0.548084\n",
      "Intercept error: 1.817791\n",
      "95% confidence interval: -8.900430451032943 to 2.669611357181794\n"
     ]
    }
   ],
   "source": [
    "from scipy.stats import linregress\n",
    "import numpy as np\n",
    "\n",
    "x = [1, 2, 3, 4, 5]\n",
    "y = x*np.random.normal(0, 1, 5)+np.random.normal(0, 1, 5)\n",
    "\n",
    "results = linregress(x, y)\n",
    "\n",
    "slope = results.slope\n",
    "intercept = results.intercept\n",
    "r_value = results.rvalue\n",
    "p_value = results.pvalue\n",
    "std_err = results.stderr\n",
    "intercept_err = results.intercept_stderr\n",
    "print(\"slope: %f    intercept: %f\" % (slope, intercept))\n",
    "print(\"R-squared: %f\" % r_value**2)\n",
    "print(\"p-value: %f\" % p_value)\n",
    "print(\"standard error: %f\" % std_err)\n",
    "print(\"Intercept error: %f\" %intercept_err)\n",
    "# Two-sided inverse Students t-distribution\n",
    "# p - probability, df - degrees of freedom\n",
    "from scipy.stats import t\n",
    "tinv = lambda p, df: abs(t.ppf(p/2, df))\n",
    "print(\"95% confidence interval: \" + str(intercept - tinv(0.05, len(x)-2)*intercept_err) + \" to \" + str(intercept + tinv(0.05, len(x)-2)*intercept_err))"
   ]
  },
  {
   "cell_type": "markdown",
   "metadata": {},
   "source": [
    ":::{.callout-important}\n",
    "For older version `scipy`only returned 5 values with fields slope, intercept, rvalue, pvalue and stderr. For compatiblity reasons the return values are 5 elements tuple.\n",
    "\n",
    "```python\n",
    "slope, intercept, r, p, se = linregress(x, y)\n",
    "```\n",
    "And if you want to get the intercept error you can use the following return value as a object:\n",
    "\n",
    "```python\n",
    "results = linregress(x, y)\n",
    "print(results.intercept_stderr)\n",
    "```"
   ]
  },
  {
   "cell_type": "code",
   "execution_count": null,
   "metadata": {},
   "outputs": [],
   "source": []
  },
  {
   "cell_type": "markdown",
   "metadata": {},
   "source": [
    "## Using `scikit-learn`"
   ]
  },
  {
   "cell_type": "markdown",
   "metadata": {},
   "source": [
    " One of the most popular libraries is `scikit-learn`. The following code shows how to fit a linear regression model using `scikit-learn`:\n"
   ]
  },
  {
   "cell_type": "code",
   "execution_count": null,
   "metadata": {},
   "outputs": [],
   "source": [
    "from sklearn.linear_model import LinearRegression\n",
    "import numpy as np\n",
    "import matplotlib.pyplot as plt\n",
    "\n",
    "# Sample data\n",
    "X = np.array([1, 2, 3, 4, 5]).reshape(-1, 1)\n",
    "y = X*np.random.normal(0, 1, 5)+np.random.normal(0, 1, 5)\n",
    "\n",
    "# Model fitting\n",
    "model = LinearRegression()\n",
    "model.fit(X, y)\n",
    "\n",
    "# Predictions\n",
    "y_pred = model.predict(X)\n",
    "\n",
    "print(\"slope: %f    intercept: %f\" % (model.coef_[0], model.intercept_))\n",
    "print(\"R-squared: %f\" % model.score(X, y))\n",
    "\n"
   ]
  },
  {
   "cell_type": "markdown",
   "metadata": {},
   "source": [
    "## Using `statsmodels`\n",
    "```python\n",
    "import statsmodels.api as sm\n",
    "\n",
    "X_with_const = sm.add_constant(X)  # Add intercept term\n",
    "model = sm.OLS(y, X_with_const).fit()\n",
    "print(model.summary())\n",
    "```\n",
    "\n",
    "# Non-Linear Fits\n",
    "Linear regression may not always be sufficient, especially for complex relationships. Non-linear models provide more flexibility.\n",
    "\n",
    "## Polynomial Regression\n",
    "```python\n",
    "from sklearn.preprocessing import PolynomialFeatures\n",
    "from sklearn.pipeline import make_pipeline\n",
    "\n",
    "poly_model = make_pipeline(PolynomialFeatures(3), LinearRegression())\n",
    "poly_model.fit(X, y)\n",
    "y_poly_pred = poly_model.predict(X)\n",
    "\n",
    "plt.scatter(X, y, color='blue', label='Data')\n",
    "plt.plot(X, y_poly_pred, color='green', label='Polynomial Fit')\n",
    "plt.legend()\n",
    "plt.show()\n",
    "```\n",
    "\n",
    "## Curve Fitting with `scipy`\n",
    "```python\n",
    "from scipy.optimize import curve_fit\n",
    "\n",
    "def nonlinear_func(x, a, b, c):\n",
    "    return a * np.sin(b * x) + c\n",
    "\n",
    "params, _ = curve_fit(nonlinear_func, X.flatten(), y)\n",
    "\n",
    "X_range = np.linspace(1, 5, 100)\n",
    "y_fit = nonlinear_func(X_range, *params)\n",
    "\n",
    "plt.scatter(X, y, color='blue', label='Data')\n",
    "plt.plot(X_range, y_fit, color='purple', label='Non-Linear Fit')\n",
    "plt.legend()\n",
    "plt.show()\n",
    "```\n"
   ]
  },
  {
   "cell_type": "code",
   "execution_count": null,
   "metadata": {},
   "outputs": [],
   "source": []
  }
 ],
 "metadata": {
  "kernelspec": {
   "display_name": "myenv",
   "language": "python",
   "name": "python3"
  },
  "language_info": {
   "codemirror_mode": {
    "name": "ipython",
    "version": 3
   },
   "file_extension": ".py",
   "mimetype": "text/x-python",
   "name": "python",
   "nbconvert_exporter": "python",
   "pygments_lexer": "ipython3",
   "version": "3.12.7"
  }
 },
 "nbformat": 4,
 "nbformat_minor": 2
}
