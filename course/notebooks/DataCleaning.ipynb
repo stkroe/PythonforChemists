{
 "cells": [
  {
   "cell_type": "code",
   "execution_count": null,
   "metadata": {
    "vscode": {
     "languageId": "plaintext"
    }
   },
   "outputs": [],
   "source": [
    "---\n",
    "title: \"Cleaning Data\"\n",
    "execute:\n",
    "    echo: true\n",
    "    eval: true\n",
    "---"
   ]
  },
  {
   "cell_type": "markdown",
   "metadata": {},
   "source": [
    "# Data Cleaning {.unnumbered}"
   ]
  },
  {
   "cell_type": "markdown",
   "metadata": {},
   "source": [
    "#### Remove not valid numbers {.unnumbered}\n",
    "If there a not valid numbers in the data, you have to be very careful. <br> You have to be sure how to handle your data and what a not valid number means in your context. <br> There are different ways to handle not valid numbers. You can remove them, replace them with a valid number, or just ignore them.\n",
    "#### Search about specific elements in the array: {.unnumbered}"
   ]
  },
  {
   "cell_type": "markdown",
   "metadata": {},
   "source": [
    "`NaN` means \"Not a Number\". It is a special floating point value that is used to represent the result of an invalid operation, such as dividing by zero. It is also used to represent missing data."
   ]
  },
  {
   "cell_type": "code",
   "execution_count": null,
   "metadata": {},
   "outputs": [
    {
     "name": "stdout",
     "output_type": "stream",
     "text": [
      "[[ 1.  2.]\n",
      " [ 3.  4.]\n",
      " [ 5.  6.]\n",
      " [nan  8.]]\n",
      "Check if there is any NaN in the array:\n",
      " [[False False]\n",
      " [False False]\n",
      " [False False]\n",
      " [ True False]]\n",
      "There are NaNs in the array!\n",
      "Remove NaNs from the array: \n",
      " [1. 2. 3. 4. 5. 6. 8.]\n",
      "Replace NaNs with 0: \n",
      " [[1. 2.]\n",
      " [3. 4.]\n",
      " [5. 6.]\n",
      " [0. 8.]]\n",
      "Replace NaNs with 1: \n",
      " [[1. 2.]\n",
      " [3. 4.]\n",
      " [5. 6.]\n",
      " [1. 8.]]\n",
      "Ignore NaNs and calculate the mean: \n",
      " 4.142857142857143\n"
     ]
    }
   ],
   "source": [
    "a = np.array([[1, 2],[3, 4],[5, 6], [np.nan, 8]])\n",
    "print(a)\n",
    "b = np.isnan(a)\n",
    "print(\"Check if there is any NaN in the array:\\n\", b)\n",
    "print(\"There are NaNs in the array!\" if True\n",
    "       in b else \"There are no NaNs in the array.\")\n",
    "# remove NaNs from the array; \n",
    "# ~ is the negation operator it inverts the boolean values\n",
    "print(\"Remove NaNs from the array: \\n\", a[~np.isnan(a)])\n",
    "# replace NaNs with 0\n",
    "print(\"Replace NaNs with 0: \\n\", np.nan_to_num(a)) \n",
    "# replace NaNs with 1\n",
    "print(\"Replace NaNs with 1: \\n\", np.nan_to_num(a, nan=1)) \n",
    "# ignore NaNs and calculate the mean\n",
    "print(\"Ignore NaNs and calculate the mean: \\n\", np.nanmean(a))\n"
   ]
  },
  {
   "cell_type": "markdown",
   "metadata": {},
   "source": [
    "Also `inf` is a special floating point value that is used to represent the result of an operation that is too large to represent as a number."
   ]
  },
  {
   "cell_type": "code",
   "execution_count": null,
   "metadata": {},
   "outputs": [
    {
     "name": "stdout",
     "output_type": "stream",
     "text": [
      "[ 1.  2.  3. inf  5.  6. inf]\n",
      "Check if there is any inf in the array:\n",
      " [False False False  True False False  True]\n",
      "There are inf in the array!\n",
      "Remove inf from the array: \n",
      " [1. 2. 3. 5. 6.]\n"
     ]
    }
   ],
   "source": [
    "arr_inf = np.array([1, 2, 3, np.inf, 5, 6, np.inf])\n",
    "print(arr_inf)\n",
    "print(\"Check if there is any inf in the array:\\n\", np.isinf(arr_inf))\n",
    "print(\"There are inf in the array!\" if True \n",
    "      in np.isinf(arr_inf) else \"There are no inf in the array.\")\n",
    "# remove inf from the array\n",
    "print(\"Remove inf from the array: \\n\", arr_inf[~np.isinf(arr_inf)])\n"
   ]
  }
 ],
 "metadata": {
  "language_info": {
   "name": "python"
  }
 },
 "nbformat": 4,
 "nbformat_minor": 2
}
