{
  "cells": [
    {
      "cell_type": "markdown",
      "metadata": {},
      "source": [
        "---\n",
        "title: \"Simple Plot Types\"\n",
        "--- \n",
        "\n",
        "## Types of Plots \n",
        "\n",
        "There exists are lot of different visualization techniques.\n",
        "\n",
        "How you should visualize the data depends on the data and the question you want to answer. \n",
        "\n",
        "- **Distributions** can be visualized with a boxplot, a *violinplot*, a *histogram* or a *density plot*.\n",
        "\n",
        "- **Relationships** between two variables can be visualized with a *scatterplot*, a *lineplot*, a *regplot* or a *jointplot*. \n",
        "\n",
        "- **Descriptions** of the data can be visualized with a *barplot*, *network plot* or a *pie chart*.\n",
        "\n",
        "\n",
        "## Relationship plots\n",
        "\n",
        "### Scatter Plot\n",
        "\n",
        "[Scatter plot](https://matplotlib.org/stable/api/_as_gen/matplotlib.pyplot.scatter.html) shows the relationship of observable over the abscissa *e.g.* time vs temperature as **discrete** function.\n",
        "\n",
        "The `scatter()` function creates a scatter plot."
      ]
    },
    {
      "cell_type": "code",
      "execution_count": null,
      "metadata": {},
      "outputs": [],
      "source": [
        "#| eval: False\n",
        "plt.scatter()"
      ]
    },
    {
      "cell_type": "markdown",
      "metadata": {},
      "source": [
        ":::{.callout-note}\n",
        "The marker size can be adjusted with the `s` parameter.\n",
        ":::"
      ]
    },
    {
      "cell_type": "code",
      "execution_count": null,
      "metadata": {},
      "outputs": [],
      "source": [
        "import matplotlib.pyplot as plt\n",
        "import numpy as np\n",
        "\n",
        "x = np.linspace(0, 10, 100)\n",
        "y = np.random.rand(100)*298\n",
        "\n",
        "plt.scatter(x, y, color='red', marker='o', label='sin(x)',s=5)\n",
        "plt.xlabel('x')\n",
        "plt.ylabel('y')\n",
        "plt.legend()\n",
        "plt.show()"
      ]
    },
    {
      "cell_type": "markdown",
      "metadata": {},
      "source": [
        "### Line Plot\n",
        "\n",
        "[Line plot](https://matplotlib.org/stable/api/_as_gen/matplotlib.pyplot.plot.html) shows the relationship of observable over the abscissa *e.g.* time vs radioactivity decay as **continuous** function.\n",
        "\n",
        "The `plot()` function creates a line plot but can also be used to create scatter plots.\n",
        "\n",
        ":::{.callout-note}\n",
        "The marker size can be adjusted with the `markersize` parameter.\n",
        ":::"
      ]
    },
    {
      "cell_type": "code",
      "execution_count": null,
      "metadata": {},
      "outputs": [],
      "source": [
        "import matplotlib.pyplot as plt\n",
        "import numpy as np\n",
        "\n",
        "x = np.linspace(0, 10, 100)\n",
        "y = np.random.rand(100)*298\n",
        "\n",
        "plt.plot(x, y, color='red', marker='o', label='sin(x)',markersize=5,linewidth=2,linestyle='--')\n",
        "plt.xlabel('x')\n",
        "plt.ylabel('y')\n",
        "plt.legend()\n",
        "plt.show()"
      ]
    },
    {
      "cell_type": "markdown",
      "metadata": {},
      "source": [
        "### Errorbars\n",
        "\n",
        "Errorbars can be added to the plot with the `errorbar()` function and the `yerr` parameter."
      ]
    },
    {
      "cell_type": "code",
      "execution_count": null,
      "metadata": {},
      "outputs": [],
      "source": [
        "import matplotlib.pyplot as plt\n",
        "import numpy as np\n",
        "\n",
        "x = np.linspace(0, 10, 100)\n",
        "y = np.random.rand(100)*298\n",
        "yerr = np.random.rand(100)*10\n",
        "\n",
        "plt.errorbar(x, y, yerr=yerr, color='red', marker='o', label='sin(x)',markersize=5,linewidth=2)\n",
        "plt.xlabel('x')\n",
        "plt.ylabel('y')\n",
        "plt.legend()\n",
        "plt.show()"
      ]
    },
    {
      "cell_type": "markdown",
      "metadata": {},
      "source": [
        "\n",
        "## Distribution Plots\n",
        " \n",
        "### Histogram Plot \n",
        "\n",
        "[Histogram] (https://matplotlib.org/stable/api/_as_gen/matplotlib.pyplot.hist.html) shows the distribution of a single variable *e.g.* count of a mass of individuals in a population. The data is divided into bins and the number of data points in each bin is plotted.\n",
        "\n",
        "The `hist()` function creates a histogram with `bins` number of bins."
      ]
    },
    {
      "cell_type": "code",
      "execution_count": null,
      "metadata": {},
      "outputs": [],
      "source": [
        "import matplotlib.pyplot as plt\n",
        "import numpy as np\n",
        "\n",
        "x = np.random.randn(1000)\n",
        "\n",
        "plt.hist(x, bins=30, color='red', edgecolor='black')\n",
        "\n",
        "plt.xlabel('x')\n",
        "plt.ylabel('y')\n",
        "plt.show()"
      ]
    },
    {
      "cell_type": "markdown",
      "metadata": {},
      "source": [
        "### Boxplot \n",
        "\n",
        "[Box plot](https://seaborn.pydata.org/generated/seaborn.boxplot.html) shows the distribution of a numerical variable for different categories. It shows the minimum, first quartile, median, third quartile and maximum of your data. Outliers can be identified. An example of this *e.g.* is the distribution of cancer cell survival time for different treatment groups.\n",
        "\n",
        "\n",
        "The `boxplot()` function creates a boxplot."
      ]
    },
    {
      "cell_type": "code",
      "execution_count": null,
      "metadata": {},
      "outputs": [],
      "source": [
        "import matplotlib.pyplot as plt\n",
        "import numpy as np\n",
        "\n",
        "data = [np.random.normal(0, std, 100) for std in range(1, 4)]\n",
        "\n",
        "plt.boxplot(data, patch_artist=True, notch=True, showmeans=True, meanline=True, showfliers=True)\n",
        "\n",
        "plt.xlabel('x')\n",
        "plt.ylabel('y')\n",
        "plt.show()"
      ]
    },
    {
      "cell_type": "markdown",
      "metadata": {},
      "source": [
        "### 2D Histogram Plot  \n",
        "\n",
        "A 2D histogram can be created with the `hist2d()` function."
      ]
    },
    {
      "cell_type": "code",
      "execution_count": null,
      "metadata": {},
      "outputs": [],
      "source": [
        "import matplotlib.pyplot as plt\n",
        "import numpy as np\n",
        "\n",
        "x = np.random.randn(1000)\n",
        "y = np.random.randn(1000)\n",
        "\n",
        "plt.hist2d(x, y, bins=30, cmap='Blues')\n",
        "\n",
        "plt.xlabel('x')\n",
        "plt.ylabel('y')\n",
        "plt.show()"
      ]
    },
    {
      "cell_type": "markdown",
      "metadata": {},
      "source": [
        "### Proportion Plots \n",
        "\n",
        "## Bar Plot \n",
        "[Bar plot](https://matplotlib.org/stable/api/_as_gen/matplotlib.pyplot.bar.html) shows the relationship of a categorical variable with a numerical variable *e.g.* cancer cell survival time for different treatment groups. The height of the bar is proportional to the value of the investigated variable.\n",
        "\n",
        "The `bar()` function creates a bar plot."
      ]
    },
    {
      "cell_type": "code",
      "execution_count": null,
      "metadata": {},
      "outputs": [],
      "source": [
        "import matplotlib.pyplot as plt\n",
        "import numpy as np\n",
        "\n",
        "x = ['A', 'B', 'C', 'D']\n",
        "y = [10, 20, 30, 40]\n",
        "\n",
        "plt.bar(x, y, color='red')\n",
        "\n",
        "plt.xlabel('x')\n",
        "plt.ylabel('y')\n",
        "plt.show()"
      ]
    },
    {
      "cell_type": "markdown",
      "metadata": {},
      "source": [
        "## Pie Chart \n",
        "\n",
        "\n",
        "[Pie chart](https://matplotlib.org/stable/api/_as_gen/matplotlib.pyplot.pie.html) show the proportion of different categories in a single variable *e.g.* the content of different amino acids in a protein.\n",
        "\n",
        "The `pie()` function creates a pie chart."
      ]
    },
    {
      "cell_type": "code",
      "execution_count": null,
      "metadata": {},
      "outputs": [],
      "source": [
        "import matplotlib.pyplot as plt\n",
        "import numpy as np\n",
        "\n",
        "x = [10, 20, 30, 40]\n",
        "labels = ['A', 'B', 'C', 'D']\n",
        "\n",
        "plt.pie(x, labels=labels)\n",
        "\n",
        "plt.show()"
      ]
    }
  ],
  "metadata": {
    "kernelspec": {
      "display_name": "Python 3 (ipykernel)",
      "language": "python",
      "name": "python3",
      "path": "/Users/stk/y/envs/myenv/share/jupyter/kernels/python3"
    }
  },
  "nbformat": 4,
  "nbformat_minor": 4
}
