{
  "cells": [
    {
      "cell_type": "markdown",
      "metadata": {},
      "source": [
        "---\n",
        "title: \"Advanced Modules\"\n",
        "---\n",
        "\n",
        "# Advanced Modules \n",
        "\n",
        "## Scipy \n",
        "\n",
        "Scipy is a library that builds on Numpy. It is specialized in **scientific computing**. It includes modules for statistical calculations , optimization, linear algebra, integration, interpolation, special functions, FFT, signal and image processing, ODE solvers and more.\n",
        "\n",
        "More information can be found at the [Scipy website](https://www.scipy.org/).\n",
        "\n",
        "Later on we will see how to use Scipy for statistical calculations and for anlaysis of spectra.\n",
        "\n",
        "---\n",
        "\n",
        "## Scikit-learn \n",
        "\n",
        "Scikit-learn is a library for **machine learning**. It includes modules for classification, regression, clustering, dimensionality reduction, model selection and preprocessing.\n",
        "\n",
        "More information can be found at the [Scikit-learn website](https://scikit-learn.org/stable/).\n",
        "\n",
        "Later on we will see how to use Scikit-learn for classification and regression.\n",
        "\n",
        "---\n",
        "\n",
        "## Seaborn \n",
        "\n",
        "Seaborn is a library for **data visualization**. It is based on Matplotlib and provides a high-level interface for drawing attractive and informative statistical graphics.\n",
        "\n",
        "More information can be found at the [Seaborn website](https://seaborn.pydata.org/).\n",
        "\n",
        "Later on we will see how to use Seaborn for data visualization."
      ]
    }
  ],
  "metadata": {
    "kernelspec": {
      "display_name": "Python 3 (ipykernel)",
      "language": "python",
      "name": "python3",
      "path": "/Users/stk/y/envs/myenv/share/jupyter/kernels/python3"
    }
  },
  "nbformat": 4,
  "nbformat_minor": 4
}
