{
  "cells": [
    {
      "cell_type": "markdown",
      "metadata": {},
      "source": [
        "---\n",
        "title: \"Descriptive Statistics and Analysis\"\n",
        "execute: \n",
        "  echo: True\n",
        "  eval: True\n",
        "other-links: \n",
        "      - text: \"Download Code\"\n",
        "        href: \"https://raw.githubusercontent.com/stkroe/PythonForChemists/main/course/notebooks/DescriptiveStatistics.ipynb\"\n",
        "        icon: \"journal\"\n",
        "code-links:\n",
        "      - text: \"Open in Colab\"\n",
        "        href: \"https://colab.research.google.com/github/stkroe/PythonForChemists/blob/main/course/notebooks/DescriptiveStatistics.ipynb\"\n",
        "        icon: \"laptop\"\n",
        "--- \n",
        "\n",
        "\n",
        "## Descriptive Statistics and Analysis{.unnumbered}\n",
        "\n",
        "\n",
        "\n",
        "\n",
        "Descriptive statistics summarize and analyze datasets by providing measures of central tendency, dispersion, and correlation. These statistics help in understanding the underlying patterns in chemical and materials science data.\n",
        "\n",
        "- **Measures of Central Tendency:** Mean, median, and mode provide insights into the average or most common values in the dataset.\n",
        "- **Variability:** Variance, standard deviation, and interquartile range (IQR) measure how spread out the data is.\n",
        "- **Correlation & Covariance:** Determine relationships between two or more variables, useful for identifying dependencies in experimental data.\n",
        "- **Summary Statistics:** Pandas provides built-in functions to calculate descriptive statistics for dataframes, including mean, median, standard deviation, and more. Further you can get a fast overview of the data using the `describe()` function.\n",
        "\n",
        "\n",
        "\n",
        "### Numpy {.unnumbered}"
      ]
    },
    {
      "cell_type": "code",
      "metadata": {},
      "source": [
        "import numpy as np"
      ],
      "execution_count": null,
      "outputs": []
    },
    {
      "cell_type": "markdown",
      "metadata": {},
      "source": [
        "- `np.mean(a)` returns the **mean** of the elements of an array\n",
        "- `np.average(a)` returns the **weighted average** of the elements of an array\n",
        "- `np.median(a)` returns the **median** of the elements of an array\n",
        "- `np.max(a)` returns the **maximum** of the elements of an array\n",
        "- `np.min(a)` returns **the minimum** of the elements of an array\n",
        "- `np.std(a)` returns **the standard** deviation of the elements of an array\n",
        "\n",
        "- `np.var(a)` returns **the variance** of the elements of an array\n",
        "- `np.covar(a)` returns the **covariance** of the elements of an array\n",
        "- `np.percentile(a,p)` returns the **p-th percentile** of the elements of an array\n",
        "- `np.quantile(a,q)` returns the **q-th quantile** of the elements of an array\n",
        "- `np.corrcoef(a)` returns the **correlation coefficient** of the elements of an array\n",
        "- `np.corrcoef(a,b)` returns the **correlation coefficient** of two arrays\n",
        "- `np.histogram(a, [,bins,range,density,weights])` returns the **histogram** of the elements of an array\n",
        "- `np.histogram2d(a,b, [,bins,range,density,weights])` returns the **2D histogram** of the elements of an array\n",
        "- `np.histogramdd(a, [,bins,range,density,weights])` returns the **nD histogram** of the elements of an array"
      ]
    },
    {
      "cell_type": "code",
      "metadata": {},
      "source": [
        "arr = np.array([1, 2, 3, 4, 5, 4, 7, 8, 9])\n",
        "print(arr)\n",
        "print(\"Mean: \", np.mean(arr))\n",
        "print(\"Weighted average: \", np.average(arr, weights=[1, 2, 3, 4, 5, 4, 3, 2, 1]))\n",
        "print(\"Median: \", np.median(arr))\n",
        "print(\"Standard deviation: \", np.std(arr))\n",
        "print(\"Variance: \", np.var(arr))\n",
        "print(\"Correlation coefficient: \", np.corrcoef(arr))\n",
        "print(\"Percentile: \", np.percentile(arr, 0.25))\n",
        "print(\"Quantile: \", np.quantile(arr, 0.75))\n",
        "print(\"IQR: \", np.percentile(arr, 0.75) - np.percentile(arr, 0.25))"
      ],
      "execution_count": null,
      "outputs": []
    },
    {
      "cell_type": "markdown",
      "metadata": {},
      "source": [
        "- `np.argmin(a)` returns the **index of the minimum** element of an array\n",
        "- `np.argmax(a)` returns the **index of the maximum** element of an array\n",
        "- `np.where(a)` returns the **indices of the elements** of an array that are non-zero\n",
        "- `np.argwhere(a)` returns the **indices of the elements** of an array that are non-zero\n",
        "- `np.nonzero(a)` returns the **indices of the elements** of an array that are non-zero\n",
        "- `np.searchsorted(a,v)` returns the **index of the first element** of an array <br> \n",
        "    **that is greater than or equal to a value**\n",
        "- `np.extract(condition,a)` returns the **elements of an array that satisfy a condition**\n"
      ]
    },
    {
      "cell_type": "code",
      "metadata": {},
      "source": [
        "arr = np.array([1, 2, 3, 4, 5, 4, 7, 8, 9])\n",
        "print(arr)\n",
        "print(\"Index of the maximum element: \", np.argmax(arr))\n",
        "print(\"Index of the minimum element: \", np.argmin(arr))\n",
        "print(\"Maximum element: \", np.max(arr))\n",
        "print(\"Minimum element: \", np.min(arr))\n",
        "print(\"Find the index of element \\\"4\\\": \", np.where(arr == 4))\n",
        "print(\"Find the index of element \\\">4\\\": \", np.argwhere(arr > 4),\n",
        "       \" and the elements are: \", arr[np.where(arr > 4)])"
      ],
      "execution_count": null,
      "outputs": []
    },
    {
      "cell_type": "markdown",
      "metadata": {},
      "source": [
        "---\n",
        "\n",
        "### Pandas {.unnumbered}"
      ]
    },
    {
      "cell_type": "code",
      "metadata": {},
      "source": [
        "import pandas as pd\n",
        "data = pd.DataFrame({\n",
        "    \"Name\": [\"Water\", \"Sulfuric Acid\", \"Ethanol\", \"Acetone\", \"Ammonia\", \"Benzene\", \"Methanol\", \"Glycerol\"],\n",
        "    \"Formula\": [\"H2O\", \"H2SO4\", \"C2H5OH\", \"C3H6O\", \"NH3\", \"C6H6\", \"CH3OH\", \"C3H8O3\"],\n",
        "    \"Molecular Weight (g/mol)\": [18.015, 98.079, 46.07, 58.08, 17.03, 78.11, 32.04, 92.09],\n",
        "    \"Viscosity (mPa·s)\": [1.002, 24.0, 1.2, 0.32, 0.26, 0.65, 0.544, 1412],\n",
        "    \"pH (Acidity)\": [7, 1, 7.33, 7, 11.6, 7, 7.4, 5.5],\n",
        "    \"Chemical Type\": [\"Inorganic\", \"Acid\", \"Alcohol\", \"Ketone\", \"Base\", \"Aromatic Hydrocarbon\", \"Alcohol\", \"Polyol\"],\n",
        "    \"Concentration (M)\": [55.5, 18.0, 1.0, 0.8, 0.5, 0.1, 1.5, 1.2]})"
      ],
      "execution_count": null,
      "outputs": []
    },
    {
      "cell_type": "markdown",
      "metadata": {},
      "source": [
        "### Repeation how to get an overview of the data {.unnumbered}\n",
        "- `data.head()`: Returns the first 5 rows of the dataframe"
      ]
    },
    {
      "cell_type": "code",
      "metadata": {},
      "source": [
        "print(\"head of data: \\n\",data.head()) # print the first 5 rows"
      ],
      "execution_count": null,
      "outputs": []
    },
    {
      "cell_type": "markdown",
      "metadata": {},
      "source": [
        "- `data.shape[0]`: Returns the number of rows in the dataframe"
      ]
    },
    {
      "cell_type": "code",
      "metadata": {},
      "source": [
        "print(\"Number of data set: \\n\", data.shape[0]) # number of data set"
      ],
      "execution_count": null,
      "outputs": []
    },
    {
      "cell_type": "markdown",
      "metadata": {},
      "source": [
        "- `data.shape[1]`: Returns the number of columns in the dataframe"
      ]
    },
    {
      "cell_type": "code",
      "metadata": {},
      "source": [
        "print(\"Number of data set: \\n\", data.shape[0]) # number of data set"
      ],
      "execution_count": null,
      "outputs": []
    },
    {
      "cell_type": "markdown",
      "metadata": {},
      "source": [
        "- `data[\"Name\"]`: Returns the column \"Name\" of the dataframe"
      ]
    },
    {
      "cell_type": "code",
      "metadata": {},
      "source": [
        "print(\"Name of chemicals: \\n\", data[\"Name\"]) # print the column \"Name\""
      ],
      "execution_count": null,
      "outputs": []
    },
    {
      "cell_type": "markdown",
      "metadata": {},
      "source": [
        "- `data.iloc[1]`: Returns the second row of the dataframe"
      ]
    },
    {
      "cell_type": "code",
      "metadata": {},
      "source": [
        "print(\"2. Row: \\n\", data.iloc[1]) # print the second row"
      ],
      "execution_count": null,
      "outputs": []
    },
    {
      "cell_type": "markdown",
      "metadata": {},
      "source": [
        "- `data[data[\"Concentration (M)\"] > 5]`: Returns the rows where the concentration is greater than 5\n",
        "- `data.loc[data[\"Concentration (M)\"]>5,\"Chemical Type\"]`: Returns the chemical type with a concentration higher than 5"
      ]
    },
    {
      "cell_type": "code",
      "metadata": {},
      "source": [
        "print(\"Filter the rows where concentration is greater than 5: \\n\", data[data[\"Concentration (M)\"] > 5])\n",
        "print(\"Get the chemical type with a concentration higher than 5: \\n\", \n",
        "      data.loc[data[\"Concentration (M)\"]>5,\"Chemical Type\"])"
      ],
      "execution_count": null,
      "outputs": []
    },
    {
      "cell_type": "markdown",
      "metadata": {},
      "source": [
        "### Descriptive Statistics {.unnumbered}\n",
        "\n",
        "- `data.info()`: Returns the information of the dataframe"
      ]
    },
    {
      "cell_type": "code",
      "metadata": {},
      "source": [
        "print(\"Information of data: \\n\", data.info()) # information of data"
      ],
      "execution_count": null,
      "outputs": []
    },
    {
      "cell_type": "markdown",
      "metadata": {},
      "source": [
        "**Statistical Summary**\n",
        "\n",
        "- `data.describe()`: Returns the statistical summary of the dataframe"
      ]
    },
    {
      "cell_type": "code",
      "metadata": {},
      "source": [
        "print(\"Statistical summary: \\n\", data.describe()) # statistical summary"
      ],
      "execution_count": null,
      "outputs": []
    },
    {
      "cell_type": "markdown",
      "metadata": {},
      "source": [
        "**Statistical Measures** \n",
        "\n",
        "- `data[\"Concentration (M)\"].mean()`: Returns the mean of the column \"Concentration (M)\"\n",
        "- `data[\"Concentration (M)\"].std()`: Returns the standard deviation of the column \"Concentration (M)\"\n",
        "- `data[\"Concentration (M)\"].median()`: Returns the median of the column \"Concentration (M)\"\n",
        "- `data[\"Concentration (M)\"].max()`: Returns the maximum of the column \"Concentration (M)\"\n",
        "- `data[\"Concentration (M)\"].min()`: Returns the minimum of the column \"Concentration (M)\"\n",
        "- `data[\"Concentration (M)\"].sum()`: Returns the sum of the column \"Concentration (M)\"\n",
        "- `data[\"Concentration (M)\"].mode()`: Returns the mode of the column \"Concentration (M)\"\n",
        "- `data[\"Concentration (M)\"].percentile(q)`: Returns the q-th percentile of the column \"Concentration (M)\"\n"
      ]
    },
    {
      "cell_type": "code",
      "metadata": {},
      "source": [
        "print(\"mean of concentration: \\n\", data[\"Concentration (M)\"].mean()) # mean of concentration\n",
        "print(\"std of concentration: \\n\", data[\"Concentration (M)\"].std()) # standard deviation of concentration\n",
        "print(\"median of concentration: \\n\", data[\"Concentration (M)\"].median()) # median of concentration\n",
        "print(\"max of concentration: \\n\", data[\"Concentration (M)\"].max()) # max of concentration\n",
        "print(\"min of concentration: \\n\", data[\"Concentration (M)\"].min()) # min of concentration\n",
        "print(\"sum of concentration: \\n\", data[\"Concentration (M)\"].sum()) # sum of concentration\n",
        "print(\"mode of concentration: \\n\", data[\"Concentration (M)\"].mode()) # mode of concentration\n",
        "print(\"percentile of concentration: \\n\", data[\"Concentration (M)\"].quantile(0.25)) # 25th percentile of concentration\n",
        "print(\"IQR of concentration: \\n\", data[\"Concentration (M)\"].quantile(0.75) - data[\"Concentration (M)\"].quantile(0.25)) # IQR of concentration"
      ],
      "execution_count": null,
      "outputs": []
    },
    {
      "cell_type": "markdown",
      "metadata": {},
      "source": [
        "- `data.groupby(\"Chemical Type\")[\"Concentration (M)\"].mean()`: Returns the mean of the column \"Concentration (M)\" grouped by \"Chemical Type\""
      ]
    },
    {
      "cell_type": "code",
      "metadata": {},
      "source": [
        "print(\"Mean of concentration group by type: \\n\", data.groupby(\"Chemical Type\")[\"Concentration (M)\"].mean())"
      ],
      "execution_count": null,
      "outputs": []
    },
    {
      "cell_type": "markdown",
      "metadata": {},
      "source": [
        "- `data.agg({\"Concentration (M)\": [\"mean\", \"std\", \"median\", \"max\", \"min\", \"sum\"]})`: Returns the mean, standard deviation, median, maximum, minimum, and sum of the column \"Concentration (M)\""
      ]
    },
    {
      "cell_type": "code",
      "metadata": {},
      "source": [
        "print(\"Aggregate the data: \\n\", data.agg({\"Concentration (M)\": [\"mean\", \"std\", \"median\", \"max\", \"min\", \"sum\"]}))"
      ],
      "execution_count": null,
      "outputs": []
    },
    {
      "cell_type": "markdown",
      "metadata": {},
      "source": [
        "**Correlation and Covariance**\n",
        "\n",
        "- `data.corr()`: Returns the correlation matrix of the dataframe\n",
        "- `data.cov()`: Returns the covariance matrix of the dataframe"
      ]
    },
    {
      "cell_type": "code",
      "metadata": {},
      "source": [
        "print(\"Correlation matrix: \\n\", data[\"Concentration (M)\"].corr(data[\"Molecular Weight (g/mol)\"]))\n",
        "print(\"Covariance matrix: \\n\", data[\"Concentration (M)\"].cov(data[\"Molecular Weight (g/mol)\"]))"
      ],
      "execution_count": null,
      "outputs": []
    },
    {
      "cell_type": "markdown",
      "metadata": {},
      "source": [
        "**Pivot Tables**\n",
        "Pivot tables are used to summarize and aggregate data inside a dataframe.\n",
        "- `data.pivot_table(index=\"Chemical Type\", columns=\"Concentration (M)\", values=\"Molecular Weight (g/mol)\", aggfunc=\"mean\")`: Returns a pivot table of the dataframe"
      ]
    },
    {
      "cell_type": "code",
      "metadata": {},
      "source": [
        "data.pivot_table(index=\"Chemical Type\", columns=\"Concentration (M)\", values=\"Molecular Weight (g/mol)\", aggfunc=\"mean\")"
      ],
      "execution_count": null,
      "outputs": []
    },
    {
      "cell_type": "markdown",
      "metadata": {},
      "source": [
        "**Comparison of Data**\n",
        "\n",
        "\n",
        "- `data1 = data.compare(data2)`: Compares two dataframes and returns the differences"
      ]
    },
    {
      "cell_type": "code",
      "metadata": {},
      "source": [
        "data1 = data.copy()\n",
        "data1[\"Concentration (M)\"].iloc[0] = 0.5\n",
        "print(\"Comparison of data: \\n\", \n",
        "data.compare(data1))"
      ],
      "execution_count": null,
      "outputs": []
    },
    {
      "cell_type": "markdown",
      "metadata": {},
      "source": [
        "**Window Functions**\n",
        "\n",
        "Window functions are used to perform calculations on a subset of the data.\n",
        "It is useful for calculating moving averages, cumulative sums, and other rolling calculations.\n",
        "It helps to smooth out the data and identify trends.\n",
        "\n",
        "- `df.rolling(...)`: perform rolling window calculations\n",
        "- `df.rolling(...).mean()`: calculate the rolling mean\n",
        "- `df.rolling(...).mean()`: calculate the rolling mean\n",
        "- `df.rolling(...).sum()`: calculate the rolling sum\n",
        "- `df.rolling(...).std()`: calculate the rolling standard deviation\n",
        "- `df.rolling(...).min()`: calculate the rolling minimum\n",
        "- `df.rolling(...).max()`: calculate the rolling maximum\n",
        "- `df.rolling(...).apply(...)`: apply a function to the rolling window\n",
        "- `df.rolling(...).agg(...)`: aggregate the data in the rolling window\n",
        "- `df.rolling(...).transform(...)`: transform the data in the rolling window\n",
        "- `df.rolling(...).count()`: count the data in the rolling window"
      ]
    },
    {
      "cell_type": "code",
      "metadata": {},
      "source": [
        "# calculate the rolling mean\n",
        "print(\"rolling mean: \\n\", data[\"Concentration (M)\"].rolling(window=2).mean())"
      ],
      "execution_count": null,
      "outputs": []
    },
    {
      "cell_type": "markdown",
      "metadata": {},
      "source": [
        "---\n",
        "\n",
        "## Example {.unnumbered}\n"
      ]
    }
  ],
  "metadata": {
    "kernelspec": {
      "name": "python3",
      "language": "python",
      "display_name": "Python 3 (ipykernel)",
      "path": "/Users/stk/y/envs/myenv/share/jupyter/kernels/python3"
    }
  },
  "nbformat": 4,
  "nbformat_minor": 4
}