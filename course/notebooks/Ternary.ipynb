{
  "cells": [
    {
      "cell_type": "markdown",
      "metadata": {},
      "source": [
        "---\n",
        "title: \"Ternary Plot\"\n",
        "execute: \n",
        "  echo: True\n",
        "  eval: True\n",
        "other-links: \n",
        "      - text: \"Download Code\"\n",
        "        href: \"https://raw.githubusercontent.com/stkroe/PythonForChemists/main/course/notebooks/TenaryPlots.ipynb\"\n",
        "        icon: \"journal\"\n",
        "code-links:\n",
        "      - text: \"Open in Colab\"\n",
        "        href: \"https://colab.research.google.com/github/stkroe/PythonForChemists/blob/main/course/notebooks/TenaryPlots.ipynb\"\n",
        "        icon: \"laptop\"\n",
        "--- \n",
        "\n",
        "# Ternary Plot {.unnumbered}\n",
        "\n",
        "A ternary plot is a type of plot that is used to visualize the composition of three components."
      ]
    },
    {
      "cell_type": "code",
      "metadata": {},
      "source": [
        "import matplotlib.pyplot as plt\n",
        "import numpy as np\n",
        "import ternary\n",
        "\n",
        "# Create a figure\n",
        "fig, tax = ternary.figure(scale=1.0)\n",
        "\n",
        "# Draw Boundary and Gridlines\n",
        "tax.boundary(linewidth=2.0)\n",
        "tax.gridlines(multiple=0.2, color=\"blue\")\n",
        "\n",
        "# Set Axis labels and Title\n",
        "fontsize = 10\n",
        "tax.set_title(\"Ternary Plot\", fontsize=fontsize)\n",
        "tax.left_axis_label(\"Component A\", fontsize=fontsize)\n",
        "tax.right_axis_label(\"Component B\", fontsize=fontsize)\n",
        "tax.bottom_axis_label(\"Component C\", fontsize=fontsize)\n",
        "\n",
        "# Plot some data\n",
        "points = np.random.dirichlet((1, 1, 1), 10)\n",
        "tax.scatter(points, marker='s', color='red', label=\"Data\")\n",
        "\n",
        "# Legend\n",
        "tax.legend()\n",
        "plt.show()"
      ],
      "execution_count": null,
      "outputs": []
    }
  ],
  "metadata": {
    "kernelspec": {
      "name": "python3",
      "language": "python",
      "display_name": "Python 3 (ipykernel)",
      "path": "/Users/stk/y/envs/myenv/share/jupyter/kernels/python3"
    }
  },
  "nbformat": 4,
  "nbformat_minor": 4
}