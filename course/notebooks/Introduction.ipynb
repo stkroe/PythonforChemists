{
 "cells": [
  {
   "cell_type": "markdown",
   "metadata": {
    "editable": true,
    "raw_mimetype": "text/restructuredtext",
    "slideshow": {
     "slide_type": ""
    },
    "tags": []
   },
   "source": [
    "---\n",
    "title: \"Introduction\"\n",
    "---"
   ]
  },
  {
   "cell_type": "markdown",
   "metadata": {
    "editable": true,
    "slideshow": {
     "slide_type": ""
    },
    "tags": []
   },
   "source": [
    "## What do you need for data analysis and visualization? {.unnumbered}"
   ]
  },
  {
   "cell_type": "markdown",
   "metadata": {
    "editable": true,
    "slideshow": {
     "slide_type": ""
    },
    "tags": []
   },
   "source": [
    "- Scientists produce a lot of data which needs to be analyzed and visualized.\n",
    "- Clear presentation of data is essential for the understanding of data.\n",
    "- It helps to improve your scientific communication and to make your results more accessible to others.\n",
    "- There are many tools available for data analysis and visualization."
   ]
  },
  {
   "cell_type": "markdown",
   "metadata": {},
   "source": [
    " You can use basic spreadsheet programs with graphical interfaces *e.g.* [Excel](https://www.microsoft.com/de-at/microsoft-365/excel), [LibreOffice Calc](https://de.libreoffice.org/) ...<br> \n"
   ]
  },
  {
   "cell_type": "code",
   "execution_count": null,
   "metadata": {
    "vscode": {
     "languageId": "plaintext"
    }
   },
   "outputs": [],
   "source": []
  },
  {
   "cell_type": "markdown",
   "metadata": {},
   "source": [
    "But for more advanced analysis you need probably specifc plotting and analysis tools: "
   ]
  },
  {
   "cell_type": "markdown",
   "metadata": {},
   "source": [
    "\n",
    "- You can either use programs with GUIs *e.g.* [LabPlot](https://labplot.kde.org/), [QtiPlot](https://www.qtiplot.com/), [Scilab](https://www.scilab.org/), [SciDAVis](https://scidavis.sourceforge.net/), [Origin](https://www.originlab.com/) ...\n",
    "- or a GUI based program with command line interface *e.g.* [Xmgrace](https://plasma-gate.weizmann.ac.il/Grace/),  [GNU Octave](https://octave.org/) ...\n",
    "- or command line based tools *e.g.* [Gnuplot](http://www.gnuplot.info/), [Matlab](https://de.mathworks.com/products/matlab.html), [Mathematica](https://www.wolfram.com/mathematica/) ...\n",
    "- or programming languages *e.g.* [Python](https://www.python.org/), [R](https://www.r-project.org/ju), [Julia](https://julialang.org/) ...\n"
   ]
  },
  {
   "cell_type": "markdown",
   "metadata": {},
   "source": [
    "This is a small election of tools, that can be used for data analysis and plotting."
   ]
  },
  {
   "cell_type": "markdown",
   "metadata": {},
   "source": [
    "For a larger list see these wikipedia lists:"
   ]
  },
  {
   "cell_type": "markdown",
   "metadata": {},
   "source": [
    "- [List of Numerical Analysis Software](https://en.wikipedia.org/wiki/List_of_numerical_analysis_software) \n",
    "- [List of Graphical Software](https://en.wikipedia.org/wiki/List_of_information_graphics_software)\n",
    "- [List of Statistical Software](https://en.wikipedia.org/wiki/List_of_statistical_software)\n",
    "- [List of Computer Algebra Systems](https://en.wikipedia.org/wiki/List_of_computer_algebra_systems)"
   ]
  },
  {
   "cell_type": "markdown",
   "metadata": {},
   "source": [
    "# Why you should learn Python? {.unnumbered}"
   ]
  },
  {
   "cell_type": "markdown",
   "metadata": {},
   "source": [
    "- open-source\n",
    "- well documented with a lot of online resources ([tutorials](https://github.com/ujjwalkarn/DataSciencePython), documentations, stackoverflow ect.)\n",
    "- easy to learn \n",
    "- intuitive\n",
    "- highly flexible\n",
    "- wide range of applications\n",
    "- huge number of different python packages are available \n",
    "- very easy to adapt to other programming languages such as `R` and `Julia`\n",
    "- it is not limited to a specific operating system\n",
    "- you can automate repetitive tasks\n",
    "- you can create templates for your analysis and visualization tasks"
   ]
  }
 ],
 "metadata": {
  "kernelspec": {
   "display_name": "Python 3 (ipykernel)",
   "language": "python",
   "name": "python3"
  },
  "language_info": {
   "codemirror_mode": {
    "name": "ipython",
    "version": 3
   },
   "file_extension": ".py",
   "mimetype": "text/x-python",
   "name": "python",
   "nbconvert_exporter": "python",
   "pygments_lexer": "ipython3",
   "version": "3.11.8"
  }
 },
 "nbformat": 4,
 "nbformat_minor": 4
}
