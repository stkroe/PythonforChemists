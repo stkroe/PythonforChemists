{
  "cells": [
    {
      "cell_type": "markdown",
      "metadata": {},
      "source": [
        "---\n",
        "title: \"Analysis of Spectroscopy Data\"\n",
        "---\n",
        "##   Spectroscopy Data Analysis \n",
        "\n",
        "\n",
        "Spectroscopy is one of the most used experimental techniques in chemistry *e.g.*:\n",
        "\n",
        "- UV/Vis spectroscopy\n",
        "- IR spectroscopy\n",
        "- NMR spectroscopy\n",
        "- Mass spectroscopy\n",
        "\n",
        "\n",
        "The analysis of spectroscopy needs often some preprocessing steps *e.g.*:\n",
        "\n",
        "- Baseline correction\n",
        "- Smoothing\n",
        "- Normalization\n",
        "- Peak assignment\n",
        "- Peak fitting\n",
        "- Peak integration\n",
        "- Peak deconvolution\n",
        "\n",
        "\n",
        "### Baseline Correction \n",
        "\n",
        "A baseline correction is often needed to remove background noise from the signal and \n",
        "\n",
        "The baseline correction can be done by different methods *e.g.*:\n",
        "\n",
        "- Polynomial fitting"
      ]
    },
    {
      "cell_type": "markdown",
      "metadata": {},
      "source": []
    }
  ],
  "metadata": {
    "kernelspec": {
      "display_name": "Python 3 (ipykernel)",
      "language": "python",
      "name": "python3",
      "path": "/Users/stk/y/envs/myenv/share/jupyter/kernels/python3"
    }
  },
  "nbformat": 4,
  "nbformat_minor": 4
}
