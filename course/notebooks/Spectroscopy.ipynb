{
  "cells": [
    {
      "cell_type": "markdown",
      "metadata": {},
      "source": [
        "---\n",
        "title: \"Analysis of Spectroscopy Data\"\n",
        "execute: \n",
        "  echo: True\n",
        "  eval: True\n",
        "other-links: \n",
        "      - text: \"Download Code\"\n",
        "        href: \"https://raw.githubusercontent.com/stkroe/PythonForChemists/main/course/notebooks/Spectroscopy.ipynb\"\n",
        "        icon: \"journal\"\n",
        "code-links:\n",
        "      - text: \"Open in Colab\"\n",
        "        href: \"https://colab.research.google.com/github/stkroe/PythonForChemists/blob/main/course/notebooks/Spectroscopy.ipynb\"\n",
        "        icon: \"laptop\"\n",
        "--- \n",
        "\n",
        "##   Spectroscopy Data Analysis {.unnumbered}\n",
        "\n",
        "\n",
        "Spectroscopy is one of the most used experimental techniques in chemistry *e.g.*:\n",
        "\n",
        "- UV/Vis spectroscopy\n",
        "- IR spectroscopy\n",
        "- NMR spectroscopy\n",
        "- Mass spectroscopy\n",
        "\n",
        "\n",
        "The analysis of spectroscopy needs often some preprocessing steps *e.g.*:\n",
        "\n",
        "- Baseline correction\n",
        "- Smoothing\n",
        "- Normalization\n",
        "- Peak assignment\n",
        "- Peak fitting\n",
        "- Peak integration\n",
        "- Peak deconvolution\n",
        "\n",
        "\n",
        "### Baseline Correction {.unnumbered}\n",
        "\n",
        "A baseline correction is often needed to remove background noise from the signal and \n",
        "\n",
        "The baseline correction can be done by different methods *e.g.*:\n",
        "\n",
        "- Polynomial fitting"
      ]
    }
  ],
  "metadata": {
    "kernelspec": {
      "name": "python3",
      "language": "python",
      "display_name": "Python 3 (ipykernel)",
      "path": "/Users/stk/y/envs/myenv/share/jupyter/kernels/python3"
    }
  },
  "nbformat": 4,
  "nbformat_minor": 4
}