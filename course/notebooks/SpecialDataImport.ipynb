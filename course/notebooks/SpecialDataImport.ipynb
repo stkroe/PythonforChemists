{
 "cells": [
  {
   "cell_type": "code",
   "execution_count": null,
   "metadata": {
    "vscode": {
     "languageId": "plaintext"
    }
   },
   "outputs": [],
   "source": [
    "---\n",
    "title: \"Special Data Import\"\n",
    "execute:\n",
    "    echo: true\n",
    "    eval: true\n",
    "--- "
   ]
  },
  {
   "cell_type": "markdown",
   "metadata": {},
   "source": [
    "## How you can import other kind of data besides CSV,TXT or DAT?"
   ]
  },
  {
   "cell_type": "markdown",
   "metadata": {},
   "source": [
    "Depending on your research field, you have data in different formats. For example, in the field of bioinformatics, you have data in FASTA format. In this notebook, I will show you how to import data in FASTA format.\n",
    "\n",
    "FASTA format is a text-based format for representing either nucleotide sequences or amino acid (protein) sequences, in which nucleotides or amino acids are represented using single-letter codes. A sequence in FASTA format begins with a single-line description, followed by lines of sequence data. The description line is distinguished from the sequence data by a greater-than (\">\") symbol in the first column. It is recommended that all lines of text be shorter than 80 characters in length.\n",
    "\n",
    "In this notebook, I will show you how to import data in FASTA format using the Biopython library. Biopython is a set of freely available tools for biological computation written in Python by an international team of developers.\n",
    "\n",
    "Let's start by installing the Biopython library.\n",
    "\n",
    "```python\n",
    "!pip install biopython\n",
    "```\n",
    "\n",
    "Now, let's import the necessary libraries and import data in FASTA format.\n",
    "\n",
    "```python\n",
    "from Bio import SeqIO\n",
    "\n",
    "# Open the FASTA file\n",
    "fasta_file = \"example.fasta\"\n",
    "\n",
    "# Read the FASTA file\n",
    "for record in SeqIO.parse(fasta_file, \"fasta\"):\n",
    "    print(record.id)\n",
    "    print(record.seq)\n",
    "```\n",
    "\n",
    "In the code above, we first import the `SeqIO` module from the `Bio` package. We then open the FASTA file using the `SeqIO.parse()` function, passing the file name and the format as arguments. We iterate over the records in the file and print the record ID and sequence."
   ]
  }
 ],
 "metadata": {
  "language_info": {
   "name": "python"
  }
 },
 "nbformat": 4,
 "nbformat_minor": 2
}
