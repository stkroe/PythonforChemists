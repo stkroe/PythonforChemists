{
  "cells": [
    {
      "cell_type": "markdown",
      "metadata": {},
      "source": [
        "---\n",
        "title: \"Data Manipulation\"\n",
        "execute: \n",
        "  echo: True\n",
        "  eval: True\n",
        "other-links: \n",
        "      - text: \"Download Code\"\n",
        "        href: \"https://raw.githubusercontent.com/stkroe/PythonForChemists/main/course/notebooks/DataManipulation.ipynb\"\n",
        "        icon: \"journal\"\n",
        "code-links:\n",
        "      - text: \"Open in Colab\"\n",
        "        href: \"https://colab.research.google.com/github/stkroe/PythonForChemists/blob/main/course/notebooks/DataManipulation.ipynb\"\n",
        "        icon: \"laptop\"\n",
        "--- \n",
        "\n",
        "# Data Manipulation {.unnumbered}\n",
        "\n",
        "## Numpy{.unnumbered}"
      ]
    },
    {
      "cell_type": "code",
      "execution_count": null,
      "metadata": {},
      "outputs": [],
      "source": [
        "import numpy as np"
      ]
    },
    {
      "cell_type": "markdown",
      "metadata": {},
      "source": [
        "### Array manipulation {.unnumbered}\n",
        "Often data has to be manipulated before it can be analyzed. <br> \n",
        "Numpy has many methods for array manipulation. <br> \n",
        "\n",
        "For example, \n",
        "\n",
        "- the shape of an array can be changed,\n",
        "- multiple arrays can be concatenated, \n",
        "- the elements of an array can be sorted\n",
        "- non valid values NaN can be removed, \n",
        "- linear algebra operations can be performed,\n",
        "\n",
        "etc.\n",
        "\n",
        "#### Sort arrays: {.unnumbered}"
      ]
    },
    {
      "cell_type": "code",
      "execution_count": null,
      "metadata": {},
      "outputs": [],
      "source": [
        "unsorted_arr = np.array([[3, 1, 5, 2, 4], [5, 2, 0, 8, 1], [3, 2, 9, 4 , 5]])\n",
        "print(\"unsortd_arr: \\n\", unsorted_arr)\n",
        "sorted_arr = np.sort(unsorted_arr,axis = 0) # sorted along the column\n",
        "print(\"sorted_arr along columns: \\n\" , sorted_arr)\n",
        "sorted_arr = np.sort(unsorted_arr,axis = 1) # sorted along the row\n",
        "print(\"sorted_arr along rows: \\n\" , sorted_arr)"
      ]
    },
    {
      "cell_type": "markdown",
      "metadata": {},
      "source": [
        "#### Concatenate arrays: {.unnumbered}"
      ]
    },
    {
      "cell_type": "code",
      "execution_count": null,
      "metadata": {},
      "outputs": [],
      "source": [
        "a = np.array([1, 2, 3]) \n",
        "b = np.array([4, 5, 6])\n",
        "c = np.concatenate((a, b))\n",
        "print(c)"
      ]
    },
    {
      "cell_type": "markdown",
      "metadata": {},
      "source": [
        "#### Reshape arrays: {.unnumbered}"
      ]
    },
    {
      "cell_type": "code",
      "execution_count": null,
      "metadata": {},
      "outputs": [],
      "source": [
        "a = np.array([[1, 2],[3, 4],[5, 6]])\n",
        "b = np.array([[7, 8],[9, 10],[11, 12]])\n",
        "c = np.vstack((a, b)) # vertical stack\n",
        "d = np.hstack((a, b)) # horizontal stack\n",
        "print(\"vertical stack: \\n\", c)\n",
        "print(\"horizontal stack: \\n\", d)\n",
        "print(\"flatten array: \\n\", c.flatten())"
      ]
    },
    {
      "cell_type": "markdown",
      "metadata": {},
      "source": [
        "#### Linear algebra operations *e.g.*: {.unnumbered}\n",
        "\n",
        "- `np.sum(a)` returns **element-wise sum** of two arrays\n",
        "- `np.add(a)` returns **sum of all elements** an arrays\n",
        "- `np.subtract(a,b)` returns the **difference** of two arrays\n",
        "- `np.multiply(a,b)` returns the **product** of two arrays\n",
        "- `np.divide(a,b)` returns the **division** of two arrays\n",
        "- `np.dot(a,b)` returns the **dot product** of two arrays\n",
        "- `np.cross(a,b)` returns the **cross product** of two arrays\n",
        "- `np.linalg.inv(a)` returns the **inverse of a matrix**\n",
        "- `np.linalg.det(a)` returns the **determinant of a matrix**\n",
        "- `np.linalg.eig(a)` returns the **eigenvalues and eigenvectors** of a matrix\n",
        "- `np.linalg.solve(a,b)` returns the **solution of a linear system of equations**\n",
        "- `np.convolv(a,b)` returns the **convolution** of two arrays\n"
      ]
    },
    {
      "cell_type": "code",
      "execution_count": null,
      "metadata": {},
      "outputs": [],
      "source": [
        "a = np.array([[1, 2],[3, 4],[5, 6]])\n",
        "b = np.array([[7, 8],[9, 10],[11, 12]])\n",
        "c = np.sum(a) # sum of all elements\n",
        "print(\"Summ of all elements: \", c)\n",
        "c = np.add(a,b) # element wise addition\n",
        "print(\"Element wise addition: \", c)"
      ]
    },
    {
      "cell_type": "markdown",
      "metadata": {},
      "source": [
        ":::{.callout-information}\n",
        "#### Question:\n",
        "What does the following code snippet do?"
      ]
    },
    {
      "cell_type": "code",
      "execution_count": null,
      "metadata": {},
      "outputs": [],
      "source": [
        "#| eval: false\n",
        "\n",
        "temperatures = np.array([20, 30, 40, 50, 60, 70, 80, 90, 100])\n",
        "window = 3\n",
        "np.convolve(temperatures,np.ones(window) / window,\n",
        "                            mode='valid')"
      ]
    },
    {
      "cell_type": "markdown",
      "metadata": {},
      "source": [
        "\n",
        "If you are not sure, look in the numpy documentation, ask AI, search in the internet or try it out in a code cell.\n",
        "\n",
        ":::{.callout-important}\n",
        "#### Answer:\n",
        "The code snippet calculates the moving average of the temperatures with a window size of 3.\n",
        ":::\n",
        "\n",
        "\n",
        "\n",
        "---\n",
        "\n",
        "\n",
        "## Pandas {.unnumbered}\n"
      ]
    },
    {
      "cell_type": "code",
      "execution_count": null,
      "metadata": {},
      "outputs": [],
      "source": [
        "import pandas as pd\n",
        "data = pd.DataFrame({\n",
        "    \"Name\": [\"Water\", \"Sulfuric Acid\", \"Ethanol\", \"Acetone\", \"Ammonia\", \"Benzene\", \"Methanol\", \"Glycerol\"],\n",
        "    \"Formula\": [\"H2O\", \"H2SO4\", \"C2H5OH\", \"C3H6O\", \"NH3\", \"C6H6\", \"CH3OH\", \"C3H8O3\"],\n",
        "    \"Molecular Weight (g/mol)\": [18.015, 98.079, 46.07, 58.08, 17.03, 78.11, 32.04, 92.09],\n",
        "    \"Viscosity (mPa·s)\": [1.002, 24.0, 1.2, 0.32, 0.26, 0.65, 0.544, 1412],\n",
        "    \"pH (Acidity)\": [7, 1, 7.33, 7, 11.6, 7, 7.4, 5.5],\n",
        "    \"Chemical Type\": [\"Inorganic\", \"Acid\", \"Alcohol\", \"Ketone\", \"Base\", \"Aromatic Hydrocarbon\", \"Alcohol\", \"Polyol\"],\n",
        "    \"Concentration (M)\": [55.5, 18.0, 1.0, 0.8, 0.5, 0.1, 1.5, 1.2]})"
      ]
    },
    {
      "cell_type": "code",
      "execution_count": null,
      "metadata": {},
      "outputs": [],
      "source": [
        "print(\"head of data: \\n\",data.head()) # print the first 5 rows\n",
        "print(\"\\n\")\n",
        "print(\"Number of data set: \\n\", data.shape[0]) # number of data set\n",
        "print(\"\\n\")\n",
        "print(\"Column Name: \\n\", data[\"Name\"]) # print the column \"Name\"\n",
        "print(\"\\n\")\n",
        "print(\"2. Row: \\n\", data.iloc[1]) # print the second row"
      ]
    },
    {
      "cell_type": "markdown",
      "metadata": {},
      "source": [
        "#### Select subsets of the data: {.unnumbered}\n",
        "\n",
        "Often you need only a specific part of your data with `pandas`it is quite easy to filter the data after specific properties."
      ]
    },
    {
      "cell_type": "code",
      "execution_count": null,
      "metadata": {},
      "outputs": [],
      "source": [
        "# filter the rows where concentration is greater than 5\n",
        "print(\"Filter the rows where concentration is greater than 5: \\n\", data[data[\"Concentration (M)\"] > 5]) \n",
        "print(\"\\n\")\n",
        "# get the chemical type with a concentration higher than 5\n",
        "print(\"Get the chemical type with a concentration higher than 5: \\n\", \n",
        "      data.loc[data[\"Concentration (M)\"]>5,\"Chemical Type\"])\n",
        "print(\"\\n\")"
      ]
    },
    {
      "cell_type": "markdown",
      "metadata": {},
      "source": [
        "### Manipulate data {.unnumbered}\n",
        "\n",
        "You can\n",
        "- `df.copy()`: copy the data\n",
        "- `df.drop(columns=[...])`: drop columns\n",
        "- `df.drop(index=[...])`: drop rows\n",
        "- `df.drop_duplicates()`: drop duplicates\n",
        "- `df.fillna(...)`: fill NaNs\n",
        "- `df.dropna()`: drop NaNs\n",
        "- `df.replace(...)`: replace values\n",
        "- `pd.concat([df1, df2])`: concatenate data (concatenate along the rows)\n",
        "- `pd.concat([df1, df2], axis=1)`: concatenate data (concatenate along the columns)\n",
        "- `pd.merge(df1, df2)`: merge data in the sense of inner, outer, left, right join, see [pandas documentation](https://pandas.pydata.org/pandas-docs/stable/reference/api/pandas.DataFrame.merge.html)\n",
        "- `df.agg(...)`: aggregate the data\n",
        "- `df.transform(...)`: transform the data \n",
        "- `df.value_counts()`: count the values\n",
        "- `df.apply(...)`: apply a function to the data\n",
        "- `df.groupby(...)`: group the data and perform operations on the groups\n",
        "- `df.sort_values(...)`: sort the data\n",
        "- `df.shift(...)`: shift the data\n",
        "- `df.diff(...)`: get the difference between the data\n",
        "- `df.ptc_shift(...)`: get the percentage change between the data\n",
        "- `df.to_numpy()`: convert the dataframe to a numpy array\n",
        "- `pd.DataFrame(arr)`: convert the numpy array to a dataframe\n",
        "etc.\n",
        "\n",
        "#### Copy and concatenate data: {.unnumbered}"
      ]
    },
    {
      "cell_type": "code",
      "execution_count": null,
      "metadata": {},
      "outputs": [],
      "source": [
        "data2 = data.copy()\n",
        "data2[\"Concentration 2 (M)\"] = data2[\"Concentration (M)\"] + 10 # increase the concentration by 10 M\n",
        "print(\"data2: \\n\" , data2)\n",
        "\n",
        "\n",
        "data3 = pd.concat([data, data2]) # concatenate the dataframes\n",
        "print(\"concated data: \\n\", data3)"
      ]
    },
    {
      "cell_type": "code",
      "execution_count": null,
      "metadata": {},
      "outputs": [],
      "source": [
        " # create a Panda Series\n",
        "acidity = pd.Series([\"basic\", \"acid\", \"basic\", \"neutral\",\n",
        "                    \"acid\", \"acid\", \"basic\", \"basic\"], name=\"Aciditiy Type\")\n",
        "print(\"acidity: \\n\",acidity)\n",
        "# concatenate the dataframes\n",
        "data4 = pd.concat([data3, acidity], axis=1) \n",
        "print(\"concated data: \\n\", data4)"
      ]
    },
    {
      "cell_type": "markdown",
      "metadata": {},
      "source": [
        "#### Drop columns and rows: {.unnumbered}"
      ]
    },
    {
      "cell_type": "code",
      "execution_count": null,
      "metadata": {},
      "outputs": [],
      "source": [
        "data4 = data4.drop(columns=[\"Concentration 2 (M)\"]) # drop the column \"Concentration 2 (M)\"\n",
        "print(\"data4: \\n\", data4)\n",
        "\n",
        "data5 = data4.drop(index=[0, 1]) # drop the rows with index 0 and 1\n",
        "print(\"data5: \\n\", data5)\n",
        "\n",
        "data6 = data5.drop(columns=[\"Aciditiy Type\"]) # drop the column \"Aciditiy Type\"\n",
        "print(\"data6: \\n\", data6)"
      ]
    },
    {
      "cell_type": "markdown",
      "metadata": {},
      "source": [
        "#### Drop duplicates, fill NaNs and drop NaNs {.unnumbered}"
      ]
    },
    {
      "cell_type": "code",
      "execution_count": null,
      "metadata": {},
      "outputs": [],
      "source": [
        "data5 = data4.drop_duplicates() # drop the duplicates\n",
        "print(\"data5: \\n\", data5)\n",
        "\n",
        "data6 = data5.fillna(0) # fill the NaNs with 0\n",
        "print(\"data6: \\n\", data6)\n",
        "\n",
        "data7 = data5.dropna() # drop the NaNs\n",
        "print(\"data7: \\n\", data7)"
      ]
    },
    {
      "cell_type": "markdown",
      "metadata": {},
      "source": [
        "#### Replace values: {.unnumbered}"
      ]
    },
    {
      "cell_type": "code",
      "execution_count": null,
      "metadata": {},
      "outputs": [],
      "source": [
        "# replace the values\n",
        "data6[\"Aciditiy Type\"].replace({\"acid\": \"Acidic\", \"basic\": \"Basic\", \"neutral\": \"Neutral\"}, inplace=True)\n",
        "print(\"data6: \\n\", data6)"
      ]
    },
    {
      "cell_type": "markdown",
      "metadata": {},
      "source": [
        "### Count the values {.unnumbered}"
      ]
    },
    {
      "cell_type": "code",
      "execution_count": null,
      "metadata": {},
      "outputs": [],
      "source": [
        "# count the chemicals with different concentration\n",
        "print(\"Count the chemicals with the different concentrations \\n\", data[\"Concentration (M)\"].value_counts())"
      ]
    },
    {
      "cell_type": "markdown",
      "metadata": {},
      "source": [
        "### Appply a function to the data {.unnumbered}"
      ]
    },
    {
      "cell_type": "code",
      "execution_count": null,
      "metadata": {},
      "outputs": [],
      "source": [
        "print(\"Apply a function to the data: \\n\", data[\"Concentration (M)\"].apply(lambda x: x*2))"
      ]
    },
    {
      "cell_type": "markdown",
      "metadata": {},
      "source": [
        "### Transform data {.unnumbered}"
      ]
    },
    {
      "cell_type": "code",
      "execution_count": null,
      "metadata": {},
      "outputs": [],
      "source": [
        "# transform the data\n",
        "data6[\"Concentration (M)\"] = data6[\"Concentration (M)\"].transform(lambda x: x*2)\n",
        "print(\"data6: \\n\", data6)"
      ]
    },
    {
      "cell_type": "markdown",
      "metadata": {},
      "source": [
        "### Sort data"
      ]
    },
    {
      "cell_type": "code",
      "execution_count": null,
      "metadata": {},
      "outputs": [],
      "source": [
        "print(\"sorted after concentration: \",data.sort_values(by=\"Concentration (M)\", ascending=True))"
      ]
    },
    {
      "cell_type": "markdown",
      "metadata": {},
      "source": [
        "### Group data \n",
        "\n",
        "In pandas you can group data by a specific column and perform operations on the groups."
      ]
    },
    {
      "cell_type": "code",
      "execution_count": null,
      "metadata": {},
      "outputs": [],
      "source": [
        "# sum of concentration by filter\n",
        "print(\"sum of concentration: \\n\", data[\"Concentration (M)\"].sum()) \n",
        "# sum of concentration group by type\n",
        "print(\"Sum of concentration group by type: \\n\", data.groupby(\"Chemical Type\")[\"Concentration (M)\"].sum())"
      ]
    },
    {
      "cell_type": "markdown",
      "metadata": {},
      "source": [
        "### Transform Pandas DataFrame to Numpy Array and viceversa {.unnumbered}\n"
      ]
    },
    {
      "cell_type": "code",
      "execution_count": null,
      "metadata": {},
      "outputs": [],
      "source": [
        "print(\"Names: \", data5.columns)\n",
        "df = data5.copy()\n",
        "print(len(df))\n",
        "# convert the dataframe to a numpy array\n",
        "arr = df.to_numpy() \n",
        "print(\"arr: \\n\", arr)\n",
        "# convert the numpy array to a dataframe\n",
        "df2 = pd.DataFrame(arr, columns=[\"Name\", \"Formula\", \"Molecular Weight (g/mol)\",\"Viscosity (mPa·s)\",\"pH (Acidity)\",\"Chemical Type\",\"Concentration (M)\", \"Aciditiy Type\"])\n",
        "print(\"df2: \\n\", df2)"
      ]
    }
  ],
  "metadata": {
    "kernelspec": {
      "display_name": "Python 3 (ipykernel)",
      "language": "python",
      "name": "python3",
      "path": "/Users/stk/y/envs/myenv/share/jupyter/kernels/python3"
    }
  },
  "nbformat": 4,
  "nbformat_minor": 4
}
