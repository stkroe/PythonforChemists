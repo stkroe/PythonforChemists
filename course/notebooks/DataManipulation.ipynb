{
 "cells": [
  {
   "cell_type": "code",
   "execution_count": null,
   "metadata": {
    "vscode": {
     "languageId": "plaintext"
    }
   },
   "outputs": [],
   "source": [
    "---\n",
    "title: \"Data Manipulation\"\n",
    "execute:\n",
    "    echo: true\n",
    "    eval: true\n",
    "---"
   ]
  },
  {
   "cell_type": "markdown",
   "metadata": {},
   "source": [
    "# Data Manipulations {.unnumbered}"
   ]
  },
  {
   "cell_type": "markdown",
   "metadata": {},
   "source": [
    "### Array manipulation {.unnumbered}"
   ]
  },
  {
   "cell_type": "markdown",
   "metadata": {},
   "source": [
    "Often data has to be manipulated before it can be analyzed. <br> \n",
    "Numpy has many methods for array manipulation. <br> \n",
    "For example, the shape of an array can be changed, multiple arrays can be concatenated, <br> \n",
    "the elements of an array can be sorted, non valid values NaN can be removed, <br> linear algebra operations can be performed, etc."
   ]
  },
  {
   "cell_type": "markdown",
   "metadata": {},
   "source": [
    "#### Sort arrays: {.unnumbered}"
   ]
  },
  {
   "cell_type": "code",
   "execution_count": null,
   "metadata": {},
   "outputs": [
    {
     "name": "stdout",
     "output_type": "stream",
     "text": [
      "unsortd_arr: \n",
      " [[3 1 5 2 4]\n",
      " [5 2 0 8 1]\n",
      " [3 2 9 4 5]]\n",
      "sorted_arr along columns: \n",
      " [[3 1 0 2 1]\n",
      " [3 2 5 4 4]\n",
      " [5 2 9 8 5]]\n",
      "sorted_arr along rows: \n",
      " [[1 2 3 4 5]\n",
      " [0 1 2 5 8]\n",
      " [2 3 4 5 9]]\n"
     ]
    }
   ],
   "source": [
    "\n",
    "unsorted_arr = np.array([[3, 1, 5, 2, 4], [5, 2, 0, 8, 1], [3, 2, 9, 4 , 5]])\n",
    "print(\"unsortd_arr: \\n\", unsorted_arr)\n",
    "sorted_arr = np.sort(unsorted_arr,axis = 0) # sorted along the column\n",
    "print(\"sorted_arr along columns: \\n\" , sorted_arr)\n",
    "sorted_arr = np.sort(unsorted_arr,axis = 1) # sorted along the row\n",
    "print(\"sorted_arr along rows: \\n\" , sorted_arr)"
   ]
  },
  {
   "cell_type": "markdown",
   "metadata": {},
   "source": [
    "#### Concatenate arrays: {.unnumbered}"
   ]
  },
  {
   "cell_type": "code",
   "execution_count": null,
   "metadata": {},
   "outputs": [
    {
     "name": "stdout",
     "output_type": "stream",
     "text": [
      "[1 2 3 4 5 6]\n"
     ]
    }
   ],
   "source": [
    "a = np.array([1, 2, 3]) \n",
    "b = np.array([4, 5, 6])\n",
    "c = np.concatenate((a, b))\n",
    "print(c)"
   ]
  },
  {
   "cell_type": "markdown",
   "metadata": {},
   "source": [
    "#### Reshape arrays: {.unnumbered}"
   ]
  },
  {
   "cell_type": "code",
   "execution_count": null,
   "metadata": {},
   "outputs": [
    {
     "name": "stdout",
     "output_type": "stream",
     "text": [
      "vertical stack: \n",
      " [[ 1  2]\n",
      " [ 3  4]\n",
      " [ 5  6]\n",
      " [ 7  8]\n",
      " [ 9 10]\n",
      " [11 12]]\n",
      "horizontal stack: \n",
      " [[ 1  2  7  8]\n",
      " [ 3  4  9 10]\n",
      " [ 5  6 11 12]]\n",
      "flatten array: \n",
      " [ 1  2  3  4  5  6  7  8  9 10 11 12]\n"
     ]
    }
   ],
   "source": [
    "a = np.array([[1, 2],[3, 4],[5, 6]])\n",
    "b = np.array([[7, 8],[9, 10],[11, 12]])\n",
    "c = np.vstack((a, b)) # vertical stack\n",
    "d = np.hstack((a, b)) # horizontal stack\n",
    "print(\"vertical stack: \\n\", c)\n",
    "print(\"horizontal stack: \\n\", d)\n",
    "print(\"flatten array: \\n\", c.flatten())"
   ]
  },
  {
   "cell_type": "code",
   "execution_count": null,
   "metadata": {},
   "outputs": [],
   "source": []
  },
  {
   "cell_type": "markdown",
   "metadata": {},
   "source": [
    "#### Linear algebra operations *e.g.*: {.unnumbered}"
   ]
  },
  {
   "cell_type": "markdown",
   "metadata": {},
   "source": [
    "\n",
    "- ``np.sum(a)`` returns **element-wise sum** of two arrays\n",
    "- ``np.add(a)`` returns **sum of all elements** an arrays\n",
    "- ``np.subtract(a,b)`` returns the **difference** of two arrays\n",
    "- ``np.multiply(a,b)`` returns the **product** of two arrays\n",
    "- ``np.divide(a,b)`` returns the **division** of two arrays\n",
    "- ``np.dot(a,b)`` returns the **dot product** of two arrays\n",
    "- ``np.cross(a,b)`` returns the **cross product** of two arrays\n",
    "- ``np.linalg.inv(a)`` returns the **inverse of a matrix**\n",
    "- ``np.linalg.det(a)`` returns the **determinant of a matrix**\n",
    "- ``np.linalg.eig(a)`` returns the **eigenvalues and eigenvectors** of a matrix\n",
    "- ``np.linalg.solve(a,b)`` returns the **solution of a linear system of equations**\n",
    "- ``np.mean(a)`` returns the **mean** of the elements of an array\n",
    "- ``np.average(a)`` returns the **weighted average** of the elements of an array\n",
    "- ``np.max(a)`` returns the **maximum** of the elements of an array\n",
    "- ``np.min(a)`` returns **the minimum** of the elements of an array\n",
    "- ``np.std(a)`` returns **the standard** deviation of the elements of an array\n",
    "- ``np.var(a)`` returns **the variance** of the elements of an array\n",
    "- ``np.covar(a)`` returns the **covariance** of the elements of an array\n",
    "- ``np.median(a)`` returns the **median** of the elements of an array\n",
    "- ``np.percentile(a,p) ``returns the **p-th percentile** of the elements of an array\n",
    "- ``np.histogram(a, [,bins,range,density,weights])`` returns the **histogram** <br>\n",
    "     of the elements of an array\n"
   ]
  },
  {
   "cell_type": "code",
   "execution_count": null,
   "metadata": {},
   "outputs": [
    {
     "name": "stdout",
     "output_type": "stream",
     "text": [
      "Summ of all elements:  21\n",
      "Element wise addition:  [[ 8 10]\n",
      " [12 14]\n",
      " [16 18]]\n"
     ]
    }
   ],
   "source": [
    "a = np.array([[1, 2],[3, 4],[5, 6]])\n",
    "b = np.array([[7, 8],[9, 10],[11, 12]])\n",
    "c = np.sum(a) # sum of all elements\n",
    "print(\"Summ of all elements: \", c)\n",
    "c = np.add(a,b) # element wise addition\n",
    "print(\"Element wise addition: \", c)\n",
    "\n"
   ]
  },
  {
   "cell_type": "markdown",
   "metadata": {},
   "source": [
    "- ``np.argmin(a)`` returns the **index of the minimum** element of an array\n",
    "- ``np.argmax(a)`` returns the **index of the maximum** element of an array\n",
    "- ``np.where(a)`` returns the **indices of the elements** of an array that are non-zero\n",
    "- ``np.argwhere(a)`` returns the **indices of the elements** of an array that are non-zero\n",
    "- ``np.nonzero(a)`` returns the **indices of the elements** of an array that are non-zero\n",
    "- ``np.searchsorted(a,v)`` returns the **index of the first element** of an array <br> \n",
    "    **that is greater than or equal to a value**\n",
    "- ``np.extract(condition,a)`` returns the **elements of an array that satisfy a condition**"
   ]
  },
  {
   "cell_type": "code",
   "execution_count": null,
   "metadata": {},
   "outputs": [
    {
     "name": "stdout",
     "output_type": "stream",
     "text": [
      "[1 2 3 4 5 4 7 8 9]\n",
      "Index of the maximum element:  8\n",
      "Index of the minimum element:  0\n",
      "Maximum element:  9\n",
      "Minimum element:  1\n",
      "Find the index of element \"4\":  (array([3, 5]),)\n",
      "Find the index of element \">4\":  [[4]\n",
      " [6]\n",
      " [7]\n",
      " [8]]  and the elements are:  [5 7 8 9]\n"
     ]
    }
   ],
   "source": [
    "arr = np.array([1, 2, 3, 4, 5, 4, 7, 8, 9])\n",
    "print(arr)\n",
    "print(\"Index of the maximum element: \", np.argmax(arr))\n",
    "print(\"Index of the minimum element: \", np.argmin(arr))\n",
    "print(\"Maximum element: \", np.max(arr))\n",
    "print(\"Minimum element: \", np.min(arr))\n",
    "print(\"Find the index of element \\\"4\\\": \", np.where(arr == 4))\n",
    "print(\"Find the index of element \\\">4\\\": \", np.argwhere(arr > 4),\n",
    "       \" and the elements are: \", arr[np.where(arr > 4)])\n"
   ]
  },
  {
   "cell_type": "code",
   "execution_count": null,
   "metadata": {},
   "outputs": [],
   "source": []
  },
  {
   "cell_type": "markdown",
   "metadata": {},
   "source": [
    "### Get information about the data {.unnumbered}"
   ]
  },
  {
   "cell_type": "markdown",
   "metadata": {},
   "source": [
    "#### Select subsets of the data: {.unnumbered}"
   ]
  },
  {
   "cell_type": "code",
   "execution_count": null,
   "metadata": {},
   "outputs": [
    {
     "name": "stdout",
     "output_type": "stream",
     "text": [
      "head of data: \n",
      "     name  age      job      city\n",
      "0   John   23  student  New York\n",
      "1   Anna   36  teacher     Paris\n",
      "2  Peter   45  student    Berlin\n",
      "3  Linda   32  student    London\n",
      "4  Maria   60  teacher     Paris\n",
      "\n",
      "\n",
      "Number of data set: \n",
      " 5\n",
      "\n",
      "\n",
      "Column name: \n",
      " 0     John\n",
      "1     Anna\n",
      "2    Peter\n",
      "3    Linda\n",
      "4    Maria\n",
      "Name: name, dtype: object\n",
      "\n",
      "\n",
      "2. Row: \n",
      " name       Anna\n",
      "age          36\n",
      "job     teacher\n",
      "city      Paris\n",
      "Name: 1, dtype: object\n"
     ]
    }
   ],
   "source": [
    "print(\"head of data: \\n\",data.head()) # print the first 5 rows\n",
    "print(\"\\n\")\n",
    "print(\"Number of data set: \\n\", data.shape[0]) # number of data set\n",
    "print(\"\\n\")\n",
    "print(\"Column name: \\n\", data[\"name\"]) # print the column \"name\"\n",
    "print(\"\\n\")\n",
    "print(\"2. Row: \\n\", data.iloc[1]) # print the second row\n",
    "\n",
    "\n"
   ]
  },
  {
   "cell_type": "code",
   "execution_count": null,
   "metadata": {},
   "outputs": [],
   "source": []
  },
  {
   "cell_type": "code",
   "execution_count": null,
   "metadata": {},
   "outputs": [
    {
     "name": "stdout",
     "output_type": "stream",
     "text": [
      "Filter the rows where age is greater than 30: \n",
      "     name  age      job    city\n",
      "1   Anna   36  teacher   Paris\n",
      "2  Peter   45  student  Berlin\n",
      "3  Linda   32  student  London\n",
      "4  Maria   60  teacher   Paris\n",
      "\n",
      "\n",
      "Get the city of that people where are older than 40: \n",
      " 2    Berlin\n",
      "4     Paris\n",
      "Name: city, dtype: object\n",
      "\n",
      "\n"
     ]
    }
   ],
   "source": [
    "# filter the rows where age is greater than 30\n",
    "print(\"Filter the rows where age is greater than 30: \\n\", data[data[\"age\"] > 30]) \n",
    "print(\"\\n\")\n",
    "# get the city of that people where are older than 40\n",
    "print(\"Get the city of that people where are older than 40: \\n\", \n",
    "      data.loc[data[\"age\"]>40,\"city\"])\n",
    "print(\"\\n\")"
   ]
  },
  {
   "cell_type": "markdown",
   "metadata": {},
   "source": [
    "### Manipulate data {.unnumbered}"
   ]
  },
  {
   "cell_type": "markdown",
   "metadata": {},
   "source": [
    "You can copy data, drop columns, drop rows, fill not valid values, replace values, merge data, join data, etc."
   ]
  },
  {
   "cell_type": "code",
   "execution_count": null,
   "metadata": {},
   "outputs": [
    {
     "name": "stdout",
     "output_type": "stream",
     "text": [
      "data2: \n",
      "     name  age      job      city\n",
      "0   John   33  student  New York\n",
      "1   Anna   46  teacher     Paris\n",
      "2  Peter   55  student    Berlin\n",
      "3  Linda   42  student    London\n",
      "4  Maria   70  teacher     Paris\n",
      "concated data: \n",
      "     name  age      job      city\n",
      "0   John   23  student  New York\n",
      "1   Anna   36  teacher     Paris\n",
      "2  Peter   45  student    Berlin\n",
      "3  Linda   32  student    London\n",
      "4  Maria   60  teacher     Paris\n",
      "5   John   33  student  New York\n",
      "6   Anna   46  teacher     Paris\n",
      "7  Peter   55  student    Berlin\n",
      "8  Linda   42  student    London\n",
      "9  Maria   70  teacher     Paris\n"
     ]
    }
   ],
   "source": [
    "data2 = data.copy()\n",
    "data2[\"age\"] = data2[\"age\"] + 10 # increase the age by 10\n",
    "print(\"data2: \\n\" , data2)\n",
    "\n",
    "data2.index = range(5,10) # change the index\n",
    "data3 = pd.concat([data, data2]) # concatenate the dataframes\n",
    "print(\"concated data: \\n\", data3)"
   ]
  },
  {
   "cell_type": "code",
   "execution_count": null,
   "metadata": {},
   "outputs": [
    {
     "name": "stdout",
     "output_type": "stream",
     "text": [
      "hobby: \n",
      " 0     football\n",
      "1        chess\n",
      "2     swimming\n",
      "3      reading\n",
      "4      dancing\n",
      "5       skiing\n",
      "6      reading\n",
      "7     football\n",
      "8      cooking\n",
      "9     swimming\n",
      "10       chess\n",
      "Name: hobby, dtype: object\n",
      "concated data: \n",
      "      name   age      job      city     hobby\n",
      "0    John  23.0  student  New York  football\n",
      "1    Anna  36.0  teacher     Paris     chess\n",
      "2   Peter  45.0  student    Berlin  swimming\n",
      "3   Linda  32.0  student    London   reading\n",
      "4   Maria  60.0  teacher     Paris   dancing\n",
      "5    John  33.0  student  New York    skiing\n",
      "6    Anna  46.0  teacher     Paris   reading\n",
      "7   Peter  55.0  student    Berlin  football\n",
      "8   Linda  42.0  student    London   cooking\n",
      "9   Maria  70.0  teacher     Paris  swimming\n",
      "10    NaN   NaN      NaN       NaN     chess\n"
     ]
    }
   ],
   "source": [
    " # create a Panda Series\n",
    "hobby = pd.Series([\"football\", \"chess\", \"swimming\", \"reading\",\n",
    "                    \"dancing\", \"skiing\", \"reading\", \"football\", \n",
    "                    \"cooking\", \"swimming\", \"chess\"], name=\"hobby\")\n",
    "print(\"hobby: \\n\",hobby)\n",
    "# concatenate the dataframes\n",
    "data4 = pd.concat([data3, hobby], axis=1) \n",
    "print(\"concated data: \\n\", data4)"
   ]
  },
  {
   "cell_type": "code",
   "execution_count": null,
   "metadata": {},
   "outputs": [
    {
     "name": "stdout",
     "output_type": "stream",
     "text": [
      "data5: \n",
      "      name   age      job      city     hobby\n",
      "0    John  23.0  student  New York  football\n",
      "1    Anna  36.0  teacher     Paris     chess\n",
      "2   Peter  45.0  student    Berlin  swimming\n",
      "3   Linda  32.0  student    London   reading\n",
      "4   Maria  60.0  teacher     Paris   dancing\n",
      "5    John  33.0  student  New York    skiing\n",
      "6    Anna  46.0  teacher     Paris   reading\n",
      "7   Peter  55.0  student    Berlin  football\n",
      "8   Linda  42.0  student    London   cooking\n",
      "9   Maria  70.0  teacher     Paris  swimming\n",
      "10    NaN   NaN      NaN       NaN     chess\n",
      "data6: \n",
      "     name   age      job      city     hobby\n",
      "0   John  23.0  student  New York  football\n",
      "1   Anna  36.0  teacher     Paris     chess\n",
      "2  Peter  45.0  student    Berlin  swimming\n",
      "3  Linda  32.0  student    London   reading\n",
      "4  Maria  60.0  teacher     Paris   dancing\n",
      "5   John  33.0  student  New York    skiing\n",
      "6   Anna  46.0  teacher     Paris   reading\n",
      "7  Peter  55.0  student    Berlin  football\n",
      "8  Linda  42.0  student    London   cooking\n",
      "9  Maria  70.0  teacher     Paris  swimming\n"
     ]
    }
   ],
   "source": [
    "data5 = data4.drop_duplicates() # drop the duplicates\n",
    "print(\"data5: \\n\", data5)\n",
    "data6 = data5.dropna() # drop the NaNs\n",
    "print(\"data6: \\n\", data6)"
   ]
  },
  {
   "cell_type": "code",
   "execution_count": null,
   "metadata": {},
   "outputs": [],
   "source": []
  },
  {
   "cell_type": "markdown",
   "metadata": {},
   "source": []
  },
  {
   "cell_type": "markdown",
   "metadata": {},
   "source": [
    "### Transform Pandas DataFrame to Numpy Array and viceversa {.unnumbered}"
   ]
  },
  {
   "cell_type": "code",
   "execution_count": null,
   "metadata": {},
   "outputs": [
    {
     "name": "stdout",
     "output_type": "stream",
     "text": [
      "    name   age      job      city     hobby\n",
      "0   John  23.0  student  New York  football\n",
      "1   Anna  36.0  teacher     Paris     chess\n",
      "2  Peter  45.0  student    Berlin  swimming\n",
      "3  Linda  32.0  student    London   reading\n",
      "4  Maria  60.0  teacher     Paris   dancing\n",
      "5   John  33.0  student  New York    skiing\n",
      "6   Anna  46.0  teacher     Paris   reading\n",
      "7  Peter  55.0  student    Berlin  football\n",
      "8  Linda  42.0  student    London   cooking\n",
      "9  Maria  70.0  teacher     Paris  swimming\n",
      "arr: \n",
      " [['John' 23.0 'student' 'New York' 'football']\n",
      " ['Anna' 36.0 'teacher' 'Paris' 'chess']\n",
      " ['Peter' 45.0 'student' 'Berlin' 'swimming']\n",
      " ['Linda' 32.0 'student' 'London' 'reading']\n",
      " ['Maria' 60.0 'teacher' 'Paris' 'dancing']\n",
      " ['John' 33.0 'student' 'New York' 'skiing']\n",
      " ['Anna' 46.0 'teacher' 'Paris' 'reading']\n",
      " ['Peter' 55.0 'student' 'Berlin' 'football']\n",
      " ['Linda' 42.0 'student' 'London' 'cooking']\n",
      " ['Maria' 70.0 'teacher' 'Paris' 'swimming']]\n",
      "df2: \n",
      "     name   age      job      city     hobby\n",
      "0   John  23.0  student  New York  football\n",
      "1   Anna  36.0  teacher     Paris     chess\n",
      "2  Peter  45.0  student    Berlin  swimming\n",
      "3  Linda  32.0  student    London   reading\n",
      "4  Maria  60.0  teacher     Paris   dancing\n",
      "5   John  33.0  student  New York    skiing\n",
      "6   Anna  46.0  teacher     Paris   reading\n",
      "7  Peter  55.0  student    Berlin  football\n",
      "8  Linda  42.0  student    London   cooking\n",
      "9  Maria  70.0  teacher     Paris  swimming\n"
     ]
    }
   ],
   "source": [
    "df = data6\n",
    "print(df)\n",
    "# convert the dataframe to a numpy array\n",
    "arr = df.to_numpy() \n",
    "print(\"arr: \\n\", arr)\n",
    "# convert the numpy array to a dataframe\n",
    "df2 = pd.DataFrame(arr, columns=[\"name\", \"age\", \"job\", \"city\", \"hobby\"]) \n",
    "print(\"df2: \\n\", df2)"
   ]
  }
 ],
 "metadata": {
  "language_info": {
   "name": "python"
  }
 },
 "nbformat": 4,
 "nbformat_minor": 2
}
