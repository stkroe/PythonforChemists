{
 "cells": [
  {
   "cell_type": "markdown",
   "metadata": {},
   "source": [
    "# Final Exam"
   ]
  },
  {
   "cell_type": "markdown",
   "metadata": {},
   "source": [
    "# 1. Temperature vs time plot\n",
    "\n",
    "First data set: `ExamA_XX.dat`\n",
    "\n",
    "Temperature in K | Time in seconds\n",
    "\n",
    "- Draw a line plot of the temperature(y-axis) in K vs time(x-axis) in hours.\n",
    "- Calculate the average temperature and the standard deviation. Plot both values as horizontal lines in the plot.\n",
    "- Create a figure which is large enough for publication, label everything, and use a suitable font size for the labels, legend, x-ticks and y-ticks.\n",
    "\n"
   ]
  },
  {
   "cell_type": "markdown",
   "metadata": {},
   "source": [
    "# 2. Correlation plot\n",
    "\n",
    "Second data set: `ExamB_XX.csv`\n",
    "\n",
    "Experiment in eV | Theory in eV\n",
    "\n",
    "- Draw a scatter plot of the experimental(y-axis) in eV vs theoretical(x-axis) in eV.\n",
    "- Calculate the correlation coefficient and the linear regression parameter.\n",
    "- Draw the linear regression line in the plot.\n",
    "- Give the parameters and R $^2$ of the linear regression line in the plot.\n",
    "- Create a figure which is large enough for publication, label everything, and use a suitable font size for the labels, legend, x-ticks and y-ticks.\n",
    "\n"
   ]
  },
  {
   "cell_type": "markdown",
   "metadata": {},
   "source": [
    "# 3. X-ray diffraction plot\n",
    "\n",
    "Third data set: `ExamC_XX.csv`\n",
    "\n",
    "2 $\\theta$ in degrees | Intensity in arbitrary units\n",
    "\n",
    "- Draw a line plot of the intensity(y-axis) in arbitrary units vs 2 theta(x-axis) in degrees.\n",
    "- Get the peak positions and draw text boxes with the peak positions in the plot.\n",
    "- Create a figure which is large enough for publication, label everything, and use a suitable font size for the labels, legend, x-ticks and y-ticks."
   ]
  },
  {
   "cell_type": "code",
   "execution_count": null,
   "metadata": {},
   "outputs": [],
   "source": []
  }
 ],
 "metadata": {
  "kernelspec": {
   "display_name": "myenv",
   "language": "python",
   "name": "python3"
  },
  "language_info": {
   "codemirror_mode": {
    "name": "ipython",
    "version": 3
   },
   "file_extension": ".py",
   "mimetype": "text/x-python",
   "name": "python",
   "nbconvert_exporter": "python",
   "pygments_lexer": "ipython3",
   "version": "3.12.7"
  }
 },
 "nbformat": 4,
 "nbformat_minor": 2
}
