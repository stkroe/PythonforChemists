{
 "cells": [
  {
   "cell_type": "raw",
   "id": "19d6a8d4",
   "metadata": {
    "vscode": {
     "languageId": "raw"
    }
   },
   "source": [
    "---\n",
    "title: \"Exercise Recap Python\"\n",
    "format: \n",
    "    html:\n",
    "      css: \n",
    "            - ../../quizzes/quiz_dark.css\n",
    "      include-in-header:\n",
    "        text: |\n",
    "            <script src=\"../../quizzes/recap_python.js\"></script>\n",
    "execute:\n",
    "    echo: true\n",
    "    eval: true\n",
    "    error: true\n",
    "code-links:\n",
    "    - text: \"Open in Colab Code\"\n",
    "      href: \"https://colab.research.google.com/github/stkroe/PythonForChemists/blob/main/course/exercises/recap_python.ipynb\"\n",
    "      icon: \"laptop\"\n",
    "    - text: \"Open in Colab Solution\"\n",
    "      href: \"https://colab.research.google.com/github/stkroe/PythonForChemists/blob/main/course/exercises/recap_python.ipynb\"\n",
    "      icon: \"laptop\"\n",
    "--- "
   ]
  },
  {
   "cell_type": "markdown",
   "id": "1ab9f1c8",
   "metadata": {},
   "source": [
    "# Recap Python"
   ]
  },
  {
   "cell_type": "markdown",
   "id": "9ca77e88",
   "metadata": {},
   "source": [
    ":::{.callout-note collapse=true}\n",
    "### Quiz\n",
    "<div id=\"quiz-container\"></div>\n",
    ":::\n"
   ]
  },
  {
   "cell_type": "markdown",
   "id": "353efb4c",
   "metadata": {},
   "source": [
    "## Some small exercises\n",
    "\n",
    "You can open the exercises in Colab or download the notebook to run it locally.\n",
    "### Exercise 1\n",
    "Create a list of 10 numbers and print the sum of the numbers in the list. \n"
   ]
  },
  {
   "cell_type": "code",
   "execution_count": 29,
   "id": "c64142a6",
   "metadata": {},
   "outputs": [],
   "source": [
    "# your code here"
   ]
  },
  {
   "cell_type": "markdown",
   "id": "880719e5",
   "metadata": {},
   "source": [
    "<details>\n",
    "  <summary>Solution</summary>\n",
    "\n",
    "```python\n",
    "numbers = [1, 2, 3, 4, 5, 6, 7, 8, 9, 10]\n",
    "total = sum(numbers)\n",
    "print(\"The sum of the numbers is:\", total)\n",
    "```\n",
    "</details>"
   ]
  },
  {
   "cell_type": "markdown",
   "id": "afb7b190",
   "metadata": {},
   "source": [
    "### Exercise 2\n",
    "Loop through the list of numbers and print each number multiplied by 2.\n"
   ]
  },
  {
   "cell_type": "code",
   "execution_count": 30,
   "id": "a84c678d",
   "metadata": {},
   "outputs": [],
   "source": [
    "# your code here"
   ]
  },
  {
   "cell_type": "markdown",
   "id": "4c0c1b73",
   "metadata": {},
   "source": [
    "<details>\n",
    "  <summary>Solution</summary>\n",
    "\n",
    "```python\n",
    "numbers = [1, 2, 3, 4, 5, 6, 7, 8, 9, 10]\n",
    "for number in numbers:\n",
    "    print(number * 2)\n",
    "```\n",
    "</details>"
   ]
  },
  {
   "cell_type": "markdown",
   "id": "cf0482ea",
   "metadata": {},
   "source": [
    "### Exercise 3\n",
    "Create x an y np.array with 100 random numbers each. \n",
    "Then create a scatter plot of x and y.\n",
    "\n"
   ]
  },
  {
   "cell_type": "code",
   "execution_count": 31,
   "id": "ae42fe7b",
   "metadata": {},
   "outputs": [],
   "source": [
    "# your code here"
   ]
  },
  {
   "cell_type": "markdown",
   "id": "2040290e",
   "metadata": {},
   "source": [
    "<details>\n",
    "  <summary>Solution</summary>\n",
    "\n",
    "```python\n",
    "import numpy as np\n",
    "import matplotlib.pyplot as plt\n",
    "x = np.random.rand(100)\n",
    "y = np.random.rand(100)\n",
    "plt.scatter(x, y)\n",
    "plt.xlabel('X-axis')\n",
    "plt.ylabel('Y-axis')\n",
    "plt.title('Scatter Plot of Random Numbers')\n",
    "plt.show()\n",
    "```\n",
    "</details>"
   ]
  },
  {
   "cell_type": "markdown",
   "id": "df513def",
   "metadata": {},
   "source": [
    "### Exercise 4\n",
    "Fix this code snippet so that the variable x can be used outside the function and fix the function so that it works correctly. \n",
    "```python\n",
    "\n",
    "\n",
    "```"
   ]
  },
  {
   "cell_type": "code",
   "execution_count": null,
   "id": "31da6ba1",
   "metadata": {},
   "outputs": [],
   "source": [
    "# Fix it\n",
    "def my_function():\n",
    "    x = a + b + c\n",
    "    \n",
    "my_function(a,b,c)\n",
    "print(f\"The solution is {x}\")"
   ]
  },
  {
   "cell_type": "markdown",
   "id": "bf11c94d",
   "metadata": {},
   "source": [
    "<details>\n",
    "  <summary>Solution</summary>\n",
    "\n",
    "```python\n",
    "\n",
    "def my_function(a,b,c):\n",
    "    x = a + b + c\n",
    "    return x\n",
    "my_function(a=1, b=2, c=3)\n",
    "print(f\"The solution is {x}\")\n",
    "```"
   ]
  },
  {
   "cell_type": "markdown",
   "id": "2886f4da",
   "metadata": {},
   "source": [
    "### Exercise 5\n",
    "Calculate the mean and standard deviation from the x and y arrays.\n",
    "\n"
   ]
  },
  {
   "cell_type": "code",
   "execution_count": 32,
   "id": "03fe3920",
   "metadata": {},
   "outputs": [],
   "source": [
    "# your code here"
   ]
  },
  {
   "cell_type": "markdown",
   "id": "4f381d47",
   "metadata": {},
   "source": [
    "<details>\n",
    "  <summary>Solution</summary>\n",
    "\n",
    "```python\n",
    "import numpy as np\n",
    "x = np.random.rand(100)\n",
    "y = np.random.rand(100)\n",
    "mean_x = np.mean(x)\n",
    "mean_y = np.mean(y)\n",
    "std_x = np.std(x)\n",
    "std_y = np.std(y)\n",
    "print(\"Mean of x:\", mean_x)\n",
    "print(\"Mean of y:\", mean_y)\n",
    "print(\"Standard deviation of x:\", std_x)\n",
    "print(\"Standard deviation of y:\", std_y)\n",
    "```\n",
    "</details>"
   ]
  },
  {
   "cell_type": "markdown",
   "id": "111685f1",
   "metadata": {},
   "source": [
    "### Exercise 6\n",
    "Generate two random arrays x1 and x2 with 100 random numbers each which has a Gauss distribution, choose the mean and standard deviation of the distribution. Then calculate the mean and standard deviation of both arrays.\n",
    "Draw a histogram of the x1 and x1 arrays. And make a vertical line for the mean and a dashed vertical line for the standard deviation. Increase the font sizes, create a label for the hist plots and add a legend in the lower left corner.\n",
    "<details>\n",
    "  <summary>Solution</summary>\n",
    "\n",
    "```python\n",
    "import numpy as np\n",
    "import matplotlib.pyplot as plt\n",
    "x1 = np.random.normal(loc=-5, scale=2, size=100)\n",
    "x2 = np.random.normal(loc=5, scale=1, size=100)\n",
    "mean_x1 = np.mean(x1)\n",
    "mean_x2 = np.mean(x2)\n",
    "std_x1 = np.std(x1)\n",
    "std_x2 = np.std(x2)\n",
    "print(\"Mean of x1:\", mean_x1)\n",
    "print(\"Mean of x2:\", mean_x2)\n",
    "print(\"Standard deviation of x1:\", std_x1)\n",
    "print(\"Standard deviation of x2:\", std_x2)\n",
    "plt.hist(x1, bins=10, alpha=0.5, label=f'Data 1: {mean_x1:.2f} ± {std_x1:.2f}')\n",
    "plt.hist(x2, bins=10, alpha=0.5, label=f'Data 2: {mean_x2:.2f} ± {std_x2:.2f}')\n",
    "plt.axvline(mean_x1, color='darkblue', linestyle='-')\n",
    "plt.axvline(mean_x2, color='orange', linestyle='-')\n",
    "plt.axvline(mean_x1 + std_x1, color='lightblue', linestyle='--')\n",
    "plt.axvline(mean_x1 - std_x1, color='lightblue', linestyle='--')\n",
    "plt.axvline(mean_x2 + std_x2, color='darkorange', linestyle='--')\n",
    "plt.axvline(mean_x2 - std_x2, color='darkorange', linestyle='--')\n",
    "plt.xlabel('Value', fontsize=14)\n",
    "plt.ylabel('Frequency', fontsize=14)\n",
    "plt.xlim(-10,7.5)\n",
    "plt.ylim(0, 30)\n",
    "plt.xticks(fontsize=12)\n",
    "plt.yticks(fontsize=12)\n",
    "plt.title('Histogram of x1 and x2')\n",
    "plt.legend(loc='lower left')\n",
    "plt.show()\n",
    "```\n",
    "</details>"
   ]
  },
  {
   "cell_type": "markdown",
   "id": "eba1a15e",
   "metadata": {},
   "source": [
    "### Exercise 7\n",
    "Make a linear regression of from the x and y arrays. Plot the data points as squares and the regression line as a red line. Add a grid, a title, and labels for the x and y axes.\n",
    "Add a text box with the slope and intercept of the regression line.\n"
   ]
  },
  {
   "cell_type": "code",
   "execution_count": null,
   "id": "fdd809f1",
   "metadata": {},
   "outputs": [],
   "source": [
    "import numpy as np\n",
    "import matplotlib.pyplot as plt\n",
    "import scipy.stats as stats\n",
    "\n",
    "# Generate x array with 100 evenly spaced values\n",
    "x = np.linspace(0, 10, 100)\n",
    "\n",
    "# Create y array with a linear relationship to x (y = mx + c) and some noise\n",
    "m = 2  # Slope\n",
    "c = 5  # Intercept\n",
    "noise = np.random.normal(0, 1, size=x.shape)  # Add some random noise\n",
    "\n",
    "y = m * x + c + noise\n",
    "\n",
    "# Solve the exercise..."
   ]
  },
  {
   "cell_type": "markdown",
   "id": "0501c0b2",
   "metadata": {},
   "source": [
    "<details>\n",
    "  <summary>Solution</summary>\n",
    "\n",
    "```python\n",
    "import numpy as np\n",
    "import matplotlib.pyplot as plt\n",
    "import scipy.stats as stats\n",
    "\n",
    "# Generate x array with 100 evenly spaced values\n",
    "x = np.linspace(0, 10, 100)\n",
    "\n",
    "# Create y array with a linear relationship to x (y = mx + c) and some noise\n",
    "m = 2  # Slope\n",
    "c = 5  # Intercept\n",
    "noise = np.random.normal(0, 1, size=x.shape)  # Add some random noise\n",
    "\n",
    "y = m * x + c + noise\n",
    "\n",
    "# Perform linear regression using scipy.stats.linregress\n",
    "results = stats.linregress(x, y)\n",
    "slope = results.slope\n",
    "intercept = results.intercept\n",
    "slope_err = results.stderr\n",
    "intercept_err = results.intercept_stderr\n",
    "R_squared = results.rvalue**2\n",
    "# Print the results\n",
    "print(f\"Slope: {slope:.2f}\")\n",
    "print(f\"Intercept: {intercept:.2f}\")\n",
    "print(f\"Standard Error: {std_err:.2f}\")\n",
    "print(f\"R-squared: {R_squared:.2f}\")\n",
    "# Plot the data and the regression line\n",
    "\n",
    "plt.figure(figsize=(5, 3))  # Set figure size\n",
    "plt.scatter(x, y, color='blue', alpha=0.7,marker=\"s\", edgecolor='k', label='Data points')  # Customize scatter points\n",
    "plt.plot(x, slope * x + intercept, color='red', linewidth=2, label='Regression line')  # Customize regression line\n",
    "\n",
    "# Add labels and title with increased font size\n",
    "plt.xlabel('x', fontsize=14)\n",
    "plt.ylabel('y', fontsize=14)\n",
    "plt.title('Linear Regression of x and y', fontsize=16)\n",
    "\n",
    "# Add grid lines\n",
    "plt.grid(color='gray', linestyle='--', linewidth=0.5, alpha=0.7)\n",
    "\n",
    "# Customize ticks\n",
    "plt.xticks(fontsize=12)\n",
    "plt.yticks(fontsize=12)\n",
    "\n",
    "# Add text annotation with no box\n",
    "\n",
    "plt.text(7, 5, f\"a={slope:.2f}$\\pm$ {slope_err:.2f} \\nb={intercept:.2f}$\\pm$ {intercept_err:.2f} \\nR$^2$={R_squared:.5f}\", fontsize=12)\n",
    "plt.legend(fontsize=12, loc='upper left')\n",
    "\n",
    "# Show the plot\n",
    "plt.tight_layout()\n",
    "plt.show()\n",
    "```\n",
    "</details>"
   ]
  }
 ],
 "metadata": {
  "kernelspec": {
   "display_name": "myenv",
   "language": "python",
   "name": "python3"
  },
  "language_info": {
   "codemirror_mode": {
    "name": "ipython",
    "version": 3
   },
   "file_extension": ".py",
   "mimetype": "text/x-python",
   "name": "python",
   "nbconvert_exporter": "python",
   "pygments_lexer": "ipython3",
   "version": "3.12.7"
  }
 },
 "nbformat": 4,
 "nbformat_minor": 5
}
