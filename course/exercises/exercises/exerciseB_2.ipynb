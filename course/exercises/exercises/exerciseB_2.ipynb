{
 "cells": [
  {
   "cell_type": "raw",
   "metadata": {
    "vscode": {
     "languageId": "raw"
    }
   },
   "source": [
    "---\n",
    "title: \"Exercise B 2\"\n",
    "execute: \n",
    "  echo: True\n",
    "  eval: True\n",
    "other-links:\n",
    "    - text: \"experimental Anthraquinone data\"\n",
    "      href: \"(https://raw.githubusercontent.com/stkroe/PythonForChemists/main/course/data/exercises/Anthraquinone/experimental.dat\"\n",
    "      icon: \"filetype-txt\"\n",
    "    - text: \"theoretical Anthraquinone data\"\n",
    "      href: \"(https://raw.githubusercontent.com/stkroe/PythonForChemists/main/course/data/exercises/Anthraquinone/theory.dat\"\n",
    "      icon: \"filetype-txt\"\n",
    "    - text: \"Download Code\"\n",
    "      href: \"https://raw.githubusercontent.com/stkroe/PythonForChemists/main/course/exercises/exercises/exercisesB_2.ipynb\"\n",
    "      icon: \"journal\"\n",
    "    - text: \"Download Solution\"\n",
    "      href: \"https://raw.githubusercontent.com/stkroe/PythonForChemists/main/course/exercises/solutions/Exercises_B.2_Correlation.ipynb\"\n",
    "      icon: \"journal-check\"\n",
    "code-links:\n",
    "    - text: \"Open in Colab Code\"\n",
    "      href: \"https://colab.research.google.com/github/stkroe/PythonForChemists/blob/main/course/exercises/exercises/exercisesB_2.ipynb\"\n",
    "      icon: \"laptop\"\n",
    "    - text: \"Open in Colab Solution\"\n",
    "      href: \"https://colab.research.google.com/github/stkroe/PythonForChemists/blob/main/course/exercises/solutions/Exercises_B.2_Correlation.ipynb\"\n",
    "      icon: \"laptop\"\n",
    "--- "
   ]
  },
  {
   "cell_type": "markdown",
   "metadata": {},
   "source": [
    "# Exercise:\n",
    "## Linear Regression and Correlation: Experimental vs. Theoretical Data\n",
    "\n",
    "In this exercise, we will repeat linear regressions and use it for demonstration of the correlation between experimental and theoretical data.\n",
    "\n",
    "- We will learn how to use create symmetrical plots.\n",
    "- We will learn to use z-scores outlier test.\n",
    "\n"
   ]
  },
  {
   "cell_type": "markdown",
   "metadata": {},
   "source": [
    "In this exercise we compare experimentally measured electrochemical potentials of anthraquinone (AQ) derivatives with those calculated using theoretical methods.\n",
    "We want to find out how well the calculation can reproduce the experimental data.\n",
    "And check if there are any outliers in the data."
   ]
  },
  {
   "cell_type": "markdown",
   "metadata": {},
   "source": [
    "[Anthraquinone](https://en.wikipedia.org/wiki/Anthraquinone) is an aromatic organic molecule, with manifold applications.\n",
    "In nature, AQ and its derivatives are found in plants and microorganisms due to its key role in reversible redox reactions.\n",
    "For this reason AQ derivates are also key components in industrial processes and material development ([such as battery research at the University of Innsbruck](https://www.uibk.ac.at/de/physchem/forschung/batterietechnologien/)).\n"
   ]
  },
  {
   "cell_type": "markdown",
   "metadata": {},
   "source": [
    "### Data\n",
    "\n",
    "The data for this exercise is taken from a recent collaboration between the Theoretical Chemistry Department and the Institute for Physical chemistry.\n",
    "([Phys.Chem.Chem.Phys. 2022, **24**, *16207 -- 16219*](https://pubs.rsc.org/en/content/articlehtml/2022/cp/d2cp01717b)\\ ).\n",
    "\n",
    "The experimental data is stored in the file `experimental.dat` and the theoretical data is stored in the file `theory.dat`.\n",
    "\n",
    "The data contains the following columns:\n",
    "- `1-OH `  : the name of the AQ derivative\n",
    "- `-530.0` : the first redox potential in V\n",
    "- `-1178.5`: the second redox potential in V\n"
   ]
  },
  {
   "cell_type": "markdown",
   "metadata": {},
   "source": [
    "### Data Path:\n",
    "https://raw.githubusercontent.com/stkroe/PythonForChemists/main/course/data/exercises/Anthraquinone/"
   ]
  },
  {
   "cell_type": "markdown",
   "metadata": {},
   "source": [
    "### Task\n",
    "\n",
    "- Load the data from the files `experimental.dat` and `theory.dat`.\n",
    "- Have fist a look at the data.\n",
    "- Create a correlation plot of the experimental and theoretical data.\n",
    "- Perform a linear regression of the data.\n",
    "- Calculate the correlation coefficient.\n",
    "- Check for outliers in the data using the z-scores method."
   ]
  },
  {
   "cell_type": "markdown",
   "metadata": {},
   "source": [
    "### Questions\n",
    "\n",
    "- How well do the theoretical data reproduce the experimental data?\n",
    "- Are there any outliers in the data?"
   ]
  },
  {
   "cell_type": "code",
   "execution_count": null,
   "metadata": {},
   "outputs": [],
   "source": []
  }
 ],
 "metadata": {
  "language_info": {
   "name": "python"
  }
 },
 "nbformat": 4,
 "nbformat_minor": 2
}
