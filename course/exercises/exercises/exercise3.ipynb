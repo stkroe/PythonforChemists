{
 "cells": [
  {
   "cell_type": "markdown",
   "metadata": {},
   "source": [
    "# Exercise:\n",
    "## Temperature in Synthesis Reactor Part 2\n",
    "\n",
    "In this exercise, we will repeat not-linear fits."
   ]
  },
  {
   "cell_type": "markdown",
   "metadata": {},
   "source": [
    "In quantitative spectroscopy we measure the (dimensionless) absorbance $A$ of a beam of light at a selected frequency/wavelength to determine the concentration $c$ of a sample. To do this, we first calibrate the device using solutions with known concentration.\n",
    "\n",
    "In our exercise we compare the calibrations of two groups of students available in the files *ir_spectroscopy1.dat* and *ir_spectroscopy2.dat*.\n",
    "\n",
    "From that we have to predict the concentration of our unknown sample measured at the absorption of $A_\\mathrm{sample} = 0.753$.\n",
    "\n",
    "Let's start by importing the respective files."
   ]
  },
  {
   "cell_type": "code",
   "execution_count": null,
   "metadata": {},
   "outputs": [],
   "source": []
  }
 ],
 "metadata": {
  "language_info": {
   "name": "python"
  }
 },
 "nbformat": 4,
 "nbformat_minor": 2
}
