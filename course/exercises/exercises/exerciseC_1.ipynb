{
 "cells": [
  {
   "cell_type": "raw",
   "metadata": {
    "vscode": {
     "languageId": "raw"
    }
   },
   "source": [
    "---\n",
    "title: \"Exercise C 1\"\n",
    "execute: \n",
    "  echo: True\n",
    "  eval: True\n",
    "other-links:\n",
    "    - text: \"experimental XRD data\"\n",
    "      href: \"(https://raw.githubusercontent.com/stkroe/PythonForChemists/main/course/data/exercises/X-ray_Diffraction/XRD_experimental.dat\"\n",
    "      icon: \"filetype-txt\"\n",
    "    - text: \"theoretical XRD data\"\n",
    "      href: \"(https://raw.githubusercontent.com/stkroe/PythonForChemists/main/course/data/exercises/X-ray_Diffraction/XRD_theory.dat\"\n",
    "      icon: \"filetype-txt\"\n",
    "    - text: \"Download Code\"\n",
    "      href: \"https://github.com/stkroe/PythonforChemists/blob/main/course/exercises/exercises/exercisesC_1.ipynb\"\n",
    "      icon: \"journal\"\n",
    "    - text: \"Download Solution\"\n",
    "      href: \"https://github.com/stkroe/PythonforChemists/blob/main/course/exercises/solutions/Exercise_C.1_Peak_detection.ipynb\"\n",
    "      icon: \"journal-check\"\n",
    "code-links:\n",
    "    - text: \"Open in Colab Code\"\n",
    "      href: \"https://colab.research.google.com/github/stkroe/PythonForChemists/blob/main/course/exercises/exercises/exercisesC_1.ipynb\"\n",
    "      icon: \"laptop\"\n",
    "    - text: \"Open in Colab Solution\"\n",
    "      href: \"https://colab.research.google.com/github/stkroe/PythonForChemists/blob/main/course/exercises/solutions/Exercise_C.1_Peak_detection.ipynb\"\n",
    "      icon: \"laptop\"\n",
    "--- "
   ]
  },
  {
   "cell_type": "markdown",
   "metadata": {},
   "source": [
    "# Exercise:\n",
    "\n",
    "## Spectroscopic data analysis\n",
    "\n",
    "In this exercise, we will repeat how spectroscopic data can be analyzed \n",
    "effectively via Python `SciPy`library.\n",
    "\n",
    "- We will learn denoising and smoothing of data (SM).\n",
    "- We will learn how to correct the baseline of data (BC).\n",
    "- We will learn how to detect peaks in data (PD).\n",
    "\n",
    "\n",
    "\n"
   ]
  },
  {
   "cell_type": "markdown",
   "metadata": {},
   "source": [
    "These kind of analysis methods can be relevant when depicting X-ray diffraction patterns, spectrograms obtained from various techniques (e.g. IR/Raman, UV/Vis, X-ray, NMR, ...), chromatograms and electropherograms and many more.\n",
    "\n",
    "Often the experimental data is subject to noise or has a notable offset in the baseline.\n",
    "\n",
    "`SciPy` offers a number of straightforward tools to quickly enhance the data to make it ready for plotting.\n",
    "\n",
    "Let's start by reading in some X-ray diffraction data.\n"
   ]
  },
  {
   "cell_type": "markdown",
   "metadata": {},
   "source": [
    "### Data\n",
    "\n",
    "The data is a simple X-ray diffraction pattern of a crystalline material. The experimental data is stored in `XRD_experimental.dat`and the theoretical data in `XRD_theory.dat`.\n",
    "\n",
    "First column represents the 2-theta angle in degrees, the second column represents the intensity in arbitrary units.\n"
   ]
  },
  {
   "cell_type": "markdown",
   "metadata": {},
   "source": [
    "### Data Path:\n",
    "```python\n",
    "data_path = 'https://raw.githubusercontent.com/stkroe/PythonForChemists/main/course/data/exercises/X-ray_Diffraction/'\n",
    "```\n"
   ]
  },
  {
   "cell_type": "markdown",
   "metadata": {},
   "source": [
    "### Task\n",
    "\n",
    "- Load the data from the files `XRD_experimental.dat` and `XRD_theory.dat`.\n",
    "- Have fist a look at the data.\n",
    "- Normalize the data to the maximum intensity to 100.\n",
    "- Smooth the experimental data using a Gaussian filter with a standard deviation of 2.0.\n",
    "- Find the peaks in the experimental data using the `find_peaks` function from `scipy.signal`.\n",
    "- Plot the smoothed experimental data.\n",
    "- Add a baseline correction to the experimental data using the `minimum_fiter1d` function from `scipy.ndimage`.\n",
    "- Plot the baseline corrected experimental data.\n",
    "- Find the peaks in the baseline corrected data uing the `find_peaks` function from `scipy.signal`.\n",
    "- Compare the smoothed experimental data with the smoothed and baseline corrected experimental data via a correlation plot and linear regression.\n",
    "- Compare both experimental smoothed and baseline corrected data and theoretical data via a correlation plot and linear regression."
   ]
  },
  {
   "cell_type": "markdown",
   "metadata": {},
   "source": [
    "### Questions\n",
    "\n",
    "- What effect does the Gaussian filter have on the data?\n",
    "- How does the baseline correction affect the data?\n",
    "- How well does the smoothed data correlate with the theoretical data?"
   ]
  },
  {
   "cell_type": "raw",
   "metadata": {},
   "source": []
  },
  {
   "cell_type": "code",
   "execution_count": null,
   "metadata": {},
   "outputs": [],
   "source": []
  }
 ],
 "metadata": {
  "language_info": {
   "name": "python"
  }
 },
 "nbformat": 4,
 "nbformat_minor": 2
}
