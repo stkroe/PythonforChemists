{
 "cells": [
  {
   "cell_type": "raw",
   "metadata": {
    "vscode": {
     "languageId": "raw"
    }
   },
   "source": [
    "---\n",
    "title: \"Exercise D 1\"\n",
    "execute: \n",
    "  echo: True\n",
    "  eval: True\n",
    "other-links:\n",
    "    - text: \"3D data\"\n",
    "      href: \"(https://raw.githubusercontent.com/stkroe/PythonForChemists/main/course/data/exercises/3D_data/grid_data.dat\"\n",
    "      icon: \"filetype-csv\"\n",
    "    - text: \"Download Code\"\n",
    "      href: \"https://github.com/stkroe/PythonforChemists/blob/main/course/exercises/exercises/exerciseD_1.ipynb\"\n",
    "      icon: \"journal\"\n",
    "    - text: \"Download Solution\"\n",
    "      href: \"https://github.com/stkroe/PythonforChemists/blob/main/course/exercises/solutions/Exercise_D.1_3D_Plot.ipynb\"\n",
    "      icon: \"journal-check\"\n",
    "code-links:\n",
    "    - text: \"Open in Colab Code\"\n",
    "      href: \"https://colab.research.google.com/github/stkroe/PythonForChemists/blob/main/course/exercises/exercises/exerciseD_1.ipynb\"\n",
    "      icon: \"laptop\"\n",
    "    - text: \"Open in Colab Solution\"\n",
    "      href: \"https://colab.research.google.com/github/stkroe/PythonForChemists/blob/main/course/exercises/solutions/Exercise_D.1_3D_Plot.ipynb\"\n",
    "      icon: \"laptop\"\n",
    "--- "
   ]
  },
  {
   "cell_type": "markdown",
   "metadata": {},
   "source": [
    "# Exercise:\n",
    "\n",
    "## 3D Plot\n",
    "In this exercise, we will repeat to plot the 3D data.\n",
    "\n",
    "\n"
   ]
  },
  {
   "cell_type": "markdown",
   "metadata": {},
   "source": [
    "### Data\n",
    "\n",
    "The 3D data is given in the file `grid_data.dat`. The data contains the following columns:\n",
    "- $r_\\mathrm{OH_1}$ distance from O to H1 atom in Angstrom\n",
    "- $r_\\mathrm{OH_2}$ distance from O to H2 atom in Angstrom\n",
    "- $V$ potential energy in kcal/mol\n",
    "\n",
    "\n"
   ]
  },
  {
   "cell_type": "markdown",
   "metadata": {},
   "source": [
    "### Data Path:\n",
    "\n",
    "```python\n",
    "data_path = \"https://raw.githubusercontent.com/stkroe/PythonForChemists/main/course/data/exercises/3D_data/\"\n",
    "```\n"
   ]
  },
  {
   "cell_type": "markdown",
   "metadata": {},
   "source": [
    "### Task\n",
    "\n",
    "- Load the data from the files `grid_data.dat`.\n",
    "- Create a 3D plot of the data using the `plot_surface` function.\n",
    "- Use a meaningful color map."
   ]
  },
  {
   "cell_type": "markdown",
   "metadata": {},
   "source": []
  },
  {
   "cell_type": "raw",
   "metadata": {},
   "source": []
  },
  {
   "cell_type": "raw",
   "metadata": {},
   "source": []
  }
 ],
 "metadata": {
  "language_info": {
   "name": "python"
  }
 },
 "nbformat": 4,
 "nbformat_minor": 2
}
