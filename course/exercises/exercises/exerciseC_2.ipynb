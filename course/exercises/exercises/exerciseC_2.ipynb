{
 "cells": [
  {
   "cell_type": "raw",
   "metadata": {
    "vscode": {
     "languageId": "raw"
    }
   },
   "source": [
    "---\n",
    "title: \"Exercise C 2\"\n",
    "execute: \n",
    "  echo: True\n",
    "  eval: True\n",
    "other-links:\n",
    "    - text: \"Chromatography data\"\n",
    "      href: \"(https://raw.githubusercontent.com/stkroe/PythonForChemists/main/course/data/exercises/Chromatography/Chromatogram.csv\"\n",
    "      icon: \"filetype-csv\"\n",
    "    - text: \"Download Code\"\n",
    "      href: \"https://github.com/stkroe/PythonforChemists/blob/main/course/exercises/exercises/exercisesC_2.ipynb\"\n",
    "      icon: \"journal\"\n",
    "    - text: \"Download Solution\"\n",
    "      href: \"https://github.com/stkroe/PythonforChemists/blob/main/course/exercises/solutions/Exercise_C.2_Integration_by_Peak.ipynb\"\n",
    "      icon: \"journal-check\"\n",
    "code-links:\n",
    "    - text: \"Open in Colab Code\"\n",
    "      href: \"https://colab.research.google.com/github/stkroe/PythonForChemists/blob/main/course/exercises/exercises/exercisesC_2.ipynb\"\n",
    "      icon: \"laptop\"\n",
    "    - text: \"Open in Colab Solution\"\n",
    "      href: \"https://colab.research.google.com/github/stkroe/PythonForChemists/blob/main/course/exercises/solutions/Exercise_C.2_Integration_by_Peak.ipynb\"\n",
    "      icon: \"laptop\"\n",
    "--- "
   ]
  },
  {
   "cell_type": "markdown",
   "metadata": {},
   "source": [
    "# Exercise:\n",
    "\n",
    "## Chromotography and Spectroscopy Integration\n",
    "\n",
    "In this exercise, we will repeat how spectroscopic data can be integrated via Python `SciPy`library.\n",
    "\n",
    "- We will learn denoising and smoothing of data (SM).\n",
    "- We will learn how to correct the baseline of data (BC).\n",
    "- We will learn how to detect peaks in data (PD).\n",
    "- We will learn how to integrate the area under the curve (AUC).\n",
    "\n",
    "\n",
    "\n"
   ]
  },
  {
   "cell_type": "markdown",
   "metadata": {},
   "source": [
    "In this example we are using the featues of `finde-peaks()` to determine the left and right integration limits to integrate peaks of an example chromatogram.\n",
    "\n",
    "To achieve this, we first have to reduce the noise and apply a baseline correction.\n",
    "\n",
    "Let's start by loading the file!\n"
   ]
  },
  {
   "cell_type": "markdown",
   "metadata": {},
   "source": [
    "### Data\n",
    "\n",
    "The chromatographic data is stored in a file called `Chromatogram.csv`.\n",
    "\n",
    "First column represents the time in min and the second column represents the intensity in arbitrary units (a.u.)."
   ]
  },
  {
   "cell_type": "markdown",
   "metadata": {},
   "source": [
    "### Data Path:\n",
    "\n",
    "```python\n",
    "data_path = \"https://raw.githubusercontent.com/stkroe/PythonForChemists/main/course/data/exercises/Chromatography/\"\n",
    "```\n"
   ]
  },
  {
   "cell_type": "markdown",
   "metadata": {},
   "source": [
    "### Task\n",
    "\n",
    "- Load the data from the files `Chromatogram.csv`.\n",
    "- Apply Gaussian smoothing and minimum filtered baseline correction.\n",
    "- Detect the peaks and integrate the area under the curve.\n",
    "- Plot the chromatogram with the detected peaks and the integrated area under the curve."
   ]
  },
  {
   "cell_type": "markdown",
   "metadata": {},
   "source": [
    "### Questions\n",
    "\n",
    "- What is the area under the curve for each peak?"
   ]
  }
 ],
 "metadata": {
  "language_info": {
   "name": "python"
  }
 },
 "nbformat": 4,
 "nbformat_minor": 2
}
