{
 "cells": [
  {
   "cell_type": "raw",
   "metadata": {
    "vscode": {
     "languageId": "raw"
    }
   },
   "source": [
    "---\n",
    "title: \"Exercise 3\"\n",
    "execute: \n",
    "  echo: True\n",
    "  eval: True\n",
    "other-links:\n",
    "    - text: \"Data IR Spectroscopy 1\"\n",
    "      href: \"(https://raw.githubusercontent.com/stkroe/PythonForChemists/main/course/data/exercises/Linear_regression/ir_spectroscopy1.dat\"\n",
    "      icon: \"filetype-txt\"\n",
    "    - text: \"Data IR Spectroscopy 2\"\n",
    "      href: \"(https://raw.githubusercontent.com/stkroe/PythonForChemists/main/course/data/exercises/Linear_regression/ir_spectroscopy2.dat\"\n",
    "      icon: \"filetype-txt\"\n",
    "    - text: \"Download Code\"\n",
    "      href: \"https://raw.githubusercontent.com/stkroe/PythonForChemists/main/course/exercises/exercises/exercisesB_1.ipynb\"\n",
    "      icon: \"journal\"\n",
    "    - text: \"Download Solution\"\n",
    "      href: \"https://raw.githubusercontent.com/stkroe/PythonForChemists/main/course/exercises/solutions/Exercises_B.1_LinearRegression.ipynb\"\n",
    "      icon: \"journal-check\"\n",
    "code-links:\n",
    "    - text: \"Open in Colab Code\"\n",
    "      href: \"https://colab.research.google.com/github/stkroe/PythonForChemists/blob/main/course/exercises/exercises/exercisesB_1.ipynb\"\n",
    "      icon: \"laptop\"\n",
    "    - text: \"Open in Colab Solution\"\n",
    "      href: \"https://colab.research.google.com/github/stkroe/PythonForChemists/blob/main/course/exercises/solutions/Exercises_B.1_LinearRegression.ipynb\"\n",
    "      icon: \"laptop\"\n",
    "--- "
   ]
  },
  {
   "cell_type": "markdown",
   "metadata": {},
   "source": [
    "# Exercise:\n",
    "## Linear Regression: Calibration IR spectroscopy\n",
    "\n",
    "In this exercise, we will repeat linear regressions.\n",
    "\n",
    "- We will learn how to use `np.polyfit` to perform linear regression.\n",
    "- We will learn how to use `scipy.stats.linregress` to perform linear regression.\n",
    "- We will learn how to use `sklearn.linear_model.LinearRegression` to perform linear regression.\n",
    "\n",
    "- We learn what are the differences between these three methods.\n",
    "- We will learn how to use the linear regression to calculate the concentration of a unknown sample."
   ]
  },
  {
   "cell_type": "markdown",
   "metadata": {},
   "source": [
    "In quantitative spectroscopy we measure the (dimensionless) absorbance $A$ of a beam of light at a selected frequency/wavelength to determine the concentration $c$ of a sample. To do this, we first calibrate the device using solutions with known concentration."
   ]
  },
  {
   "cell_type": "markdown",
   "metadata": {},
   "source": [
    "### Data\n",
    "\n",
    "In our exercise we compare the calibrations of two groups of students available in the files `ir_spectroscopy1.dat` and `ir_spectroscopy2.dat`.\n"
   ]
  },
  {
   "cell_type": "markdown",
   "metadata": {},
   "source": [
    "### Data Path:\n",
    "https://raw.githubusercontent.com/stkroe/PythonForChemists/main/course/data/exercises/Linear_regression/"
   ]
  },
  {
   "cell_type": "markdown",
   "metadata": {},
   "source": [
    "### Task\n",
    "\n",
    "- Load the data from the files `ir_spectroscopy1.dat` and `ir_spectroscopy2.dat`.\n",
    "- Perform a linear regression on the data of each group.\n",
    "- Compare the results of the three methods.\n",
    "- Use the linear regression to predict the concentration of our unknown sample measured at the absorption of $A_\\mathrm{sample} = 0.753$."
   ]
  },
  {
   "cell_type": "markdown",
   "metadata": {},
   "source": [
    "### Questions\n",
    "\n",
    "- What is the concentration of the unknown sample?\n",
    "- Are the differences between the three methods?\n",
    "- Which method would you recommend for this type of data?"
   ]
  },
  {
   "cell_type": "code",
   "execution_count": null,
   "metadata": {},
   "outputs": [],
   "source": []
  }
 ],
 "metadata": {
  "language_info": {
   "name": "python"
  }
 },
 "nbformat": 4,
 "nbformat_minor": 2
}
