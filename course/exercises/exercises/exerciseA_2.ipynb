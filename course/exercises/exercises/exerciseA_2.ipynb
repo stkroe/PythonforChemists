{
 "cells": [
  {
   "cell_type": "raw",
   "metadata": {
    "vscode": {
     "languageId": "raw"
    }
   },
   "source": [
    "---\n",
    "title: \"Exercise A 2\"\n",
    "execute: \n",
    "  echo: True\n",
    "  eval: True\n",
    "other-links:\n",
    "    - text: \"Data Reactor 1\"\n",
    "      href: \"(https://raw.githubusercontent.com/stkroe/PythonForChemists/main/course/data/exercises/Temperature/Temperature_1.dat\"\n",
    "      icon: \"filetype-txt\"\n",
    "    - text: \"Data Reactor 2\"\n",
    "      href: \"(https://raw.githubusercontent.com/stkroe/PythonForChemists/main/course/data/exercises/Temperature/Temperature_2.dat\"\n",
    "      icon: \"filetype-txt\"\n",
    "    - text: \"Data Reactor 3\"\n",
    "      href: \"(https://raw.githubusercontent.com/stkroe/PythonForChemists/main/course/data/exercises/Temperature/Temperature_3.dat\"\n",
    "      icon: \"filetype-txt\"\n",
    "    - text: \"Download Code\"\n",
    "      href: \"https://github.com/stkroe/PythonforChemists/blob/main/course/exercises/exercises/exercisesA_2.ipynb\"\n",
    "      icon: \"journal\"\n",
    "    - text: \"Download Solution\"\n",
    "      href: \"https://github.com/stkroe/PythonforChemists/blob/main/course/exercises/solutions/Exercise_A_Plotting_and_Fitting.ipynb\"\n",
    "      icon: \"journal-check\"\n",
    "code-links:\n",
    "    - text: \"Open in Colab Code\"\n",
    "      href: \"https://colab.research.google.com/github/stkroe/PythonForChemists/blob/main/course/exercises/exercises/exercisesA_2.ipynb\"\n",
    "      icon: \"laptop\"\n",
    "    - text: \"Open in Colab Solution\"\n",
    "      href: \"https://colab.research.google.com/github/stkroe/PythonForChemists/blob/main/course/exercises/solutions/Exercise_A_Plotting_and_Fitting.ipynb\"\n",
    "      icon: \"laptop\"\n",
    "--- "
   ]
  },
  {
   "cell_type": "markdown",
   "metadata": {
    "vscode": {
     "languageId": "plaintext"
    }
   },
   "source": [
    "\n",
    "## Temperature in Synthesis Reactor Part 2\n",
    "\n",
    "In this exercise, we will repeat not-linear fits."
   ]
  },
  {
   "cell_type": "markdown",
   "metadata": {},
   "source": [
    "Let's analyze how bad the situation is in reactor 3 is. To do this, we will fit a sigmoid curve to the data set. Try to remember which kind of function we used to fit the non-linear data in the lecture.\n",
    "\n",
    "In our case the sigmoid function is given by:\n",
    "\n",
    "$$\n",
    "T(t) = T_0 + \\Delta T \\frac{1}{1 + e^{-a (t - t_0)}}\n",
    "$$\n",
    "\n",
    "with the four fitting parameters being:\n",
    "\n",
    "- temperature baseline $T_0 $,\n",
    "- the temperature increase $\\Delta T$,\n",
    "- the growth rate $a$,\n",
    "- the time at the midpoint of the temperature increase $t_0$"
   ]
  },
  {
   "cell_type": "markdown",
   "metadata": {},
   "source": [
    "Use your results from Part 1 of this exercise.\n",
    "\n",
    "### Task 1:\n",
    "\n",
    "- Fit a sigmoid function to the data set of reactor 3.\n",
    "- Plot the data and the fitted curve.\n",
    "\n",
    "### Questions:\n",
    "\n",
    "- How much is the tempearture changed in reactor 3?\n",
    "- How fast this change appears?\n",
    "- When does the temperature reach the midpoint of the change?"
   ]
  },
  {
   "cell_type": "markdown",
   "metadata": {},
   "source": [
    "### Task2:\n",
    "\n",
    "- Fit a suitable distribution function over the histograms plots of the temperature data\n",
    "\n",
    "### Questions:\n",
    "- What can you say about the distribution of the temperature data?"
   ]
  }
 ],
 "metadata": {
  "language_info": {
   "name": "python"
  }
 },
 "nbformat": 4,
 "nbformat_minor": 2
}
