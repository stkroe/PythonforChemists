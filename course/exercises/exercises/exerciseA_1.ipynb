{
 "cells": [
  {
   "cell_type": "raw",
   "metadata": {
    "vscode": {
     "languageId": "raw"
    }
   },
   "source": [
    "---\n",
    "title: \"Exercise A 1\"\n",
    "execute: \n",
    "  echo: True\n",
    "  eval: True\n",
    "other-links:\n",
    "    - text: \"Data Reactor 1\"\n",
    "      href: \"(https://raw.githubusercontent.com/stkroe/PythonForChemists/main/course/data/exercises/Temperature/Temperature_1.dat\"\n",
    "      icon: \"filetype-txt\"\n",
    "    - text: \"Data Reactor 2\"\n",
    "      href: \"(https://raw.githubusercontent.com/stkroe/PythonForChemists/main/course/data/exercises/Temperature/Temperature_2.dat\"\n",
    "      icon: \"filetype-txt\"\n",
    "    - text: \"Data Reactor 3\"\n",
    "      href: \"(https://raw.githubusercontent.com/stkroe/PythonForChemists/main/course/data/exercises/Temperature/Temperature_3.dat\"\n",
    "      icon: \"filetype-txt\"\n",
    "    - text: \"Download Code\"\n",
    "      href: \"https://github.com/stkroe/PythonforChemists/blob/main/course/exercises/exercises/exerciseA_1.ipynb\"\n",
    "      icon: \"journal\"\n",
    "    - text: \"Download Solution\"\n",
    "      href: \"https://github.com/stkroe/PythonforChemists/blob/main/course/exercises/solutions/Exercises_A_Plotting_and_Fitting.ipynb\"\n",
    "      icon: \"journal-check\"\n",
    "code-links:\n",
    "    - text: \"Open in Colab Code\"\n",
    "      href: \"https://colab.research.google.com/github/stkroe/PythonForChemists/blob/main/course/exercises/exercises/exercisesA_1.ipynb\"\n",
    "      icon: \"laptop\"\n",
    "    - text: \"Open in Colab Solution\"\n",
    "      href: \"https://colab.research.google.com/github/stkroe/PythonForChemists/blob/main/course/exercises/solutions/Exercise_A_Plotting_and_Fitting.ipynb\"\n",
    "      icon: \"laptop\"\n",
    "--- "
   ]
  },
  {
   "cell_type": "markdown",
   "metadata": {
    "id": "pfeLylekIpS5"
   },
   "source": [
    "# Exercise:\n",
    "## Temperature in Synthesis Reactor Part 1\n",
    "\n",
    "In this exercise, we will repeat the first part of the course.\n",
    "\n",
    "- We will learn how to read data from a file.\n",
    "- We will learn how to inspect the data.\n",
    "- We will learn how to make quickly some plots.\n",
    "\n"
   ]
  },
  {
   "cell_type": "markdown",
   "metadata": {},
   "source": [
    "### Data\n",
    "\n",
    "The experiment:\n",
    "\n",
    "- We have multiple synthesis reactors in which we are running a series of experiments.\n",
    "- Each reactor has a temperature sensor which monitors the temperature inside of it every minute for one month.\n",
    "- Our task is to check if the temperatures in the reactors are stable.\n",
    "\n",
    "- The data for reactor 1 is stored in `Temperatures_1.dat`.\n",
    "\n",
    "- The data for reactor 2 is stored in `Temperatures_2.dat`.\n",
    "\n",
    "- The data for reactor 3 is stored in `Temperatures_3.dat`.\n"
   ]
  },
  {
   "cell_type": "markdown",
   "metadata": {
    "vscode": {
     "languageId": "plaintext"
    }
   },
   "source": [
    "### Data Path:\n",
    "\n",
    "```python\n",
    "data_path = \"https://raw.githubusercontent.com/stkroe/PythonForChemists/main/course/data/exercises/Temperature/\"\n",
    "```"
   ]
  },
  {
   "cell_type": "markdown",
   "metadata": {},
   "source": [
    "### Task\n",
    "0. Look at the plain data files. In which format are the data stored?\n",
    "1. Read the data from the files.\n",
    "2. Inspect the data. Are there any missing values? Are the data in the correct format? Is the data measured really over one month? \n",
    "3. Transform the data into days.\n",
    "4. Look at the distribution of the data. Is there some striking pattern?\n",
    "5. Make a plot of the temperatures trend over time for reactor 1, 2 and 3."
   ]
  },
  {
   "cell_type": "markdown",
   "metadata": {
    "id": "tI6z1fVMGZJ2"
   },
   "source": [
    "### Questions\n",
    "\n",
    "- What do you think? \n",
    "- Are the temperatures stable in the reactors?\n",
    "- Which reactor has the most stable temperature?\n"
   ]
  }
 ],
 "metadata": {
  "colab": {
   "provenance": []
  },
  "kernelspec": {
   "display_name": "Python 3",
   "name": "python3"
  },
  "language_info": {
   "name": "python"
  }
 },
 "nbformat": 4,
 "nbformat_minor": 0
}
