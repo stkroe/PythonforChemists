{
 "cells": [
  {
   "cell_type": "markdown",
   "metadata": {
    "id": "pfeLylekIpS5"
   },
   "source": [
    "## Exercise\n",
    "\n",
    "In this exercise, we will repeat the first lecture of the course. We will:\n",
    "\n",
    "- We will learn how to read data from a file.\n",
    "- We will learn how to inspect the data.\n",
    "- We will learn how to make quickly some plots.\n",
    "\n"
   ]
  },
  {
   "cell_type": "markdown",
   "metadata": {},
   "source": [
    "# Lecture 1"
   ]
  },
  {
   "cell_type": "markdown",
   "metadata": {},
   "source": [
    "### Data\n",
    "\n",
    "The experiment:\n",
    "\n",
    "- We have multiple synthesis reactors in which we are running a series of experiments.\n",
    "- Each reactor has a temperature sensor which monitors the temperature inside of it every minute for 4 days.\n",
    "- Our task is to check if the temperatures in the reactors are stable.\n",
    "\n",
    "- The data for reactor 1 is stored in `Temperatures_1.csv`.\n",
    "\n",
    "- The data for reactor 2 is stored in `Temperatures_2.csv`.\n",
    "\n",
    "- The data for reactor 3 is stored in `Temperatures_3.csv`.\n"
   ]
  },
  {
   "cell_type": "markdown",
   "metadata": {},
   "source": [
    "### Task\n",
    "0. Look at the plain data files. In which format are the data stored?\n",
    "1. Read the data from the files.\n",
    "2. Inspect the data.\n",
    "3. Transform the data into days.\n",
    "4. Make a plot of the temperature in the reactor 1, 2 and 3 first in one plot.\n",
    "5. Make a (1,3) subplot of the temperature in the reactor 1, 2 and 3."
   ]
  },
  {
   "cell_type": "markdown",
   "metadata": {
    "id": "tI6z1fVMGZJ2"
   },
   "source": [
    "### Questions\n",
    "\n",
    "What do you think? Are the temperatures stable in the reactors?\n",
    "Which reactor has the most stable temperature?\n"
   ]
  },
  {
   "cell_type": "code",
   "execution_count": null,
   "metadata": {},
   "outputs": [],
   "source": [
    "import numpy as np\n",
    "import matplotlib.pyplot as plt"
   ]
  },
  {
   "cell_type": "markdown",
   "metadata": {
    "colab": {
     "base_uri": "https://localhost:8080/",
     "height": 447
    },
    "executionInfo": {
     "elapsed": 520,
     "status": "ok",
     "timestamp": 1742993839638,
     "user": {
      "displayName": "Thomas Hofer",
      "userId": "15196075818222338792"
     },
     "user_tz": -60
    },
    "id": "ypIUxrZ4Bvw6",
    "outputId": "679ed63d-42c6-48ca-fa5e-c19a4baa71bb"
   },
   "source": [
    "path = \"https://raw.githubusercontent.com/stkroe/PythonForChemists/main/course/data/exercises/exercises1/\""
   ]
  }
 ],
 "metadata": {
  "colab": {
   "provenance": []
  },
  "kernelspec": {
   "display_name": "Python 3",
   "name": "python3"
  },
  "language_info": {
   "name": "python"
  }
 },
 "nbformat": 4,
 "nbformat_minor": 0
}
