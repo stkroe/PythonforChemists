{
 "cells": [
  {
   "cell_type": "raw",
   "metadata": {
    "vscode": {
     "languageId": "raw"
    }
   },
   "source": [
    "---\n",
    "title: \"Exercise B 3\"\n",
    "execute: \n",
    "  echo: True\n",
    "  eval: True\n",
    "other-links:\n",
    "    - text: \"Diffusion data 1\"\n",
    "      href: \"https://raw.githubusercontent.com/stkroe/PythonForChemists/main/course/data/exercises/Arrhenius/D_vs_T_v1.csv\"\n",
    "      icon: \"filetype-csv\"\n",
    "    - text: \"Diffusion data 2\"\n",
    "      href: \"https://raw.githubusercontent.com/stkroe/PythonForChemists/main/course/data/exercises/Arrhenius/D_vs_T_v2.csv\"\n",
    "      icon: \"filetype-csv\"\n",
    "    - text: \"Diffusion data 3\"\n",
    "      href: \"https://raw.githubusercontent.com/stkroe/PythonForChemists/main/course/data/exercises/Arrhenius/D_vs_T_v3.csv\"\n",
    "      icon: \"filetype-csv\"\n",
    "    - text: \"Download Code\"\n",
    "      href: \"https://github.com/stkroe/PythonforChemists/blob/main/course/exercises/exercises/exerciseB_23ipynb\"\n",
    "      icon: \"journal\"\n",
    "    - text: \"Download Solution\"\n",
    "      href: \"https://github.com/stkroe/PythonforChemists/blob/main/course/exercises/solutions/Exercise_B.3_Arrhenius.ipynb\"\n",
    "      icon: \"journal-check\"\n",
    "code-links:\n",
    "    - text: \"Open in Colab Code\"\n",
    "      href: \"https://colab.research.google.com/github/stkroe/PythonForChemists/blob/main/course/exercises/exercises/exerciseB_3.ipynb\"\n",
    "      icon: \"laptop\"\n",
    "    - text: \"Open in Colab Solution\"\n",
    "      href: \"https://colab.research.google.com/github/stkroe/PythonForChemists/blob/main/course/exercises/solutions/Exercise_B.3_Arrhenius.ipynb\"\n",
    "      icon: \"laptop\"\n",
    "--- "
   ]
  },
  {
   "cell_type": "markdown",
   "metadata": {},
   "source": [
    "# Exercise:\n",
    "## Arrhenious Plot\n",
    "\n",
    "In this exercise, we will repeat linear regressions and how to use the logarithm of the \n",
    "\n",
    "- We will learn how to use create `np.log`.\n",
    "- We will learn how to select a specific range of data.\n",
    "- We will learn how to use `scipy.linregress` to perform linear regression.\n",
    "\n"
   ]
  },
  {
   "cell_type": "markdown",
   "metadata": {},
   "source": [
    "## Exercise B.3 -- Arrhenius Curve Fitting\n",
    "\n",
    "In this exercise we have a look at diffusion data (either from experiment or theoretical calculations) and want to obtain the activation energy $E_A$.\n",
    "\n",
    "Many dynamical properties in chemistry (such as rate constants, diffusion, etc.) follow an [Arrhenian temperature dependency](https://en.wikipedia.org/wiki/Arrhenius_plot) given as \n",
    "\n",
    "$$ y(T) = y_0 e^{-\\frac{E_A}{RT}} $$ \n",
    "\n",
    "with $y_0$ being the pre-exponential factor, R and T are the molar gas constant (8.3145 J mol$^{-1}$ K $^{-1}$) and temperature, respectively.\n",
    "\n",
    "One potential option to obtain $E_A$ is a non-linear exponential fit, but this is known to be less reliable than its linear counterpart!\n",
    "\n",
    "Consequently, Mr. [Svante Arrhenius](https://en.wikipedia.org/wiki/Svante_Arrhenius) used a linearization of the equation, which in case of the diffusion coefficient looks like this: \n",
    "\n",
    "$$ ln(D) = ln(D_0) - \\frac{E_A}{R}\\frac{1}{T} $$\n",
    "\n",
    "This corresponds to a linear equation\n",
    "\n",
    "\n",
    "$$ y = a\\cdot x + b$$\n",
    "\n",
    "$$y = ln(D)$$\n",
    "\n",
    "$$ x= \\frac{1}{T}$$ \n",
    "\n",
    "Applying standard linear regression we obtain\n",
    "\n",
    "\n",
    "$$a=ln(D_0)$$\n",
    "$$b = -\\frac{E_A}{R}$$\n",
    "\n",
    "From this we can directly access the activation energy $E_A$ via:\n",
    "$$ E_A = - a \\cdot R $$\n",
    "\n",
    "Easy! :D\n"
   ]
  },
  {
   "cell_type": "markdown",
   "metadata": {},
   "source": [
    "This time the files are in [csv-format](https://en.wikipedia.org/wiki/Comma-separated_values)\n",
    "(= comma separated values), *i.e.*\n",
    "the different data columns are\n",
    "separated by comma symbols.\n",
    "\n",
    "Luckily, we can again use the\n",
    "command *np.loadtext()*, but\n",
    "we have to indicate the comma\n",
    "by adding *delimiter = “,”*.\n",
    "\n",
    "Most programs such as Excel, Origin and scientific software can write data sets in this format. If you want to use python in your research, this is most likely the most common file format to input you data sets."
   ]
  },
  {
   "cell_type": "markdown",
   "metadata": {},
   "source": [
    "### Data\n",
    "\n",
    "We have three data sets with diffusion coefficients $D$ in nm $^2$ /ps at different temperatures $T$ in K.\n",
    "\n",
    "- `D_vs_T_v1.csv` (Diffusion coefficient vs. temperature)\n",
    "- `D_vs_T_v2.csv` (Diffusion coefficient vs. temperature)\n",
    "- `D_vs_T_v3.csv` (Diffusion coefficient vs. temperature)\n"
   ]
  },
  {
   "cell_type": "markdown",
   "metadata": {},
   "source": [
    "### Data Path:\n",
    "https://raw.githubusercontent.com/stkroe/PythonForChemists/main/course/data/exercises/Arrhenius/"
   ]
  },
  {
   "cell_type": "markdown",
   "metadata": {},
   "source": [
    "### Task\n",
    "\n",
    "- Load the data from the files `D_vs_T_v1.csv`, `D_vs_T_v2.csv` and `D_vs_T_v3.csv` into numpy arrays.\n",
    "- Create a plot of the diffusion coefficient $D$ vs. temperature $T$.\n",
    "- Create a plot of the logarithm of the diffusion coefficient $ln(D)$ vs. $1/T$.\n",
    "- Perform a linear regression of the data using `scipy.stats.linregress` only in the linear region of the data.\n",
    "- Calculate the activation energy $E_A$ from the slope of the linear regression.\n"
   ]
  },
  {
   "cell_type": "markdown",
   "metadata": {},
   "source": [
    "### Questions\n",
    "\n",
    "- Which data set has the highest activation energy?"
   ]
  },
  {
   "cell_type": "code",
   "execution_count": null,
   "metadata": {},
   "outputs": [],
   "source": []
  }
 ],
 "metadata": {
  "language_info": {
   "name": "python"
  }
 },
 "nbformat": 4,
 "nbformat_minor": 2
}
