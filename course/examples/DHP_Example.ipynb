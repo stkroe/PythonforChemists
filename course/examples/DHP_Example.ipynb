{
 "cells": [
  {
   "cell_type": "markdown",
   "metadata": {},
   "source": [
    "# Import Example"
   ]
  },
  {
   "cell_type": "markdown",
   "metadata": {},
   "source": [
    "## Harder Version\n",
    "Please skip to the next section if you are looking for the easier version."
   ]
  },
  {
   "cell_type": "markdown",
   "metadata": {},
   "source": [
    "Try to extract the data from `elements_compounds.csv`."
   ]
  },
  {
   "cell_type": "markdown",
   "metadata": {},
   "source": [
    "1. Read the File as Raw Text"
   ]
  },
  {
   "cell_type": "code",
   "execution_count": 67,
   "metadata": {},
   "outputs": [
    {
     "name": "stdout",
     "output_type": "stream",
     "text": [
      "['Element | AtomicNumber | AtomicMass | Density; MeltingPoint - BoilingPoint', 'Iron | 26 | 55.845 | 7.87; 1538 - 2862', 'Copper | 29 | 63.546 | 8.96; 1085 - 2562', 'Gold, 79, 196.97, 19.32: 1064 - 2856', 'Silicon - 14 - 28.085 - 2.33; 1414 : 3265', 'Carbon| 6 | 12.011 | 2.26 - Sublimation: 3642', 'Compound; Formula | MolarMass | Density; MP - BP', 'Water - H2O | 18.015 | 1.00; 0 - 100', 'Ethanol, C2H5OH , 46.07 | 0.789 | 114 - 78.37', 'Silica | SiO2, 60.08; 2.65 - 1713 - N/A', 'Graphene, C, Variable; 2.267 - Sublimation: 3650', '- Some boiling points (BP) are missing', '- Density units are inconsistent (g/cm³ or unspecified)', '- Different delimiters used within the same row', '- Some values labeled as \"Sublimation\" instead of a boiling point']\n"
     ]
    }
   ],
   "source": [
    "import pandas as pd\n",
    "\n",
    "\n",
    "path = \"/Users/stk/dev/PythonForChemists_public/course/data/exercises/examples/\"\n",
    "# Read the file as raw text (adjust path)\n",
    "with open(path+\"elements_compounds.csv\", \"r\", encoding=\"utf-8\") as file:\n",
    "    lines = file.readlines()\n",
    "\n",
    "# Remove comment lines and empty lines\n",
    "lines = [line.strip() for line in lines if line.strip() and not line.startswith(\"#\")]\n",
    "\n",
    "print(lines)\n"
   ]
  },
  {
   "cell_type": "markdown",
   "metadata": {},
   "source": [
    "2. Normalize Delimiters\n",
    "\n",
    "Since different delimiters (|, ;, ,, -, :) are used interchangeably, we'll replace them with a single delimiter (e.g., |) to make parsing easier."
   ]
  },
  {
   "cell_type": "markdown",
   "metadata": {},
   "source": [
    "Replace mixed delimiters with \"|\"\n",
    "\n"
   ]
  },
  {
   "cell_type": "code",
   "execution_count": 68,
   "metadata": {},
   "outputs": [
    {
     "name": "stdout",
     "output_type": "stream",
     "text": [
      "['Element | AtomicNumber | AtomicMass | Density| MeltingPoint | BoilingPoint', 'Iron | 26 | 55.845 | 7.87| 1538 | 2862', 'Copper | 29 | 63.546 | 8.96| 1085 | 2562', 'Gold| 79| 196.97| 19.32| 1064 | 2856', 'Silicon | 14 | 28.085 | 2.33| 1414 | 3265', 'Carbon| 6 | 12.011 | 2.26 | Sublimation| 3642', 'Compound| Formula | MolarMass | Density| MP | BP', 'Water | H2O | 18.015 | 1.00| 0 | 100', 'Ethanol| C2H5OH | 46.07 | 0.789 | 114 | 78.37', 'Silica | SiO2| 60.08| 2.65 | 1713 | N/A', 'Graphene| C| Variable| 2.267 | Sublimation| 3650', '| Some boiling points (BP) are missing', '| Density units are inconsistent (g/cm³ or unspecified)', '| Different delimiters used within the same row', '| Some values labeled as \"Sublimation\" instead of a boiling point']\n"
     ]
    }
   ],
   "source": [
    "normalized_lines = [re.sub(r\"[;,\\-\\:]\", \"|\", line) for line in lines]\n",
    "print(normalized_lines)"
   ]
  },
  {
   "cell_type": "markdown",
   "metadata": {},
   "source": [
    "Split lines into lists\n"
   ]
  },
  {
   "cell_type": "code",
   "execution_count": 69,
   "metadata": {},
   "outputs": [
    {
     "name": "stdout",
     "output_type": "stream",
     "text": [
      "[['Element ', ' AtomicNumber ', ' AtomicMass ', ' Density', ' MeltingPoint ', ' BoilingPoint'], ['Iron ', ' 26 ', ' 55.845 ', ' 7.87', ' 1538 ', ' 2862'], ['Copper ', ' 29 ', ' 63.546 ', ' 8.96', ' 1085 ', ' 2562'], ['Gold', ' 79', ' 196.97', ' 19.32', ' 1064 ', ' 2856'], ['Silicon ', ' 14 ', ' 28.085 ', ' 2.33', ' 1414 ', ' 3265'], ['Carbon', ' 6 ', ' 12.011 ', ' 2.26 ', ' Sublimation', ' 3642'], ['Compound', ' Formula ', ' MolarMass ', ' Density', ' MP ', ' BP'], ['Water ', ' H2O ', ' 18.015 ', ' 1.00', ' 0 ', ' 100'], ['Ethanol', ' C2H5OH ', ' 46.07 ', ' 0.789 ', ' 114 ', ' 78.37'], ['Silica ', ' SiO2', ' 60.08', ' 2.65 ', ' 1713 ', ' N/A'], ['Graphene', ' C', ' Variable', ' 2.267 ', ' Sublimation', ' 3650'], ['', ' Some boiling points (BP) are missing'], ['', ' Density units are inconsistent (g/cm³ or unspecified)'], ['', ' Different delimiters used within the same row'], ['', ' Some values labeled as \"Sublimation\" instead of a boiling point']]\n"
     ]
    }
   ],
   "source": [
    "data = [line.split(\"|\") for line in normalized_lines]\n",
    "print(data)"
   ]
  },
  {
   "cell_type": "markdown",
   "metadata": {},
   "source": [
    "3. Convert to DataFrame\n",
    "\n",
    "Since row structures vary, we will handle elements and compounds separately. Extract structured rows (Elements and Compounds)"
   ]
  },
  {
   "cell_type": "code",
   "execution_count": 70,
   "metadata": {},
   "outputs": [
    {
     "name": "stdout",
     "output_type": "stream",
     "text": [
      "Elements\n",
      "[['Element ', ' AtomicNumber ', ' AtomicMass ', ' Density', ' MeltingPoint ', ' BoilingPoint'], ['Iron ', ' 26 ', ' 55.845 ', ' 7.87', ' 1538 ', ' 2862'], ['Copper ', ' 29 ', ' 63.546 ', ' 8.96', ' 1085 ', ' 2562'], ['Gold', ' 79', ' 196.97', ' 19.32', ' 1064 ', ' 2856'], ['Silicon ', ' 14 ', ' 28.085 ', ' 2.33', ' 1414 ', ' 3265'], ['Carbon', ' 6 ', ' 12.011 ', ' 2.26 ', ' Sublimation', ' 3642']]\n",
      "Compounds\n",
      "[['Compound', ' Formula ', ' MolarMass ', ' Density', ' MP ', ' BP'], ['Water ', ' H2O ', ' 18.015 ', ' 1.00', ' 0 ', ' 100'], ['Ethanol', ' C2H5OH ', ' 46.07 ', ' 0.789 ', ' 114 ', ' 78.37'], ['Silica ', ' SiO2', ' 60.08', ' 2.65 ', ' 1713 ', ' N/A'], ['Graphene', ' C', ' Variable', ' 2.267 ', ' Sublimation', ' 3650']]\n",
      "Additional info\n",
      "[['', ' Some boiling points (BP) are missing'], ['', ' Density units are inconsistent (g/cm³ or unspecified)'], ['', ' Different delimiters used within the same row'], ['', ' Some values labeled as \"Sublimation\" instead of a boiling point']]\n"
     ]
    }
   ],
   "source": [
    "elements = []\n",
    "compounds = []\n",
    "additional_info = []\n",
    "for i, row in  enumerate(data):\n",
    "    if  i <= 5:  \n",
    "        elements.append(row)\n",
    "    elif i <= 10:\n",
    "        compounds.append(row)\n",
    "    else:\n",
    "        additional_info.append(row)\n",
    "print(\"Elements\")\n",
    "print(elements)\n",
    "print(\"Compounds\")\n",
    "print(compounds)\n",
    "print(\"Additional info\")\n",
    "print(additional_info)\n"
   ]
  },
  {
   "cell_type": "markdown",
   "metadata": {},
   "source": [
    "4. Write the data in a consistent format\n"
   ]
  },
  {
   "cell_type": "code",
   "execution_count": 71,
   "metadata": {},
   "outputs": [],
   "source": [
    "with open(path+\"elements.csv\", \"w\", encoding=\"utf-8\") as file:\n",
    "    for row in elements:\n",
    "        file.write(\"|\".join(row) + \"\\n\")\n",
    "\n",
    "with open(path+\"compounds.csv\", \"w\", encoding=\"utf-8\") as file:\n",
    "    for row in compounds:\n",
    "        file.write(\"|\".join(row) + \"\\n\")\n",
    "        "
   ]
  },
  {
   "cell_type": "markdown",
   "metadata": {},
   "source": [
    "## Easier Version\n",
    "Start here if you are looking for the easier version.\n",
    "Or if you did the Harder Version you can use your output file to complete this task."
   ]
  },
  {
   "cell_type": "markdown",
   "metadata": {},
   "source": [
    "1. Read the `elements.csv`and `compouns.csv` files as DataFrame.\n",
    "\n",
    "Use \n",
    "\n",
    "for `elements.csv` this names=['Element', 'AtomicNumber', 'AtomicMass', 'Density', 'MeltingPoint', 'BoilingPoint'], \n",
    "\n",
    "and \n",
    "\n",
    "for `compounds.csv` this names=['Compound', 'Formula', 'MolarMass', 'Density', 'MeltingPoint', 'BoilingPoint']\n"
   ]
  },
  {
   "cell_type": "code",
   "execution_count": 72,
   "metadata": {},
   "outputs": [
    {
     "name": "stdout",
     "output_type": "stream",
     "text": [
      "    Element  AtomicNumber  AtomicMass  Density  MeltingPoint  BoilingPoint\n",
      "0     Iron             26      55.845     7.87         1538           2862\n",
      "1   Copper             29      63.546     8.96         1085           2562\n",
      "2      Gold            79     196.970    19.32         1064           2856\n",
      "3  Silicon             14      28.085     2.33         1414           3265\n",
      "4    Carbon             6      12.011     2.26   Sublimation          3642\n"
     ]
    }
   ],
   "source": [
    "df_elements = pd.read_csv(path+'elements.csv', delimiter='|', header=0, names=['Element', 'AtomicNumber', 'AtomicMass', 'Density', 'MeltingPoint', 'BoilingPoint']) \n",
    "print(df_elements)"
   ]
  },
  {
   "cell_type": "code",
   "execution_count": 73,
   "metadata": {},
   "outputs": [
    {
     "name": "stdout",
     "output_type": "stream",
     "text": [
      "   Compound   Formula  MolarMass  Density  MeltingPoint BoilingPoint\n",
      "0    Water       H2O     18.015     1.000            0           100\n",
      "1   Ethanol   C2H5OH      46.07     0.789          114         78.37\n",
      "2   Silica       SiO2      60.08    2.650         1713           N/A\n",
      "3  Graphene         C   Variable    2.267   Sublimation         3650\n"
     ]
    }
   ],
   "source": [
    "df_compounds = pd.read_csv(path+'compounds.csv', delimiter='|', header=0, names=['Compound', 'Formula', 'MolarMass', 'Density', 'MeltingPoint', 'BoilingPoint'])\n",
    "print(df_compounds)"
   ]
  },
  {
   "cell_type": "markdown",
   "metadata": {},
   "source": [
    "2. Handle Missing Values and Type Conversion\n",
    "\n",
    "Since some values are missing or contain text like \"Sublimation\" data cleaning is required.\n",
    "\n",
    "Convert string columns explicitly to string.\n",
    "\n",
    "Convert numeric columns to numerics and forcing errors to NaN.\n",
    "\n"
   ]
  },
  {
   "cell_type": "code",
   "execution_count": 74,
   "metadata": {},
   "outputs": [
    {
     "data": {
      "text/plain": [
       "0        H2O \n",
       "1     C2H5OH \n",
       "2        SiO2\n",
       "3           C\n",
       "Name: Formula, dtype: object"
      ]
     },
     "execution_count": 74,
     "metadata": {},
     "output_type": "execute_result"
    }
   ],
   "source": [
    "df_elements['Element'].astype(str)\n",
    "df_compounds['Compound'].astype(str)\n",
    "df_compounds['Formula'].astype(str)"
   ]
  },
  {
   "cell_type": "code",
   "execution_count": 75,
   "metadata": {},
   "outputs": [],
   "source": [
    "\n",
    "for col in df_elements.columns:\n",
    "    if col == \"Element\":\n",
    "        continue\n",
    "    df_elements[col] = pd.to_numeric(df_elements[col], errors=\"coerce\")\n",
    "\n",
    "\n",
    "\n",
    "for col in df_compounds.columns:\n",
    "    if col == \"Compound\" or col == \"Formula\":\n",
    "        continue\n",
    "    df_compounds[col] = pd.to_numeric(df_compounds[col], errors=\"coerce\")\n"
   ]
  },
  {
   "cell_type": "code",
   "execution_count": 76,
   "metadata": {},
   "outputs": [
    {
     "name": "stdout",
     "output_type": "stream",
     "text": [
      "Elements: \n",
      "    Element  AtomicNumber  AtomicMass  Density  MeltingPoint  BoilingPoint\n",
      "0     Iron             26      55.845     7.87        1538.0          2862\n",
      "1   Copper             29      63.546     8.96        1085.0          2562\n",
      "2      Gold            79     196.970    19.32        1064.0          2856\n",
      "3  Silicon             14      28.085     2.33        1414.0          3265\n",
      "4    Carbon             6      12.011     2.26           NaN          3642\n",
      "Compounds: \n",
      "   Compound   Formula  MolarMass  Density  MeltingPoint  BoilingPoint\n",
      "0    Water       H2O      18.015    1.000           0.0        100.00\n",
      "1   Ethanol   C2H5OH      46.070    0.789         114.0         78.37\n",
      "2   Silica       SiO2     60.080    2.650        1713.0           NaN\n",
      "3  Graphene         C        NaN    2.267           NaN       3650.00\n"
     ]
    }
   ],
   "source": [
    "print(\"Elements: \")\n",
    "print(df_elements)\n",
    "print(\"Compounds: \")\n",
    "print(df_compounds)"
   ]
  },
  {
   "cell_type": "markdown",
   "metadata": {},
   "source": [
    "\n",
    "\n",
    "3. Fill missing values or label them explicitly\n"
   ]
  },
  {
   "cell_type": "code",
   "execution_count": 77,
   "metadata": {},
   "outputs": [
    {
     "name": "stdout",
     "output_type": "stream",
     "text": [
      "    Element  AtomicNumber  AtomicMass  Density MeltingPoint  BoilingPoint\n",
      "0     Iron             26      55.845     7.87       1538.0          2862\n",
      "1   Copper             29      63.546     8.96       1085.0          2562\n",
      "2      Gold            79     196.970    19.32       1064.0          2856\n",
      "3  Silicon             14      28.085     2.33       1414.0          3265\n",
      "4    Carbon             6      12.011     2.26      Unknown          3642\n",
      "   Compound   Formula MolarMass  Density MeltingPoint BoilingPoint\n",
      "0    Water       H2O     18.015    1.000          0.0        100.0\n",
      "1   Ethanol   C2H5OH      46.07    0.789        114.0        78.37\n",
      "2   Silica       SiO2     60.08    2.650       1713.0      Unknown\n",
      "3  Graphene         C   Unknown    2.267      Unknown       3650.0\n"
     ]
    },
    {
     "name": "stderr",
     "output_type": "stream",
     "text": [
      "/var/folders/h4/xglxv6492992tn4h0nq57bvh0000gn/T/ipykernel_52752/3497316611.py:1: FutureWarning: Setting an item of incompatible dtype is deprecated and will raise an error in a future version of pandas. Value 'Unknown' has dtype incompatible with float64, please explicitly cast to a compatible dtype first.\n",
      "  df_elements.fillna(\"Unknown\", inplace=True)\n",
      "/var/folders/h4/xglxv6492992tn4h0nq57bvh0000gn/T/ipykernel_52752/3497316611.py:2: FutureWarning: Setting an item of incompatible dtype is deprecated and will raise an error in a future version of pandas. Value 'Unknown' has dtype incompatible with float64, please explicitly cast to a compatible dtype first.\n",
      "  df_compounds.fillna(\"Unknown\", inplace=True)\n"
     ]
    }
   ],
   "source": [
    "df_elements.fillna(\"Unknown\", inplace=True)\n",
    "df_compounds.fillna(\"Unknown\", inplace=True)\n",
    "\n",
    "# Display the cleaned DataFrames\n",
    "print(df_elements)\n",
    "print(df_compounds)"
   ]
  },
  {
   "cell_type": "code",
   "execution_count": null,
   "metadata": {},
   "outputs": [],
   "source": []
  }
 ],
 "metadata": {
  "kernelspec": {
   "display_name": "myenv",
   "language": "python",
   "name": "python3"
  },
  "language_info": {
   "codemirror_mode": {
    "name": "ipython",
    "version": 3
   },
   "file_extension": ".py",
   "mimetype": "text/x-python",
   "name": "python",
   "nbconvert_exporter": "python",
   "pygments_lexer": "ipython3",
   "version": "3.12.7"
  }
 },
 "nbformat": 4,
 "nbformat_minor": 2
}
