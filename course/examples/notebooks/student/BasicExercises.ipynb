{
 "cells": [
  {
   "cell_type": "raw",
   "metadata": {
    "vscode": {
     "languageId": "raw"
    }
   },
   "source": [
    "---\n",
    "title: \"Basics Python\"\n",
    "execute:\n",
    "    echo: true\n",
    "    eval: false\n",
    "---"
   ]
  },
  {
   "cell_type": "code",
   "execution_count": null,
   "metadata": {
    "deletable": false,
    "editable": false
   },
   "outputs": [],
   "source": [
    "# Initialize Otter\n",
    "import otter\n",
    "grader = otter.Notebook(\"BasicExercises.ipynb\")"
   ]
  },
  {
   "cell_type": "markdown",
   "metadata": {},
   "source": [
    "Instructions:\n",
    "\n",
    "- Open the file in the editor or Google Colab.\n",
    "- Solve each exercise by adapting the provided code skeleton.\n",
    "- Each exercise is written as a function to be able to test it independently.\n",
    "- Run the test cell to verify the correctness and get feedback.\n",
    "- The code is tested using the `otter-grader` module.\n",
    "- The test cell is hidden by default. \n",
    "- Run the last cell to submit the exercise.\n",
    "- Import any required modules at the beginning of the script."
   ]
  },
  {
   "cell_type": "markdown",
   "metadata": {
    "deletable": false,
    "editable": false
   },
   "source": [
    "## Exercise 1: Data Types\n",
    "\n",
    "Print data type of all variables in the provided code. First write also your guess for the data types of the variables.\n",
    "\n",
    "The output should be like this:\n",
    "\n",
    "```python\n",
    "x = 5, My guess: int, Data type: <class 'int'>\n",
    "y = 5.0, My guess: float, Data type: <class 'float'>\n",
    "...\n",
    "```"
   ]
  },
  {
   "cell_type": "code",
   "execution_count": null,
   "metadata": {
    "otter": {
     "tests": [
      "e1"
     ]
    },
    "tags": []
   },
   "outputs": [],
   "source": [
    "def print_datatypes():\n",
    "    a = 1\n",
    "    b = 8.3\n",
    "    c = \"s\"\n",
    "    d = \"word\"\n",
    "    e = True\n",
    "    f = bool(0)\n",
    "    g = None\n",
    "    h = [1, 2, 3]\n",
    "    i = (1, 2, 3)\n",
    "    j = {1, 2, 3}\n",
    "    k = {\"a\": 1, \"b\": 2, \"c\": 3}\n",
    "    l = range(10)\n",
    "    k = [1,\"s\",True]\n",
    "    \n",
    "    ...\n",
    "\n",
    "\n",
    "    \n",
    "\n"
   ]
  },
  {
   "cell_type": "markdown",
   "metadata": {
    "deletable": false,
    "editable": false
   },
   "source": [
    "## Exercise 2: Data Type Conversion and String Formatting\n",
    "\n",
    "Convert the variables to the following data types:\n",
    "\n",
    "- `a` to a float\n",
    "- `b` to an integer\n",
    "- `c` to a string\n",
    "\n",
    "Think about the possible data loss during the conversion.\n",
    "\n",
    "Print the variables after the conversion in the format `a = x.xx, b =   x, c = \"x\"`.\n",
    "\n"
   ]
  },
  {
   "cell_type": "code",
   "execution_count": null,
   "metadata": {
    "otter": {
     "tests": [
      "e2"
     ]
    },
    "tags": []
   },
   "outputs": [],
   "source": [
    "def datatype_casting():\n",
    "    a = 1\n",
    "    b = 8.3\n",
    "    c = bool(0)\n",
    "\n",
    "    ...\n",
    "\n",
    "    "
   ]
  },
  {
   "cell_type": "markdown",
   "metadata": {
    "deletable": false,
    "editable": false
   },
   "source": [
    "## Exercise 3: System Information - Part 1\n",
    "Print Path of the Working Directory"
   ]
  },
  {
   "cell_type": "code",
   "execution_count": null,
   "metadata": {
    "otter": {
     "tests": [
      "e3"
     ]
    },
    "tags": []
   },
   "outputs": [],
   "source": [
    "def print_working_directory():\n",
    "    ..."
   ]
  },
  {
   "cell_type": "markdown",
   "metadata": {
    "deletable": false,
    "editable": false
   },
   "source": [
    "## Exercise 4: System Information - Part 2\n",
    "List Files in the Working Directory"
   ]
  },
  {
   "cell_type": "code",
   "execution_count": null,
   "metadata": {
    "otter": {
     "tests": [
      "e4"
     ]
    },
    "tags": []
   },
   "outputs": [],
   "source": [
    "def list_files():\n",
    "    ..."
   ]
  },
  {
   "cell_type": "markdown",
   "metadata": {
    "deletable": false,
    "editable": false
   },
   "source": [
    "## Exercise 5: Counting\n",
    "Count the number of characters in a string and print the result in the format `The string \"xxx\" has x characters.`"
   ]
  },
  {
   "cell_type": "code",
   "execution_count": null,
   "metadata": {
    "otter": {
     "tests": [
      "e5"
     ]
    },
    "tags": []
   },
   "outputs": [],
   "source": [
    "def count_characters(s: str) -> int:\n",
    "    ..."
   ]
  },
  {
   "cell_type": "markdown",
   "metadata": {
    "deletable": false,
    "editable": false
   },
   "source": [
    "## Exercise 6: Lists\n",
    "Define a list of numbers from 1 to 10, use while, print the list and return the list."
   ]
  },
  {
   "cell_type": "code",
   "execution_count": null,
   "metadata": {
    "otter": {
     "tests": [
      "e6"
     ]
    },
    "tags": []
   },
   "outputs": [],
   "source": [
    "def my_list():\n",
    "    ..."
   ]
  },
  {
   "cell_type": "markdown",
   "metadata": {
    "deletable": false,
    "editable": false
   },
   "source": [
    "## Exercise 7: List Operations\n",
    "1. Add 11 to the list from the previous exercise and print the list.\n",
    "3. Further delete the 4th element from the list and print the list.\n",
    "4. Print the length of the list."
   ]
  },
  {
   "cell_type": "code",
   "execution_count": null,
   "metadata": {
    "otter": {
     "tests": [
      "e7"
     ]
    },
    "tags": []
   },
   "outputs": [],
   "source": [
    "def list_operations():\n",
    "    ...\n"
   ]
  },
  {
   "cell_type": "markdown",
   "metadata": {
    "deletable": false,
    "editable": false
   },
   "source": [
    "## Exercise 8: Loops and Condtions\n",
    "Print all the numbers from 1 to 10 that are divisible by 2.\n"
   ]
  },
  {
   "cell_type": "code",
   "execution_count": null,
   "metadata": {
    "tags": []
   },
   "outputs": [],
   "source": [
    "def loops_conditions():\n",
    "    ..."
   ]
  },
  {
   "cell_type": "code",
   "execution_count": null,
   "metadata": {
    "deletable": false,
    "editable": false
   },
   "outputs": [],
   "source": [
    "grader.check(\"e8\")"
   ]
  },
  {
   "cell_type": "markdown",
   "metadata": {
    "deletable": false,
    "editable": false
   },
   "source": [
    "## Exercise 9: List Comprehension\n",
    "Create a list of squares of the numbers from 1 to 10 using list comprehension, print and return the list.\n"
   ]
  },
  {
   "cell_type": "code",
   "execution_count": null,
   "metadata": {
    "otter": {
     "tests": [
      "e9"
     ]
    },
    "tags": []
   },
   "outputs": [],
   "source": [
    "def list_comprehension():\n",
    "    ..."
   ]
  },
  {
   "cell_type": "markdown",
   "metadata": {
    "deletable": false,
    "editable": false
   },
   "source": [
    "## Exercise 10: Functions\n",
    "\n",
    "Define a function `check_even` that takes a list of integer numbers as input and returns `True` if all the number in the list are even, otherwise returns `False`.\n",
    "\n",
    "First check if the numbers are integers, if not return `None`.\n",
    "\n",
    "\n",
    "\n"
   ]
  },
  {
   "cell_type": "code",
   "execution_count": null,
   "metadata": {
    "otter": {
     "tests": [
      "e10"
     ]
    },
    "tags": []
   },
   "outputs": [],
   "source": [
    "..."
   ]
  },
  {
   "cell_type": "markdown",
   "metadata": {
    "deletable": false,
    "editable": false
   },
   "source": [
    "## Submission\n",
    "\n",
    "Make sure you have run all cells in your notebook in order before running the cell below, so that all images/graphs appear in the output. The cell below will generate a zip file for you to submit. **Please save before exporting!**\n",
    "\n",
    "These are some submission instructions."
   ]
  },
  {
   "cell_type": "code",
   "execution_count": null,
   "metadata": {
    "deletable": false,
    "editable": false
   },
   "outputs": [],
   "source": [
    "# Save your notebook first, then run this cell to export your submission.\n",
    "grader.export(run_tests=True)"
   ]
  },
  {
   "cell_type": "markdown",
   "metadata": {},
   "source": [
    " "
   ]
  }
 ],
 "metadata": {
  "kernelspec": {
   "display_name": "myenv",
   "language": "python",
   "name": "python3"
  },
  "language_info": {
   "codemirror_mode": {
    "name": "ipython",
    "version": 3
   },
   "file_extension": ".py",
   "mimetype": "text/x-python",
   "name": "python",
   "nbconvert_exporter": "python",
   "pygments_lexer": "ipython3",
   "version": "3.12.7"
  },
  "otter": {
   "OK_FORMAT": true,
   "tests": {
    "e1": {
     "name": "e1",
     "points": null,
     "suites": [
      {
       "cases": [],
       "scored": true,
       "setup": "",
       "teardown": "",
       "type": "doctest"
      }
     ]
    },
    "e10": {
     "name": "e10",
     "points": null,
     "suites": [
      {
       "cases": [],
       "scored": true,
       "setup": "",
       "teardown": "",
       "type": "doctest"
      }
     ]
    },
    "e2": {
     "name": "e2",
     "points": null,
     "suites": [
      {
       "cases": [],
       "scored": true,
       "setup": "",
       "teardown": "",
       "type": "doctest"
      }
     ]
    },
    "e3": {
     "name": "e3",
     "points": null,
     "suites": [
      {
       "cases": [],
       "scored": true,
       "setup": "",
       "teardown": "",
       "type": "doctest"
      }
     ]
    },
    "e4": {
     "name": "e4",
     "points": null,
     "suites": [
      {
       "cases": [],
       "scored": true,
       "setup": "",
       "teardown": "",
       "type": "doctest"
      }
     ]
    },
    "e5": {
     "name": "e5",
     "points": null,
     "suites": [
      {
       "cases": [],
       "scored": true,
       "setup": "",
       "teardown": "",
       "type": "doctest"
      }
     ]
    },
    "e6": {
     "name": "e6",
     "points": null,
     "suites": [
      {
       "cases": [],
       "scored": true,
       "setup": "",
       "teardown": "",
       "type": "doctest"
      }
     ]
    },
    "e7": {
     "name": "e7",
     "points": null,
     "suites": [
      {
       "cases": [],
       "scored": true,
       "setup": "",
       "teardown": "",
       "type": "doctest"
      }
     ]
    },
    "e8": {
     "name": "e8",
     "points": null,
     "suites": [
      {
       "cases": [
        {
         "code": ">>> def test_loops_conditions(capsys):\n...     loops_conditions()\n...     captured = capsys.readouterr()\n...     output = captured.out.splitlines()\n...     assert output == ['2', '4', '6', '8', '10']\n",
         "hidden": false,
         "locked": false
        },
        {
         "code": ">>> test_loops_conditions(capsys)\n",
         "hidden": false,
         "locked": false
        }
       ],
       "scored": true,
       "setup": "",
       "teardown": "",
       "type": "doctest"
      }
     ]
    },
    "e9": {
     "name": "e9",
     "points": null,
     "suites": [
      {
       "cases": [],
       "scored": true,
       "setup": "",
       "teardown": "",
       "type": "doctest"
      }
     ]
    }
   }
  }
 },
 "nbformat": 4,
 "nbformat_minor": 2
}
