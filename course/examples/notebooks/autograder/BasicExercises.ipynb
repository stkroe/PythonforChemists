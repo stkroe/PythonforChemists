{
 "cells": [
  {
   "cell_type": "code",
   "execution_count": null,
   "metadata": {
    "deletable": false,
    "editable": false
   },
   "outputs": [],
   "source": [
    "# Initialize Otter\n",
    "import otter\n",
    "grader = otter.Notebook(\"BasicExercises.ipynb\")"
   ]
  },
  {
   "cell_type": "markdown",
   "metadata": {},
   "source": [
    "Instructions:\n",
    "\n",
    "- Open the file in the editor or Google Colab.\n",
    "- Solve each exercise by adapting the provided code skeleton.\n",
    "- Each exercise is written as a function to be able to test it independently.\n",
    "- Run the test cell to verify the correctness and get feedback.\n",
    "- The code is tested using the `otter-grader` module.\n",
    "- The test cell is hidden by default. \n",
    "- Run the last cell to submit the exercise.\n",
    "- Import any required modules at the beginning of the script."
   ]
  },
  {
   "cell_type": "markdown",
   "metadata": {
    "deletable": false,
    "editable": false
   },
   "source": [
    "## Exercise 1: Data Types\n",
    "\n",
    "Print data type of all variables in the provided code. First write also your guess for the data types of the variables.\n",
    "\n",
    "The output should be like this:\n",
    "\n",
    "```python\n",
    "x = 5, My guess: int, Data type: <class 'int'>\n",
    "y = 5.0, My guess: float, Data type: <class 'float'>\n",
    "...\n",
    "```"
   ]
  },
  {
   "cell_type": "code",
   "execution_count": 7,
   "metadata": {
    "otter": {
     "tests": [
      "e1"
     ]
    },
    "tags": [
     "otter_assign_solution_cell"
    ]
   },
   "outputs": [],
   "source": [
    "def print_datatypes():\n",
    "    a = 1\n",
    "    b = 8.3\n",
    "    c = \"s\"\n",
    "    d = \"word\"\n",
    "    e = True\n",
    "    f = bool(0)\n",
    "    g = None\n",
    "    h = [1, 2, 3]\n",
    "    i = (1, 2, 3)\n",
    "    j = {1, 2, 3}\n",
    "    k = {\"a\": 1, \"b\": 2, \"c\": 3}\n",
    "    l = range(10)\n",
    "    k = [1,\"s\",True]\n",
    "    \n",
    "    # BEGIN SOLUTION\n",
    "    print(\"a = {}, My guess: int, Data type: {}\".format(a, type(a)))\n",
    "    print(\"b = {}, My guess: float, Data type: {}\".format(b, type(b)))\n",
    "    print(\"c = {}, My guess: str, Data type: {}\".format(c, type(c)))\n",
    "    print(\"d = {}, My guess: str, Data type: {}\".format(d, type(d)))\n",
    "    print(\"e = {}, My guess: bool, Data type: {}\".format(e, type(e)))\n",
    "    print(\"f = {}, My guess: bool, Data type: {}\".format(f, type(f)))\n",
    "    print(\"g = {}, My guess: None, Data type: {}\".format(g, type(g)))\n",
    "    print(\"h = {}, My guess: list, Data type: {}\".format(h, type(h)))\n",
    "    print(\"i = {}, My guess: tuple, Data type: {}\".format(i, type(i)))\n",
    "    print(\"j = {}, My guess: set, Data type: {}\".format(j, type(j)))\n",
    "    print(\"k = {}, My guess: dict, Data type: {}\".format(k, type(k)))\n",
    "    print(\"l = {}, My guess: range, Data type: {}\".format(l, type(l)))\n",
    "    print(\"m = {}, My guess: list, Data type: {}\".format(m, type(m)))\n",
    "    # END SOLUTION\n",
    "\n",
    "\n",
    "    \n",
    "\n"
   ]
  },
  {
   "cell_type": "markdown",
   "metadata": {
    "deletable": false,
    "editable": false
   },
   "source": [
    "## Exercise 2: Data Type Conversion and String Formatting\n",
    "\n",
    "Convert the variables to the following data types:\n",
    "\n",
    "- `a` to a float\n",
    "- `b` to an integer\n",
    "- `c` to a string\n",
    "\n",
    "Think about the possible data loss during the conversion.\n",
    "\n",
    "Print the variables after the conversion in the format `a = x.xx, b =   x, c = \"x\"`.\n",
    "\n"
   ]
  },
  {
   "cell_type": "code",
   "execution_count": null,
   "metadata": {
    "otter": {
     "tests": [
      "e2"
     ]
    },
    "tags": [
     "otter_assign_solution_cell"
    ]
   },
   "outputs": [],
   "source": [
    "def datatype_casting():\n",
    "    a = 1\n",
    "    b = 8.3\n",
    "    c = bool(0)\n",
    "\n",
    "    # BEGIN SOLUTION\n",
    "    a = float(a)\n",
    "    b = int(b)\n",
    "    c = int(c)\n",
    "    print(\"a = {%.2f}, b = \\t{%d}, c = \\\"{%s}\\\"\".format(a, b, c))\n",
    "    # END SOLUTION\n",
    "\n",
    "    "
   ]
  },
  {
   "cell_type": "markdown",
   "metadata": {
    "deletable": false,
    "editable": false
   },
   "source": [
    "## Exercise 3: System Information - Part 1\n",
    "Print Path of the Working Directory"
   ]
  },
  {
   "cell_type": "code",
   "execution_count": null,
   "metadata": {
    "otter": {
     "tests": [
      "e3"
     ]
    },
    "tags": [
     "otter_assign_solution_cell"
    ]
   },
   "outputs": [],
   "source": [
    "def print_working_directory():\n",
    "    # BEGIN SOLUTION\n",
    "    print(os.getcwd())\n",
    "    # END SOLUTION"
   ]
  },
  {
   "cell_type": "markdown",
   "metadata": {
    "deletable": false,
    "editable": false
   },
   "source": [
    "## Exercise 4: System Information - Part 2\n",
    "List Files in the Working Directory"
   ]
  },
  {
   "cell_type": "code",
   "execution_count": null,
   "metadata": {
    "otter": {
     "tests": [
      "e4"
     ]
    },
    "tags": [
     "otter_assign_solution_cell"
    ]
   },
   "outputs": [],
   "source": [
    "def list_files():\n",
    "    # BEGIN SOLUTION\n",
    "    for file in os.listdir():\n",
    "        print(file)\n",
    "    # END SOLUTION"
   ]
  },
  {
   "cell_type": "markdown",
   "metadata": {
    "deletable": false,
    "editable": false
   },
   "source": [
    "## Exercise 5: Counting\n",
    "Count the number of characters in a string and print the result in the format `The string \"xxx\" has x characters.`"
   ]
  },
  {
   "cell_type": "code",
   "execution_count": null,
   "metadata": {
    "otter": {
     "tests": [
      "e5"
     ]
    },
    "tags": [
     "otter_assign_solution_cell"
    ]
   },
   "outputs": [],
   "source": [
    "def count_characters(s: str) -> int:\n",
    "    # BEGIN SOLUTION\n",
    "    print(\"The string '{}' has {} characters.\".format(s, len(s)))\n",
    "    # END SOLUTION"
   ]
  },
  {
   "cell_type": "markdown",
   "metadata": {
    "deletable": false,
    "editable": false
   },
   "source": [
    "## Exercise 6: Lists\n",
    "Define a list of numbers from 1 to 10, use while, print the list and return the list."
   ]
  },
  {
   "cell_type": "code",
   "execution_count": null,
   "metadata": {
    "otter": {
     "tests": [
      "e6"
     ]
    },
    "tags": [
     "otter_assign_solution_cell"
    ]
   },
   "outputs": [],
   "source": [
    "def my_list():\n",
    "    # BEGIN SOLUTION\n",
    "    l = []\n",
    "    i = 0\n",
    "    while i < 10:\n",
    "        l.append(i)\n",
    "        i += 1\n",
    "    print(l)\n",
    "    return l\n",
    "    # END SOLUTION"
   ]
  },
  {
   "cell_type": "markdown",
   "metadata": {
    "deletable": false,
    "editable": false
   },
   "source": [
    "## Exercise 7: List Operations\n",
    "1. Add 11 to the list from the previous exercise and print the list.\n",
    "3. Further delete the 4th element from the list and print the list.\n",
    "4. Print the length of the list."
   ]
  },
  {
   "cell_type": "code",
   "execution_count": null,
   "metadata": {
    "otter": {
     "tests": [
      "e7"
     ]
    },
    "tags": [
     "otter_assign_solution_cell"
    ]
   },
   "outputs": [],
   "source": [
    "def list_operations():\n",
    "    # BEGIN SOLUTION\n",
    "    l = my_list()\n",
    "    l.append(11)\n",
    "    print(l)\n",
    "    l.pop(4)\n",
    "    print(l)\n",
    "    print(len(l))\n",
    "    # END SOLUTION\n"
   ]
  },
  {
   "cell_type": "markdown",
   "metadata": {
    "deletable": false,
    "editable": false
   },
   "source": [
    "## Exercise 8: Loops and Condtions\n",
    "Print all the numbers from 1 to 10 that are divisible by 2.\n"
   ]
  },
  {
   "cell_type": "code",
   "execution_count": null,
   "metadata": {
    "tags": [
     "otter_assign_solution_cell"
    ]
   },
   "outputs": [],
   "source": [
    "def loops_conditions():\n",
    "    # BEGIN SOLUTION\n",
    "    for i in range(10):\n",
    "        if i % 2 == 0:\n",
    "            print(i)\n",
    "    # END SOLUTION"
   ]
  },
  {
   "cell_type": "code",
   "execution_count": null,
   "metadata": {
    "deletable": false,
    "editable": false
   },
   "outputs": [],
   "source": [
    "grader.check(\"e8\")"
   ]
  },
  {
   "cell_type": "markdown",
   "metadata": {
    "deletable": false,
    "editable": false
   },
   "source": [
    "## Exercise 9: List Comprehension\n",
    "Create a list of squares of the numbers from 1 to 10 using list comprehension, print and return the list.\n"
   ]
  },
  {
   "cell_type": "code",
   "execution_count": null,
   "metadata": {
    "otter": {
     "tests": [
      "e9"
     ]
    },
    "tags": [
     "otter_assign_solution_cell"
    ]
   },
   "outputs": [],
   "source": [
    "def list_comprehension():\n",
    "    # BEGIN SOLUTION\n",
    "    l = [i for i in range(10) if i % 2 == 0]\n",
    "    print(l)\n",
    "    return l\n",
    "    # END SOLUTION"
   ]
  },
  {
   "cell_type": "markdown",
   "metadata": {
    "deletable": false,
    "editable": false
   },
   "source": [
    "## Exercise 10: Functions\n",
    "\n",
    "Define a function `check_even` that takes a list of integer numbers as input and returns `True` if all the number in the list are even, otherwise returns `False`.\n",
    "\n",
    "First check if the numbers are integers, if not return `None`.\n",
    "\n",
    "\n",
    "\n"
   ]
  },
  {
   "cell_type": "code",
   "execution_count": null,
   "metadata": {
    "otter": {
     "tests": [
      "e10"
     ]
    },
    "tags": [
     "otter_assign_solution_cell"
    ]
   },
   "outputs": [],
   "source": [
    "# BEGIN SOLUTION\n",
    "def check_even():\n",
    "    for i in range(10):\n",
    "        if i % 2 == 0:\n",
    "            print(i)\n",
    "# END SOLUTION"
   ]
  },
  {
   "cell_type": "markdown",
   "metadata": {
    "deletable": false,
    "editable": false
   },
   "source": [
    "## Submission\n",
    "\n",
    "Make sure you have run all cells in your notebook in order before running the cell below, so that all images/graphs appear in the output. The cell below will generate a zip file for you to submit. **Please save before exporting!**\n",
    "\n",
    "These are some submission instructions."
   ]
  },
  {
   "cell_type": "code",
   "execution_count": null,
   "metadata": {
    "deletable": false,
    "editable": false
   },
   "outputs": [],
   "source": [
    "# Save your notebook first, then run this cell to export your submission.\n",
    "grader.export(run_tests=True)"
   ]
  },
  {
   "cell_type": "markdown",
   "metadata": {},
   "source": [
    " "
   ]
  }
 ],
 "metadata": {
  "kernelspec": {
   "display_name": "myenv",
   "language": "python",
   "name": "python3"
  },
  "language_info": {
   "codemirror_mode": {
    "name": "ipython",
    "version": 3
   },
   "file_extension": ".py",
   "mimetype": "text/x-python",
   "name": "python",
   "nbconvert_exporter": "python",
   "pygments_lexer": "ipython3",
   "version": "3.12.7"
  },
  "otter": {
   "OK_FORMAT": true,
   "tests": {
    "e1": {
     "name": "e1",
     "points": null,
     "suites": [
      {
       "cases": [
        {
         "code": ">>> def test_print_datatypes(capsys):\n...     print_datatypes()\n...     captured = capsys.readouterr()\n...     output = captured.out.splitlines()\n...     assert output[0] == \"a = 1, My guess: int, Data type: <class 'int'>\"\n...     assert output[1] == \"b = 8.3, My guess: float, Data type: <class 'float'>\"\n...     assert output[2] == \"c = s, My guess: str, Data type: <class 'str'>\"\n...     assert output[3] == \"d = word, My guess: str, Data type: <class 'str'>\"\n...     assert output[4] == \"e = True, My guess: bool, Data type: <class 'bool'>\"\n...     assert output[5] == \"f = False, My guess: bool, Data type: <class 'bool'>\"\n...     assert output[6] == \"g = None, My guess: None, Data type: <class 'NoneType'>\"\n...     assert output[7] == \"h = [1, 2, 3], My guess: list, Data type: <class 'list'>\"\n...     assert output[8] == \"i = (1, 2, 3), My guess: tuple, Data type: <class 'tuple'>\"\n...     assert output[9] == \"j = {1, 2, 3}, My guess: set, Data type: <class 'set'>\"\n...     assert output[10] == \"k = {'a': 1, 'b': 2}, My guess: dict, Data type: <class 'dict'>\"\n...     assert output[11] == \"l = range(0,10) My guess: range, Data type: <class 'range'>\"\n...     assert output[12] == \"m = [1, 's', True], My guess: list, Data type: <class 'list'>\"\n",
         "hidden": true,
         "locked": false
        },
        {
         "code": ">>> test_print_datatypes(capsys)\n",
         "hidden": true,
         "locked": false
        }
       ],
       "scored": true,
       "setup": "",
       "teardown": "",
       "type": "doctest"
      }
     ]
    },
    "e10": {
     "name": "e10",
     "points": null,
     "suites": [
      {
       "cases": [
        {
         "code": ">>> def test_check_even():\n...     assert check_even([2, 4, 6]) == 'True'\n...     assert check_even([1, 3, 5]) == 'False'\n...     assert check_even([2, 4, 5]) == 'False'\n",
         "hidden": true,
         "locked": false
        },
        {
         "code": ">>> test_check_even()\n",
         "hidden": true,
         "locked": false
        }
       ],
       "scored": true,
       "setup": "",
       "teardown": "",
       "type": "doctest"
      }
     ]
    },
    "e2": {
     "name": "e2",
     "points": null,
     "suites": [
      {
       "cases": [
        {
         "code": ">>> def test_datatype_casting(capsys):\n...     datatype_casting()\n...     captured = capsys.readouterr()\n...     output = captured.out.splitlines()\n...     assert output[0] == 'a = {1.00}, b = \\t{8}, c = \"{0}\"'\n",
         "hidden": true,
         "locked": false
        },
        {
         "code": ">>> test_datatype_casting(capsys)\n",
         "hidden": true,
         "locked": false
        }
       ],
       "scored": true,
       "setup": "",
       "teardown": "",
       "type": "doctest"
      }
     ]
    },
    "e3": {
     "name": "e3",
     "points": null,
     "suites": [
      {
       "cases": [
        {
         "code": ">>> def test_print_working_directory(capsys):\n...     print_working_directory()\n...     captured = capsys.readouterr()\n...     output = captured.out.strip()\n...     assert output == os.getcwd()\n",
         "hidden": true,
         "locked": false
        },
        {
         "code": ">>> test_print_working_directory(capsys)\n",
         "hidden": true,
         "locked": false
        }
       ],
       "scored": true,
       "setup": "",
       "teardown": "",
       "type": "doctest"
      }
     ]
    },
    "e4": {
     "name": "e4",
     "points": null,
     "suites": [
      {
       "cases": [
        {
         "code": ">>> def test_list_files(capsys):\n...     list_files()\n...     captured = capsys.readouterr()\n...     output = captured.out.splitlines()\n...     assert set(output) == set(os.listdir())\n",
         "hidden": true,
         "locked": false
        },
        {
         "code": ">>> test_list_files(capsys)\n",
         "hidden": true,
         "locked": false
        }
       ],
       "scored": true,
       "setup": "",
       "teardown": "",
       "type": "doctest"
      }
     ]
    },
    "e5": {
     "name": "e5",
     "points": null,
     "suites": [
      {
       "cases": [
        {
         "code": ">>> def test_count_characters():\n...     assert count_characters('hello') == \"The string 'hello' has 5 characters.\"\n...     assert count_characters('') == \"The string '' has 0 characters.\"\n",
         "hidden": true,
         "locked": false
        },
        {
         "code": ">>> test_count_characters()\n",
         "hidden": true,
         "locked": false
        }
       ],
       "scored": true,
       "setup": "",
       "teardown": "",
       "type": "doctest"
      }
     ]
    },
    "e6": {
     "name": "e6",
     "points": null,
     "suites": [
      {
       "cases": [
        {
         "code": ">>> def test_my_list():\n...     my_list()\n...     captured = capsys.readouterr()\n...     output = captured.out.splitlines()\n...     assert output == ['[0, 1, 2, 3, 4, 5, 6, 7, 8, 9]']\n",
         "hidden": true,
         "locked": false
        },
        {
         "code": ">>> test_my_list()\n",
         "hidden": true,
         "locked": false
        }
       ],
       "scored": true,
       "setup": "",
       "teardown": "",
       "type": "doctest"
      }
     ]
    },
    "e7": {
     "name": "e7",
     "points": null,
     "suites": [
      {
       "cases": [
        {
         "code": ">>> def test_list_operations(capsys):\n...     list_operations()\n...     captured = capsys.readouterr()\n...     output = captured.out.splitlines()\n...     assert output[0] == '[0, 1, 2, 3, 4, 5, 6, 7, 8, 9]'\n...     assert output[1] == '[0, 1, 2, 3, 4, 5, 6, 7, 8, 9, 11]'\n...     assert output[2] == '[0, 1, 2, 3, 5, 6, 7, 8, 9, 11]'\n...     assert output[3] == '10'\n",
         "hidden": true,
         "locked": false
        },
        {
         "code": ">>> test_list_operations()\n",
         "hidden": true,
         "locked": false
        }
       ],
       "scored": true,
       "setup": "",
       "teardown": "",
       "type": "doctest"
      }
     ]
    },
    "e8": {
     "name": "e8",
     "points": null,
     "suites": [
      {
       "cases": [
        {
         "code": ">>> def test_loops_conditions(capsys):\n...     loops_conditions()\n...     captured = capsys.readouterr()\n...     output = captured.out.splitlines()\n...     assert output == ['2', '4', '6', '8', '10']\n",
         "hidden": false,
         "locked": false
        },
        {
         "code": ">>> test_loops_conditions(capsys)\n",
         "hidden": false,
         "locked": false
        }
       ],
       "scored": true,
       "setup": "",
       "teardown": "",
       "type": "doctest"
      }
     ]
    },
    "e9": {
     "name": "e9",
     "points": null,
     "suites": [
      {
       "cases": [
        {
         "code": ">>> def test_list_comprehension(capsys):\n...     list_comprehension()\n...     captured = capsys.readouterr()\n...     output = captured.out.splitlines()\n...     assert output == ['[0, 2, 4, 6, 8]']\n",
         "hidden": true,
         "locked": false
        },
        {
         "code": ">>> test_list_comprehension()\n",
         "hidden": true,
         "locked": false
        }
       ],
       "scored": true,
       "setup": "",
       "teardown": "",
       "type": "doctest"
      }
     ]
    }
   }
  }
 },
 "nbformat": 4,
 "nbformat_minor": 2
}
