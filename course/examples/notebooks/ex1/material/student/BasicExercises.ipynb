{
 "cells": [
  {
   "cell_type": "code",
   "execution_count": 21,
   "metadata": {
    "deletable": false,
    "editable": false
   },
   "outputs": [
    {
     "name": "stdout",
     "output_type": "stream",
     "text": [
      "Requirement already satisfied: otter-grader in /Users/stk/y/envs/myenv/lib/python3.12/site-packages (6.1.2)\n",
      "Requirement already satisfied: click<9.0.0,>=8.1.7 in /Users/stk/y/envs/myenv/lib/python3.12/site-packages (from otter-grader) (8.1.7)\n",
      "Requirement already satisfied: dill>=0.3.0 in /Users/stk/y/envs/myenv/lib/python3.12/site-packages (from otter-grader) (0.3.9)\n",
      "Requirement already satisfied: fica>=0.4.1 in /Users/stk/y/envs/myenv/lib/python3.12/site-packages (from otter-grader) (0.4.1)\n",
      "Requirement already satisfied: ipylab<2.0.0,>=1.0.0 in /Users/stk/y/envs/myenv/lib/python3.12/site-packages (from otter-grader) (1.0.0)\n",
      "Requirement already satisfied: ipython in /Users/stk/y/envs/myenv/lib/python3.12/site-packages (from otter-grader) (8.29.0)\n",
      "Requirement already satisfied: ipywidgets<9.0.0,>=8.1.5 in /Users/stk/y/envs/myenv/lib/python3.12/site-packages (from otter-grader) (8.1.5)\n",
      "Requirement already satisfied: jinja2<4.0,>=3.1 in /Users/stk/y/envs/myenv/lib/python3.12/site-packages (from otter-grader) (3.1.4)\n",
      "Requirement already satisfied: jupytext<2.0.0,>=1.16.4 in /Users/stk/y/envs/myenv/lib/python3.12/site-packages (from otter-grader) (1.16.6)\n",
      "Requirement already satisfied: nbconvert>=6.0.0 in /Users/stk/y/envs/myenv/lib/python3.12/site-packages (from nbconvert[webpdf]>=6.0.0; sys_platform != \"emscripten\" and sys_platform != \"wasi\"->otter-grader) (7.16.4)\n",
      "Requirement already satisfied: nbformat>=5.0.0 in /Users/stk/y/envs/myenv/lib/python3.12/site-packages (from otter-grader) (5.10.4)\n",
      "Requirement already satisfied: pandas>=2.0.0 in /Users/stk/y/envs/myenv/lib/python3.12/site-packages (from otter-grader) (2.2.3)\n",
      "Requirement already satisfied: python-on-whales<1.0.0,>=0.72.0 in /Users/stk/y/envs/myenv/lib/python3.12/site-packages (from otter-grader) (0.75.1)\n",
      "Requirement already satisfied: pyyaml<7,>=6 in /Users/stk/y/envs/myenv/lib/python3.12/site-packages (from otter-grader) (6.0.2)\n",
      "Requirement already satisfied: requests<3.0,>=2.31 in /Users/stk/y/envs/myenv/lib/python3.12/site-packages (from otter-grader) (2.32.3)\n",
      "Requirement already satisfied: wrapt<2.0.0,>=1.16.0 in /Users/stk/y/envs/myenv/lib/python3.12/site-packages (from otter-grader) (1.17.1)\n",
      "Requirement already satisfied: docutils in /Users/stk/y/envs/myenv/lib/python3.12/site-packages (from fica>=0.4.1->otter-grader) (0.21.2)\n",
      "Requirement already satisfied: sphinx in /Users/stk/y/envs/myenv/lib/python3.12/site-packages (from fica>=0.4.1->otter-grader) (8.1.3)\n",
      "Requirement already satisfied: comm>=0.1.3 in /Users/stk/y/envs/myenv/lib/python3.12/site-packages (from ipywidgets<9.0.0,>=8.1.5->otter-grader) (0.2.2)\n",
      "Requirement already satisfied: traitlets>=4.3.1 in /Users/stk/y/envs/myenv/lib/python3.12/site-packages (from ipywidgets<9.0.0,>=8.1.5->otter-grader) (5.14.3)\n",
      "Requirement already satisfied: widgetsnbextension~=4.0.12 in /Users/stk/y/envs/myenv/lib/python3.12/site-packages (from ipywidgets<9.0.0,>=8.1.5->otter-grader) (4.0.13)\n",
      "Requirement already satisfied: jupyterlab-widgets~=3.0.12 in /Users/stk/y/envs/myenv/lib/python3.12/site-packages (from ipywidgets<9.0.0,>=8.1.5->otter-grader) (3.0.13)\n",
      "Requirement already satisfied: decorator in /Users/stk/y/envs/myenv/lib/python3.12/site-packages (from ipython->otter-grader) (5.1.1)\n",
      "Requirement already satisfied: jedi>=0.16 in /Users/stk/y/envs/myenv/lib/python3.12/site-packages (from ipython->otter-grader) (0.19.2)\n",
      "Requirement already satisfied: matplotlib-inline in /Users/stk/y/envs/myenv/lib/python3.12/site-packages (from ipython->otter-grader) (0.1.7)\n",
      "Requirement already satisfied: prompt-toolkit<3.1.0,>=3.0.41 in /Users/stk/y/envs/myenv/lib/python3.12/site-packages (from ipython->otter-grader) (3.0.48)\n",
      "Requirement already satisfied: pygments>=2.4.0 in /Users/stk/y/envs/myenv/lib/python3.12/site-packages (from ipython->otter-grader) (2.18.0)\n",
      "Requirement already satisfied: stack-data in /Users/stk/y/envs/myenv/lib/python3.12/site-packages (from ipython->otter-grader) (0.6.2)\n",
      "Requirement already satisfied: pexpect>4.3 in /Users/stk/y/envs/myenv/lib/python3.12/site-packages (from ipython->otter-grader) (4.9.0)\n",
      "Requirement already satisfied: MarkupSafe>=2.0 in /Users/stk/y/envs/myenv/lib/python3.12/site-packages (from jinja2<4.0,>=3.1->otter-grader) (3.0.2)\n",
      "Requirement already satisfied: markdown-it-py>=1.0 in /Users/stk/y/envs/myenv/lib/python3.12/site-packages (from jupytext<2.0.0,>=1.16.4->otter-grader) (3.0.0)\n",
      "Requirement already satisfied: mdit-py-plugins in /Users/stk/y/envs/myenv/lib/python3.12/site-packages (from jupytext<2.0.0,>=1.16.4->otter-grader) (0.4.2)\n",
      "Requirement already satisfied: packaging in /Users/stk/y/envs/myenv/lib/python3.12/site-packages (from jupytext<2.0.0,>=1.16.4->otter-grader) (24.2)\n",
      "Requirement already satisfied: beautifulsoup4 in /Users/stk/y/envs/myenv/lib/python3.12/site-packages (from nbconvert>=6.0.0->nbconvert[webpdf]>=6.0.0; sys_platform != \"emscripten\" and sys_platform != \"wasi\"->otter-grader) (4.12.3)\n",
      "Requirement already satisfied: bleach!=5.0.0 in /Users/stk/y/envs/myenv/lib/python3.12/site-packages (from nbconvert>=6.0.0->nbconvert[webpdf]>=6.0.0; sys_platform != \"emscripten\" and sys_platform != \"wasi\"->otter-grader) (6.2.0)\n",
      "Requirement already satisfied: defusedxml in /Users/stk/y/envs/myenv/lib/python3.12/site-packages (from nbconvert>=6.0.0->nbconvert[webpdf]>=6.0.0; sys_platform != \"emscripten\" and sys_platform != \"wasi\"->otter-grader) (0.7.1)\n",
      "Requirement already satisfied: jupyter-core>=4.7 in /Users/stk/y/envs/myenv/lib/python3.12/site-packages (from nbconvert>=6.0.0->nbconvert[webpdf]>=6.0.0; sys_platform != \"emscripten\" and sys_platform != \"wasi\"->otter-grader) (5.7.2)\n",
      "Requirement already satisfied: jupyterlab-pygments in /Users/stk/y/envs/myenv/lib/python3.12/site-packages (from nbconvert>=6.0.0->nbconvert[webpdf]>=6.0.0; sys_platform != \"emscripten\" and sys_platform != \"wasi\"->otter-grader) (0.3.0)\n",
      "Requirement already satisfied: mistune<4,>=2.0.3 in /Users/stk/y/envs/myenv/lib/python3.12/site-packages (from nbconvert>=6.0.0->nbconvert[webpdf]>=6.0.0; sys_platform != \"emscripten\" and sys_platform != \"wasi\"->otter-grader) (3.0.2)\n",
      "Requirement already satisfied: nbclient>=0.5.0 in /Users/stk/y/envs/myenv/lib/python3.12/site-packages (from nbconvert>=6.0.0->nbconvert[webpdf]>=6.0.0; sys_platform != \"emscripten\" and sys_platform != \"wasi\"->otter-grader) (0.10.0)\n",
      "Requirement already satisfied: pandocfilters>=1.4.1 in /Users/stk/y/envs/myenv/lib/python3.12/site-packages (from nbconvert>=6.0.0->nbconvert[webpdf]>=6.0.0; sys_platform != \"emscripten\" and sys_platform != \"wasi\"->otter-grader) (1.5.0)\n",
      "Requirement already satisfied: tinycss2 in /Users/stk/y/envs/myenv/lib/python3.12/site-packages (from nbconvert>=6.0.0->nbconvert[webpdf]>=6.0.0; sys_platform != \"emscripten\" and sys_platform != \"wasi\"->otter-grader) (1.4.0)\n",
      "Requirement already satisfied: playwright in /Users/stk/y/envs/myenv/lib/python3.12/site-packages (from nbconvert[webpdf]>=6.0.0; sys_platform != \"emscripten\" and sys_platform != \"wasi\"->otter-grader) (1.49.1)\n",
      "Requirement already satisfied: fastjsonschema>=2.15 in /Users/stk/y/envs/myenv/lib/python3.12/site-packages (from nbformat>=5.0.0->otter-grader) (2.20.0)\n",
      "Requirement already satisfied: jsonschema>=2.6 in /Users/stk/y/envs/myenv/lib/python3.12/site-packages (from nbformat>=5.0.0->otter-grader) (4.23.0)\n",
      "Requirement already satisfied: numpy>=1.26.0 in /Users/stk/y/envs/myenv/lib/python3.12/site-packages (from pandas>=2.0.0->otter-grader) (1.26.4)\n",
      "Requirement already satisfied: python-dateutil>=2.8.2 in /Users/stk/y/envs/myenv/lib/python3.12/site-packages (from pandas>=2.0.0->otter-grader) (2.9.0.post0)\n",
      "Requirement already satisfied: pytz>=2020.1 in /Users/stk/y/envs/myenv/lib/python3.12/site-packages (from pandas>=2.0.0->otter-grader) (2024.1)\n",
      "Requirement already satisfied: tzdata>=2022.7 in /Users/stk/y/envs/myenv/lib/python3.12/site-packages (from pandas>=2.0.0->otter-grader) (2024.2)\n",
      "Requirement already satisfied: pydantic!=2.0.*,<3,>=2 in /Users/stk/y/envs/myenv/lib/python3.12/site-packages (from python-on-whales<1.0.0,>=0.72.0->otter-grader) (2.10.5)\n",
      "Requirement already satisfied: typing-extensions in /Users/stk/y/envs/myenv/lib/python3.12/site-packages (from python-on-whales<1.0.0,>=0.72.0->otter-grader) (4.12.2)\n",
      "Requirement already satisfied: charset-normalizer<4,>=2 in /Users/stk/y/envs/myenv/lib/python3.12/site-packages (from requests<3.0,>=2.31->otter-grader) (3.4.0)\n",
      "Requirement already satisfied: idna<4,>=2.5 in /Users/stk/y/envs/myenv/lib/python3.12/site-packages (from requests<3.0,>=2.31->otter-grader) (3.10)\n",
      "Requirement already satisfied: urllib3<3,>=1.21.1 in /Users/stk/y/envs/myenv/lib/python3.12/site-packages (from requests<3.0,>=2.31->otter-grader) (2.2.3)\n",
      "Requirement already satisfied: certifi>=2017.4.17 in /Users/stk/y/envs/myenv/lib/python3.12/site-packages (from requests<3.0,>=2.31->otter-grader) (2024.8.30)\n",
      "Requirement already satisfied: webencodings in /Users/stk/y/envs/myenv/lib/python3.12/site-packages (from bleach!=5.0.0->nbconvert>=6.0.0->nbconvert[webpdf]>=6.0.0; sys_platform != \"emscripten\" and sys_platform != \"wasi\"->otter-grader) (0.5.1)\n",
      "Requirement already satisfied: parso<0.9.0,>=0.8.4 in /Users/stk/y/envs/myenv/lib/python3.12/site-packages (from jedi>=0.16->ipython->otter-grader) (0.8.4)\n",
      "Requirement already satisfied: attrs>=22.2.0 in /Users/stk/y/envs/myenv/lib/python3.12/site-packages (from jsonschema>=2.6->nbformat>=5.0.0->otter-grader) (24.2.0)\n",
      "Requirement already satisfied: jsonschema-specifications>=2023.03.6 in /Users/stk/y/envs/myenv/lib/python3.12/site-packages (from jsonschema>=2.6->nbformat>=5.0.0->otter-grader) (2024.10.1)\n",
      "Requirement already satisfied: referencing>=0.28.4 in /Users/stk/y/envs/myenv/lib/python3.12/site-packages (from jsonschema>=2.6->nbformat>=5.0.0->otter-grader) (0.35.1)\n",
      "Requirement already satisfied: rpds-py>=0.7.1 in /Users/stk/y/envs/myenv/lib/python3.12/site-packages (from jsonschema>=2.6->nbformat>=5.0.0->otter-grader) (0.21.0)\n",
      "Requirement already satisfied: platformdirs>=2.5 in /Users/stk/y/envs/myenv/lib/python3.12/site-packages (from jupyter-core>=4.7->nbconvert>=6.0.0->nbconvert[webpdf]>=6.0.0; sys_platform != \"emscripten\" and sys_platform != \"wasi\"->otter-grader) (4.3.6)\n",
      "Requirement already satisfied: mdurl~=0.1 in /Users/stk/y/envs/myenv/lib/python3.12/site-packages (from markdown-it-py>=1.0->jupytext<2.0.0,>=1.16.4->otter-grader) (0.1.2)\n",
      "Requirement already satisfied: jupyter-client>=6.1.12 in /Users/stk/y/envs/myenv/lib/python3.12/site-packages (from nbclient>=0.5.0->nbconvert>=6.0.0->nbconvert[webpdf]>=6.0.0; sys_platform != \"emscripten\" and sys_platform != \"wasi\"->otter-grader) (7.4.9)\n",
      "Requirement already satisfied: ptyprocess>=0.5 in /Users/stk/y/envs/myenv/lib/python3.12/site-packages (from pexpect>4.3->ipython->otter-grader) (0.7.0)\n",
      "Requirement already satisfied: wcwidth in /Users/stk/y/envs/myenv/lib/python3.12/site-packages (from prompt-toolkit<3.1.0,>=3.0.41->ipython->otter-grader) (0.2.13)\n",
      "Requirement already satisfied: annotated-types>=0.6.0 in /Users/stk/y/envs/myenv/lib/python3.12/site-packages (from pydantic!=2.0.*,<3,>=2->python-on-whales<1.0.0,>=0.72.0->otter-grader) (0.7.0)\n",
      "Requirement already satisfied: pydantic-core==2.27.2 in /Users/stk/y/envs/myenv/lib/python3.12/site-packages (from pydantic!=2.0.*,<3,>=2->python-on-whales<1.0.0,>=0.72.0->otter-grader) (2.27.2)\n",
      "Requirement already satisfied: six>=1.5 in /Users/stk/y/envs/myenv/lib/python3.12/site-packages (from python-dateutil>=2.8.2->pandas>=2.0.0->otter-grader) (1.16.0)\n",
      "Requirement already satisfied: soupsieve>1.2 in /Users/stk/y/envs/myenv/lib/python3.12/site-packages (from beautifulsoup4->nbconvert>=6.0.0->nbconvert[webpdf]>=6.0.0; sys_platform != \"emscripten\" and sys_platform != \"wasi\"->otter-grader) (2.5)\n",
      "Requirement already satisfied: greenlet==3.1.1 in /Users/stk/y/envs/myenv/lib/python3.12/site-packages (from playwright->nbconvert[webpdf]>=6.0.0; sys_platform != \"emscripten\" and sys_platform != \"wasi\"->otter-grader) (3.1.1)\n",
      "Requirement already satisfied: pyee==12.0.0 in /Users/stk/y/envs/myenv/lib/python3.12/site-packages (from playwright->nbconvert[webpdf]>=6.0.0; sys_platform != \"emscripten\" and sys_platform != \"wasi\"->otter-grader) (12.0.0)\n",
      "Requirement already satisfied: sphinxcontrib-applehelp>=1.0.7 in /Users/stk/y/envs/myenv/lib/python3.12/site-packages (from sphinx->fica>=0.4.1->otter-grader) (2.0.0)\n",
      "Requirement already satisfied: sphinxcontrib-devhelp>=1.0.6 in /Users/stk/y/envs/myenv/lib/python3.12/site-packages (from sphinx->fica>=0.4.1->otter-grader) (2.0.0)\n",
      "Requirement already satisfied: sphinxcontrib-htmlhelp>=2.0.6 in /Users/stk/y/envs/myenv/lib/python3.12/site-packages (from sphinx->fica>=0.4.1->otter-grader) (2.1.0)\n",
      "Requirement already satisfied: sphinxcontrib-jsmath>=1.0.1 in /Users/stk/y/envs/myenv/lib/python3.12/site-packages (from sphinx->fica>=0.4.1->otter-grader) (1.0.1)\n",
      "Requirement already satisfied: sphinxcontrib-qthelp>=1.0.6 in /Users/stk/y/envs/myenv/lib/python3.12/site-packages (from sphinx->fica>=0.4.1->otter-grader) (2.0.0)\n",
      "Requirement already satisfied: sphinxcontrib-serializinghtml>=1.1.9 in /Users/stk/y/envs/myenv/lib/python3.12/site-packages (from sphinx->fica>=0.4.1->otter-grader) (2.0.0)\n",
      "Requirement already satisfied: snowballstemmer>=2.2 in /Users/stk/y/envs/myenv/lib/python3.12/site-packages (from sphinx->fica>=0.4.1->otter-grader) (2.2.0)\n",
      "Requirement already satisfied: babel>=2.13 in /Users/stk/y/envs/myenv/lib/python3.12/site-packages (from sphinx->fica>=0.4.1->otter-grader) (2.16.0)\n",
      "Requirement already satisfied: alabaster>=0.7.14 in /Users/stk/y/envs/myenv/lib/python3.12/site-packages (from sphinx->fica>=0.4.1->otter-grader) (1.0.0)\n",
      "Requirement already satisfied: imagesize>=1.3 in /Users/stk/y/envs/myenv/lib/python3.12/site-packages (from sphinx->fica>=0.4.1->otter-grader) (1.4.1)\n",
      "Requirement already satisfied: executing>=1.2.0 in /Users/stk/y/envs/myenv/lib/python3.12/site-packages (from stack-data->ipython->otter-grader) (2.1.0)\n",
      "Requirement already satisfied: asttokens>=2.1.0 in /Users/stk/y/envs/myenv/lib/python3.12/site-packages (from stack-data->ipython->otter-grader) (2.4.1)\n",
      "Requirement already satisfied: pure-eval in /Users/stk/y/envs/myenv/lib/python3.12/site-packages (from stack-data->ipython->otter-grader) (0.2.3)\n",
      "Requirement already satisfied: entrypoints in /Users/stk/y/envs/myenv/lib/python3.12/site-packages (from jupyter-client>=6.1.12->nbclient>=0.5.0->nbconvert>=6.0.0->nbconvert[webpdf]>=6.0.0; sys_platform != \"emscripten\" and sys_platform != \"wasi\"->otter-grader) (0.4)\n",
      "Requirement already satisfied: nest-asyncio>=1.5.4 in /Users/stk/y/envs/myenv/lib/python3.12/site-packages (from jupyter-client>=6.1.12->nbclient>=0.5.0->nbconvert>=6.0.0->nbconvert[webpdf]>=6.0.0; sys_platform != \"emscripten\" and sys_platform != \"wasi\"->otter-grader) (1.6.0)\n",
      "Requirement already satisfied: pyzmq>=23.0 in /Users/stk/y/envs/myenv/lib/python3.12/site-packages (from jupyter-client>=6.1.12->nbclient>=0.5.0->nbconvert>=6.0.0->nbconvert[webpdf]>=6.0.0; sys_platform != \"emscripten\" and sys_platform != \"wasi\"->otter-grader) (26.2.0)\n",
      "Requirement already satisfied: tornado>=6.2 in /Users/stk/y/envs/myenv/lib/python3.12/site-packages (from jupyter-client>=6.1.12->nbclient>=0.5.0->nbconvert>=6.0.0->nbconvert[webpdf]>=6.0.0; sys_platform != \"emscripten\" and sys_platform != \"wasi\"->otter-grader) (6.4.1)\n"
     ]
    }
   ],
   "source": [
    "!pip install otter-grader \n"
   ]
  },
  {
   "cell_type": "code",
   "execution_count": 22,
   "metadata": {},
   "outputs": [
    {
     "name": "stdout",
     "output_type": "stream",
     "text": [
      "--2025-04-06 18:05:38--  https://github.com/stkroe/PythonforChemists/tree/master/course/examples/notebooks/ex1/autograder.zip\n",
      "Auflösen des Hostnamens github.com (github.com)… 140.82.121.3\n",
      "Verbindungsaufbau zu github.com (github.com)|140.82.121.3|:443 … verbunden.\n",
      "HTTP-Anforderung gesendet, auf Antwort wird gewartet … 302 Found\n",
      "Platz: https://github.com/stkroe/PythonforChemists/tree/main/course/examples/notebooks/ex1/autograder.zip [folgend]\n",
      "--2025-04-06 18:05:39--  https://github.com/stkroe/PythonforChemists/tree/main/course/examples/notebooks/ex1/autograder.zip\n",
      "Wiederverwendung der bestehenden Verbindung zu github.com:443.\n",
      "HTTP-Anforderung gesendet, auf Antwort wird gewartet … 301 Moved Permanently\n",
      "Platz: https://github.com/stkroe/PythonforChemists/blob/main/course/examples/notebooks/ex1/autograder.zip [folgend]\n",
      "--2025-04-06 18:05:39--  https://github.com/stkroe/PythonforChemists/blob/main/course/examples/notebooks/ex1/autograder.zip\n",
      "Wiederverwendung der bestehenden Verbindung zu github.com:443.\n",
      "HTTP-Anforderung gesendet, auf Antwort wird gewartet … 200 OK\n",
      "Länge: nicht spezifiziert [text/html]\n",
      "Wird in »autograder.zip« gespeichert.\n",
      "\n",
      "autograder.zip          [ <=>                ] 209,68K  --.-KB/s    in 0,1s    \n",
      "\n",
      "2025-04-06 18:05:39 (1,84 MB/s) - »autograder.zip« gespeichert [214712]\n",
      "\n",
      "Archive:  autograder.zip\n",
      "  End-of-central-directory signature not found.  Either this file is not\n",
      "  a zipfile, or it constitutes one disk of a multi-part archive.  In the\n",
      "  latter case the central directory and zipfile comment will be found on\n",
      "  the last disk(s) of this archive.\n",
      "unzip:  cannot find zipfile directory in one of autograder.zip or\n",
      "        autograder.zip.zip, and cannot find autograder.zip.ZIP, period.\n"
     ]
    }
   ],
   "source": [
    "# Initialize Otter\n",
    "files = \"https://github.com/stkroe/PythonforChemists/tree/master/course/examples/notebooks/ex1/autograder.zip\"\n",
    "\n",
    "!wget $files \n",
    "!unzip autograder.zip"
   ]
  },
  {
   "cell_type": "code",
   "execution_count": 23,
   "metadata": {},
   "outputs": [],
   "source": [
    "import otter\n",
    "grader = otter.Notebook()  \n"
   ]
  },
  {
   "cell_type": "markdown",
   "metadata": {},
   "source": [
    "\n",
    "\n",
    "# Control Structures\n",
    "\n",
    "Control structures are used to control the flow of a program. <br>\n",
    "The most common control structures are:\n",
    "\n",
    "- You can use the `if` statement to execute a block of code if a condition is true. \n",
    "- You can use the `elif` statement to execute a block of code if the first condition is - false and the second condition is true.\n",
    "- You can use the `else` statement to execute a block of code if the condition is false.\n",
    "- You can use the `for` loop to iterate over a sequence. \n",
    "- You can use the `while` loop to execute a block of code as long as a condition is true. \n",
    "- You can use the `break` statement to exit a loop. \n",
    "- You can use the `continue` statement to skip the rest of the code in a loop. \n",
    "- You can use the `pass` statement to do nothing.\n",
    "\n",
    "## if statement"
   ]
  },
  {
   "cell_type": "code",
   "execution_count": 24,
   "metadata": {},
   "outputs": [
    {
     "name": "stdout",
     "output_type": "stream",
     "text": [
      "x = 0\n"
     ]
    }
   ],
   "source": [
    "x = 0\n",
    "if x < 0:\n",
    "    print(\"x < 0\")\n",
    "elif x > 0:\n",
    "    print(\"x > 0\")\n",
    "else:\n",
    "    print(\"x = 0\")"
   ]
  },
  {
   "cell_type": "markdown",
   "metadata": {},
   "source": [
    "## break,continue,pass\n"
   ]
  },
  {
   "cell_type": "code",
   "execution_count": 25,
   "metadata": {},
   "outputs": [
    {
     "name": "stdout",
     "output_type": "stream",
     "text": [
      "0\n",
      "1\n",
      "2\n",
      "3\n",
      "4\n"
     ]
    }
   ],
   "source": [
    "for i in range(10):\n",
    "    if i == 5:\n",
    "        break\n",
    "    print(i)"
   ]
  },
  {
   "cell_type": "code",
   "execution_count": 26,
   "metadata": {},
   "outputs": [
    {
     "name": "stdout",
     "output_type": "stream",
     "text": [
      "0\n",
      "1\n",
      "2\n",
      "3\n",
      "4\n",
      "6\n",
      "7\n",
      "8\n",
      "9\n"
     ]
    }
   ],
   "source": [
    "for i in range(10):\n",
    "    if i == 5:\n",
    "        continue\n",
    "    print(i)"
   ]
  },
  {
   "cell_type": "code",
   "execution_count": 27,
   "metadata": {},
   "outputs": [
    {
     "name": "stdout",
     "output_type": "stream",
     "text": [
      "0\n",
      "1\n",
      "2\n",
      "3\n",
      "4\n",
      "5\n",
      "6\n",
      "7\n",
      "8\n",
      "9\n"
     ]
    }
   ],
   "source": [
    "for i in range(10):\n",
    "    if i == 5:\n",
    "        pass\n",
    "    print(i)"
   ]
  },
  {
   "cell_type": "markdown",
   "metadata": {},
   "source": [
    "## For Loops"
   ]
  },
  {
   "cell_type": "code",
   "execution_count": 28,
   "metadata": {},
   "outputs": [
    {
     "name": "stdout",
     "output_type": "stream",
     "text": [
      "0\n",
      "1\n",
      "2\n",
      "3\n",
      "4\n"
     ]
    }
   ],
   "source": [
    "for i in range(5): #from 0 to 4 \n",
    "    print(i)"
   ]
  },
  {
   "cell_type": "code",
   "execution_count": 29,
   "metadata": {},
   "outputs": [
    {
     "name": "stdout",
     "output_type": "stream",
     "text": [
      "1\n",
      "3\n",
      "5\n",
      "7\n",
      "9\n"
     ]
    }
   ],
   "source": [
    "for i in range(1,10,2): # start 1, stop 10 excluded, step 2\n",
    "    print(i)"
   ]
  },
  {
   "cell_type": "code",
   "execution_count": 30,
   "metadata": {},
   "outputs": [],
   "source": [
    "l = list(range(0,10))"
   ]
  },
  {
   "cell_type": "code",
   "execution_count": 31,
   "metadata": {},
   "outputs": [
    {
     "data": {
      "text/plain": [
       "[0, 1, 2, 3, 4, 5, 6, 7, 8, 9]"
      ]
     },
     "execution_count": 31,
     "metadata": {},
     "output_type": "execute_result"
    }
   ],
   "source": [
    "l"
   ]
  },
  {
   "cell_type": "code",
   "execution_count": 32,
   "metadata": {},
   "outputs": [
    {
     "name": "stdout",
     "output_type": "stream",
     "text": [
      "0\n",
      "1\n",
      "2\n",
      "3\n",
      "4\n",
      "5\n",
      "6\n",
      "7\n",
      "8\n",
      "9\n"
     ]
    }
   ],
   "source": [
    "for i in l:  # using list\n",
    "    print(i)"
   ]
  },
  {
   "cell_type": "markdown",
   "metadata": {},
   "source": [
    "## While Loops"
   ]
  },
  {
   "cell_type": "code",
   "execution_count": 33,
   "metadata": {},
   "outputs": [
    {
     "name": "stdout",
     "output_type": "stream",
     "text": [
      "0\n",
      "1\n",
      "2\n",
      "3\n"
     ]
    }
   ],
   "source": [
    "x = 0\n",
    "while x  < 4:\n",
    "    print(l[x])\n",
    "    x = x + 1"
   ]
  },
  {
   "cell_type": "code",
   "execution_count": 34,
   "metadata": {},
   "outputs": [
    {
     "name": "stdout",
     "output_type": "stream",
     "text": [
      "while loop with continue and break statement\n",
      "1\n",
      "2\n",
      "3\n",
      "4\n",
      "6\n",
      "The loop reached 7 and will break now.\n"
     ]
    }
   ],
   "source": [
    "print(\"while loop with continue and break statement\")\n",
    "n = 0\n",
    "while(n < 10):\n",
    "    n+=1\n",
    "    if n == 5:\n",
    "        continue\n",
    "    if n == 7:\n",
    "        print(\"The loop reached 7 and will break now.\")\n",
    "        break\n",
    "    print(n)"
   ]
  },
  {
   "cell_type": "markdown",
   "metadata": {},
   "source": [
    "## Functions\n",
    "\n",
    "\n",
    "Functions are defined using the `def` keyword. <br>\n",
    "You can use the `return` keyword to return a value from a function. <br>\n",
    "The parameters of a function are defined in the parentheses. <br>\n",
    "Multiple parameters are separated by commas. <br>\n",
    "You can use default values for the parameter *e.g.* `b=5`. <br>\n",
    "Multiple return values are separated by commas. <br>\n",
    "They are stored in a tuple. <br>\n"
   ]
  },
  {
   "cell_type": "code",
   "execution_count": 35,
   "metadata": {},
   "outputs": [],
   "source": [
    "def summation(a,b=5):\n",
    "    return a+b, a-b"
   ]
  },
  {
   "cell_type": "code",
   "execution_count": 36,
   "metadata": {},
   "outputs": [
    {
     "data": {
      "text/plain": [
       "(6, 2)"
      ]
     },
     "execution_count": 36,
     "metadata": {},
     "output_type": "execute_result"
    }
   ],
   "source": [
    "summation(4,2)"
   ]
  },
  {
   "cell_type": "code",
   "execution_count": 37,
   "metadata": {},
   "outputs": [
    {
     "name": "stdout",
     "output_type": "stream",
     "text": [
      "9\n",
      "-1\n"
     ]
    }
   ],
   "source": [
    "sum, sub = summation(4)\n",
    "print(sum)\n",
    "print(sub)"
   ]
  },
  {
   "cell_type": "code",
   "execution_count": 38,
   "metadata": {},
   "outputs": [
    {
     "name": "stdout",
     "output_type": "stream",
     "text": [
      "8 -7\n"
     ]
    }
   ],
   "source": [
    "x = 3\n",
    "\n",
    "def multiple_return_value(x,a,b):\n",
    "    n = x+a\n",
    "    m = x-b\n",
    "    return [n,m]\n",
    "print(multiple_return_value(x,5,10)[0],multiple_return_value(x,5,10)[1])"
   ]
  },
  {
   "cell_type": "markdown",
   "metadata": {},
   "source": [
    "\n",
    "\n",
    "## Style guideline for writing python code\n",
    "\n",
    "\n",
    "For writing a readable code, it is important to follow a style guideline. <br>\n",
    "The most common style guideline for Python is [PEP 8](https://www.python.org/dev/peps/pep-0008/). <br>\n",
    "\n",
    "\n",
    "\n",
    "\n"
   ]
  },
  {
   "cell_type": "markdown",
   "metadata": {},
   "source": [
    "# Exercises\n",
    "Download it locally and try to solve the exercises. <br>\n",
    "\n",
    "[Basic Python](https://github.com/stkroe/PythonforChemists/blob/main/course/examples/notebooks/ex1.zip)\n",
    "\n",
    "\n",
    "\n",
    "Or open it in `Google Colab`:\n",
    "\n",
    "[Basic Python](https://colab.research.google.com/github/stkroe/PythonforChemists/blob/main/course/examples/notebooks/ex1/material/student/BasicExercises.ipynb)"
   ]
  },
  {
   "cell_type": "markdown",
   "metadata": {},
   "source": [
    "Instructions:\n",
    "\n",
    "- Open the file in the editor or Google Colab.\n",
    "- Solve each exercise by adapting the provided code skeleton.\n",
    "- Each exercise is written as a function to be able to test it independently.\n",
    "- Run the test cell to verify the correctness and get feedback.\n",
    "- The code is tested using the `otter-grader` module.\n",
    "- The test cell is hidden by default. \n",
    "- Run the last cell to submit the exercise.\n",
    "- Import any required modules at the beginning of the script."
   ]
  },
  {
   "cell_type": "markdown",
   "metadata": {
    "deletable": false,
    "editable": false
   },
   "source": [
    "<!-- BEGIN QUESTION -->\n",
    "\n",
    "## Exercise 1: Data Types\n",
    "\n",
    "Print data type of all variables in the provided code. First write also your guess for the data types of the variables.\n",
    "\n",
    "The output should be like this:\n",
    "\n",
    "```python\n",
    "x = 5, My guess: int, Data type: <class 'int'>\n",
    "y = 5.0, My guess: float, Data type: <class 'float'>\n",
    "...\n",
    "```"
   ]
  },
  {
   "cell_type": "code",
   "execution_count": 39,
   "metadata": {
    "tags": [
     "otter_answer_cell"
    ]
   },
   "outputs": [],
   "source": [
    "def print_datatypes():\n",
    "    a = 1\n",
    "    b = 8.3\n",
    "    c = \"s\"\n",
    "    d = \"word\"\n",
    "    e = True\n",
    "    f = bool(0)\n",
    "    g = None\n",
    "    h = [1, 2, 3]\n",
    "    i = (1, 2, 3)\n",
    "    j = {1, 2, 3}\n",
    "    k = {\"a\": 1, \"b\": 2, \"c\": 3}\n",
    "    l = range(10)\n",
    "    m = [1,\"s\",True]\n",
    "    \n",
    "    ...\n",
    "\n",
    "    return None\n",
    "\n"
   ]
  },
  {
   "cell_type": "code",
   "execution_count": 40,
   "metadata": {
    "otter": {
     "tests": [
      "q1"
     ]
    },
    "tags": [
     "otter_answer_cell"
    ]
   },
   "outputs": [],
   "source": [
    "# BEGIN HIDDEN \n",
    "\n",
    "# capture the output of the function\n",
    "import io\n",
    "import sys\n",
    "from contextlib import redirect_stdout\n",
    "\n",
    "f = io.StringIO()\n",
    "with redirect_stdout(f):\n",
    "    print_datatypes()\n",
    "out = f.getvalue()\n",
    "# END HIDDEN "
   ]
  },
  {
   "cell_type": "markdown",
   "metadata": {
    "deletable": false,
    "editable": false
   },
   "source": [
    "<!-- END QUESTION -->\n",
    "\n",
    "<!-- BEGIN QUESTION -->\n",
    "\n",
    "## Exercise 2: Data Type Conversion and String Formatting\n",
    "\n",
    "Convert the variables to the following data types:\n",
    "\n",
    "- `a` to a float\n",
    "- `b` to an integer\n",
    "- `c` to a string\n",
    "\n",
    "Think about the possible data loss during the conversion.\n",
    "\n",
    "Print the variables after the conversion in the format `a = x.xx, b =   x, c = \"x\"` use `format()` method for string formatting.\n",
    "\n"
   ]
  },
  {
   "cell_type": "code",
   "execution_count": 41,
   "metadata": {
    "tags": [
     "otter_answer_cell"
    ]
   },
   "outputs": [],
   "source": [
    "def datatype_casting():\n",
    "    a = 1\n",
    "    b = 8.3\n",
    "    c = bool(0)\n",
    "\n",
    "    ...\n",
    "\n",
    "    return None"
   ]
  },
  {
   "cell_type": "code",
   "execution_count": 42,
   "metadata": {
    "otter": {
     "tests": [
      "q2"
     ]
    },
    "tags": [
     "otter_answer_cell"
    ]
   },
   "outputs": [],
   "source": [
    "# BEGIN HIDDEN \n",
    "\n",
    "# capture the output of the function\n",
    "import io\n",
    "import sys\n",
    "from contextlib import redirect_stdout\n",
    "\n",
    "f = io.StringIO()\n",
    "with redirect_stdout(f):\n",
    "    datatype_casting()\n",
    "out = f.getvalue()\n",
    "\n",
    "# END HIDDEN "
   ]
  },
  {
   "cell_type": "markdown",
   "metadata": {
    "deletable": false,
    "editable": false
   },
   "source": [
    "<!-- END QUESTION -->\n",
    "\n",
    "<!-- BEGIN QUESTION -->\n",
    "\n",
    "## Exercise 3: System Information - Part 1\n",
    "Print Path of the Working Directory"
   ]
  },
  {
   "cell_type": "code",
   "execution_count": 43,
   "metadata": {
    "tags": [
     "otter_answer_cell"
    ]
   },
   "outputs": [],
   "source": [
    "import os\n",
    "def print_working_directory():\n",
    "    ...\n",
    "    return None "
   ]
  },
  {
   "cell_type": "code",
   "execution_count": 44,
   "metadata": {
    "otter": {
     "tests": [
      "q3"
     ]
    },
    "tags": [
     "otter_answer_cell"
    ]
   },
   "outputs": [],
   "source": [
    "# BEGIN HIDDEN \n",
    "\n",
    "# capture the output of the function\n",
    "import io\n",
    "import sys\n",
    "from contextlib import redirect_stdout\n",
    "\n",
    "f = io.StringIO()\n",
    "with redirect_stdout(f):\n",
    "    print_working_directory()\n",
    "out = f.getvalue()\n",
    "# END HIDDEN "
   ]
  },
  {
   "cell_type": "markdown",
   "metadata": {
    "deletable": false,
    "editable": false
   },
   "source": [
    "<!-- END QUESTION -->\n",
    "\n",
    "<!-- BEGIN QUESTION -->\n",
    "\n",
    "## Exercise 4: System Information - Part 2\n",
    "List Files in the Working Directory"
   ]
  },
  {
   "cell_type": "code",
   "execution_count": 45,
   "metadata": {
    "tags": [
     "otter_answer_cell"
    ]
   },
   "outputs": [],
   "source": [
    "def list_files():\n",
    "    ...\n",
    "    return None"
   ]
  },
  {
   "cell_type": "code",
   "execution_count": 46,
   "metadata": {
    "otter": {
     "tests": [
      "q4"
     ]
    },
    "tags": [
     "otter_answer_cell"
    ]
   },
   "outputs": [],
   "source": [
    "# BEGIN HIDDEN \n",
    "\n",
    "# capture the output of the function\n",
    "import io\n",
    "import sys\n",
    "from contextlib import redirect_stdout\n",
    "\n",
    "f = io.StringIO()\n",
    "with redirect_stdout(f):\n",
    "    list_files()\n",
    "out = f.getvalue()\n",
    "# END HIDDEN "
   ]
  },
  {
   "cell_type": "markdown",
   "metadata": {
    "deletable": false,
    "editable": false
   },
   "source": [
    "<!-- END QUESTION -->\n",
    "\n",
    "<!-- BEGIN QUESTION -->\n",
    "\n",
    "## Exercise 5: Counting\n",
    "Count the number of characters in a string and return the result in the format `The string \"xxx\" has x characters.`"
   ]
  },
  {
   "cell_type": "code",
   "execution_count": 47,
   "metadata": {
    "tags": [
     "otter_answer_cell"
    ]
   },
   "outputs": [],
   "source": [
    "def count_characters(s: str) -> str:\n",
    "    ...\n"
   ]
  },
  {
   "cell_type": "code",
   "execution_count": null,
   "metadata": {
    "otter": {
     "tests": [
      "q5"
     ]
    },
    "tags": [
     "otter_answer_cell"
    ]
   },
   "outputs": [],
   "source": []
  },
  {
   "cell_type": "markdown",
   "metadata": {
    "deletable": false,
    "editable": false
   },
   "source": [
    "<!-- END QUESTION -->\n",
    "\n",
    "<!-- BEGIN QUESTION -->\n",
    "\n",
    "## Exercise 6: Lists\n",
    "Define a list of numbers from 1 to 10, use while and return the list."
   ]
  },
  {
   "cell_type": "code",
   "execution_count": 48,
   "metadata": {
    "otter": {
     "tests": [
      "q6"
     ]
    },
    "tags": [
     "otter_answer_cell"
    ]
   },
   "outputs": [],
   "source": [
    "def my_list():\n",
    "    ..."
   ]
  },
  {
   "cell_type": "markdown",
   "metadata": {
    "deletable": false,
    "editable": false
   },
   "source": [
    "<!-- END QUESTION -->\n",
    "\n",
    "<!-- BEGIN QUESTION -->\n",
    "\n",
    "## Exercise 7: List Operations\n",
    "1. Add 11 to the list from the previous exercise and print the list: print \"list: l\"\n",
    "3. Further delete the 4th element from the list and print the list: print \"list: l\"\n",
    "4. Print the length of the list: print \"length: x\""
   ]
  },
  {
   "cell_type": "code",
   "execution_count": 49,
   "metadata": {
    "tags": [
     "otter_answer_cell"
    ]
   },
   "outputs": [],
   "source": [
    "def list_operations():\n",
    "    ...\n",
    "    return None\n"
   ]
  },
  {
   "cell_type": "code",
   "execution_count": 50,
   "metadata": {
    "deletable": false,
    "editable": false,
    "otter": {
     "tests": [
      "q7"
     ]
    }
   },
   "outputs": [],
   "source": [
    "# BEGIN HIDDEN \n",
    "\n",
    "# capture the output of the function\n",
    "import io\n",
    "import sys\n",
    "from contextlib import redirect_stdout\n",
    "\n",
    "f = io.StringIO()\n",
    "with redirect_stdout(f):\n",
    "    list_operations()\n",
    "out = f.getvalue()\n",
    "# END HIDDEN "
   ]
  },
  {
   "cell_type": "markdown",
   "metadata": {
    "deletable": false,
    "editable": false
   },
   "source": [
    "<!-- END QUESTION -->\n",
    "\n",
    "<!-- BEGIN QUESTION -->\n",
    "\n",
    "## Exercise 8: Loops and Condtions\n",
    "Print all the numbers from 1 to 10 that are divisible by 2.\n"
   ]
  },
  {
   "cell_type": "code",
   "execution_count": 51,
   "metadata": {
    "tags": [
     "otter_answer_cell"
    ]
   },
   "outputs": [],
   "source": [
    "def loops_conditions():\n",
    "    ..."
   ]
  },
  {
   "cell_type": "code",
   "execution_count": 52,
   "metadata": {
    "otter": {
     "tests": [
      "q8"
     ]
    },
    "tags": [
     "otter_answer_cell"
    ]
   },
   "outputs": [],
   "source": [
    "# BEGIN HIDDEN \n",
    "\n",
    "# capture the output of the function\n",
    "import io\n",
    "import sys\n",
    "from contextlib import redirect_stdout\n",
    "\n",
    "f = io.StringIO()\n",
    "with redirect_stdout(f):\n",
    "    loops_conditions()\n",
    "out = f.getvalue()\n",
    "# END HIDDEN \n"
   ]
  },
  {
   "cell_type": "markdown",
   "metadata": {
    "deletable": false,
    "editable": false
   },
   "source": [
    "<!-- END QUESTION -->\n",
    "\n",
    "<!-- BEGIN QUESTION -->\n",
    "\n",
    "## Exercise 9: List Comprehension\n",
    "Create a list of squares of the numbers from 1 to 10 using list comprehension and return the list.\n"
   ]
  },
  {
   "cell_type": "code",
   "execution_count": 53,
   "metadata": {
    "otter": {
     "tests": [
      "q9"
     ]
    },
    "tags": [
     "otter_answer_cell"
    ]
   },
   "outputs": [],
   "source": [
    "def list_comprehension():\n",
    "    ..."
   ]
  },
  {
   "cell_type": "markdown",
   "metadata": {
    "deletable": false,
    "editable": false
   },
   "source": [
    "<!-- END QUESTION -->\n",
    "\n",
    "<!-- BEGIN QUESTION -->\n",
    "\n",
    "## Exercise 10: Functions\n",
    "\n",
    "Define a function `check_even` that takes a list of integer numbers as input and returns `True` if all the number in the list are even, otherwise returns `False`.\n",
    "\n",
    "First check if the numbers are integers, if not return `None`.\n",
    "\n",
    "\n",
    "\n"
   ]
  },
  {
   "cell_type": "code",
   "execution_count": 54,
   "metadata": {
    "otter": {
     "tests": [
      "q10"
     ]
    },
    "tags": [
     "otter_answer_cell"
    ]
   },
   "outputs": [],
   "source": [
    "\n",
    "def check_even(l: list) -> bool:\n",
    "    ..."
   ]
  },
  {
   "cell_type": "markdown",
   "metadata": {
    "deletable": false,
    "editable": false
   },
   "source": [
    "<!-- END QUESTION -->\n",
    "\n"
   ]
  },
  {
   "cell_type": "markdown",
   "metadata": {
    "deletable": false,
    "editable": false
   },
   "source": [
    "## Submission\n",
    "\n",
    "Make sure you have run all cells in your notebook in order before running the cell below, so that all images/graphs appear in the output. The cell below will generate a zip file for you to submit. **Please save before exporting!**"
   ]
  },
  {
   "cell_type": "code",
   "execution_count": 55,
   "metadata": {
    "deletable": false,
    "editable": false
   },
   "outputs": [
    {
     "name": "stdout",
     "output_type": "stream",
     "text": [
      "Running your submission against local test cases...\n",
      "\n",
      "\n",
      "Your submission received the following results when run against available test cases:\n",
      "\n",
      "\n"
     ]
    },
    {
     "data": {
      "text/html": [
       "\n",
       "                    <p>\n",
       "                        Your submission has been exported. Click\n",
       "                        <a href=\"BasicExercises_2025_04_06T18_05_40_603812.zip\" download=\"BasicExercises_2025_04_06T18_05_40_603812.zip\" target=\"_blank\">here</a> to download\n",
       "                        the zip file.\n",
       "                    </p>\n",
       "                "
      ],
      "text/plain": [
       "<IPython.core.display.HTML object>"
      ]
     },
     "metadata": {},
     "output_type": "display_data"
    }
   ],
   "source": [
    "# Save your notebook first, then run this cell to export your submission.\n",
    "grader.export(pdf=False, run_tests=True)"
   ]
  },
  {
   "cell_type": "markdown",
   "metadata": {},
   "source": [
    " "
   ]
  }
 ],
 "metadata": {
  "kernelspec": {
   "display_name": "myenv",
   "language": "python",
   "name": "python3"
  },
  "language_info": {
   "codemirror_mode": {
    "name": "ipython",
    "version": 3
   },
   "file_extension": ".py",
   "mimetype": "text/x-python",
   "name": "python",
   "nbconvert_exporter": "python",
   "pygments_lexer": "ipython3",
   "version": "3.12.7"
  },
  "otter": {
   "OK_FORMAT": true,
   "tests": {
    "q1": {
     "name": "q1",
     "points": null,
     "suites": [
      {
       "cases": [],
       "scored": true,
       "setup": "",
       "teardown": "",
       "type": "doctest"
      }
     ]
    },
    "q10": {
     "name": "q10",
     "points": null,
     "suites": [
      {
       "cases": [],
       "scored": true,
       "setup": "",
       "teardown": "",
       "type": "doctest"
      }
     ]
    },
    "q2": {
     "name": "q2",
     "points": null,
     "suites": [
      {
       "cases": [],
       "scored": true,
       "setup": "",
       "teardown": "",
       "type": "doctest"
      }
     ]
    },
    "q3": {
     "name": "q3",
     "points": null,
     "suites": [
      {
       "cases": [],
       "scored": true,
       "setup": "",
       "teardown": "",
       "type": "doctest"
      }
     ]
    },
    "q4": {
     "name": "q4",
     "points": null,
     "suites": [
      {
       "cases": [],
       "scored": true,
       "setup": "",
       "teardown": "",
       "type": "doctest"
      }
     ]
    },
    "q5": {
     "name": "q5",
     "points": null,
     "suites": [
      {
       "cases": [],
       "scored": true,
       "setup": "",
       "teardown": "",
       "type": "doctest"
      }
     ]
    },
    "q6": {
     "name": "q6",
     "points": null,
     "suites": [
      {
       "cases": [],
       "scored": true,
       "setup": "",
       "teardown": "",
       "type": "doctest"
      }
     ]
    },
    "q7": {
     "name": "q7",
     "points": null,
     "suites": [
      {
       "cases": [],
       "scored": true,
       "setup": "",
       "teardown": "",
       "type": "doctest"
      }
     ]
    },
    "q8": {
     "name": "q8",
     "points": null,
     "suites": [
      {
       "cases": [],
       "scored": true,
       "setup": "",
       "teardown": "",
       "type": "doctest"
      }
     ]
    },
    "q9": {
     "name": "q9",
     "points": null,
     "suites": [
      {
       "cases": [],
       "scored": true,
       "setup": "",
       "teardown": "",
       "type": "doctest"
      }
     ]
    }
   }
  }
 },
 "nbformat": 4,
 "nbformat_minor": 2
}
