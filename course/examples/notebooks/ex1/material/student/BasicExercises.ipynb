{
 "cells": [
  {
   "cell_type": "code",
   "execution_count": null,
   "metadata": {
    "deletable": false,
    "editable": false
   },
   "outputs": [
    {
     "name": "stdout",
     "output_type": "stream",
     "text": [
      "The folder you are executing pip from can no longer be found.\n"
     ]
    },
    {
     "ename": "Exception",
     "evalue": "Could not create the log file as the file system is read-only. Please contact your instructor before continuing on this assignment.",
     "output_type": "error",
     "traceback": [
      "\u001b[0;31m---------------------------------------------------------------------------\u001b[0m",
      "\u001b[0;31mFileNotFoundError\u001b[0m                         Traceback (most recent call last)",
      "File \u001b[0;32m~/y/envs/myenv/lib/python3.12/site-packages/otter/check/logs.py:152\u001b[0m, in \u001b[0;36mLogEntry.flush_to_file\u001b[0;34m(self, filename)\u001b[0m\n\u001b[1;32m    151\u001b[0m \u001b[38;5;28;01mtry\u001b[39;00m:\n\u001b[0;32m--> 152\u001b[0m     file \u001b[38;5;241m=\u001b[39m \u001b[38;5;28;43mopen\u001b[39;49m\u001b[43m(\u001b[49m\u001b[43mfilename\u001b[49m\u001b[43m,\u001b[49m\u001b[43m \u001b[49m\u001b[38;5;124;43m\"\u001b[39;49m\u001b[38;5;124;43mab+\u001b[39;49m\u001b[38;5;124;43m\"\u001b[39;49m\u001b[43m)\u001b[49m\n\u001b[1;32m    153\u001b[0m     dill\u001b[38;5;241m.\u001b[39mdump(\u001b[38;5;28mself\u001b[39m, file)\n",
      "\u001b[0;31mFileNotFoundError\u001b[0m: [Errno 2] No such file or directory: '.OTTER_LOG'",
      "\nDuring handling of the above exception, another exception occurred:\n",
      "\u001b[0;31mException\u001b[0m                                 Traceback (most recent call last)",
      "Cell \u001b[0;32mIn[26], line 5\u001b[0m\n\u001b[1;32m      3\u001b[0m get_ipython()\u001b[38;5;241m.\u001b[39msystem(\u001b[38;5;124m'\u001b[39m\u001b[38;5;124mpip install otter-grader && wget $files && unzip -o autograder.zip\u001b[39m\u001b[38;5;124m'\u001b[39m)\n\u001b[1;32m      4\u001b[0m \u001b[38;5;28;01mimport\u001b[39;00m \u001b[38;5;21;01motter\u001b[39;00m\n\u001b[0;32m----> 5\u001b[0m grader \u001b[38;5;241m=\u001b[39m \u001b[43motter\u001b[49m\u001b[38;5;241;43m.\u001b[39;49m\u001b[43mNotebook\u001b[49m\u001b[43m(\u001b[49m\u001b[43m)\u001b[49m  \n",
      "File \u001b[0;32m~/y/envs/myenv/lib/python3.12/site-packages/otter/check/utils.py:252\u001b[0m, in \u001b[0;36mlogs_event.<locals>.event_logger\u001b[0;34m(wrapped, self, args, kwargs)\u001b[0m\n\u001b[1;32m    247\u001b[0m     \u001b[38;5;28;01mraise\u001b[39;00m \u001b[38;5;167;01mTypeError\u001b[39;00m(\n\u001b[1;32m    248\u001b[0m         \u001b[38;5;124mf\u001b[39m\u001b[38;5;124m\"\u001b[39m\u001b[38;5;124mMethod decorated by logs_event returned value of invalid type: \u001b[39m\u001b[38;5;132;01m{\u001b[39;00m\u001b[38;5;28mtype\u001b[39m(ret)\u001b[38;5;132;01m}\u001b[39;00m\u001b[38;5;124m\"\u001b[39m\n\u001b[1;32m    249\u001b[0m     )\n\u001b[1;32m    251\u001b[0m \u001b[38;5;28;01melse\u001b[39;00m:\n\u001b[0;32m--> 252\u001b[0m     \u001b[38;5;28;43mself\u001b[39;49m\u001b[38;5;241;43m.\u001b[39;49m\u001b[43m_log_event\u001b[49m\u001b[43m(\u001b[49m\n\u001b[1;32m    253\u001b[0m \u001b[43m        \u001b[49m\u001b[43mevent_type\u001b[49m\u001b[43m,\u001b[49m\n\u001b[1;32m    254\u001b[0m \u001b[43m        \u001b[49m\u001b[43mresults\u001b[49m\u001b[38;5;241;43m=\u001b[39;49m\u001b[43mret\u001b[49m\u001b[38;5;241;43m.\u001b[39;49m\u001b[43mreturn_value\u001b[49m\u001b[43m,\u001b[49m\n\u001b[1;32m    255\u001b[0m \u001b[43m        \u001b[49m\u001b[43mquestion\u001b[49m\u001b[38;5;241;43m=\u001b[39;49m\u001b[43mret\u001b[49m\u001b[38;5;241;43m.\u001b[39;49m\u001b[43mquestion\u001b[49m\u001b[43m,\u001b[49m\n\u001b[1;32m    256\u001b[0m \u001b[43m        \u001b[49m\u001b[43mshelve_env\u001b[49m\u001b[38;5;241;43m=\u001b[39;49m\u001b[43mret\u001b[49m\u001b[38;5;241;43m.\u001b[39;49m\u001b[43mshelve_env\u001b[49m\u001b[43m,\u001b[49m\n\u001b[1;32m    257\u001b[0m \u001b[43m    \u001b[49m\u001b[43m)\u001b[49m\n\u001b[1;32m    259\u001b[0m \u001b[38;5;28;01mreturn\u001b[39;00m ret\u001b[38;5;241m.\u001b[39mreturn_value\n",
      "File \u001b[0;32m~/y/envs/myenv/lib/python3.12/site-packages/otter/check/utils.py:188\u001b[0m, in \u001b[0;36mincompatible_with.<locals>.incompatible\u001b[0;34m(wrapped, self, args, kwargs)\u001b[0m\n\u001b[1;32m    186\u001b[0m     \u001b[38;5;28;01melse\u001b[39;00m:\n\u001b[1;32m    187\u001b[0m         \u001b[38;5;28;01mreturn\u001b[39;00m\n\u001b[0;32m--> 188\u001b[0m \u001b[38;5;28;01mreturn\u001b[39;00m \u001b[43mwrapped\u001b[49m\u001b[43m(\u001b[49m\u001b[38;5;241;43m*\u001b[39;49m\u001b[43margs\u001b[49m\u001b[43m,\u001b[49m\u001b[43m \u001b[49m\u001b[38;5;241;43m*\u001b[39;49m\u001b[38;5;241;43m*\u001b[39;49m\u001b[43mkwargs\u001b[49m\u001b[43m)\u001b[49m\n",
      "File \u001b[0;32m~/y/envs/myenv/lib/python3.12/site-packages/otter/check/notebook.py:195\u001b[0m, in \u001b[0;36mNotebook._log_event\u001b[0;34m(self, event_type, results, question, success, error, shelve_env)\u001b[0m\n\u001b[1;32m    185\u001b[0m         \u001b[38;5;28;01mraise\u001b[39;00m \u001b[38;5;167;01mTypeError\u001b[39;00m(\u001b[38;5;124mf\u001b[39m\u001b[38;5;124m\"\u001b[39m\u001b[38;5;124mshelve_env has an invalid type: \u001b[39m\u001b[38;5;132;01m{\u001b[39;00m\u001b[38;5;28mtype\u001b[39m(shelve_env)\u001b[38;5;132;01m}\u001b[39;00m\u001b[38;5;124m\"\u001b[39m)\n\u001b[1;32m    187\u001b[0m     entry\u001b[38;5;241m.\u001b[39mshelve(\n\u001b[1;32m    188\u001b[0m         shelve_env,\n\u001b[1;32m    189\u001b[0m         delete\u001b[38;5;241m=\u001b[39m\u001b[38;5;28;01mTrue\u001b[39;00m,\n\u001b[0;32m   (...)\u001b[0m\n\u001b[1;32m    192\u001b[0m         variables\u001b[38;5;241m=\u001b[39m\u001b[38;5;28mself\u001b[39m\u001b[38;5;241m.\u001b[39m_vars_to_store,\n\u001b[1;32m    193\u001b[0m     )\n\u001b[0;32m--> 195\u001b[0m \u001b[43mentry\u001b[49m\u001b[38;5;241;43m.\u001b[39;49m\u001b[43mflush_to_file\u001b[49m\u001b[43m(\u001b[49m\u001b[43mOTTER_LOG_FILENAME\u001b[49m\u001b[43m)\u001b[49m\n",
      "File \u001b[0;32m~/y/envs/myenv/lib/python3.12/site-packages/otter/check/logs.py:156\u001b[0m, in \u001b[0;36mLogEntry.flush_to_file\u001b[0;34m(self, filename)\u001b[0m\n\u001b[1;32m    153\u001b[0m     dill\u001b[38;5;241m.\u001b[39mdump(\u001b[38;5;28mself\u001b[39m, file)\n\u001b[1;32m    155\u001b[0m \u001b[38;5;28;01mexcept\u001b[39;00m \u001b[38;5;167;01mOSError\u001b[39;00m:\n\u001b[0;32m--> 156\u001b[0m     \u001b[38;5;28;01mraise\u001b[39;00m \u001b[38;5;167;01mException\u001b[39;00m(\n\u001b[1;32m    157\u001b[0m         \u001b[38;5;124m\"\u001b[39m\u001b[38;5;124mCould not create the log file as the file system is read-only. Please contact your \u001b[39m\u001b[38;5;124m\"\u001b[39m\n\u001b[1;32m    158\u001b[0m         \u001b[38;5;124m\"\u001b[39m\u001b[38;5;124minstructor before continuing on this assignment.\u001b[39m\u001b[38;5;124m\"\u001b[39m\n\u001b[1;32m    159\u001b[0m     )\n\u001b[1;32m    161\u001b[0m \u001b[38;5;28;01mfinally\u001b[39;00m:\n\u001b[1;32m    162\u001b[0m     \u001b[38;5;28;01mif\u001b[39;00m \u001b[38;5;124m\"\u001b[39m\u001b[38;5;124mfile\u001b[39m\u001b[38;5;124m\"\u001b[39m \u001b[38;5;129;01min\u001b[39;00m \u001b[38;5;28mlocals\u001b[39m():\n",
      "\u001b[0;31mException\u001b[0m: Could not create the log file as the file system is read-only. Please contact your instructor before continuing on this assignment."
     ]
    }
   ],
   "source": [
    "# Initialize Otter\n",
    "files = \"https://github.com/stkroe/PythonforChemists/tree/master/course/examples/notebooks/ex1/autograder.zip\"\n",
    "!pip install otter-grader && wget $files && unzip -o autograder.zip\n",
    "import otter\n",
    "grader = otter.Notebook()  \n"
   ]
  },
  {
   "cell_type": "markdown",
   "metadata": {},
   "source": [
    "Instructions:\n",
    "\n",
    "- Open the file in the editor or Google Colab.\n",
    "- Solve each exercise by adapting the provided code skeleton.\n",
    "- Each exercise is written as a function to be able to test it independently.\n",
    "- Run the test cell to verify the correctness and get feedback.\n",
    "- The code is tested using the `otter-grader` module.\n",
    "- The test cell is hidden by default. \n",
    "- Run the last cell to submit the exercise.\n",
    "- Import any required modules at the beginning of the script."
   ]
  },
  {
   "cell_type": "markdown",
   "metadata": {
    "deletable": false,
    "editable": false
   },
   "source": [
    "<!-- BEGIN QUESTION -->\n",
    "\n",
    "## Exercise 1: Data Types\n",
    "\n",
    "Print data type of all variables in the provided code. First write also your guess for the data types of the variables.\n",
    "\n",
    "The output should be like this:\n",
    "\n",
    "```python\n",
    "x = 5, My guess: int, Data type: <class 'int'>\n",
    "y = 5.0, My guess: float, Data type: <class 'float'>\n",
    "...\n",
    "```"
   ]
  },
  {
   "cell_type": "code",
   "execution_count": null,
   "metadata": {
    "tags": [
     "otter_answer_cell"
    ]
   },
   "outputs": [],
   "source": [
    "def print_datatypes():\n",
    "    a = 1\n",
    "    b = 8.3\n",
    "    c = \"s\"\n",
    "    d = \"word\"\n",
    "    e = True\n",
    "    f = bool(0)\n",
    "    g = None\n",
    "    h = [1, 2, 3]\n",
    "    i = (1, 2, 3)\n",
    "    j = {1, 2, 3}\n",
    "    k = {\"a\": 1, \"b\": 2, \"c\": 3}\n",
    "    l = range(10)\n",
    "    m = [1,\"s\",True]\n",
    "    \n",
    "    ...\n",
    "\n",
    "    return None\n",
    "\n"
   ]
  },
  {
   "cell_type": "code",
   "execution_count": null,
   "metadata": {
    "otter": {
     "tests": [
      "q1"
     ]
    },
    "tags": [
     "otter_answer_cell"
    ]
   },
   "outputs": [],
   "source": [
    "# BEGIN HIDDEN \n",
    "\n",
    "# capture the output of the function\n",
    "import io\n",
    "import sys\n",
    "from contextlib import redirect_stdout\n",
    "\n",
    "f = io.StringIO()\n",
    "with redirect_stdout(f):\n",
    "    print_datatypes()\n",
    "out = f.getvalue()\n",
    "# END HIDDEN "
   ]
  },
  {
   "cell_type": "markdown",
   "metadata": {
    "deletable": false,
    "editable": false
   },
   "source": [
    "<!-- END QUESTION -->\n",
    "\n",
    "<!-- BEGIN QUESTION -->\n",
    "\n",
    "## Exercise 2: Data Type Conversion and String Formatting\n",
    "\n",
    "Convert the variables to the following data types:\n",
    "\n",
    "- `a` to a float\n",
    "- `b` to an integer\n",
    "- `c` to a string\n",
    "\n",
    "Think about the possible data loss during the conversion.\n",
    "\n",
    "Print the variables after the conversion in the format `a = x.xx, b =   x, c = \"x\"` use `format()` method for string formatting.\n",
    "\n"
   ]
  },
  {
   "cell_type": "code",
   "execution_count": null,
   "metadata": {
    "tags": [
     "otter_answer_cell"
    ]
   },
   "outputs": [],
   "source": [
    "def datatype_casting():\n",
    "    a = 1\n",
    "    b = 8.3\n",
    "    c = bool(0)\n",
    "\n",
    "    ...\n",
    "\n",
    "    return None"
   ]
  },
  {
   "cell_type": "code",
   "execution_count": null,
   "metadata": {
    "otter": {
     "tests": [
      "q2"
     ]
    },
    "tags": [
     "otter_answer_cell"
    ]
   },
   "outputs": [],
   "source": [
    "# BEGIN HIDDEN \n",
    "\n",
    "# capture the output of the function\n",
    "import io\n",
    "import sys\n",
    "from contextlib import redirect_stdout\n",
    "\n",
    "f = io.StringIO()\n",
    "with redirect_stdout(f):\n",
    "    datatype_casting()\n",
    "out = f.getvalue()\n",
    "\n",
    "# END HIDDEN "
   ]
  },
  {
   "cell_type": "markdown",
   "metadata": {
    "deletable": false,
    "editable": false
   },
   "source": [
    "<!-- END QUESTION -->\n",
    "\n",
    "<!-- BEGIN QUESTION -->\n",
    "\n",
    "## Exercise 3: System Information - Part 1\n",
    "Print Path of the Working Directory"
   ]
  },
  {
   "cell_type": "code",
   "execution_count": null,
   "metadata": {
    "tags": [
     "otter_answer_cell"
    ]
   },
   "outputs": [],
   "source": [
    "import os\n",
    "def print_working_directory():\n",
    "    ...\n",
    "    return None "
   ]
  },
  {
   "cell_type": "code",
   "execution_count": null,
   "metadata": {
    "otter": {
     "tests": [
      "q3"
     ]
    },
    "tags": [
     "otter_answer_cell"
    ]
   },
   "outputs": [],
   "source": [
    "# BEGIN HIDDEN \n",
    "\n",
    "# capture the output of the function\n",
    "import io\n",
    "import sys\n",
    "from contextlib import redirect_stdout\n",
    "\n",
    "f = io.StringIO()\n",
    "with redirect_stdout(f):\n",
    "    print_working_directory()\n",
    "out = f.getvalue()\n",
    "# END HIDDEN "
   ]
  },
  {
   "cell_type": "markdown",
   "metadata": {
    "deletable": false,
    "editable": false
   },
   "source": [
    "<!-- END QUESTION -->\n",
    "\n",
    "<!-- BEGIN QUESTION -->\n",
    "\n",
    "## Exercise 4: System Information - Part 2\n",
    "List Files in the Working Directory"
   ]
  },
  {
   "cell_type": "code",
   "execution_count": null,
   "metadata": {
    "tags": [
     "otter_answer_cell"
    ]
   },
   "outputs": [],
   "source": [
    "def list_files():\n",
    "    ...\n",
    "    return None"
   ]
  },
  {
   "cell_type": "code",
   "execution_count": null,
   "metadata": {
    "otter": {
     "tests": [
      "q4"
     ]
    },
    "tags": [
     "otter_answer_cell"
    ]
   },
   "outputs": [],
   "source": [
    "# BEGIN HIDDEN \n",
    "\n",
    "# capture the output of the function\n",
    "import io\n",
    "import sys\n",
    "from contextlib import redirect_stdout\n",
    "\n",
    "f = io.StringIO()\n",
    "with redirect_stdout(f):\n",
    "    list_files()\n",
    "out = f.getvalue()\n",
    "# END HIDDEN "
   ]
  },
  {
   "cell_type": "markdown",
   "metadata": {
    "deletable": false,
    "editable": false
   },
   "source": [
    "<!-- END QUESTION -->\n",
    "\n",
    "<!-- BEGIN QUESTION -->\n",
    "\n",
    "## Exercise 5: Counting\n",
    "Count the number of characters in a string and return the result in the format `The string \"xxx\" has x characters.`"
   ]
  },
  {
   "cell_type": "code",
   "execution_count": null,
   "metadata": {
    "tags": [
     "otter_answer_cell"
    ]
   },
   "outputs": [],
   "source": [
    "def count_characters(s: str) -> str:\n",
    "    ...\n"
   ]
  },
  {
   "cell_type": "code",
   "execution_count": null,
   "metadata": {
    "otter": {
     "tests": [
      "q5"
     ]
    },
    "tags": [
     "otter_answer_cell"
    ]
   },
   "outputs": [],
   "source": []
  },
  {
   "cell_type": "markdown",
   "metadata": {
    "deletable": false,
    "editable": false
   },
   "source": [
    "<!-- END QUESTION -->\n",
    "\n",
    "<!-- BEGIN QUESTION -->\n",
    "\n",
    "## Exercise 6: Lists\n",
    "Define a list of numbers from 1 to 10, use while and return the list."
   ]
  },
  {
   "cell_type": "code",
   "execution_count": null,
   "metadata": {
    "otter": {
     "tests": [
      "q6"
     ]
    },
    "tags": [
     "otter_answer_cell"
    ]
   },
   "outputs": [],
   "source": [
    "def my_list():\n",
    "    ..."
   ]
  },
  {
   "cell_type": "markdown",
   "metadata": {
    "deletable": false,
    "editable": false
   },
   "source": [
    "<!-- END QUESTION -->\n",
    "\n",
    "<!-- BEGIN QUESTION -->\n",
    "\n",
    "## Exercise 7: List Operations\n",
    "1. Add 11 to the list from the previous exercise and print the list: print \"list: l\"\n",
    "3. Further delete the 4th element from the list and print the list: print \"list: l\"\n",
    "4. Print the length of the list: print \"length: x\""
   ]
  },
  {
   "cell_type": "code",
   "execution_count": null,
   "metadata": {
    "tags": [
     "otter_answer_cell"
    ]
   },
   "outputs": [],
   "source": [
    "def list_operations():\n",
    "    ...\n",
    "    return None\n"
   ]
  },
  {
   "cell_type": "code",
   "execution_count": null,
   "metadata": {
    "deletable": false,
    "editable": false,
    "otter": {
     "tests": [
      "q7"
     ]
    }
   },
   "outputs": [],
   "source": [
    "# BEGIN HIDDEN \n",
    "\n",
    "# capture the output of the function\n",
    "import io\n",
    "import sys\n",
    "from contextlib import redirect_stdout\n",
    "\n",
    "f = io.StringIO()\n",
    "with redirect_stdout(f):\n",
    "    list_operations()\n",
    "out = f.getvalue()\n",
    "# END HIDDEN "
   ]
  },
  {
   "cell_type": "markdown",
   "metadata": {
    "deletable": false,
    "editable": false
   },
   "source": [
    "<!-- END QUESTION -->\n",
    "\n",
    "<!-- BEGIN QUESTION -->\n",
    "\n",
    "## Exercise 8: Loops and Condtions\n",
    "Print all the numbers from 1 to 10 that are divisible by 2.\n"
   ]
  },
  {
   "cell_type": "code",
   "execution_count": null,
   "metadata": {
    "tags": [
     "otter_answer_cell"
    ]
   },
   "outputs": [],
   "source": [
    "def loops_conditions():\n",
    "    ..."
   ]
  },
  {
   "cell_type": "code",
   "execution_count": null,
   "metadata": {
    "otter": {
     "tests": [
      "q8"
     ]
    },
    "tags": [
     "otter_answer_cell"
    ]
   },
   "outputs": [],
   "source": [
    "# BEGIN HIDDEN \n",
    "\n",
    "# capture the output of the function\n",
    "import io\n",
    "import sys\n",
    "from contextlib import redirect_stdout\n",
    "\n",
    "f = io.StringIO()\n",
    "with redirect_stdout(f):\n",
    "    loops_conditions()\n",
    "out = f.getvalue()\n",
    "# END HIDDEN \n"
   ]
  },
  {
   "cell_type": "markdown",
   "metadata": {
    "deletable": false,
    "editable": false
   },
   "source": [
    "<!-- END QUESTION -->\n",
    "\n",
    "<!-- BEGIN QUESTION -->\n",
    "\n",
    "## Exercise 9: List Comprehension\n",
    "Create a list of squares of the numbers from 1 to 10 using list comprehension and return the list.\n"
   ]
  },
  {
   "cell_type": "code",
   "execution_count": null,
   "metadata": {
    "otter": {
     "tests": [
      "q9"
     ]
    },
    "tags": [
     "otter_answer_cell"
    ]
   },
   "outputs": [],
   "source": [
    "def list_comprehension():\n",
    "    ..."
   ]
  },
  {
   "cell_type": "markdown",
   "metadata": {
    "deletable": false,
    "editable": false
   },
   "source": [
    "<!-- END QUESTION -->\n",
    "\n",
    "<!-- BEGIN QUESTION -->\n",
    "\n",
    "## Exercise 10: Functions\n",
    "\n",
    "Define a function `check_even` that takes a list of integer numbers as input and returns `True` if all the number in the list are even, otherwise returns `False`.\n",
    "\n",
    "First check if the numbers are integers, if not return `None`.\n",
    "\n",
    "\n",
    "\n"
   ]
  },
  {
   "cell_type": "code",
   "execution_count": null,
   "metadata": {
    "otter": {
     "tests": [
      "q10"
     ]
    },
    "tags": [
     "otter_answer_cell"
    ]
   },
   "outputs": [],
   "source": [
    "\n",
    "def check_even(l: list) -> bool:\n",
    "    ..."
   ]
  },
  {
   "cell_type": "markdown",
   "metadata": {
    "deletable": false,
    "editable": false
   },
   "source": [
    "<!-- END QUESTION -->\n",
    "\n"
   ]
  },
  {
   "cell_type": "markdown",
   "metadata": {
    "deletable": false,
    "editable": false
   },
   "source": [
    "## Submission\n",
    "\n",
    "Make sure you have run all cells in your notebook in order before running the cell below, so that all images/graphs appear in the output. The cell below will generate a zip file for you to submit. **Please save before exporting!**"
   ]
  },
  {
   "cell_type": "code",
   "execution_count": null,
   "metadata": {
    "deletable": false,
    "editable": false
   },
   "outputs": [],
   "source": [
    "# Save your notebook first, then run this cell to export your submission.\n",
    "grader.export(pdf=False, run_tests=True)"
   ]
  },
  {
   "cell_type": "markdown",
   "metadata": {},
   "source": [
    " "
   ]
  }
 ],
 "metadata": {
  "kernelspec": {
   "display_name": "myenv",
   "language": "python",
   "name": "python3"
  },
  "language_info": {
   "codemirror_mode": {
    "name": "ipython",
    "version": 3
   },
   "file_extension": ".py",
   "mimetype": "text/x-python",
   "name": "python",
   "nbconvert_exporter": "python",
   "pygments_lexer": "ipython3",
   "version": "3.12.7"
  },
  "otter": {
   "OK_FORMAT": true,
   "tests": {
    "q1": {
     "name": "q1",
     "points": null,
     "suites": [
      {
       "cases": [],
       "scored": true,
       "setup": "",
       "teardown": "",
       "type": "doctest"
      }
     ]
    },
    "q10": {
     "name": "q10",
     "points": null,
     "suites": [
      {
       "cases": [],
       "scored": true,
       "setup": "",
       "teardown": "",
       "type": "doctest"
      }
     ]
    },
    "q2": {
     "name": "q2",
     "points": null,
     "suites": [
      {
       "cases": [],
       "scored": true,
       "setup": "",
       "teardown": "",
       "type": "doctest"
      }
     ]
    },
    "q3": {
     "name": "q3",
     "points": null,
     "suites": [
      {
       "cases": [],
       "scored": true,
       "setup": "",
       "teardown": "",
       "type": "doctest"
      }
     ]
    },
    "q4": {
     "name": "q4",
     "points": null,
     "suites": [
      {
       "cases": [],
       "scored": true,
       "setup": "",
       "teardown": "",
       "type": "doctest"
      }
     ]
    },
    "q5": {
     "name": "q5",
     "points": null,
     "suites": [
      {
       "cases": [],
       "scored": true,
       "setup": "",
       "teardown": "",
       "type": "doctest"
      }
     ]
    },
    "q6": {
     "name": "q6",
     "points": null,
     "suites": [
      {
       "cases": [],
       "scored": true,
       "setup": "",
       "teardown": "",
       "type": "doctest"
      }
     ]
    },
    "q7": {
     "name": "q7",
     "points": null,
     "suites": [
      {
       "cases": [],
       "scored": true,
       "setup": "",
       "teardown": "",
       "type": "doctest"
      }
     ]
    },
    "q8": {
     "name": "q8",
     "points": null,
     "suites": [
      {
       "cases": [],
       "scored": true,
       "setup": "",
       "teardown": "",
       "type": "doctest"
      }
     ]
    },
    "q9": {
     "name": "q9",
     "points": null,
     "suites": [
      {
       "cases": [],
       "scored": true,
       "setup": "",
       "teardown": "",
       "type": "doctest"
      }
     ]
    }
   }
  }
 },
 "nbformat": 4,
 "nbformat_minor": 2
}
