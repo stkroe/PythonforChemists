{
 "cells": [
  {
   "cell_type": "raw",
   "metadata": {
    "vscode": {
     "languageId": "raw"
    }
   },
   "source": [
    "# ASSIGNMENT CONFIG\n",
    "requirements: requirements.txt\n",
    "generate: true\n",
    "export_cell:\n",
    "    run_tests: true\n",
    "    pdf: false\n",
    "seed:\n",
    "    variable: rng_seed\n",
    "    autograder_value: 42\n",
    "    student_value: 90"
   ]
  },
  {
   "cell_type": "markdown",
   "metadata": {},
   "source": [
    "Instructions:\n",
    "\n",
    "- Open the file in the editor or Google Colab.\n",
    "- Solve each exercise by adapting the provided code skeleton.\n",
    "- Each exercise is written as a function to be able to test it independently.\n",
    "- Run the test cell to verify the correctness and get feedback.\n",
    "- The code is tested using the `otter-grader` module.\n",
    "- The test cell is hidden by default. \n",
    "- Run the last cell to submit the exercise.\n",
    "- Import any required modules at the beginning of the script."
   ]
  },
  {
   "cell_type": "raw",
   "metadata": {
    "vscode": {
     "languageId": "raw"
    }
   },
   "source": [
    "# BEGIN QUESTION\n",
    "name: q1\n",
    "manual: true"
   ]
  },
  {
   "cell_type": "markdown",
   "metadata": {},
   "source": [
    "## Exercise 1: Data Types\n",
    "\n",
    "Print data type of all variables in the provided code. First write also your guess for the data types of the variables.\n",
    "\n",
    "The output should be like this:\n",
    "\n",
    "```python\n",
    "x = 5, My guess: int, Data type: <class 'int'>\n",
    "y = 5.0, My guess: float, Data type: <class 'float'>\n",
    "...\n",
    "```"
   ]
  },
  {
   "cell_type": "raw",
   "metadata": {},
   "source": [
    "# BEGIN SOLUTION"
   ]
  },
  {
   "cell_type": "code",
   "execution_count": 37,
   "metadata": {},
   "outputs": [],
   "source": [
    "def print_datatypes():\n",
    "    a = 1\n",
    "    b = 8.3\n",
    "    c = \"s\"\n",
    "    d = \"word\"\n",
    "    e = True\n",
    "    f = bool(0)\n",
    "    g = None\n",
    "    h = [1, 2, 3]\n",
    "    i = (1, 2, 3)\n",
    "    j = {1, 2, 3}\n",
    "    k = {\"a\": 1, \"b\": 2, \"c\": 3}\n",
    "    l = range(10)\n",
    "    m = [1,\"s\",True]\n",
    "    \n",
    "    # BEGIN SOLUTION\n",
    "    print(\"a = {}, My guess: int, Data type: {}\".format(a, type(a)))\n",
    "    print(\"b = {}, My guess: float, Data type: {}\".format(b, type(b)))\n",
    "    print(\"c = {}, My guess: str, Data type: {}\".format(c, type(c)))\n",
    "    print(\"d = {}, My guess: str, Data type: {}\".format(d, type(d)))\n",
    "    print(\"e = {}, My guess: bool, Data type: {}\".format(e, type(e)))\n",
    "    print(\"f = {}, My guess: bool, Data type: {}\".format(f, type(f)))\n",
    "    print(\"g = {}, My guess: None, Data type: {}\".format(g, type(g)))\n",
    "    print(\"h = {}, My guess: list, Data type: {}\".format(h, type(h)))\n",
    "    print(\"i = {}, My guess: tuple, Data type: {}\".format(i, type(i)))\n",
    "    print(\"j = {}, My guess: set, Data type: {}\".format(j, type(j)))\n",
    "    print(\"k = {}, My guess: dict, Data type: {}\".format(k, type(k)))\n",
    "    print(\"l = {}, My guess: range, Data type: {}\".format(l, type(l)))\n",
    "    print(\"m = {}, My guess: list, Data type: {}\".format(m, type(m)))\n",
    "    # END SOLUTION\n",
    "\n",
    "    return None\n",
    "\n"
   ]
  },
  {
   "cell_type": "code",
   "execution_count": 38,
   "metadata": {},
   "outputs": [],
   "source": [
    "# HIDDEN\n",
    "\n",
    "# capture the output of the function\n",
    "import io\n",
    "import sys\n",
    "from contextlib import redirect_stdout\n",
    "\n",
    "f = io.StringIO()\n",
    "with redirect_stdout(f):\n",
    "    print_datatypes()\n",
    "out = f.getvalue()\n"
   ]
  },
  {
   "cell_type": "raw",
   "metadata": {},
   "source": [
    "# END SOLUTION"
   ]
  },
  {
   "cell_type": "raw",
   "metadata": {
    "vscode": {
     "languageId": "raw"
    }
   },
   "source": [
    "# BEGIN TESTS"
   ]
  },
  {
   "cell_type": "code",
   "execution_count": 39,
   "metadata": {},
   "outputs": [
    {
     "name": "stdout",
     "output_type": "stream",
     "text": [
      "[\"a = 1, My guess: int, Data type: <class 'int'>\", \"b = 8.3, My guess: float, Data type: <class 'float'>\", \"c = s, My guess: str, Data type: <class 'str'>\", \"d = word, My guess: str, Data type: <class 'str'>\", \"e = True, My guess: bool, Data type: <class 'bool'>\", \"f = False, My guess: bool, Data type: <class 'bool'>\", \"g = None, My guess: None, Data type: <class 'NoneType'>\", \"h = [1, 2, 3], My guess: list, Data type: <class 'list'>\", \"i = (1, 2, 3), My guess: tuple, Data type: <class 'tuple'>\", \"j = {1, 2, 3}, My guess: set, Data type: <class 'set'>\", \"k = {'a': 1, 'b': 2, 'c': 3}, My guess: dict, Data type: <class 'dict'>\", \"l = range(0, 10), My guess: range, Data type: <class 'range'>\", \"m = [1, 's', True], My guess: list, Data type: <class 'list'>\"]\n"
     ]
    }
   ],
   "source": [
    "\"\"\" # BEGIN TEST CONFIG\n",
    "points: 2\n",
    "hidden: true\n",
    "\"\"\" # END TEST CONFIG\n",
    "def test_print_datatypes(out):\n",
    "    \n",
    "    output = out.splitlines()\n",
    "    print(output)\n",
    "    assert output[0] == \"a = 1, My guess: int, Data type: <class 'int'>\"\n",
    "    assert output[1] == \"b = 8.3, My guess: float, Data type: <class 'float'>\"\n",
    "    assert output[2] == \"c = s, My guess: str, Data type: <class 'str'>\"\n",
    "    assert output[3] == \"d = word, My guess: str, Data type: <class 'str'>\"\n",
    "    assert output[4] == \"e = True, My guess: bool, Data type: <class 'bool'>\"\n",
    "    assert output[5] == \"f = False, My guess: bool, Data type: <class 'bool'>\"\n",
    "    assert output[6] == \"g = None, My guess: None, Data type: <class 'NoneType'>\"\n",
    "    assert output[7] == \"h = [1, 2, 3], My guess: list, Data type: <class 'list'>\"\n",
    "    assert output[8] == \"i = (1, 2, 3), My guess: tuple, Data type: <class 'tuple'>\"\n",
    "    assert output[9] == \"j = {1, 2, 3}, My guess: set, Data type: <class 'set'>\"\n",
    "    assert output[10] == \"k = {'a': 1, 'b': 2, 'c': 3}, My guess: dict, Data type: <class 'dict'>\"\n",
    "    assert output[11] == \"l = range(0, 10), My guess: range, Data type: <class 'range'>\"\n",
    "    assert output[12] == \"m = [1, 's', True], My guess: list, Data type: <class 'list'>\"\n",
    "test_print_datatypes(out) # IGNORE "
   ]
  },
  {
   "cell_type": "raw",
   "metadata": {
    "vscode": {
     "languageId": "raw"
    }
   },
   "source": [
    "# END TESTS"
   ]
  },
  {
   "cell_type": "raw",
   "metadata": {
    "vscode": {
     "languageId": "raw"
    }
   },
   "source": [
    "# END QUESTION"
   ]
  },
  {
   "cell_type": "raw",
   "metadata": {
    "vscode": {
     "languageId": "raw"
    }
   },
   "source": [
    "# BEGIN QUESTION\n",
    "name: q2\n",
    "manual: true"
   ]
  },
  {
   "cell_type": "markdown",
   "metadata": {},
   "source": [
    "## Exercise 2: Data Type Conversion and String Formatting\n",
    "\n",
    "Convert the variables to the following data types:\n",
    "\n",
    "- `a` to a float\n",
    "- `b` to an integer\n",
    "- `c` to a string\n",
    "\n",
    "Think about the possible data loss during the conversion.\n",
    "\n",
    "Print the variables after the conversion in the format `a = x.xx, b =   x, c = \"x\"` use `format()` method for string formatting.\n",
    "\n"
   ]
  },
  {
   "cell_type": "raw",
   "metadata": {
    "vscode": {
     "languageId": "raw"
    }
   },
   "source": [
    "# BEGIN SOLUTION"
   ]
  },
  {
   "cell_type": "code",
   "execution_count": 40,
   "metadata": {},
   "outputs": [],
   "source": [
    "def datatype_casting():\n",
    "    a = 1\n",
    "    b = 8.3\n",
    "    c = bool(0)\n",
    "\n",
    "    # BEGIN SOLUTION\n",
    "    a = float(a)\n",
    "    b = int(b)\n",
    "    c = str(c)\n",
    "    print(\"a = {:.2f}, b = \\t{}, c = \\\"{}\\\"\".format(a, b, c))\n",
    "    # END SOLUTION\n",
    "\n",
    "    return None"
   ]
  },
  {
   "cell_type": "code",
   "execution_count": 41,
   "metadata": {},
   "outputs": [],
   "source": [
    "# HIDDEN\n",
    "\n",
    "# capture the output of the function\n",
    "import io\n",
    "import sys\n",
    "from contextlib import redirect_stdout\n",
    "\n",
    "f = io.StringIO()\n",
    "with redirect_stdout(f):\n",
    "    datatype_casting()\n",
    "out = f.getvalue()\n",
    "\n"
   ]
  },
  {
   "cell_type": "raw",
   "metadata": {
    "vscode": {
     "languageId": "raw"
    }
   },
   "source": [
    "# END SOLUTION"
   ]
  },
  {
   "cell_type": "raw",
   "metadata": {
    "vscode": {
     "languageId": "raw"
    }
   },
   "source": [
    "# BEGIN TESTS"
   ]
  },
  {
   "cell_type": "code",
   "execution_count": 42,
   "metadata": {},
   "outputs": [],
   "source": [
    "\"\"\" # BEGIN TEST CONFIG\n",
    "points: 2\n",
    "hidden: true\n",
    "\"\"\" # END TEST CONFIG\n",
    "def test_datatype_casting(out):\n",
    "    output = out.splitlines()\n",
    "    \n",
    "    assert output[0] == \"a = 1.00, b = \t8, c = \\\"False\\\"\"\n",
    "test_datatype_casting(out) # IGNORE"
   ]
  },
  {
   "cell_type": "raw",
   "metadata": {
    "vscode": {
     "languageId": "raw"
    }
   },
   "source": [
    "# END TESTS"
   ]
  },
  {
   "cell_type": "raw",
   "metadata": {
    "vscode": {
     "languageId": "raw"
    }
   },
   "source": [
    "# END QUESTION"
   ]
  },
  {
   "cell_type": "raw",
   "metadata": {
    "vscode": {
     "languageId": "raw"
    }
   },
   "source": [
    "# BEGIN QUESTION\n",
    "name: q3\n",
    "manual: true"
   ]
  },
  {
   "cell_type": "markdown",
   "metadata": {},
   "source": [
    "## Exercise 3: System Information - Part 1\n",
    "Print Path of the Working Directory"
   ]
  },
  {
   "cell_type": "raw",
   "metadata": {
    "vscode": {
     "languageId": "raw"
    }
   },
   "source": [
    "# BEGIN SOLUTION"
   ]
  },
  {
   "cell_type": "code",
   "execution_count": 43,
   "metadata": {},
   "outputs": [],
   "source": [
    "import os\n",
    "def print_working_directory():\n",
    "    # BEGIN SOLUTION\n",
    "    print(os.getcwd())\n",
    "    # END SOLUTION\n",
    "    return None "
   ]
  },
  {
   "cell_type": "code",
   "execution_count": 44,
   "metadata": {},
   "outputs": [],
   "source": [
    "# HIDDEN\n",
    "\n",
    "# capture the output of the function\n",
    "import io\n",
    "import sys\n",
    "from contextlib import redirect_stdout\n",
    "\n",
    "f = io.StringIO()\n",
    "with redirect_stdout(f):\n",
    "    print_working_directory()\n",
    "out = f.getvalue()\n"
   ]
  },
  {
   "cell_type": "raw",
   "metadata": {
    "vscode": {
     "languageId": "raw"
    }
   },
   "source": [
    "# END SOLUTION"
   ]
  },
  {
   "cell_type": "raw",
   "metadata": {
    "vscode": {
     "languageId": "raw"
    }
   },
   "source": [
    "# BEGIN TESTS"
   ]
  },
  {
   "cell_type": "code",
   "execution_count": 45,
   "metadata": {},
   "outputs": [],
   "source": [
    "\"\"\" # BEGIN TEST CONFIG\n",
    "points: 2\n",
    "hidden: true\n",
    "\"\"\" # END TEST CONFIG\n",
    "def test_print_working_directory(out):\n",
    "    output = out.strip()\n",
    "    \n",
    "    assert output == os.getcwd()\n",
    "test_print_working_directory(out) # IGNORE"
   ]
  },
  {
   "cell_type": "raw",
   "metadata": {
    "vscode": {
     "languageId": "raw"
    }
   },
   "source": [
    "# END TESTS"
   ]
  },
  {
   "cell_type": "raw",
   "metadata": {
    "vscode": {
     "languageId": "raw"
    }
   },
   "source": [
    "# END QUESTION"
   ]
  },
  {
   "cell_type": "raw",
   "metadata": {
    "vscode": {
     "languageId": "raw"
    }
   },
   "source": [
    "# BEGIN QUESTION\n",
    "name: q4\n",
    "manual: true"
   ]
  },
  {
   "cell_type": "markdown",
   "metadata": {},
   "source": [
    "## Exercise 4: System Information - Part 2\n",
    "List Files in the Working Directory"
   ]
  },
  {
   "cell_type": "raw",
   "metadata": {
    "vscode": {
     "languageId": "raw"
    }
   },
   "source": [
    "# BEGIN SOLUTION"
   ]
  },
  {
   "cell_type": "code",
   "execution_count": 46,
   "metadata": {},
   "outputs": [],
   "source": [
    "def list_files():\n",
    "    # BEGIN SOLUTION\n",
    "    for file in os.listdir():\n",
    "        print(file)\n",
    "    # END SOLUTION\n",
    "    return None"
   ]
  },
  {
   "cell_type": "code",
   "execution_count": 47,
   "metadata": {},
   "outputs": [],
   "source": [
    "# HIDDEN\n",
    "\n",
    "# capture the output of the function\n",
    "import io\n",
    "import sys\n",
    "from contextlib import redirect_stdout\n",
    "\n",
    "f = io.StringIO()\n",
    "with redirect_stdout(f):\n",
    "    list_files()\n",
    "out = f.getvalue()\n"
   ]
  },
  {
   "cell_type": "raw",
   "metadata": {
    "vscode": {
     "languageId": "raw"
    }
   },
   "source": [
    "# END SOLUTION"
   ]
  },
  {
   "cell_type": "raw",
   "metadata": {
    "vscode": {
     "languageId": "raw"
    }
   },
   "source": [
    "# BEGIN TESTS"
   ]
  },
  {
   "cell_type": "code",
   "execution_count": 48,
   "metadata": {},
   "outputs": [],
   "source": [
    "\"\"\" # BEGIN TEST CONFIG\n",
    "points: 2\n",
    "hidden: true\n",
    "\"\"\" # END TEST CONFIG\n",
    "def test_list_files(out):\n",
    "    output = out.splitlines()\n",
    "    \n",
    "    assert set(output) == set(os.listdir())\n",
    "test_list_files(out) # IGNORE"
   ]
  },
  {
   "cell_type": "raw",
   "metadata": {
    "vscode": {
     "languageId": "raw"
    }
   },
   "source": [
    "# END TESTS"
   ]
  },
  {
   "cell_type": "raw",
   "metadata": {
    "vscode": {
     "languageId": "raw"
    }
   },
   "source": [
    "# END QUESTION"
   ]
  },
  {
   "cell_type": "raw",
   "metadata": {
    "vscode": {
     "languageId": "raw"
    }
   },
   "source": [
    "# BEGIN QUESTION\n",
    "name: q5\n",
    "manual: true"
   ]
  },
  {
   "cell_type": "markdown",
   "metadata": {},
   "source": [
    "## Exercise 5: Counting\n",
    "Count the number of characters in a string and return the result in the format `The string \"xxx\" has x characters.`"
   ]
  },
  {
   "cell_type": "raw",
   "metadata": {
    "vscode": {
     "languageId": "raw"
    }
   },
   "source": [
    "# BEGIN SOLUTION"
   ]
  },
  {
   "cell_type": "code",
   "execution_count": 49,
   "metadata": {},
   "outputs": [],
   "source": [
    "def count_characters(s: str) -> str:\n",
    "    # BEGIN SOLUTION\n",
    "    return \"The string '{}' has {} characters.\".format(s, len(s))\n",
    "    # END SOLUTION\n"
   ]
  },
  {
   "cell_type": "code",
   "execution_count": null,
   "metadata": {},
   "outputs": [],
   "source": []
  },
  {
   "cell_type": "raw",
   "metadata": {
    "vscode": {
     "languageId": "raw"
    }
   },
   "source": [
    "# END SOLUTION"
   ]
  },
  {
   "cell_type": "raw",
   "metadata": {
    "vscode": {
     "languageId": "raw"
    }
   },
   "source": [
    "# BEGIN TESTS"
   ]
  },
  {
   "cell_type": "code",
   "execution_count": 50,
   "metadata": {},
   "outputs": [],
   "source": [
    "\"\"\" # BEGIN TEST CONFIG\n",
    "points: 2\n",
    "hidden: true\n",
    "\"\"\" # END TEST CONFIG\n",
    "def test_count_characters(count_characters):\n",
    "    assert count_characters(\"hello\") == \"The string 'hello' has 5 characters.\"\n",
    "    assert count_characters(\"\") == \"The string '' has 0 characters.\"\n",
    "\n",
    "test_count_characters(count_characters) # IGNORE"
   ]
  },
  {
   "cell_type": "raw",
   "metadata": {
    "vscode": {
     "languageId": "raw"
    }
   },
   "source": [
    "# END TESTS"
   ]
  },
  {
   "cell_type": "raw",
   "metadata": {
    "vscode": {
     "languageId": "raw"
    }
   },
   "source": [
    "# END QUESTION"
   ]
  },
  {
   "cell_type": "raw",
   "metadata": {
    "vscode": {
     "languageId": "raw"
    }
   },
   "source": [
    "# BEGIN QUESTION\n",
    "name: q6\n",
    "manual: true"
   ]
  },
  {
   "cell_type": "markdown",
   "metadata": {},
   "source": [
    "## Exercise 6: Lists\n",
    "Define a list of numbers from 1 to 10, use while and return the list."
   ]
  },
  {
   "cell_type": "raw",
   "metadata": {
    "vscode": {
     "languageId": "raw"
    }
   },
   "source": [
    "# BEGIN SOLUTION"
   ]
  },
  {
   "cell_type": "code",
   "execution_count": 51,
   "metadata": {},
   "outputs": [],
   "source": [
    "def my_list():\n",
    "    # BEGIN SOLUTION\n",
    "    l = []\n",
    "    i = 0\n",
    "    while i < 10:\n",
    "        l.append(i)\n",
    "        i += 1\n",
    "    return l\n",
    "    # END SOLUTION"
   ]
  },
  {
   "cell_type": "raw",
   "metadata": {
    "vscode": {
     "languageId": "raw"
    }
   },
   "source": [
    "# END SOLUTION"
   ]
  },
  {
   "cell_type": "raw",
   "metadata": {
    "vscode": {
     "languageId": "raw"
    }
   },
   "source": [
    "# BEGIN TESTS"
   ]
  },
  {
   "cell_type": "code",
   "execution_count": 52,
   "metadata": {},
   "outputs": [],
   "source": [
    "\"\"\" # BEGIN TEST CONFIG\n",
    "points: 2\n",
    "hidden: true\n",
    "\"\"\" # END TEST CONFIG\n",
    "def test_my_list(my_list):\n",
    "    assert my_list() == [0, 1, 2, 3, 4, 5, 6, 7, 8, 9]\n",
    "test_my_list(my_list) # IGNORE"
   ]
  },
  {
   "cell_type": "raw",
   "metadata": {
    "vscode": {
     "languageId": "raw"
    }
   },
   "source": [
    "# END TESTS"
   ]
  },
  {
   "cell_type": "raw",
   "metadata": {
    "vscode": {
     "languageId": "raw"
    }
   },
   "source": [
    "# END QUESTION"
   ]
  },
  {
   "cell_type": "raw",
   "metadata": {
    "vscode": {
     "languageId": "raw"
    }
   },
   "source": [
    "# BEGIN QUESTION\n",
    "name: q7\n",
    "manual: true"
   ]
  },
  {
   "cell_type": "markdown",
   "metadata": {},
   "source": [
    "## Exercise 7: List Operations\n",
    "1. Add 11 to the list from the previous exercise and print the list: print \"list: l\"\n",
    "3. Further delete the 4th element from the list and print the list: print \"list: l\"\n",
    "4. Print the length of the list: print \"length: x\""
   ]
  },
  {
   "cell_type": "raw",
   "metadata": {
    "vscode": {
     "languageId": "raw"
    }
   },
   "source": [
    "# BEGIN SOLUTION"
   ]
  },
  {
   "cell_type": "code",
   "execution_count": 53,
   "metadata": {},
   "outputs": [],
   "source": [
    "def list_operations():\n",
    "    # BEGIN SOLUTION\n",
    "    l = my_list()\n",
    "    l.append(11)\n",
    "    print(\"list: \", l)\n",
    "    l.pop(4)\n",
    "    print(\"list: \", l)\n",
    "    print(\"length: \", len(l))\n",
    "    # END SOLUTION\n",
    "    return None\n"
   ]
  },
  {
   "cell_type": "raw",
   "metadata": {
    "vscode": {
     "languageId": "raw"
    }
   },
   "source": [
    "# END SOLUTION"
   ]
  },
  {
   "cell_type": "code",
   "execution_count": null,
   "metadata": {},
   "outputs": [],
   "source": [
    "# HIDDEN\n",
    "\n",
    "# capture the output of the function\n",
    "import io\n",
    "import sys\n",
    "from contextlib import redirect_stdout\n",
    "\n",
    "f = io.StringIO()\n",
    "with redirect_stdout(f):\n",
    "    list_operations()\n",
    "out = f.getvalue()"
   ]
  },
  {
   "cell_type": "raw",
   "metadata": {
    "vscode": {
     "languageId": "raw"
    }
   },
   "source": [
    "# BEGIN TESTS"
   ]
  },
  {
   "cell_type": "code",
   "execution_count": 55,
   "metadata": {},
   "outputs": [],
   "source": [
    "\"\"\" # BEGIN TEST CONFIG\n",
    "points: 2\n",
    "hidden: true\n",
    "\"\"\" # END TEST CONFIG\n",
    "def test_list_operations(out):\n",
    "    output = out.splitlines()\n",
    "    assert output[0] == \"list:  [0, 1, 2, 3, 4, 5, 6, 7, 8, 9, 11]\"\n",
    "    assert output[1] == \"list:  [0, 1, 2, 3, 5, 6, 7, 8, 9, 11]\"\n",
    "    assert output[2] == \"length:  10\"\n",
    "test_list_operations(out) # IGNORE"
   ]
  },
  {
   "cell_type": "raw",
   "metadata": {
    "vscode": {
     "languageId": "raw"
    }
   },
   "source": [
    "# END TESTS"
   ]
  },
  {
   "cell_type": "raw",
   "metadata": {
    "vscode": {
     "languageId": "raw"
    }
   },
   "source": [
    "# END QUESTION"
   ]
  },
  {
   "cell_type": "raw",
   "metadata": {
    "vscode": {
     "languageId": "raw"
    }
   },
   "source": [
    "# BEGIN QUESTION\n",
    "name: q8\n",
    "manual: true"
   ]
  },
  {
   "cell_type": "markdown",
   "metadata": {},
   "source": [
    "## Exercise 8: Loops and Condtions\n",
    "Print all the numbers from 1 to 10 that are divisible by 2.\n"
   ]
  },
  {
   "cell_type": "raw",
   "metadata": {
    "vscode": {
     "languageId": "raw"
    }
   },
   "source": [
    "# BEGIN SOLUTION"
   ]
  },
  {
   "cell_type": "code",
   "execution_count": 56,
   "metadata": {},
   "outputs": [],
   "source": [
    "def loops_conditions():\n",
    "    # BEGIN SOLUTION\n",
    "    for i in range(1,10):\n",
    "        if i % 2 == 0:\n",
    "            print(i)\n",
    "    # END SOLUTION"
   ]
  },
  {
   "cell_type": "code",
   "execution_count": 57,
   "metadata": {},
   "outputs": [],
   "source": [
    "# HIDDEN\n",
    "\n",
    "# capture the output of the function\n",
    "import io\n",
    "import sys\n",
    "from contextlib import redirect_stdout\n",
    "\n",
    "f = io.StringIO()\n",
    "with redirect_stdout(f):\n",
    "    loops_conditions()\n",
    "out = f.getvalue()\n"
   ]
  },
  {
   "cell_type": "raw",
   "metadata": {
    "vscode": {
     "languageId": "raw"
    }
   },
   "source": [
    "# END SOLUTION"
   ]
  },
  {
   "cell_type": "raw",
   "metadata": {
    "vscode": {
     "languageId": "raw"
    }
   },
   "source": [
    "# BEGIN TESTS"
   ]
  },
  {
   "cell_type": "code",
   "execution_count": 58,
   "metadata": {},
   "outputs": [],
   "source": [
    "\"\"\" # BEGIN TEST CONFIG\n",
    "points: 2\n",
    "hidden: true\n",
    "\"\"\" # END TEST CONFIG\n",
    "def test_loops_conditions(out):\n",
    "    output = out.splitlines()\n",
    "    assert output == ['2', '4', '6', '8']\n",
    "test_loops_conditions(out) # IGNORE"
   ]
  },
  {
   "cell_type": "raw",
   "metadata": {
    "vscode": {
     "languageId": "raw"
    }
   },
   "source": [
    "# END TESTS"
   ]
  },
  {
   "cell_type": "raw",
   "metadata": {
    "vscode": {
     "languageId": "raw"
    }
   },
   "source": [
    "# END QUESTION"
   ]
  },
  {
   "cell_type": "raw",
   "metadata": {
    "vscode": {
     "languageId": "raw"
    }
   },
   "source": [
    "# BEGIN QUESTION\n",
    "name: q9\n",
    "manual: true"
   ]
  },
  {
   "cell_type": "markdown",
   "metadata": {},
   "source": [
    "## Exercise 9: List Comprehension\n",
    "Create a list of squares of the numbers from 1 to 10 using list comprehension and return the list.\n"
   ]
  },
  {
   "cell_type": "raw",
   "metadata": {
    "vscode": {
     "languageId": "raw"
    }
   },
   "source": [
    "# BEGIN SOLUTION"
   ]
  },
  {
   "cell_type": "code",
   "execution_count": 59,
   "metadata": {},
   "outputs": [],
   "source": [
    "def list_comprehension():\n",
    "    # BEGIN SOLUTION\n",
    "    l = [i for i in range(10) if i % 2 == 0]\n",
    "    return l\n",
    "    # END SOLUTION"
   ]
  },
  {
   "cell_type": "raw",
   "metadata": {
    "vscode": {
     "languageId": "raw"
    }
   },
   "source": [
    "# END SOLUTION"
   ]
  },
  {
   "cell_type": "raw",
   "metadata": {
    "vscode": {
     "languageId": "raw"
    }
   },
   "source": [
    "# BEGIN TESTS"
   ]
  },
  {
   "cell_type": "code",
   "execution_count": 60,
   "metadata": {},
   "outputs": [],
   "source": [
    "\"\"\" # BEGIN TEST CONFIG\n",
    "points: 2\n",
    "hidden: true\n",
    "\"\"\" # END TEST CONFIG\n",
    "def test_list_comprehension(list_comprehension):\n",
    "    assert list_comprehension() == [0, 2, 4, 6, 8]\n",
    "test_list_comprehension(list_comprehension) # IGNORE"
   ]
  },
  {
   "cell_type": "raw",
   "metadata": {
    "vscode": {
     "languageId": "raw"
    }
   },
   "source": [
    "# END TESTS"
   ]
  },
  {
   "cell_type": "raw",
   "metadata": {
    "vscode": {
     "languageId": "raw"
    }
   },
   "source": [
    "# END QUESTION"
   ]
  },
  {
   "cell_type": "raw",
   "metadata": {
    "vscode": {
     "languageId": "raw"
    }
   },
   "source": [
    "# BEGIN QUESTION\n",
    "name: q10\n",
    "manual: true"
   ]
  },
  {
   "cell_type": "markdown",
   "metadata": {},
   "source": [
    "## Exercise 10: Functions\n",
    "\n",
    "Define a function `check_even` that takes a list of integer numbers as input and returns `True` if all the number in the list are even, otherwise returns `False`.\n",
    "\n",
    "First check if the numbers are integers, if not return `None`.\n",
    "\n",
    "\n",
    "\n"
   ]
  },
  {
   "cell_type": "raw",
   "metadata": {
    "vscode": {
     "languageId": "raw"
    }
   },
   "source": [
    "# BEGIN SOLUTION"
   ]
  },
  {
   "cell_type": "code",
   "execution_count": 61,
   "metadata": {},
   "outputs": [],
   "source": [
    "\n",
    "def check_even(l: list) -> bool:\n",
    "    # BEGIN SOLUTION\n",
    "    for i in l:\n",
    "        if i % 2 != 0:\n",
    "            return False\n",
    "    return True\n",
    "    # END SOLUTION"
   ]
  },
  {
   "cell_type": "raw",
   "metadata": {
    "vscode": {
     "languageId": "raw"
    }
   },
   "source": [
    "# END SOLUTION"
   ]
  },
  {
   "cell_type": "raw",
   "metadata": {
    "vscode": {
     "languageId": "raw"
    }
   },
   "source": [
    "# BEGIN TESTS"
   ]
  },
  {
   "cell_type": "code",
   "execution_count": 62,
   "metadata": {},
   "outputs": [],
   "source": [
    "\"\"\" # BEGIN TEST CONFIG\n",
    "points: 2\n",
    "hidden: true\n",
    "\"\"\" # END TEST CONFIG\n",
    "def test_check_even(check_even):\n",
    "    assert check_even([2, 4, 6]) == True\n",
    "    assert check_even([1, 3, 5]) == False\n",
    "    assert check_even([2, 4, 5]) == False\n",
    "test_check_even(check_even) # IGNORE\n"
   ]
  },
  {
   "cell_type": "raw",
   "metadata": {
    "vscode": {
     "languageId": "raw"
    }
   },
   "source": [
    "# END TESTS"
   ]
  },
  {
   "cell_type": "raw",
   "metadata": {
    "vscode": {
     "languageId": "raw"
    }
   },
   "source": [
    "# END QUESTION"
   ]
  }
 ],
 "metadata": {
  "kernelspec": {
   "display_name": "myenv",
   "language": "python",
   "name": "python3"
  },
  "language_info": {
   "codemirror_mode": {
    "name": "ipython",
    "version": 3
   },
   "file_extension": ".py",
   "mimetype": "text/x-python",
   "name": "python",
   "nbconvert_exporter": "python",
   "pygments_lexer": "ipython3",
   "version": "3.12.7"
  }
 },
 "nbformat": 4,
 "nbformat_minor": 2
}
