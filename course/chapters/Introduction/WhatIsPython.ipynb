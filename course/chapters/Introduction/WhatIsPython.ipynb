{
 "cells": [
  {
   "cell_type": "raw",
   "metadata": {
    "vscode": {
     "languageId": "raw"
    }
   },
   "source": [
    "---\n",
    "title: \"What is Python?\"\n",
    "---"
   ]
  },
  {
   "cell_type": "markdown",
   "metadata": {},
   "source": [
    "## Short History of Python {.unnumbered}"
   ]
  },
  {
   "cell_type": "markdown",
   "metadata": {},
   "source": [
    "(see [Wikipedia](https://en.wikipedia.org/wiki/History_of_Python) for more details)"
   ]
  },
  {
   "cell_type": "markdown",
   "metadata": {},
   "source": [
    "- 1989: the beginning of python\n",
    "- 1991: Guido van Rossum, a Dutch programmer and father of Python, implemented and published the first version of Python.\n",
    "- Fun fact: The name Python came from the show Monty Python's Flying Circus.\n",
    "- 1994: Python 1.0 was released\n",
    "- 2000: Python 2.0 was released\n",
    "- 2008: Python 3.0 was released with new syntax and features\n",
    "- Important: **python3 to python2 is backward incompatible**  *e.g.* `print(\"Hello World\")` python3 and `print \"Hello World\"` python2. \n",
    "- `python2` is nowdays outdated. It is not recommended to use it for new projects."
   ]
  },
  {
   "cell_type": "markdown",
   "metadata": {},
   "source": [
    "Van Rossum designed Python as a \"Computer Programming Language for Everybody\".\n"
   ]
  },
  {
   "cell_type": "markdown",
   "metadata": {},
   "source": [
    "## What is Python? {.unnumbered}\n",
    "- Python is an interpreted language in comparsion to compiled languages *e.g.* C or C++\n",
    "- Python is often slower compare to compiled languages\n",
    "- Python has dynamically type-check and a garabge collection\n",
    "- Python is also able to object-oriented and functional programming\n",
    "- Python is a high-level language, which means that it is closer to human language than machine language which the computer is understanding\n"
   ]
  },
  {
   "cell_type": "markdown",
   "metadata": {},
   "source": [
    "Simple Scheme how Python works internally:\n",
    "So if you execute a python programe, the python interpreter will convert the code into byte code and then the byte code will be executed by the python virtual machine (PVM)."
   ]
  },
  {
   "cell_type": "markdown",
   "metadata": {},
   "source": [
    "```{mermaid}\n",
    "graph TD\n",
    "    A[Python Source Code *.py] -->|Step 1: Compilation| B[Bytecode *.pyc]\n",
    "    B -->|Step 2: Interpretation| C[Python Virtual Machine - PVM]\n",
    "    C -->|Execution| D[Program Output]\n",
    "```"
   ]
  },
  {
   "cell_type": "markdown",
   "metadata": {},
   "source": [
    "## How I can learn Python? {.unnumbered}"
   ]
  },
  {
   "cell_type": "markdown",
   "metadata": {},
   "source": [
    "There are a lot of resources to dive deeper into Python *e.g.*:"
   ]
  },
  {
   "cell_type": "markdown",
   "metadata": {},
   "source": [
    " - [https://www.py4e.com/](https://www.py4e.com/) (Python for Everybody)\n",
    " - [https://py-tutorial-de.readthedocs.io/de/python-3.3/](https://py-tutorial-de.readthedocs.io/de/python-3.3/) (German Tutorial)\n",
    " - [https://www.w3schools.com/python/default.asp](https://www.w3schools.com/python/default.asp)\n",
    " - [https://jakevdp.github.io/PythonDataScienceHandbook/](https://jakevdp.github.io/PythonDataScienceHandbook/)\n",
    " - [https://exercism.org/](https://exercism.org/) (Coding Exercises)\n",
    " - [https://www.freecodecamp.org/](https://www.freecodecamp.org/) (Coding Exercises)\n",
    " - [https://realpython.com/tutorials/data-viz/](https://realpython.com/tutorials/data-viz/)\n",
    " - [https://www.youtube.com/watch?v=LHBE6Q9XlzI](https://www.youtube.com/watch?v=LHBE6Q9XlzI)\n"
   ]
  },
  {
   "cell_type": "markdown",
   "metadata": {},
   "source": [
    ":::{.callout-important}\n",
    "As it is with languages, you can only learn it if you practicing it. <br>\n",
    "So, start you own projects and have fun with it!\n",
    ":::\n"
   ]
  },
  {
   "cell_type": "markdown",
   "metadata": {},
   "source": []
  },
  {
   "cell_type": "markdown",
   "metadata": {},
   "source": []
  }
 ],
 "metadata": {
  "language_info": {
   "name": "python"
  }
 },
 "nbformat": 4,
 "nbformat_minor": 2
}
