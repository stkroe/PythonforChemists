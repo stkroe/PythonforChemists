{
 "cells": [
  {
   "cell_type": "raw",
   "metadata": {
    "vscode": {
     "languageId": "raw"
    }
   },
   "source": [
    "---\n",
    "title: \"Installation Guide\"\n",
    "execute:\n",
    "    echo: true\n",
    "    eval: false\n",
    "    collaps: false\n",
    "---"
   ]
  },
  {
   "cell_type": "markdown",
   "metadata": {},
   "source": [
    "Here is a short instruction how to install Python on your local PC or you can use [Google Colab](https://colab.research.google.com) to solve all the exercises of this course.\n",
    "\n",
    ":::{.callout-information}\n",
    "The use of [Google Colab](https://colab.research.google.com) needs a Google Account. Please read the [Terms of Service](https://research.google.com/colaboratory/tos_v5.html) and [Privacy Policy](https://policies.google.com/privacy)\n",
    ":::"
   ]
  },
  {
   "cell_type": "markdown",
   "metadata": {},
   "source": [
    "## How to install Python locally? {.unnumbered}"
   ]
  },
  {
   "cell_type": "markdown",
   "metadata": {},
   "source": [
    "Fundamental Python websites:"
   ]
  },
  {
   "cell_type": "markdown",
   "metadata": {},
   "source": [
    "\n",
    "- [Python](https://www.python.org) \n",
    "- [Python documentation](https://www.python.org/doc/)"
   ]
  },
  {
   "cell_type": "markdown",
   "metadata": {},
   "source": [
    "### 1. Install Python Interpreter {.unnumbered}"
   ]
  },
  {
   "cell_type": "markdown",
   "metadata": {},
   "source": [
    "Your preferred searching engine is your friend to find the best way to install Python on your system.\n",
    "Please choose that method which is suitable for you."
   ]
  },
  {
   "cell_type": "markdown",
   "metadata": {},
   "source": [
    "Python can be install by severals ways:"
   ]
  },
  {
   "cell_type": "markdown",
   "metadata": {},
   "source": [
    "\n",
    "- directly by [Python](https://www.python.org/downloads/) official site \n",
    "    - the installation guide can be found under [python wiki](https://wiki.python.org/moin/BeginnersGuide/Download)\n",
    "- or via package manager of your os: \n",
    "    - *e.g.:* `sudo apt install python` (linux debian) or `brew install python` (macOS)\n",
    "- or via [docker](https://www.docker.com/), [wsl](https://learn.microsoft.com/de-de/windows/wsl/install) ect.\n",
    "- or via a [conda](https://docs.conda.io/projects/conda/en/latest/index.html) or [mamba](https://mamba.readthedocs.io/en/latest/index.html) python package and environment managers which have a python interpreter on board and are avaiable for Windows, Linux and macOS [my recomendation]\n",
    "\n"
   ]
  },
  {
   "cell_type": "markdown",
   "metadata": {},
   "source": [
    "### Python Package and Environment manager"
   ]
  },
  {
   "cell_type": "markdown",
   "metadata": {},
   "source": [
    "The advantage of using a python package and environment manager is that you have a python interpreter directly on board but you can also directly create different python enviroments and install and remove python packages."
   ]
  },
  {
   "cell_type": "markdown",
   "metadata": {},
   "source": [
    "#### Conda"
   ]
  },
  {
   "cell_type": "markdown",
   "metadata": {},
   "source": [
    "There are differerent `conda`installer:\n",
    "(Please pay attention which one is suitable for you ([https://docs.anaconda.com/distro-or-miniconda/](https://docs.anaconda.com/distro-or-miniconda/)).\n",
    "\n",
    ":::{.callout-warning}\n",
    "Please read the [Anaconda Terms of Service FAQs](https://www.anaconda.com/pricing/terms-of-service-faqs) and [Terms of Service](https://legal.anaconda.com/policies/en/)) **not** every case is **free** of use. \n",
    "\n",
    ":::"
   ]
  },
  {
   "cell_type": "markdown",
   "metadata": {},
   "source": [
    "- [Anaconda Distribution](https://docs.anaconda.com/anaconda/install/) is a comprehensive distribution which includes conda and hundreds of preinstalled packages and tools.\n",
    "- [miniconda](https://docs.anaconda.com/free/miniconda/index.html) is the light version of it which contains only conda, python interpreter and few fundamental packages\n",
    "- [miniforge](https://github.com/conda-forge/miniforge) minimal installer for conda and using only the community [conda-forge](https://conda-forge.org/) channel\n"
   ]
  },
  {
   "cell_type": "markdown",
   "metadata": {},
   "source": [
    "#### Mamba"
   ]
  },
  {
   "cell_type": "markdown",
   "metadata": {},
   "source": [
    "Another python package and environment managers is [mamba](https://mamba.readthedocs.io/en/latest/index.html).\n",
    "`mamba` is a reimplementation of `conda`:\n",
    " - [micromamba](https://mamba.readthedocs.io/en/latest/installation/micromamba-installation.html) is a statically linked version  of `mamba` \n",
    " - `mamba`and it at the moment faster than `conda`"
   ]
  },
  {
   "cell_type": "markdown",
   "metadata": {},
   "source": [
    ":::{.callout-tip}\n",
    " **Recommondation: *micromamba* ** <br>\n",
    "\n",
    "Install it like it is explained under the micromamba documentation:\n",
    "- [https://mamba.readthedocs.io/en/latest/installation/micromamba-installation.html](https://mamba.readthedocs.io/en/latest/installation/micromamba-installation.html)\n",
    ":::"
   ]
  },
  {
   "cell_type": "markdown",
   "metadata": {},
   "source": [
    "Please install in one of the above explained ways Python and use your preferred searching enging to get more information."
   ]
  },
  {
   "cell_type": "markdown",
   "metadata": {},
   "source": [
    "### 2. Set up an environment {.unnumbered}\n",
    "\n",
    "It is often very useful to have different python enviroments for different python projects because of the need of different python package versions.\n",
    "\n",
    "You can use `conda` or `micromamba` to create different environments. There exists also other virtual environment manager.\n",
    "\n",
    "In this course the explaination is restricted to `micromamba` as an example. If you want to use something else there exists tons of information online how to use other programs.\n",
    "\n"
   ]
  },
  {
   "cell_type": "markdown",
   "metadata": {},
   "source": [
    "#### Micromamba: Most important commands are: {.unnumbered}"
   ]
  },
  {
   "cell_type": "markdown",
   "metadata": {},
   "source": [
    "Read for more detail:  [https://mamba.readthedocs.io/en/latest/user_guide/micromamba.html](https://mamba.readthedocs.io/en/latest/user_guide/micromamba.html)\n"
   ]
  },
  {
   "cell_type": "markdown",
   "metadata": {},
   "source": [
    "Creating a new virtual environment:"
   ]
  },
  {
   "cell_type": "code",
   "execution_count": null,
   "metadata": {
    "vscode": {
     "languageId": "shellscript"
    }
   },
   "outputs": [
    {
     "name": "stdout",
     "output_type": "stream",
     "text": [
      "zsh:1: parse error near `>'\n",
      "\n",
      "Note: you may need to restart the kernel to use updated packages.\n"
     ]
    }
   ],
   "source": [
    "# micromamba create --name <myenvname>"
   ]
  },
  {
   "cell_type": "markdown",
   "metadata": {},
   "source": [
    "Install new packages:"
   ]
  },
  {
   "cell_type": "code",
   "execution_count": null,
   "metadata": {
    "vscode": {
     "languageId": "shellscript"
    }
   },
   "outputs": [
    {
     "name": "stdout",
     "output_type": "stream",
     "text": [
      "zsh:1: parse error near `>'\n",
      "\n",
      "Note: you may need to restart the kernel to use updated packages.\n"
     ]
    }
   ],
   "source": [
    "# micromamba install <packagename>"
   ]
  },
  {
   "cell_type": "markdown",
   "metadata": {},
   "source": [
    "List all environments:"
   ]
  },
  {
   "cell_type": "code",
   "execution_count": null,
   "metadata": {
    "vscode": {
     "languageId": "shellscript"
    }
   },
   "outputs": [
    {
     "name": "stdout",
     "output_type": "stream",
     "text": [
      "  Name        Active  Path                            \n",
      "────────────────────────────────────────────────────────\n",
      "                      /Users/stk/micromamba/envs/myenv\n",
      "  base                /Users/stk/y                    \n",
      "  hpc_python          /Users/stk/y/envs/hpc_python    \n",
      "  myenv       *       /Users/stk/y/envs/myenv         \n",
      "  pqenv               /Users/stk/y/envs/pqenv         \n",
      "  py13env             /Users/stk/y/envs/py13env       \n",
      "\n",
      "Note: you may need to restart the kernel to use updated packages.\n"
     ]
    }
   ],
   "source": [
    "# micromamba env list"
   ]
  },
  {
   "cell_type": "markdown",
   "metadata": {},
   "source": [
    "Activate an environment:"
   ]
  },
  {
   "cell_type": "code",
   "execution_count": null,
   "metadata": {
    "vscode": {
     "languageId": "shellscript"
    }
   },
   "outputs": [
    {
     "name": "stdout",
     "output_type": "stream",
     "text": [
      "zsh:1: parse error near `>'\n",
      "\n",
      "Note: you may need to restart the kernel to use updated packages.\n"
     ]
    }
   ],
   "source": [
    "#micromamba activate <myenvname>"
   ]
  },
  {
   "cell_type": "markdown",
   "metadata": {},
   "source": [
    "List all packages of this environment:"
   ]
  },
  {
   "cell_type": "code",
   "execution_count": null,
   "metadata": {
    "vscode": {
     "languageId": "shellscript"
    }
   },
   "outputs": [
    {
     "name": "stdout",
     "output_type": "stream",
     "text": [
      "List of packages in environment: \"/Users/stk/y/envs/myenv\"\n",
      "\n",
      "  Name                           Version         Build                         Channel    \n",
      "────────────────────────────────────────────────────────────────────────────────────────────\n",
      "  anyio                          4.6.2.post1     pyhd8ed1ab_0                  conda-forge\n",
      "  aom                            3.9.1           h7bae524_0                    conda-forge\n",
      "  appnope                        0.1.4           pyhd8ed1ab_0                  conda-forge\n",
      "  argon2-cffi                    23.1.0          pyhd8ed1ab_0                  conda-forge\n",
      "  argon2-cffi-bindings           21.2.0          py312h024a12e_5               conda-forge\n",
      "  arrow                          1.3.0           pyhd8ed1ab_0                  conda-forge\n",
      "  \u001b[1m\u001b[34mase                          \u001b[0m  3.23.0          pyhd8ed1ab_0                  conda-forge\n",
      "  asttokens                      2.4.1           pyhd8ed1ab_0                  conda-forge\n",
      "  async-lru                      2.0.4           pyhd8ed1ab_0                  conda-forge\n",
      "  attrs                          24.2.0          pyh71513ae_0                  conda-forge\n",
      "  babel                          2.16.0          pyhd8ed1ab_0                  conda-forge\n",
      "  beautifulsoup4                 4.12.3          pyha770c72_0                  conda-forge\n",
      "  bleach                         6.2.0           pyhd8ed1ab_0                  conda-forge\n",
      "  blinker                        1.9.0           pyhff2d567_0                  conda-forge\n",
      "  blosc                          1.21.6          h5499902_0                    conda-forge\n",
      "  brotli                         1.1.0           hd74edd7_2                    conda-forge\n",
      "  brotli-bin                     1.1.0           hd74edd7_2                    conda-forge\n",
      "  brotli-python                  1.1.0           py312hde4cb15_2               conda-forge\n",
      "  bzip2                          1.0.8           h99b78c6_7                    conda-forge\n",
      "  c-ares                         1.34.3          h5505292_0                    conda-forge\n",
      "  ca-certificates                2024.8.30       hf0a4a13_0                    conda-forge\n",
      "  cached-property                1.5.2           hd8ed1ab_1                    conda-forge\n",
      "  cached_property                1.5.2           pyha770c72_1                  conda-forge\n",
      "  cairo                          1.18.0          hb4a6bf7_3                    conda-forge\n",
      "  certifi                        2024.8.30       pyhd8ed1ab_0                  conda-forge\n",
      "  cffi                           1.17.1          py312h0fad829_0               conda-forge\n",
      "  chardet                        5.2.0           py312h81bd7bf_2               conda-forge\n",
      "  charset-normalizer             3.4.0           pyhd8ed1ab_0                  conda-forge\n",
      "  click                          8.1.7           unix_pyh707e725_0             conda-forge\n",
      "  colorama                       0.4.6           pyhd8ed1ab_0                  conda-forge\n",
      "  comm                           0.2.2           pyhd8ed1ab_0                  conda-forge\n",
      "  contourpy                      1.3.1           py312hb23fbb9_0               conda-forge\n",
      "  \u001b[1m\u001b[34mcpython                      \u001b[0m  3.12.7          py312hd8ed1ab_0               conda-forge\n",
      "  cycler                         0.12.1          pyhd8ed1ab_0                  conda-forge\n",
      "  cyrus-sasl                     2.1.27          h60b93bd_7                    conda-forge\n",
      "  dav1d                          1.2.1           hb547adb_0                    conda-forge\n",
      "  debugpy                        1.8.8           py312hd8f9ff3_0               conda-forge\n",
      "  decorator                      5.1.1           pyhd8ed1ab_0                  conda-forge\n",
      "  defusedxml                     0.7.1           pyhd8ed1ab_0                  conda-forge\n",
      "  entrypoints                    0.4             pyhd8ed1ab_0                  conda-forge\n",
      "  exceptiongroup                 1.2.2           pyhd8ed1ab_0                  conda-forge\n",
      "  executing                      2.1.0           pyhd8ed1ab_0                  conda-forge\n",
      "  filelock                       3.16.1          pyhd8ed1ab_1                  conda-forge\n",
      "  flask                          3.1.0           pyhff2d567_0                  conda-forge\n",
      "  font-ttf-dejavu-sans-mono      2.37            hab24e00_0                    conda-forge\n",
      "  font-ttf-inconsolata           3.000           h77eed37_0                    conda-forge\n",
      "  font-ttf-source-code-pro       2.038           h77eed37_0                    conda-forge\n",
      "  font-ttf-ubuntu                0.83            h77eed37_3                    conda-forge\n",
      "  fontconfig                     2.15.0          h1383a14_1                    conda-forge\n",
      "  fonts-conda-ecosystem          1               0                             conda-forge\n",
      "  fonts-conda-forge              1               0                             conda-forge\n",
      "  fonttools                      4.55.0          py312h998013c_0               conda-forge\n",
      "  fqdn                           1.5.1           pyhd8ed1ab_0                  conda-forge\n",
      "  freetype                       2.12.1          hadb7bae_2                    conda-forge\n",
      "  freetype-py                    2.3.0           pyhd8ed1ab_0                  conda-forge\n",
      "  fsspec                         2024.12.0       pyhd8ed1ab_0                  conda-forge\n",
      "  future                         1.0.0           pyhd8ed1ab_0                  conda-forge\n",
      "  \u001b[1m\u001b[34mgh                           \u001b[0m  2.62.0          hd02bf31_0                    conda-forge\n",
      "  giflib                         5.2.2           h93a5062_0                    conda-forge\n",
      "  glew                           2.1.0           h9f76cd9_2                    conda-forge\n",
      "  glib                           2.82.2          hb1db9eb_0                    conda-forge\n",
      "  glib-tools                     2.82.2          h25d4a46_0                    conda-forge\n",
      "  glm                            0.9.9.8         h1995070_0                    conda-forge\n",
      "  gmp                            6.3.0           h7bae524_2                    conda-forge\n",
      "  gmpy2                          2.1.5           py312h87fada9_2               conda-forge\n",
      "  greenlet                       3.1.1           py312hde4cb15_0               conda-forge\n",
      "  gst-plugins-base               1.24.7          hb49d354_0                    conda-forge\n",
      "  gstreamer                      1.24.7          hc3f5269_0                    conda-forge\n",
      "  h11                            0.14.0          pyhd8ed1ab_0                  conda-forge\n",
      "  h2                             4.1.0           pyhd8ed1ab_0                  conda-forge\n",
      "  hdf4                           4.2.15          h2ee6834_7                    conda-forge\n",
      "  hdf5                           1.14.4          nompi_ha698983_103            conda-forge\n",
      "  hpack                          4.0.0           pyh9f0ad1d_0                  conda-forge\n",
      "  httpcore                       1.0.7           pyh29332c3_1                  conda-forge\n",
      "  httpx                          0.27.2          pyhd8ed1ab_0                  conda-forge\n",
      "  hyperframe                     6.0.1           pyhd8ed1ab_0                  conda-forge\n",
      "  icu                            75.1            hfee45f7_0                    conda-forge\n",
      "  idna                           3.10            pyhd8ed1ab_0                  conda-forge\n",
      "  importlib-metadata             8.5.0           pyha770c72_0                  conda-forge\n",
      "  importlib-resources            6.4.5           pyhd8ed1ab_0                  conda-forge\n",
      "  importlib_resources            6.4.5           pyhd8ed1ab_0                  conda-forge\n",
      "  iniconfig                      2.0.0           pyhd8ed1ab_0                  conda-forge\n",
      "  ipykernel                      6.29.5          pyh57ce528_0                  conda-forge\n",
      "  ipython                        8.29.0          pyh707e725_0                  conda-forge\n",
      "  ipython_genutils               0.2.0           pyhd8ed1ab_1                  conda-forge\n",
      "  ipywidgets                     8.1.5           pyhd8ed1ab_0                  conda-forge\n",
      "  isoduration                    20.11.0         pyhd8ed1ab_0                  conda-forge\n",
      "  itsdangerous                   2.2.0           pyhd8ed1ab_0                  conda-forge\n",
      "  jedi                           0.19.2          pyhff2d567_0                  conda-forge\n",
      "  jinja2                         3.1.4           pyhd8ed1ab_0                  conda-forge\n",
      "  joblib                         1.4.2           pyhd8ed1ab_0                  conda-forge\n",
      "  json5                          0.9.28          pyhff2d567_0                  conda-forge\n",
      "  jsonpointer                    3.0.0           py312h81bd7bf_1               conda-forge\n",
      "  jsonschema                     4.23.0          pyhd8ed1ab_0                  conda-forge\n",
      "  jsonschema-specifications      2024.10.1       pyhd8ed1ab_0                  conda-forge\n",
      "  jsonschema-with-format-nongpl  4.23.0          hd8ed1ab_0                    conda-forge\n",
      "  \u001b[1m\u001b[34mjupyter                      \u001b[0m  1.1.1           pyhd8ed1ab_0                  conda-forge\n",
      "  jupyter-lsp                    2.2.5           pyhd8ed1ab_0                  conda-forge\n",
      "  jupyter_client                 7.4.9           pyhd8ed1ab_0                  conda-forge\n",
      "  jupyter_console                6.6.3           pyhd8ed1ab_0                  conda-forge\n",
      "  jupyter_core                   5.7.2           pyh31011fe_1                  conda-forge\n",
      "  jupyter_events                 0.10.0          pyhd8ed1ab_0                  conda-forge\n",
      "  jupyter_server                 2.14.2          pyhd8ed1ab_0                  conda-forge\n",
      "  jupyter_server_terminals       0.5.3           pyhd8ed1ab_0                  conda-forge\n",
      "  jupyterlab                     4.3.1           pyhff2d567_0                  conda-forge\n",
      "  jupyterlab_pygments            0.3.0           pyhd8ed1ab_1                  conda-forge\n",
      "  jupyterlab_server              2.27.3          pyhd8ed1ab_0                  conda-forge\n",
      "  jupyterlab_widgets             3.0.13          pyhd8ed1ab_0                  conda-forge\n",
      "  kiwisolver                     1.4.7           py312h6142ec9_0               conda-forge\n",
      "  krb5                           1.21.3          h237132a_0                    conda-forge\n",
      "  latexcodec                     2.0.1           pyh9f0ad1d_0                  conda-forge\n",
      "  lcms2                          2.16            ha0e7c42_0                    conda-forge\n",
      "  lerc                           4.0.0           h9a09cb3_0                    conda-forge\n",
      "  libabseil                      20240722.0      cxx17_h07bc746_4              conda-forge\n",
      "  libaec                         1.1.3           hebf3989_0                    conda-forge\n",
      "  libavif16                      1.1.1           h45b7238_2                    conda-forge\n",
      "  libblas                        3.9.0           25_osxarm64_openblas          conda-forge\n",
      "  libboost                       1.86.0          h29978a0_2                    conda-forge\n",
      "  libboost-python                1.86.0          py312h707656b_2               conda-forge\n",
      "  libbrotlicommon                1.1.0           hd74edd7_2                    conda-forge\n",
      "  libbrotlidec                   1.1.0           hd74edd7_2                    conda-forge\n",
      "  libbrotlienc                   1.1.0           hd74edd7_2                    conda-forge\n",
      "  libcblas                       3.9.0           25_osxarm64_openblas          conda-forge\n",
      "  libclang-cpp17                 17.0.6          default_h146c034_7            conda-forge\n",
      "  libclang13                     19.1.4          default_h81d93ff_0            conda-forge\n",
      "  libcurl                        8.10.1          h13a7ad3_0                    conda-forge\n",
      "  libcxx                         19.1.4          ha82da77_0                    conda-forge\n",
      "  libde265                       1.0.15          h2ffa867_0                    conda-forge\n",
      "  libdeflate                     1.22            hd74edd7_0                    conda-forge\n",
      "  libedit                        3.1.20191231    hc8eb9b7_2                    conda-forge\n",
      "  libev                          4.33            h93a5062_2                    conda-forge\n",
      "  libexpat                       2.6.4           h286801f_0                    conda-forge\n",
      "  libffi                         3.4.2           h3422bc3_5                    conda-forge\n",
      "  libgfortran                    5.0.0           13_2_0_hd922786_3             conda-forge\n",
      "  libgfortran5                   13.2.0          hf226fd6_3                    conda-forge\n",
      "  libglib                        2.82.2          h07bd6cf_0                    conda-forge\n",
      "  libheif                        1.19.5          gpl_h297b2c4_100              conda-forge\n",
      "  libiconv                       1.17            h0d3ecfb_2                    conda-forge\n",
      "  libintl                        0.22.5          h8414b35_3                    conda-forge\n",
      "  libintl-devel                  0.22.5          h8414b35_3                    conda-forge\n",
      "  libjpeg-turbo                  3.0.0           hb547adb_1                    conda-forge\n",
      "  liblapack                      3.9.0           25_osxarm64_openblas          conda-forge\n",
      "  libllvm14                      14.0.6          hd1a9a77_4                    conda-forge\n",
      "  libllvm17                      17.0.6          h5090b49_2                    conda-forge\n",
      "  libllvm19                      19.1.4          hc4b4ae8_0                    conda-forge\n",
      "  libnetcdf                      4.9.2           nompi_h853a48d_115            conda-forge\n",
      "  libnghttp2                     1.64.0          h6d7220d_0                    conda-forge\n",
      "  libntlm                        1.4             h3422bc3_1002                 conda-forge\n",
      "  libogg                         1.3.5           h99b78c6_0                    conda-forge\n",
      "  libopenblas                    0.3.28          openmp_hf332438_1             conda-forge\n",
      "  libopus                        1.3.1           h27ca646_1                    conda-forge\n",
      "  libpng                         1.6.44          hc14010f_0                    conda-forge\n",
      "  libpq                          16.5            h0224a88_0                    conda-forge\n",
      "  libprotobuf                    5.28.3          h3bd63a1_1                    conda-forge\n",
      "  librdkit                       2024.09.2       he5d30ef_0                    conda-forge\n",
      "  libsodium                      1.0.20          h99b78c6_0                    conda-forge\n",
      "  libsqlite                      3.47.0          hbaaea75_1                    conda-forge\n",
      "  libssh2                        1.11.0          h7a5bd25_0                    conda-forge\n",
      "  libtiff                        4.7.0           hfce79cd_1                    conda-forge\n",
      "  libtorch                       2.5.1           cpu_generic_h5de138e_8        conda-forge\n",
      "  libuv                          1.49.2          h7ab814d_0                    conda-forge\n",
      "  libvorbis                      1.3.7           h9f76cd9_0                    conda-forge\n",
      "  libwebp-base                   1.5.0           h2471fea_0                    conda-forge\n",
      "  libxcb                         1.17.0          hdb1d25a_0                    conda-forge\n",
      "  libxml2                        2.13.5          hbbdcc80_0                    conda-forge\n",
      "  libzip                         1.11.2          h1336266_0                    conda-forge\n",
      "  libzlib                        1.3.1           h8359307_2                    conda-forge\n",
      "  llvm-openmp                    19.1.4          hdb05f8b_0                    conda-forge\n",
      "  llvmlite                       0.43.0          py312ha9ca408_1               conda-forge\n",
      "  lz4-c                          1.9.4           hb7217d7_0                    conda-forge\n",
      "  markupsafe                     3.0.2           py312ha0ccf2a_0               conda-forge\n",
      "  \u001b[1m\u001b[34mmatplotlib                   \u001b[0m  3.9.2           py312h1f38498_2               conda-forge\n",
      "  matplotlib-base                3.9.2           py312h9bd0bc6_2               conda-forge\n",
      "  matplotlib-inline              0.1.7           pyhd8ed1ab_0                  conda-forge\n",
      "  mistune                        3.0.2           pyhd8ed1ab_0                  conda-forge\n",
      "  monty                          2024.10.21      pyhd8ed1ab_0                  conda-forge\n",
      "  mpc                            1.3.1           h8f1351a_1                    conda-forge\n",
      "  mpfr                           4.2.1           hb693164_3                    conda-forge\n",
      "  mpmath                         1.3.0           pyhd8ed1ab_0                  conda-forge\n",
      "  munkres                        1.1.4           pyh9f0ad1d_0                  conda-forge\n",
      "  mysql-common                   9.0.1           h0887d5e_2                    conda-forge\n",
      "  mysql-libs                     9.0.1           he9bc4e1_2                    conda-forge\n",
      "  nbclassic                      1.1.0           pyhd8ed1ab_0                  conda-forge\n",
      "  nbclient                       0.10.0          pyhd8ed1ab_0                  conda-forge\n",
      "  nbconvert-core                 7.16.4          pyhd8ed1ab_1                  conda-forge\n",
      "  nbformat                       5.10.4          pyhd8ed1ab_0                  conda-forge\n",
      "  ncurses                        6.5             h7bae524_1                    conda-forge\n",
      "  nest-asyncio                   1.6.0           pyhd8ed1ab_0                  conda-forge\n",
      "  networkx                       3.4.2           pyh267e887_2                  conda-forge\n",
      "  nomkl                          1.0             h5ca1d4c_0                    conda-forge\n",
      "  notebook                       6.5.7           pyha770c72_0                  conda-forge\n",
      "  notebook-shim                  0.2.4           pyhd8ed1ab_0                  conda-forge\n",
      "  nspr                           4.36            h5833ebf_0                    conda-forge\n",
      "  nss                            3.106           h6f44f80_0                    conda-forge\n",
      "  \u001b[1m\u001b[34mnumba                        \u001b[0m  0.60.0          py312h41cea2d_0               conda-forge\n",
      "  \u001b[1m\u001b[34mnumpy                        \u001b[0m  1.26.4          py312h8442bc7_0               conda-forge\n",
      "  \u001b[1m\u001b[34mopenbabel                    \u001b[0m  3.1.1           py312h2eeb2e4_9               conda-forge\n",
      "  openjpeg                       2.5.2           h9f1df11_0                    conda-forge\n",
      "  openldap                       2.6.8           h50f2afc_0                    conda-forge\n",
      "  openssl                        3.4.0           h39f12f2_0                    conda-forge\n",
      "  overrides                      7.7.0           pyhd8ed1ab_0                  conda-forge\n",
      "  packaging                      24.2            pyhff2d567_1                  conda-forge\n",
      "  palettable                     3.3.3           pyhd8ed1ab_0                  conda-forge\n",
      "  \u001b[1m\u001b[34mpandas                       \u001b[0m  2.2.3           py312hcd31e36_1               conda-forge\n",
      "  pandocfilters                  1.5.0           pyhd8ed1ab_0                  conda-forge\n",
      "  parso                          0.8.4           pyhd8ed1ab_0                  conda-forge\n",
      "  patsy                          1.0.1           pyhff2d567_0                  conda-forge\n",
      "  pcre2                          10.44           h297a79d_2                    conda-forge\n",
      "  pexpect                        4.9.0           pyhd8ed1ab_0                  conda-forge\n",
      "  pickleshare                    0.7.5           py_1003                       conda-forge\n",
      "  pillow                         11.0.0          py312haf37ca6_0               conda-forge\n",
      "  pip                            24.3.1          pyh8b19718_0                  conda-forge\n",
      "  pixman                         0.43.4          hebf3989_0                    conda-forge\n",
      "  pkgutil-resolve-name           1.3.10          pyhd8ed1ab_1                  conda-forge\n",
      "  platformdirs                   4.3.6           pyhd8ed1ab_0                  conda-forge\n",
      "  plotly                         5.24.1          pyhd8ed1ab_0                  conda-forge\n",
      "  pluggy                         1.5.0           pyhd8ed1ab_0                  conda-forge\n",
      "  ply                            3.11            pyhd8ed1ab_2                  conda-forge\n",
      "  pmw                            2.0.1           py312h81bd7bf_1008            conda-forge\n",
      "  prometheus_client              0.21.0          pyhd8ed1ab_0                  conda-forge\n",
      "  prompt-toolkit                 3.0.48          pyha770c72_0                  conda-forge\n",
      "  prompt_toolkit                 3.0.48          hd8ed1ab_0                    conda-forge\n",
      "  psutil                         6.1.0           py312h0bf5046_0               conda-forge\n",
      "  pthread-stubs                  0.4             hd74edd7_1002                 conda-forge\n",
      "  ptyprocess                     0.7.0           pyhd3deb0d_0                  conda-forge\n",
      "  pure_eval                      0.2.3           pyhd8ed1ab_0                  conda-forge\n",
      "  \u001b[1m\u001b[34mpybind11                     \u001b[0m  2.13.6          pyh1ec8472_2                  conda-forge\n",
      "  pybind11-global                2.13.6          pyh415d2e4_2                  conda-forge\n",
      "  pybtex                         0.24.0          pyhd8ed1ab_2                  conda-forge\n",
      "  pycairo                        1.27.0          py312h798cee4_0               conda-forge\n",
      "  pycparser                      2.22            pyhd8ed1ab_0                  conda-forge\n",
      "  pygments                       2.18.0          pyhd8ed1ab_0                  conda-forge\n",
      "  \u001b[1m\u001b[34mpymatgen                     \u001b[0m  2024.11.13      py312he0011b7_0               conda-forge\n",
      "  \u001b[1m\u001b[34mpymol-open-source            \u001b[0m  3.0.0           py312h0d8885b_8               conda-forge\n",
      "  pyobjc-core                    10.3.1          py312hd24fc31_1               conda-forge\n",
      "  pyobjc-framework-cocoa         10.3.1          py312hd24fc31_1               conda-forge\n",
      "  pyparsing                      3.2.0           pyhd8ed1ab_1                  conda-forge\n",
      "  pyqt                           5.15.9          py312h550cae4_5               conda-forge\n",
      "  pyqt5-sip                      12.12.2         py312h9f69965_5               conda-forge\n",
      "  pysocks                        1.7.1           pyha2e5f31_6                  conda-forge\n",
      "  \u001b[1m\u001b[34mpytest                       \u001b[0m  8.3.3           pyhd8ed1ab_0                  conda-forge\n",
      "  \u001b[1m\u001b[34mpython                       \u001b[0m  3.12.7          h739c21a_0_cpython            conda-forge\n",
      "  python-dateutil                2.9.0.post0     pyhff2d567_0                  conda-forge\n",
      "  python-fastjsonschema          2.20.0          pyhd8ed1ab_0                  conda-forge\n",
      "  python-json-logger             2.0.7           pyhd8ed1ab_0                  conda-forge\n",
      "  python-tzdata                  2024.2          pyhd8ed1ab_0                  conda-forge\n",
      "  python_abi                     3.12            5_cp312                       conda-forge\n",
      "  \u001b[1m\u001b[34mpytorch                      \u001b[0m  2.5.1           cpu_generic_py312_h6e42039_8  conda-forge\n",
      "  pytz                           2024.1          pyhd8ed1ab_0                  conda-forge\n",
      "  pyyaml                         6.0.2           py312h024a12e_1               conda-forge\n",
      "  pyzmq                          26.2.0          py312hf8a1cbd_3               conda-forge\n",
      "  qhull                          2020.2          h420ef59_5                    conda-forge\n",
      "  qt-main                        5.15.15         h7d33341_0                    conda-forge\n",
      "  rav1e                          0.6.6           h69fbcac_2                    conda-forge\n",
      "  \u001b[1m\u001b[34mrdkit                        \u001b[0m  2024.09.2       py312h2f1d5c7_0               conda-forge\n",
      "  readline                       8.2             h92ec313_1                    conda-forge\n",
      "  referencing                    0.35.1          pyhd8ed1ab_0                  conda-forge\n",
      "  reportlab                      4.2.5           py312h024a12e_0               conda-forge\n",
      "  requests                       2.32.3          pyhd8ed1ab_0                  conda-forge\n",
      "  rfc3339-validator              0.1.4           pyhd8ed1ab_0                  conda-forge\n",
      "  rfc3986-validator              0.1.1           pyh9f0ad1d_0                  conda-forge\n",
      "  rlpycairo                      0.2.0           pyhd8ed1ab_0                  conda-forge\n",
      "  rpds-py                        0.21.0          py312hcd83bfe_0               conda-forge\n",
      "  ruamel.yaml                    0.18.6          py312h0bf5046_1               conda-forge\n",
      "  ruamel.yaml.clib               0.2.8           py312h0bf5046_1               conda-forge\n",
      "  \u001b[1m\u001b[34mscikit-learn                 \u001b[0m  1.5.2           py312h387f99c_1               conda-forge\n",
      "  \u001b[1m\u001b[34mscipy                        \u001b[0m  1.14.1          py312h20deb59_1               conda-forge\n",
      "  \u001b[1m\u001b[34mseaborn                      \u001b[0m  0.13.2          hd8ed1ab_2                    conda-forge\n",
      "  seaborn-base                   0.13.2          pyhd8ed1ab_2                  conda-forge\n",
      "  send2trash                     1.8.3           pyh31c8845_0                  conda-forge\n",
      "  setuptools                     75.5.0          pyhff2d567_0                  conda-forge\n",
      "  sip                            6.8.6           py312hde4cb15_1               conda-forge\n",
      "  six                            1.16.0          pyh6c4a22f_0                  conda-forge\n",
      "  sleef                          3.7             h8391f65_2                    conda-forge\n",
      "  snappy                         1.2.1           hd02b534_0                    conda-forge\n",
      "  sniffio                        1.3.1           pyhd8ed1ab_0                  conda-forge\n",
      "  soupsieve                      2.5             pyhd8ed1ab_1                  conda-forge\n",
      "  spglib                         2.5.0           py312hbf5b3ca_2               conda-forge\n",
      "  sqlalchemy                     2.0.36          py312h0bf5046_0               conda-forge\n",
      "  stack_data                     0.6.2           pyhd8ed1ab_0                  conda-forge\n",
      "  statsmodels                    0.14.4          py312h755e627_0               conda-forge\n",
      "  svt-av1                        2.3.0           hf24288c_0                    conda-forge\n",
      "  sympy                          1.13.3          pyh2585a3b_104                conda-forge\n",
      "  tabulate                       0.9.0           pyhd8ed1ab_1                  conda-forge\n",
      "  tenacity                       9.0.0           pyhd8ed1ab_0                  conda-forge\n",
      "  terminado                      0.18.1          pyh31c8845_0                  conda-forge\n",
      "  threadpoolctl                  3.5.0           pyhc1e730c_0                  conda-forge\n",
      "  tinycss2                       1.4.0           pyhd8ed1ab_0                  conda-forge\n",
      "  tk                             8.6.13          h5083fa2_1                    conda-forge\n",
      "  toml                           0.10.2          pyhd8ed1ab_0                  conda-forge\n",
      "  tomli                          2.1.0           pyhff2d567_0                  conda-forge\n",
      "  \u001b[1m\u001b[34mtorchvision                  \u001b[0m  0.20.1          cpu_py312_hebadaa9_4          conda-forge\n",
      "  tornado                        6.4.1           py312h024a12e_1               conda-forge\n",
      "  tqdm                           4.67.0          pyhd8ed1ab_0                  conda-forge\n",
      "  traitlets                      5.14.3          pyhd8ed1ab_0                  conda-forge\n",
      "  types-python-dateutil          2.9.0.20241003  pyhff2d567_0                  conda-forge\n",
      "  typing-extensions              4.12.2          hd8ed1ab_0                    conda-forge\n",
      "  typing_extensions              4.12.2          pyha770c72_0                  conda-forge\n",
      "  typing_utils                   0.1.0           pyhd8ed1ab_0                  conda-forge\n",
      "  tzdata                         2024b           hc8b5060_0                    conda-forge\n",
      "  uncertainties                  3.2.2           pyhd8ed1ab_1                  conda-forge\n",
      "  unicodedata2                   15.1.0          py312h0bf5046_1               conda-forge\n",
      "  uri-template                   1.3.0           pyhd8ed1ab_0                  conda-forge\n",
      "  urllib3                        2.2.3           pyhd8ed1ab_0                  conda-forge\n",
      "  wcwidth                        0.2.13          pyhd8ed1ab_0                  conda-forge\n",
      "  webcolors                      24.8.0          pyhd8ed1ab_0                  conda-forge\n",
      "  webencodings                   0.5.1           pyhd8ed1ab_2                  conda-forge\n",
      "  websocket-client               1.8.0           pyhd8ed1ab_0                  conda-forge\n",
      "  werkzeug                       3.1.3           pyhff2d567_0                  conda-forge\n",
      "  wheel                          0.45.0          pyhd8ed1ab_0                  conda-forge\n",
      "  widgetsnbextension             4.0.13          pyhd8ed1ab_0                  conda-forge\n",
      "  x265                           3.5             hbc6ce65_3                    conda-forge\n",
      "  xorg-libxau                    1.0.11          hd74edd7_1                    conda-forge\n",
      "  xorg-libxdmcp                  1.1.5           hd74edd7_0                    conda-forge\n",
      "  xz                             5.2.6           h57fd34a_0                    conda-forge\n",
      "  yaml                           0.2.5           h3422bc3_2                    conda-forge\n",
      "  zeromq                         4.3.5           hc1bb282_7                    conda-forge\n",
      "  zipp                           3.21.0          pyhd8ed1ab_0                  conda-forge\n",
      "  zlib                           1.3.1           h8359307_2                    conda-forge\n",
      "  zstandard                      0.23.0          py312h15fbf35_1               conda-forge\n",
      "  zstd                           1.5.6           hb46c0d2_0                    conda-forge\n",
      "\n",
      "Note: you may need to restart the kernel to use updated packages.\n"
     ]
    }
   ],
   "source": [
    "#micromamba list"
   ]
  },
  {
   "cell_type": "markdown",
   "metadata": {},
   "source": [
    "### 3. Usefull packages for Data Analyse and Visualization:  {.unnumbered}\n",
    "- [matplotlib](https://matplotlib.org) - data visualization library\n",
    "- [numpy](https://numpy.org) - numerical library\n",
    "- [scipy](https://docs.scipy.org/doc/scipy/reference/) - scientific library\n",
    "- [pandas](https://pandas.pydata.org/docs/) - data manipulation library\n",
    "- [seaborn](https://seaborn.pydata.org/examples/index.html) - data visualization library\n",
    "- [scikit-learn](https://scikit-learn.org/stable/) - machine learning library\n",
    "- [statsmodels](https://www.statsmodels.org/stable/index.html) - statistical library\n",
    "- [jupyter-notebook/jupyterlab](https://jupyter.org/) - interactive computing environment\n",
    "- [ipykernel](https://pypi.org/project/ipykernel/) - IPython Kernel for Jupyter\n",
    "- [pip](https://packaging.python.org/en/latest/guides/tool-recommendations/) - package installer for python instead of conda"
   ]
  },
  {
   "cell_type": "markdown",
   "metadata": {},
   "source": [
    ":::{.callout-tip}\n",
    "**Recommendation** <br> \n",
    "Use *yml-file* with all needed packages and configurations:\n",
    ":::"
   ]
  },
  {
   "cell_type": "markdown",
   "metadata": {},
   "source": [
    "Save this in a *environment.yml* file:"
   ]
  },
  {
   "cell_type": "raw",
   "metadata": {
    "vscode": {
     "languageId": "raw"
    }
   },
   "source": [
    " ```{yml}\n",
    " name: myenv\n",
    "channels:\n",
    "  - conda-forge\n",
    "dependencies:\n",
    "  - python=3.12\n",
    "  - pandas\n",
    "  - numpy\n",
    "  - matplotlib\n",
    "  - jupyterlab\n",
    "  - scikit-learn\n",
    "  - scipy\n",
    "  - pip\n",
    "  - ipykernel\n",
    "  - seaborn\n",
    "  - statsmodels\n",
    " ```"
   ]
  },
  {
   "cell_type": "markdown",
   "metadata": {},
   "source": [
    "and create an environment with this specific packages:"
   ]
  },
  {
   "cell_type": "code",
   "execution_count": null,
   "metadata": {
    "vscode": {
     "languageId": "shellscript"
    }
   },
   "outputs": [
    {
     "name": "stdout",
     "output_type": "stream",
     "text": [
      "Found conda-prefix at '/Users/stk/y/envs/myenv'. Overwrite?: [y/N] ^C\n",
      "Aborted.\n",
      "\u001b[1m\u001b[41mcritical libmamba\u001b[m Aborting.\n",
      "\n",
      "Note: you may need to restart the kernel to use updated packages.\n"
     ]
    }
   ],
   "source": [
    "#micromamba env create -f environment.yml"
   ]
  },
  {
   "cell_type": "markdown",
   "metadata": {},
   "source": [
    "Test your installation by opening the interactive python mode by typing in your terminal (Linux, macOS) / comand prompt (Windows):\n"
   ]
  },
  {
   "cell_type": "code",
   "execution_count": null,
   "metadata": {
    "vscode": {
     "languageId": "shellscript"
    }
   },
   "outputs": [
    {
     "ename": "NameError",
     "evalue": "name 'python' is not defined",
     "output_type": "error",
     "traceback": [
      "\u001b[0;31m---------------------------------------------------------------------------\u001b[0m",
      "\u001b[0;31mNameError\u001b[0m                                 Traceback (most recent call last)",
      "Cell \u001b[0;32mIn[5], line 1\u001b[0m\n\u001b[0;32m----> 1\u001b[0m \u001b[43mpython\u001b[49m\n",
      "\u001b[0;31mNameError\u001b[0m: name 'python' is not defined"
     ]
    }
   ],
   "source": [
    "#python"
   ]
  },
  {
   "cell_type": "markdown",
   "metadata": {},
   "source": [
    "then something like this should be opened in your terminal (Linux, macOS) / comand prompt (Windows)"
   ]
  },
  {
   "cell_type": "markdown",
   "metadata": {},
   "source": [
    "Python 3.12.7 | packaged by conda-forge | (main, Oct  4 2024, 15:57:01) [Clang 17.0.6 ] on darwin\n",
    "Type \"help\", \"copyright\", \"credits\" or \"license\" for more information.\n",
    ">>> \n"
   ]
  },
  {
   "cell_type": "markdown",
   "metadata": {},
   "source": [
    "then type:"
   ]
  },
  {
   "cell_type": "code",
   "execution_count": null,
   "metadata": {
    "vscode": {
     "languageId": "shellscript"
    }
   },
   "outputs": [],
   "source": [
    "print(\"Hello World!\")"
   ]
  },
  {
   "cell_type": "markdown",
   "metadata": {},
   "source": [
    "If this works your installation was successful!"
   ]
  },
  {
   "cell_type": "markdown",
   "metadata": {},
   "source": [
    "### 4. Choose an editor {.unnumbered}"
   ]
  },
  {
   "cell_type": "markdown",
   "metadata": {},
   "source": [
    "After you installed python successfully you need a editor for writing your Python programs. Technical you could use everything where you can write text but it is not really purposeful. "
   ]
  },
  {
   "cell_type": "markdown",
   "metadata": {},
   "source": [
    "An editor with syntax highlighting, code completion and debugging is very useful."
   ]
  },
  {
   "cell_type": "markdown",
   "metadata": {},
   "source": [
    ":::{.callout-tip}\n",
    "**Recommendation**: *[Visual Studio Code](https://code.visualstudio.com/download)* \n",
    "\n",
    ":::\n"
   ]
  },
  {
   "cell_type": "markdown",
   "metadata": {},
   "source": [
    "#### Other editors:  {.unnumbered}"
   ]
  },
  {
   "cell_type": "markdown",
   "metadata": {},
   "source": [
    "\n",
    " - Spyder [https://www.spyder-ide.org/](https://www.spyder-ide.org/)\n",
    " - PyCharm (JetBrains) [https://www.jetbrains.com/products/compare/?product=pycharm&product=pycharm-ce](https://www.jetbrains.com/products/compare/?product=pycharm&product=pycharm-ce)\n",
    "- Jupyter Notebook [https://jupyter.org/](https://jupyter.org/) [https://code.visualstudio.com/docs/datascience/jupyter-notebooks](https://code.visualstudio.com/docs/datascience/jupyter-notebooks)\n",
    "- Jupyter Lab [https://jupyter.org/](https://jupyter.org/) [https://code.visualstudio.com/docs/datascience/jupyter-notebooks](https://code.visualstudio.com/docs/datascience/jupyter-notebooks) etc."
   ]
  },
  {
   "cell_type": "markdown",
   "metadata": {},
   "source": [
    "#### Python extension for VS Code:  {.unnumbered}"
   ]
  },
  {
   "cell_type": "markdown",
   "metadata": {},
   "source": [
    "\n",
    "- Python from Microsoft, \n",
    "- Pylance from Microsoft \n",
    "- and Jupyter from Microsoft (optional it is only needed if you want to use Jupyter Notebooks in VS Code)"
   ]
  },
  {
   "cell_type": "markdown",
   "metadata": {},
   "source": [
    "Alternatively you can use a `Jupyter Notebook` (`*.ipynb`) to execute code.\n",
    "\n",
    "Write the code in a cell and execute it by pressing the run button.\n",
    "\n",
    "**Advantage of using Jupyter Notebooks**:\n",
    "-  The code can run cell by cell and the output is directly shown below the cell.\n",
    "-  Further you can write text and equations in markdown cells. \n",
    "- Jupyter Notebooks can also handle different programming languages like `R`or `Julia`.\n",
    "- Therefore it is very popular in the data science community."
   ]
  },
  {
   "cell_type": "markdown",
   "metadata": {},
   "source": [
    "Jupyter Notebooks can be used in `VS Code`, `Jupyter Lab`, `Jupyter Notebook` or `Google Colab`."
   ]
  },
  {
   "cell_type": "markdown",
   "metadata": {},
   "source": [
    ":::{.callout-information}\n",
    "\n",
    "In this course all exercises are provided as Jupyter Notebooks. \n",
    "\n",
    ":::"
   ]
  },
  {
   "cell_type": "markdown",
   "metadata": {},
   "source": [
    "### 6. Test your setup {.unnumbered}"
   ]
  },
  {
   "cell_type": "markdown",
   "metadata": {},
   "source": [
    "- open your editor \n",
    "- open a new file and save this file as helloworld.py\n",
    "- write your first test program:"
   ]
  },
  {
   "cell_type": "code",
   "execution_count": null,
   "metadata": {},
   "outputs": [],
   "source": [
    "print(\"Hello World!\")"
   ]
  },
  {
   "cell_type": "markdown",
   "metadata": {},
   "source": [
    "- execute your program by using your IDE/Editor \n",
    "- or using command line in the terminal (Linux/MacOS) / command prompt under Windows."
   ]
  },
  {
   "cell_type": "code",
   "execution_count": null,
   "metadata": {
    "vscode": {
     "languageId": "shellscript"
    }
   },
   "outputs": [],
   "source": [
    "cd /path/to/file\n",
    "python helloworld.py"
   ]
  },
  {
   "cell_type": "markdown",
   "metadata": {},
   "source": [
    "The ouput should be: \"Hello World!\"."
   ]
  },
  {
   "cell_type": "markdown",
   "metadata": {},
   "source": [
    "If you are using Jupyter Notebook you can also write this code in a cell and execute it by pressing the run button."
   ]
  },
  {
   "cell_type": "code",
   "execution_count": null,
   "metadata": {
    "vscode": {
     "languageId": "shellscript"
    }
   },
   "outputs": [],
   "source": []
  },
  {
   "cell_type": "markdown",
   "metadata": {},
   "source": [
    ":::{.callout-tip icon=false}\n",
    "# Congratulations\n",
    "**You have successfully set up python!!**\n",
    ":::"
   ]
  },
  {
   "cell_type": "markdown",
   "metadata": {},
   "source": [
    "# Alternative to local installation: Google Colab {.unnumbered}"
   ]
  },
  {
   "cell_type": "markdown",
   "metadata": {},
   "source": [
    "[Google Colab](https://colab.research.google.com) is a free cloud service provided by Google. It is based on Jupyter Notebooks and allows you to write and execute Python code in your browser."
   ]
  },
  {
   "cell_type": "markdown",
   "metadata": {},
   "source": [
    ":::{.callout-information}\n",
    "The use of [Google Colab](https://colab.research.google.com) needs a Google Account. Please read the [Terms of Service](https://research.google.com/colaboratory/tos_v5.html) and [Privacy Policy](https://policies.google.com/privacy)\n",
    ":::"
   ]
  },
  {
   "cell_type": "markdown",
   "metadata": {},
   "source": []
  }
 ],
 "metadata": {
  "kernelspec": {
   "display_name": "myenv",
   "language": "python",
   "name": "python3"
  },
  "language_info": {
   "codemirror_mode": {
    "name": "ipython",
    "version": 3
   },
   "file_extension": ".py",
   "mimetype": "text/x-python",
   "name": "python",
   "nbconvert_exporter": "python",
   "pygments_lexer": "ipython3",
   "version": "3.12.7"
  }
 },
 "nbformat": 4,
 "nbformat_minor": 2
}
