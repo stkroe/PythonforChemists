{
 "cells": [
  {
   "cell_type": "raw",
   "metadata": {
    "vscode": {
     "languageId": "raw"
    }
   },
   "source": [
    "---\n",
    "title: \"Installation Guide\"\n",
    "execute:\n",
    "    echo: false\n",
    "    eval: false\n",
    "    collaps: false\n",
    "---"
   ]
  },
  {
   "cell_type": "markdown",
   "metadata": {},
   "source": [
    "Here is a short instruction how to install Python on your local PC or you can use [Google Colab](https://colab.research.google.com) to solve all the exercises of this course.\n",
    "\n",
    ":::{.callout-information}\n",
    "The use of [Google Colab](https://colab.research.google.com) needs a Google Account. Please read the [Terms of Service](https://research.google.com/colaboratory/tos_v5.html) and [Privacy Policy](https://policies.google.com/privacy)\n",
    ":::"
   ]
  },
  {
   "cell_type": "markdown",
   "metadata": {},
   "source": [
    "## How to install Python locally? {.unnumbered}"
   ]
  },
  {
   "cell_type": "markdown",
   "metadata": {},
   "source": [
    "Fundamental Python websites:"
   ]
  },
  {
   "cell_type": "markdown",
   "metadata": {},
   "source": [
    "\n",
    "- [Python](https://www.python.org) \n",
    "- [Python documentation](https://www.python.org/doc/)"
   ]
  },
  {
   "cell_type": "markdown",
   "metadata": {},
   "source": [
    "### 1. Install Python Interpreter {.unnumbered}"
   ]
  },
  {
   "cell_type": "markdown",
   "metadata": {},
   "source": [
    "Your preferred searching engine is your friend to find the best way to install Python on your system.\n",
    "Please choose that method which is suitable for you."
   ]
  },
  {
   "cell_type": "markdown",
   "metadata": {},
   "source": [
    "Python can be install by severals ways:"
   ]
  },
  {
   "cell_type": "markdown",
   "metadata": {},
   "source": [
    "\n",
    "- directly by [Python](https://www.python.org/downloads/) official site \n",
    "    - the installation guide can be found under [python wiki](https://wiki.python.org/moin/BeginnersGuide/Download)\n",
    "- or via package manager of your os: \n",
    "    - *e.g.:* `sudo apt install python` (linux debian) or `brew install python` (macOS)\n",
    "- or via [docker](https://www.docker.com/), [wsl](https://learn.microsoft.com/de-de/windows/wsl/install) ect.\n",
    "- or via a [conda](https://docs.conda.io/projects/conda/en/latest/index.html) or [mamba](https://mamba.readthedocs.io/en/latest/index.html) python package and environment managers which have a python interpreter on board and are avaiable for Windows, Linux and macOS [my recomendation]\n",
    "\n"
   ]
  },
  {
   "cell_type": "markdown",
   "metadata": {},
   "source": [
    "### Python Package and Environment manager"
   ]
  },
  {
   "cell_type": "markdown",
   "metadata": {},
   "source": [
    "The advantage of using a python package and environment manager is that you have a python interpreter directly on board but you can also directly create different python enviroments and install and remove python packages."
   ]
  },
  {
   "cell_type": "markdown",
   "metadata": {},
   "source": [
    "#### Conda"
   ]
  },
  {
   "cell_type": "markdown",
   "metadata": {},
   "source": [
    "There are differerent `conda`installer:\n",
    "(Please pay attention which one is suitable for you ([https://docs.anaconda.com/distro-or-miniconda/](https://docs.anaconda.com/distro-or-miniconda/)).\n",
    "\n",
    ":::{.callout-warning}\n",
    "Please read the [Anaconda Terms of Service FAQs](https://www.anaconda.com/pricing/terms-of-service-faqs) and [Terms of Service](https://legal.anaconda.com/policies/en/)) **not** every case is **free** of use. \n",
    "\n",
    ":::"
   ]
  },
  {
   "cell_type": "markdown",
   "metadata": {},
   "source": [
    "- [Anaconda Distribution](https://docs.anaconda.com/anaconda/install/) is a comprehensive distribution which includes conda and hundreds of preinstalled packages and tools.\n",
    "- [miniconda](https://docs.anaconda.com/free/miniconda/index.html) is the light version of it which contains only conda, python interpreter and few fundamental packages\n",
    "- [miniforge](https://github.com/conda-forge/miniforge) minimal installer for conda and using only the community [conda-forge](https://conda-forge.org/) channel\n"
   ]
  },
  {
   "cell_type": "markdown",
   "metadata": {},
   "source": [
    "#### Mamba"
   ]
  },
  {
   "cell_type": "markdown",
   "metadata": {},
   "source": [
    "Another python package and environment managers is [mamba](https://mamba.readthedocs.io/en/latest/index.html).\n",
    "`mamba` is a reimplementation of `conda`:\n",
    " - [micromamba](https://mamba.readthedocs.io/en/latest/installation/micromamba-installation.html) is a statically linked version  of `mamba` \n",
    " - `mamba`and it at the moment faster than `conda`"
   ]
  },
  {
   "cell_type": "markdown",
   "metadata": {},
   "source": [
    ":::{.callout-tip}\n",
    " **Recommondation: *micromamba* ** <br>\n",
    "\n",
    "Install it like it is explained under the micromamba documentation:\n",
    "- [https://mamba.readthedocs.io/en/latest/installation/micromamba-installation.html](https://mamba.readthedocs.io/en/latest/installation/micromamba-installation.html)\n",
    ":::"
   ]
  },
  {
   "cell_type": "markdown",
   "metadata": {},
   "source": [
    "Please install in one of the above explained ways Python and use your preferred searching enging to get more information."
   ]
  },
  {
   "cell_type": "markdown",
   "metadata": {},
   "source": [
    "### 2. Set up an environment {.unnumbered}\n",
    "\n",
    "It is often very useful to have different python enviroments for different python projects because of the need of different python package versions.\n",
    "\n",
    "You can use `conda` or `micromamba` to create different environments. There exists also other virtual environment manager.\n",
    "\n",
    "In this course the explaination is restricted to `micromamba` as an example. If you want to use something else there exists tons of information online how to use other programs.\n",
    "\n"
   ]
  },
  {
   "cell_type": "markdown",
   "metadata": {},
   "source": [
    "#### Micromamba: Most important commands are: {.unnumbered}"
   ]
  },
  {
   "cell_type": "markdown",
   "metadata": {},
   "source": [
    "Read for more detail:  [https://mamba.readthedocs.io/en/latest/user_guide/micromamba.html](https://mamba.readthedocs.io/en/latest/user_guide/micromamba.html)\n"
   ]
  },
  {
   "cell_type": "markdown",
   "metadata": {},
   "source": [
    "Creating a new virtual environment:"
   ]
  },
  {
   "cell_type": "markdown",
   "metadata": {},
   "source": [
    "```bash\n",
    "micromamba create --name <myenvname>\n",
    "```"
   ]
  },
  {
   "cell_type": "markdown",
   "metadata": {},
   "source": [
    "Install new packages:"
   ]
  },
  {
   "cell_type": "markdown",
   "metadata": {},
   "source": [
    "```bash\n",
    "micromamba install <packagename>\n",
    "```"
   ]
  },
  {
   "cell_type": "markdown",
   "metadata": {},
   "source": [
    "List all environments:"
   ]
  },
  {
   "cell_type": "markdown",
   "metadata": {},
   "source": [
    "```bash\n",
    "micromamba env list\n",
    "```"
   ]
  },
  {
   "cell_type": "markdown",
   "metadata": {},
   "source": [
    "Activate an environment:"
   ]
  },
  {
   "cell_type": "markdown",
   "metadata": {},
   "source": [
    "```bash\n",
    "micromamba activate <myenvname>\n",
    "```"
   ]
  },
  {
   "cell_type": "markdown",
   "metadata": {},
   "source": [
    "List all packages of this environment:"
   ]
  },
  {
   "cell_type": "markdown",
   "metadata": {},
   "source": [
    "```bash\n",
    "micromamba list\n",
    "```"
   ]
  },
  {
   "cell_type": "markdown",
   "metadata": {},
   "source": [
    "### 3. Usefull packages for Data Analyse and Visualization:  {.unnumbered}\n",
    "- [matplotlib](https://matplotlib.org) - data visualization library\n",
    "- [numpy](https://numpy.org) - numerical library\n",
    "- [scipy](https://docs.scipy.org/doc/scipy/reference/) - scientific library\n",
    "- [pandas](https://pandas.pydata.org/docs/) - data manipulation library\n",
    "- [seaborn](https://seaborn.pydata.org/examples/index.html) - data visualization library\n",
    "- [scikit-learn](https://scikit-learn.org/stable/) - machine learning library\n",
    "- [statsmodels](https://www.statsmodels.org/stable/index.html) - statistical library\n",
    "- [jupyter-notebook/jupyterlab](https://jupyter.org/) - interactive computing environment\n",
    "- [ipykernel](https://pypi.org/project/ipykernel/) - IPython Kernel for Jupyter\n",
    "- [pip](https://packaging.python.org/en/latest/guides/tool-recommendations/) - package installer for python instead of conda"
   ]
  },
  {
   "cell_type": "markdown",
   "metadata": {},
   "source": [
    ":::{.callout-tip}\n",
    "**Recommendation** <br> \n",
    "Use *yml-file* with all needed packages and configurations:\n",
    ":::"
   ]
  },
  {
   "cell_type": "markdown",
   "metadata": {},
   "source": [
    "Save this in a *environment.yml* file:"
   ]
  },
  {
   "cell_type": "raw",
   "metadata": {
    "vscode": {
     "languageId": "raw"
    }
   },
   "source": [
    " ```{yml}\n",
    " name: myenv\n",
    "channels:\n",
    "  - conda-forge\n",
    "dependencies:\n",
    "  - python=3.12\n",
    "  - pandas\n",
    "  - numpy\n",
    "  - matplotlib\n",
    "  - jupyterlab\n",
    "  - scikit-learn\n",
    "  - scipy\n",
    "  - pip\n",
    "  - ipykernel\n",
    "  - seaborn\n",
    "  - statsmodels\n",
    " ```"
   ]
  },
  {
   "cell_type": "markdown",
   "metadata": {},
   "source": [
    "and create an environment with this specific packages:"
   ]
  },
  {
   "cell_type": "markdown",
   "metadata": {},
   "source": [
    "```bash\n",
    "micromamba env create -f environment.yml\n",
    "```"
   ]
  },
  {
   "cell_type": "markdown",
   "metadata": {},
   "source": [
    "Test your installation by opening the interactive python mode by typing in your terminal (Linux, macOS) / comand prompt (Windows):\n"
   ]
  },
  {
   "cell_type": "markdown",
   "metadata": {},
   "source": [
    "```bash\n",
    "python\n",
    "``` "
   ]
  },
  {
   "cell_type": "markdown",
   "metadata": {},
   "source": [
    "then something like this should be opened in your terminal (Linux, macOS) / comand prompt (Windows)"
   ]
  },
  {
   "cell_type": "markdown",
   "metadata": {},
   "source": [
    "Python 3.12.7 | packaged by conda-forge | (main, Oct  4 2024, 15:57:01) [Clang 17.0.6 ] on darwin\n",
    "Type \"help\", \"copyright\", \"credits\" or \"license\" for more information.\n",
    ">>> \n"
   ]
  },
  {
   "cell_type": "markdown",
   "metadata": {},
   "source": [
    "then type:"
   ]
  },
  {
   "cell_type": "markdown",
   "metadata": {},
   "source": [
    "```python\n",
    "print(\"Hello World!\")\n",
    "```"
   ]
  },
  {
   "cell_type": "markdown",
   "metadata": {},
   "source": [
    "If this works your installation was successful!"
   ]
  },
  {
   "cell_type": "markdown",
   "metadata": {},
   "source": [
    "### 4. Choose an editor {.unnumbered}"
   ]
  },
  {
   "cell_type": "markdown",
   "metadata": {},
   "source": [
    "After you installed python successfully you need a editor for writing your Python programs. Technical you could use everything where you can write text but it is not really purposeful. "
   ]
  },
  {
   "cell_type": "markdown",
   "metadata": {},
   "source": [
    "An editor with syntax highlighting, code completion and debugging is very useful."
   ]
  },
  {
   "cell_type": "markdown",
   "metadata": {},
   "source": [
    ":::{.callout-tip}\n",
    "**Recommendation**: *[Visual Studio Code](https://code.visualstudio.com/download)* \n",
    "\n",
    ":::\n"
   ]
  },
  {
   "cell_type": "markdown",
   "metadata": {},
   "source": [
    "#### Other editors:  {.unnumbered}"
   ]
  },
  {
   "cell_type": "markdown",
   "metadata": {},
   "source": [
    "\n",
    " - Spyder [https://www.spyder-ide.org/](https://www.spyder-ide.org/)\n",
    " - PyCharm (JetBrains) [https://www.jetbrains.com/products/compare/?product=pycharm&product=pycharm-ce](https://www.jetbrains.com/products/compare/?product=pycharm&product=pycharm-ce)\n",
    "- Jupyter Notebook [https://jupyter.org/](https://jupyter.org/) [https://code.visualstudio.com/docs/datascience/jupyter-notebooks](https://code.visualstudio.com/docs/datascience/jupyter-notebooks)\n",
    "- Jupyter Lab [https://jupyter.org/](https://jupyter.org/) [https://code.visualstudio.com/docs/datascience/jupyter-notebooks](https://code.visualstudio.com/docs/datascience/jupyter-notebooks) etc."
   ]
  },
  {
   "cell_type": "markdown",
   "metadata": {},
   "source": [
    "#### Python extension for VS Code:  {.unnumbered}"
   ]
  },
  {
   "cell_type": "markdown",
   "metadata": {},
   "source": [
    "\n",
    "- Python from Microsoft, \n",
    "- Pylance from Microsoft \n",
    "- and Jupyter from Microsoft (optional it is only needed if you want to use Jupyter Notebooks in VS Code)"
   ]
  },
  {
   "cell_type": "markdown",
   "metadata": {},
   "source": [
    "Alternatively you can use a `Jupyter Notebook` (`*.ipynb`) to execute code.\n",
    "\n",
    "Write the code in a cell and execute it by pressing the run button.\n",
    "\n",
    "**Advantage of using Jupyter Notebooks**:\n",
    "-  The code can run cell by cell and the output is directly shown below the cell.\n",
    "-  Further you can write text and equations in markdown cells. \n",
    "- Jupyter Notebooks can also handle different programming languages like `R`or `Julia`.\n",
    "- Therefore it is very popular in the data science community."
   ]
  },
  {
   "cell_type": "markdown",
   "metadata": {},
   "source": [
    "Jupyter Notebooks can be used in `VS Code`, `Jupyter Lab`, `Jupyter Notebook` or `Google Colab`."
   ]
  },
  {
   "cell_type": "markdown",
   "metadata": {},
   "source": [
    ":::{.callout-information}\n",
    "\n",
    "In this course all exercises are provided as Jupyter Notebooks. \n",
    "\n",
    ":::"
   ]
  },
  {
   "cell_type": "markdown",
   "metadata": {},
   "source": [
    "### 6. Test your setup {.unnumbered}"
   ]
  },
  {
   "cell_type": "markdown",
   "metadata": {},
   "source": [
    "- open your editor \n",
    "- open a new file and save this file as helloworld.py\n",
    "- write your first test program:"
   ]
  },
  {
   "cell_type": "code",
   "execution_count": 9,
   "metadata": {},
   "outputs": [
    {
     "name": "stdout",
     "output_type": "stream",
     "text": [
      "Hello World!\n"
     ]
    }
   ],
   "source": [
    "print(\"Hello World!\")"
   ]
  },
  {
   "cell_type": "markdown",
   "metadata": {},
   "source": [
    "- execute your program by using your IDE/Editor \n",
    "- or using command line in the terminal (Linux/MacOS) / command prompt under Windows."
   ]
  },
  {
   "cell_type": "markdown",
   "metadata": {},
   "source": [
    "```bash\n",
    "cd /path/to/file\n",
    "python helloworld.py\n",
    "```"
   ]
  },
  {
   "cell_type": "markdown",
   "metadata": {},
   "source": [
    "The ouput should be: \"Hello World!\"."
   ]
  },
  {
   "cell_type": "markdown",
   "metadata": {},
   "source": [
    "If you are using Jupyter Notebook you can also write this code in a cell and execute it by pressing the run button."
   ]
  },
  {
   "cell_type": "markdown",
   "metadata": {},
   "source": [
    ":::{.callout-tip icon=false}\n",
    "# Congratulations\n",
    "**You have successfully set up python!!**\n",
    ":::"
   ]
  },
  {
   "cell_type": "markdown",
   "metadata": {},
   "source": [
    "# Alternative to local installation: Google Colab {.unnumbered}"
   ]
  },
  {
   "cell_type": "markdown",
   "metadata": {},
   "source": [
    "[Google Colab](https://colab.research.google.com) is a free cloud service provided by Google. It is based on Jupyter Notebooks and allows you to write and execute Python code in your browser."
   ]
  },
  {
   "cell_type": "markdown",
   "metadata": {},
   "source": [
    ":::{.callout-information}\n",
    "The use of [Google Colab](https://colab.research.google.com) needs a Google Account. Please read the [Terms of Service](https://research.google.com/colaboratory/tos_v5.html) and [Privacy Policy](https://policies.google.com/privacy)\n",
    ":::"
   ]
  },
  {
   "cell_type": "markdown",
   "metadata": {},
   "source": []
  }
 ],
 "metadata": {
  "kernelspec": {
   "display_name": "myenv",
   "language": "python",
   "name": "python3"
  },
  "language_info": {
   "codemirror_mode": {
    "name": "ipython",
    "version": 3
   },
   "file_extension": ".py",
   "mimetype": "text/x-python",
   "name": "python",
   "nbconvert_exporter": "python",
   "pygments_lexer": "ipython3",
   "version": "3.12.7"
  }
 },
 "nbformat": 4,
 "nbformat_minor": 2
}
