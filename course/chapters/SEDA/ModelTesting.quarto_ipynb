{
  "cells": [
    {
      "cell_type": "markdown",
      "metadata": {},
      "source": [
        "---\n",
        "title: \"Model Testing\"\n",
        "execute: \n",
        "  echo: True\n",
        "  eval: True\n",
        "  error: True\n",
        "other-links: \n",
        "      - text: \"Download Code\"\n",
        "        href: https://github.com/stkroe/PythonforChemists/blob/main/course/notebooks/notebooks/ModelTesting.ipynb\"\n",
        "        icon: \"journal\"\n",
        "code-links:\n",
        "      - text: \"Open in Colab\"\n",
        "        href: \"https://colab.research.google.com/github/stkroe/PythonForChemists/blob/main/course/notebooks/ModelTesting.ipynb\"\n",
        "        icon: \"laptop\"\n",
        "--- \n",
        "\n",
        "\n",
        "\n",
        "\n",
        "### Hypothesis Testing  {.unnumbered}\n",
        "\n",
        "\n",
        "Hypothesis testing is a statistical method for making decisions or inferences about a population based on a sample. It is widely used in chemistry and materials science to validate experimental results and compare datasets.\n",
        "\n",
        "- **Null & Alternative Hypothesis:** The null hypothesis (H₀) assumes no effect, while the alternative hypothesis (H₁) suggests a significant difference.\n",
        "\n",
        "- **t-tests:** Used to compare the means of two groups (one-sample, independent, paired t-tests).\n"
      ],
      "id": "70dda548"
    },
    {
      "cell_type": "code",
      "metadata": {},
      "source": [
        "# Example: Null hypothesis - The mean is equal to 0\n",
        "#H0: μ = 0\n",
        "\n",
        "# Alternative hypothesis - The mean is not equal to 0\n",
        "#H1: μ ≠ 0\n",
        "\n",
        "data = [1, 2, 3, 4, 5]\n",
        "\n",
        "# Perform a one-sample t-test\n",
        "t_stat, p_value = stats.ttest_1samp(data, 0)\n",
        "\n",
        "# Print results\n",
        "print(f\"T-Statistic: {t_stat:.4f}, P-Value: {p_value:.4f}\")\n",
        "\n",
        "# Interpretation\n",
        "if p_value < 0.05:\n",
        "    print(\"Reject the null hypothesis: The mean is significantly different from 0.\")\n",
        "else:\n",
        "    print(\"Fail to reject the null hypothesis: No significant difference from 0.\")"
      ],
      "id": "5598f9e6",
      "execution_count": null,
      "outputs": []
    },
    {
      "cell_type": "code",
      "metadata": {},
      "source": [
        "# Generate two random samples (e.g., control and treatment groups)\n",
        "np.random.seed(42)\n",
        "control = np.random.normal(loc=50, scale=10, size=30)  # Mean=50, Std=10\n",
        "treatment = np.random.normal(loc=55, scale=10, size=30)  # Mean=55, Std=10\n",
        "\n",
        "# Perform an independent t-test\n",
        "t_stat, p_value = stats.ttest_ind(control, treatment)\n",
        "\n",
        "# Print results\n",
        "print(f\"T-Statistic: {t_stat:.4f}, P-Value: {p_value:.4f}\")\n",
        "\n",
        "# Interpretation\n",
        "if p_value < 0.05:\n",
        "    print(\"Reject the null hypothesis: The groups have significantly different means.\")\n",
        "else:\n",
        "    print(\"Fail to reject the null hypothesis: No significant difference between groups.\")"
      ],
      "id": "d157d7b6",
      "execution_count": null,
      "outputs": []
    },
    {
      "cell_type": "code",
      "metadata": {},
      "source": [
        "# Generate paired data (e.g., before and after measurements)\n",
        "np.random.seed(42)\n",
        "before = np.random.normal(loc=50, scale=10, size=30)  # Mean=50, Std=10\n",
        "after = before + np.random.normal(loc=5, scale=2, size=30)  # Mean=55, Std=2\n",
        "\n",
        "# Perform a paired t-test\n",
        "t_stat, p_value = stats.ttest_rel(before, after)\n",
        "\n",
        "# Print results\n",
        "print(f\"T-Statistic: {t_stat:.4f}, P-Value: {p_value:.4f}\")\n",
        "\n",
        "# Interpretation\n",
        "if p_value < 0.05:\n",
        "    print(\"Reject the null hypothesis: The means are significantly different.\")\n",
        "else:\n",
        "    print(\"Fail to reject the null hypothesis: No significant difference between means.\")"
      ],
      "id": "80faa64f",
      "execution_count": null,
      "outputs": []
    },
    {
      "cell_type": "markdown",
      "metadata": {},
      "source": [
        "- **ANOVA (Analysis of Variance):** Compares means of multiple groups to check for significant differences.\n"
      ],
      "id": "032bbed4"
    },
    {
      "cell_type": "code",
      "metadata": {},
      "source": [
        "from scipy import stats\n",
        "\n",
        "# Example: Comparing multiple groups\n",
        "group1 = [10.2, 14.5, 13.3, 9.8, 12.7]\n",
        "group2 = [9.5, 13.1, 12.9, 8.7, 11.3]\n",
        "group3 = [11.2, 15.1, 14.3, 10.8, 13.7]\n",
        "\n",
        "# Perform ANOVA test\n",
        "f_stat, p_value = stats.f_oneway(group1, group2, group3)\n",
        "print(f\"F-statistic: {f_stat}, P-value: {p_value}\")"
      ],
      "id": "380ca5ab",
      "execution_count": null,
      "outputs": []
    },
    {
      "cell_type": "markdown",
      "metadata": {},
      "source": [
        "- **Chi-square Test:** Used for categorical data to examine associations between different groups.\n"
      ],
      "id": "815b6f52"
    },
    {
      "cell_type": "code",
      "metadata": {},
      "source": [
        "from scipy.stats import chi2_contingency\n",
        "\n",
        "# Example: Comparing categorical data\n",
        "observed = [[10, 20, 30], [6, 9, 17]]\n",
        "chi2, p, dof, expected = chi2_contingency(observed)\n",
        "print(f\"Chi-square: {chi2}, P-value: {p}\")"
      ],
      "id": "9ee335d5",
      "execution_count": null,
      "outputs": []
    },
    {
      "cell_type": "markdown",
      "metadata": {},
      "source": [
        "Check the [SciPy documentation](https://docs.scipy.org/doc/scipy/reference/stats.html) for more statistical tests and functions.\n",
        "\n",
        "And for more information on hypothesis testing, refer to the [SciPy Hypothesis Tests](https://docs.scipy.org/doc/scipy/tutorial/stats/hypothesis_tests.html).\n",
        "\n",
        "### Outlier Detection {.unnumbered}\n",
        "\n",
        "Outliers are data points that significantly differ from other observations in a dataset. \n",
        "They have effect on specific statistical methods and can lead to incorrect conclusions.\n",
        "\n",
        "- **Z-Score:** Measures how many standard deviations a data point is from the mean.\n"
      ],
      "id": "6bdf1abe"
    },
    {
      "cell_type": "code",
      "metadata": {},
      "source": [
        "# Calculate Z-scores for a dataset\n",
        "data = np.array([1, 2, 3, 4, 5, 6, 7, 8, 9, 10])\n",
        "z_scores = stats.zscore(data)\n",
        "print(z_scores)"
      ],
      "id": "0240560a",
      "execution_count": null,
      "outputs": []
    },
    {
      "cell_type": "markdown",
      "metadata": {},
      "source": [
        "- **IQR (Interquartile Range):** Identifies outliers based on the spread of the data.\n"
      ],
      "id": "518fde18"
    },
    {
      "cell_type": "code",
      "metadata": {},
      "source": [
        "# Calculate IQR for a dataset\n",
        "q1 = np.percentile(data, 25)\n",
        "q3 = np.percentile(data, 75)\n",
        "iqr = q3 - q1\n",
        "\n",
        "# Define outlier thresholds\n",
        "lower_bound = q1 - 1.5 * iqr\n",
        "upper_bound = q3 + 1.5 * iqr\n",
        "\n",
        "# Identify outliers\n",
        "outliers = data[(data < lower_bound) | (data > upper_bound)]\n",
        "print(outliers)\n"
      ],
      "id": "eceba741",
      "execution_count": null,
      "outputs": []
    },
    {
      "cell_type": "markdown",
      "metadata": {},
      "source": [
        "- **DBSCAN (Density-Based Spatial Clustering of Applications with Noise):** Clustering algorithm that identifies outliers based on density.\n"
      ],
      "id": "294c2091"
    },
    {
      "cell_type": "code",
      "metadata": {},
      "source": [
        "from sklearn.cluster import DBSCAN\n",
        "\n",
        "# Generate sample data\n",
        "data = np.random.randn(100, 2)\n",
        "\n",
        "# Fit DBSCAN model\n",
        "dbscan = DBSCAN(eps=0.3, min_samples=5)\n",
        "dbscan.fit(data)\n",
        "\n",
        "# Identify outliers\n",
        "outliers = data[dbscan.labels_ == -1]\n",
        "print(outliers)"
      ],
      "id": "260d4c11",
      "execution_count": null,
      "outputs": []
    },
    {
      "cell_type": "markdown",
      "metadata": {},
      "source": [
        "- **Isolation Forest:** Anomaly detection algorithm that isolates outliers in a dataset.\n"
      ],
      "id": "c9d54e84"
    },
    {
      "cell_type": "code",
      "metadata": {},
      "source": [
        "from sklearn.ensemble import IsolationForest\n",
        "\n",
        "# Generate sample data\n",
        "data = np.random.randn(100, 2)\n",
        "\n",
        "# Fit Isolation Forest model\n",
        "isoforest = IsolationForest(contamination=0.1)\n",
        "isoforest.fit(data)\n",
        "\n",
        "# Identify outliers\n",
        "outliers = data[isoforest.predict(data) == -1]\n",
        "print(outliers)"
      ],
      "id": "de0924da",
      "execution_count": null,
      "outputs": []
    },
    {
      "cell_type": "markdown",
      "metadata": {},
      "source": [
        "- **Boxplot:** Visual representation of outliers in a dataset.\n"
      ],
      "id": "5a5a3685"
    },
    {
      "cell_type": "code",
      "metadata": {},
      "source": [
        "# Generate sample data\n",
        "data = np.random.randn(100)\n",
        "\n",
        "# Create boxplot\n",
        "plt.boxplot(data)\n",
        "plt.show()"
      ],
      "id": "8b9f6308",
      "execution_count": null,
      "outputs": []
    },
    {
      "cell_type": "markdown",
      "metadata": {},
      "source": [
        "For more information on outlier detection, refer to the [Scikit-learn documentation](https://scikit-learn.org/stable/modules/outlier_detection.html)."
      ],
      "id": "71bb2fb3"
    }
  ],
  "metadata": {
    "kernelspec": {
      "name": "python3",
      "language": "python",
      "display_name": "Python 3 (ipykernel)",
      "path": "/Users/stk/y/envs/myenv/share/jupyter/kernels/python3"
    }
  },
  "nbformat": 4,
  "nbformat_minor": 5
}