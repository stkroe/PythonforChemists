{
  "cells": [
    {
      "cell_type": "markdown",
      "metadata": {},
      "source": [
        "---\n",
        "title: \"Seaborn Plots\"\n",
        "execute: \n",
        "  echo: True\n",
        "  eval: True\n",
        "other-links: \n",
        "      - text: \"Download Code\"\n",
        "        href: \"https://github.com/stkroe/PythonforChemists/blob/main/course/notebooks/Seaborn.ipynb\"\n",
        "        icon: \"journal\"\n",
        "code-links:\n",
        "      - text: \"Open in Colab\"\n",
        "        href: \"https://colab.research.google.com/github/stkroe/PythonForChemists/blob/main/course/notebooks/Seaborn.ipynb\"\n",
        "        icon: \"laptop\"\n",
        "--- \n",
        "\n",
        "\n",
        "\n",
        "## Plotting with Seaborn {.unnumbered}\n",
        "\n",
        "Seaborn is a Python data visualization library based on Matplotlib. It provides a high-level interface for drawing attractive and informative statistical graphics. Seaborn is built on top of Matplotlib and closely integrated with pandas data structures.\n",
        "\n",
        "\n",
        "### KDE Plot {.unnumbered}\n",
        "[Kernel density plot](https://seaborn.pydata.org/generated/seaborn.kdeplot.html) show the distribution of a single variable *e.g.* distribution of a mass of individuals in a population. The data is smoothed by a kernel density and the density of the data is plotted continuously.\n"
      ],
      "id": "3ee947c8"
    },
    {
      "cell_type": "code",
      "metadata": {},
      "source": [
        "import seaborn as sns\n",
        "import matplotlib.pyplot as plt\n",
        "import numpy as np\n",
        "import pandas as pd\n",
        "\n",
        "# Create a dataset\n",
        "data = np.random.normal(loc=0, scale=1, size=1000)\n",
        "df = pd.DataFrame(data, columns=[\"Data\"])\n",
        "\n",
        "# Create a KDE plot\n",
        "sns.kdeplot(data=df[\"Data\"], color=\"blue\", shade=True)\n",
        "plt.show()"
      ],
      "id": "a693ef72",
      "execution_count": null,
      "outputs": []
    },
    {
      "cell_type": "markdown",
      "metadata": {},
      "source": [
        "### Violin Plot {.unnumbered}\n",
        "\n",
        "- [Violin plot](https://seaborn.pydata.org/generated/seaborn.violinplot.html): Show the distribution of a numerical variable for different categories. It is similar to a box plot but it also shows the probability density of the data at different values. An example of this *e.g.* is the distribution of cancer cell survival time for different treatment groups.\n"
      ],
      "id": "554a7f32"
    },
    {
      "cell_type": "code",
      "metadata": {},
      "source": [
        "import seaborn as sns\n",
        "import matplotlib.pyplot as plt\n",
        "import numpy as np\n",
        "import pandas as pd\n",
        "\n",
        "# Create a dataset\n",
        "data = np.random.normal(loc=0, scale=1, size=1000)\n",
        "df = pd.DataFrame(data, columns=[\"Data\"])\n",
        "\n",
        "# Create a Violin plot\n",
        "sns.violinplot(data=df[\"Data\"], color=\"blue\")\n",
        "plt.show()"
      ],
      "id": "8fd68147",
      "execution_count": null,
      "outputs": []
    },
    {
      "cell_type": "markdown",
      "metadata": {},
      "source": [
        "## Correlation plots {.unnumbered}\n",
        "\n",
        "- [Regression plot](https://seaborn.pydata.org/generated/seaborn.regplot.html):\n",
        "Show a regression model between two variables *e.g.* the relationship between the concentration and the time.\n"
      ],
      "id": "e5550c2c"
    },
    {
      "cell_type": "code",
      "metadata": {},
      "source": [
        "import seaborn as sns\n",
        "import matplotlib.pyplot as plt\n",
        "import numpy as np\n",
        "import pandas as pd\n",
        "\n",
        "# Create a dataset\n",
        "\n",
        "data = np.random.normal(loc=0, scale=1, size=1000)\n",
        "df = pd.DataFrame(data, columns=[\"Data\"])\n",
        "\n",
        "# Create a Regression plot\n",
        "sns.regplot(x=np.arange(0, len(df)), y=df[\"Data\"], color=\"blue\")\n",
        "plt.show()"
      ],
      "id": "3c0c82b6",
      "execution_count": null,
      "outputs": []
    },
    {
      "cell_type": "markdown",
      "metadata": {},
      "source": [
        "- [Heatmap](https://seaborn.pydata.org/generated/seaborn.heatmap.html) shows the relationship of two categorical variables with a numerical variable *e.g.* cancer cell survival time for different treatment groups and different cancer types. The color of the cell is proportional to the value of the investigated variable.\n"
      ],
      "id": "3fc91df4"
    },
    {
      "cell_type": "code",
      "metadata": {},
      "source": [
        "import seaborn as sns\n",
        "import matplotlib.pyplot as plt\n",
        "import numpy as np\n",
        "import pandas as pd\n",
        "\n",
        "# Create a dataset\n",
        "data = np.random.normal(loc=0, scale=1, size=(100, 100))\n",
        "df = pd.DataFrame(data)\n",
        "\n",
        "# Create a Heatmap\n",
        "sns.heatmap(data=df, cmap=\"coolwarm\")\n",
        "plt.show()"
      ],
      "id": "3705d152",
      "execution_count": null,
      "outputs": []
    },
    {
      "cell_type": "markdown",
      "metadata": {},
      "source": [
        "### Additional resources {.unnumbered}\n",
        "\n",
        "- [Seaborn Gallery](https://seaborn.pydata.org/examples/index.html)\n",
        "- [Seaborn API](https://seaborn.pydata.org/api.html)\n",
        "- [Seaborn Tutorial](https://seaborn.pydata.org/tutorial.html)\n",
        "- [Seaborn Documentation](https://seaborn.pydata.org/index.html)"
      ],
      "id": "e29e248f"
    }
  ],
  "metadata": {
    "kernelspec": {
      "name": "python3",
      "language": "python",
      "display_name": "Python 3 (ipykernel)",
      "path": "/Users/stk/y/envs/myenv/share/jupyter/kernels/python3"
    }
  },
  "nbformat": 4,
  "nbformat_minor": 5
}