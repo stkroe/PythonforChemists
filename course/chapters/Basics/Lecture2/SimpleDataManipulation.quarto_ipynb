{
  "cells": [
    {
      "cell_type": "markdown",
      "metadata": {},
      "source": [
        "---\n",
        "title: \"Simple Data Manipulation and Analysis\"\n",
        "execute: \n",
        "  echo: True\n",
        "  eval: True\n",
        "code-links:\n",
        "      - text: \"Open in Colab\"\n",
        "        href: \"https://colab.research.google.com/github/stkroe/PythonForChemists/blob/main/course/notebooks/SimpleDataManipulation.ipynb\"\n",
        "        icon: \"laptop\"\n",
        "--- \n",
        "\n",
        "\n",
        "\n",
        "\n",
        "\n",
        "\n",
        "# Data Manipulation {.unnumbered}\n",
        "\n",
        "## Numpy{.unnumbered}\n"
      ],
      "id": "4aeb5b70"
    },
    {
      "cell_type": "code",
      "metadata": {},
      "source": [
        "import numpy as np"
      ],
      "id": "39439ddd",
      "execution_count": null,
      "outputs": []
    },
    {
      "cell_type": "markdown",
      "metadata": {},
      "source": [
        "### Array manipulation {.unnumbered}\n",
        "Often data has to be manipulated before it can be analyzed. <br> \n",
        "Numpy has many methods for array manipulation. <br> \n",
        "\n",
        "For example, \n",
        "\n",
        "- the shape of an array can be changed,\n",
        "- multiple arrays can be concatenated, \n",
        "- the elements of an array can be sorted\n",
        "- non valid values NaN can be removed, \n",
        "- linear algebra operations can be performed,\n",
        "\n",
        "etc.\n",
        "\n",
        "#### Sort arrays: {.unnumbered}\n"
      ],
      "id": "887af48f"
    },
    {
      "cell_type": "code",
      "metadata": {},
      "source": [
        "unsorted_arr = np.array([[3, 1, 5, 2, 4], [5, 2, 0, 8, 1], [3, 2, 9, 4 , 5]])\n",
        "print(\"unsortd_arr: \\n\", unsorted_arr)\n",
        "sorted_arr = np.sort(unsorted_arr,axis = 0) # sorted along the column\n",
        "print(\"sorted_arr along columns: \\n\" , sorted_arr)\n",
        "sorted_arr = np.sort(unsorted_arr,axis = 1) # sorted along the row\n",
        "print(\"sorted_arr along rows: \\n\" , sorted_arr)"
      ],
      "id": "1014fb37",
      "execution_count": null,
      "outputs": []
    },
    {
      "cell_type": "markdown",
      "metadata": {},
      "source": [
        "#### Concatenate arrays: {.unnumbered}\n"
      ],
      "id": "e89a034b"
    },
    {
      "cell_type": "code",
      "metadata": {},
      "source": [
        "a = np.array([1, 2, 3]) \n",
        "b = np.array([4, 5, 6])\n",
        "c = np.concatenate((a, b))\n",
        "print(c)"
      ],
      "id": "293da10a",
      "execution_count": null,
      "outputs": []
    },
    {
      "cell_type": "markdown",
      "metadata": {},
      "source": [
        "#### Reshape arrays: {.unnumbered}\n"
      ],
      "id": "417eabd4"
    },
    {
      "cell_type": "code",
      "metadata": {},
      "source": [
        "a = np.array([[1, 2],[3, 4],[5, 6]])\n",
        "b = np.array([[7, 8],[9, 10],[11, 12]])\n",
        "c = np.vstack((a, b)) # vertical stack\n",
        "d = np.hstack((a, b)) # horizontal stack\n",
        "print(\"vertical stack: \\n\", c)\n",
        "print(\"horizontal stack: \\n\", d)\n",
        "print(\"flatten array: \\n\", c.flatten())"
      ],
      "id": "6d792db8",
      "execution_count": null,
      "outputs": []
    },
    {
      "cell_type": "markdown",
      "metadata": {},
      "source": [
        "#### Linear algebra operations *e.g.*: {.unnumbered}\n",
        "\n",
        "- `np.sum(a)` returns **element-wise sum** of two arrays\n",
        "- `np.add(a)` returns **sum of all elements** an arrays\n",
        "- `np.subtract(a,b)` returns the **difference** of two arrays\n",
        "- `np.multiply(a,b)` returns the **product** of two arrays\n",
        "- `np.divide(a,b)` returns the **division** of two arrays\n",
        "- `np.dot(a,b)` returns the **dot product** of two arrays\n",
        "- `np.cross(a,b)` returns the **cross product** of two arrays\n",
        "- `np.linalg.inv(a)` returns the **inverse of a matrix**\n",
        "- `np.linalg.det(a)` returns the **determinant of a matrix**\n",
        "- `np.linalg.eig(a)` returns the **eigenvalues and eigenvectors** of a matrix\n",
        "- `np.linalg.solve(a,b)` returns the **solution of a linear system of equations**\n",
        "- `np.mean(a)` returns the **mean** of the elements of an array\n",
        "- `np.average(a)` returns the **weighted average** of the elements of an array\n",
        "- `np.max(a)` returns the **maximum** of the elements of an array\n",
        "- `np.min(a)` returns **the minimum** of the elements of an array\n",
        "- `np.std(a)` returns **the standard** deviation of the elements of an array\n",
        "- `np.var(a)` returns **the variance** of the elements of an array\n",
        "- `np.covar(a)` returns the **covariance** of the elements of an array\n",
        "- `np.median(a)` returns the **median** of the elements of an array\n",
        "- `np.percentile(a,p) `` returns the **p-th percentile** of the elements of an array\n",
        "- `np.histogram(a, [,bins,range,density,weights])` returns the **histogram** of the elements of an array\n"
      ],
      "id": "ea0edb4e"
    },
    {
      "cell_type": "code",
      "metadata": {},
      "source": [
        "a = np.array([[1, 2],[3, 4],[5, 6]])\n",
        "b = np.array([[7, 8],[9, 10],[11, 12]])\n",
        "c = np.sum(a) # sum of all elements\n",
        "print(\"Summ of all elements: \", c)\n",
        "c = np.add(a,b) # element wise addition\n",
        "print(\"Element wise addition: \", c)"
      ],
      "id": "934c4d51",
      "execution_count": null,
      "outputs": []
    },
    {
      "cell_type": "markdown",
      "metadata": {},
      "source": [
        "- `np.argmin(a)` returns the **index of the minimum** element of an array\n",
        "- `np.argmax(a)` returns the **index of the maximum** element of an array\n",
        "- `np.where(a)` returns the **indices of the elements** of an array that are non-zero\n",
        "- `np.argwhere(a)` returns the **indices of the elements** of an array that are non-zero\n",
        "- `np.nonzero(a)` returns the **indices of the elements** of an array that are non-zero\n",
        "- `np.searchsorted(a,v)` returns the **index of the first element** of an array <br> \n",
        "    **that is greater than or equal to a value**\n",
        "- `np.extract(condition,a)` returns the **elements of an array that satisfy a condition**\n"
      ],
      "id": "e4008b68"
    },
    {
      "cell_type": "code",
      "metadata": {},
      "source": [
        "arr = np.array([1, 2, 3, 4, 5, 4, 7, 8, 9])\n",
        "print(arr)\n",
        "print(\"Index of the maximum element: \", np.argmax(arr))\n",
        "print(\"Index of the minimum element: \", np.argmin(arr))\n",
        "print(\"Maximum element: \", np.max(arr))\n",
        "print(\"Minimum element: \", np.min(arr))\n",
        "print(\"Find the index of element \\\"4\\\": \", np.where(arr == 4))\n",
        "print(\"Find the index of element \\\">4\\\": \", np.argwhere(arr > 4),\n",
        "       \" and the elements are: \", arr[np.where(arr > 4)])"
      ],
      "id": "80605af0",
      "execution_count": null,
      "outputs": []
    },
    {
      "cell_type": "markdown",
      "metadata": {},
      "source": [
        "## Pandas {.unnumbered}\n",
        "\n",
        "\n",
        "### Get information about the data {.unnumbered}\n"
      ],
      "id": "f870b65e"
    },
    {
      "cell_type": "code",
      "metadata": {},
      "source": [
        "import pandas as pd\n",
        "data = pd.DataFrame({\n",
        "    \"Name\": [\"Water\", \"Sulfuric Acid\", \"Ethanol\", \"Acetone\", \"Ammonia\", \"Benzene\", \"Methanol\", \"Glycerol\"],\n",
        "    \"Formula\": [\"H2O\", \"H2SO4\", \"C2H5OH\", \"C3H6O\", \"NH3\", \"C6H6\", \"CH3OH\", \"C3H8O3\"],\n",
        "    \"Molecular Weight (g/mol)\": [18.015, 98.079, 46.07, 58.08, 17.03, 78.11, 32.04, 92.09],\n",
        "    \"Viscosity (mPa·s)\": [1.002, 24.0, 1.2, 0.32, 0.26, 0.65, 0.544, 1412],\n",
        "    \"pH (Acidity)\": [7, 1, 7.33, 7, 11.6, 7, 7.4, 5.5],\n",
        "    \"Chemical Type\": [\"Inorganic\", \"Acid\", \"Alcohol\", \"Ketone\", \"Base\", \"Aromatic Hydrocarbon\", \"Alcohol\", \"Polyol\"],\n",
        "    \"Concentration (M)\": [55.5, 18.0, 1.0, 0.8, 0.5, 0.1, 1.5, 1.2]})"
      ],
      "id": "f652e9e8",
      "execution_count": null,
      "outputs": []
    },
    {
      "cell_type": "code",
      "metadata": {},
      "source": [
        "print(\"head of data: \\n\",data.head()) # print the first 5 rows\n",
        "print(\"\\n\")\n",
        "print(\"Number of data set: \\n\", data.shape[0]) # number of data set\n",
        "print(\"\\n\")\n",
        "print(\"Column Name: \\n\", data[\"Name\"]) # print the column \"Name\"\n",
        "print(\"\\n\")\n",
        "print(\"2. Row: \\n\", data.iloc[1]) # print the second row"
      ],
      "id": "5c1986ed",
      "execution_count": null,
      "outputs": []
    },
    {
      "cell_type": "markdown",
      "metadata": {},
      "source": [
        "#### Select subsets of the data: {.unnumbered}\n",
        "\n",
        "Often you need only a specific part of your data with `pandas`it is quite easy to filter the data after specific properties.\n"
      ],
      "id": "8f8e2f22"
    },
    {
      "cell_type": "code",
      "metadata": {},
      "source": [
        "# filter the rows where concentration is greater than 5\n",
        "print(\"Filter the rows where concentration is greater than 5: \\n\", data[data[\"Concentration (M)\"] > 5]) \n",
        "print(\"\\n\")\n",
        "# get the chemical type with a concentration higher than 5\n",
        "print(\"Get the chemical type with a concentration higher than 5: \\n\", \n",
        "      data.loc[data[\"Concentration (M)\"]>5,\"Chemical Type\"])\n",
        "print(\"\\n\")"
      ],
      "id": "5bc47e09",
      "execution_count": null,
      "outputs": []
    },
    {
      "cell_type": "markdown",
      "metadata": {},
      "source": [
        "### Manipulate data {.unnumbered}\n",
        "\n",
        "You can\n",
        "\n",
        "- copy data,\n",
        "- drop columns,\n",
        "- drop rows,\n",
        "- fill not valid values,\n",
        "- replace values, \n",
        "- merge data, \n",
        "- join data,\n",
        "\n",
        "etc.\n"
      ],
      "id": "59783d5b"
    },
    {
      "cell_type": "code",
      "metadata": {},
      "source": [
        "data2 = data.copy()\n",
        "data2[\"Concentration 2 (M)\"] = data2[\"Concentration (M)\"] + 10 # increase the concentration by 10 M\n",
        "print(\"data2: \\n\" , data2)\n",
        "\n",
        "\n",
        "data3 = pd.concat([data, data2[\"Concentration 2 (M)\"]]) # concatenate the dataframes\n",
        "print(\"concated data: \\n\", data3)"
      ],
      "id": "49e16c32",
      "execution_count": null,
      "outputs": []
    },
    {
      "cell_type": "code",
      "metadata": {},
      "source": [
        " # create a Panda Series\n",
        "acidity = pd.Series([\"basic\", \"acid\", \"basic\", \"neutral\",\n",
        "                    \"acid\", \"acid\", \"basic\", \"basic\"], name=\"acidity\")\n",
        "print(\"acidity: \\n\",acidity)\n",
        "# concatenate the dataframes\n",
        "data4 = pd.concat([data3, acidity], axis=1) \n",
        "print(\"concated data: \\n\", data4)"
      ],
      "id": "bcadf917",
      "execution_count": null,
      "outputs": []
    },
    {
      "cell_type": "code",
      "metadata": {},
      "source": [
        "data5 = data4.drop_duplicates() # drop the duplicates\n",
        "print(\"data5: \\n\", data5)\n",
        "data6 = data5.dropna() # drop the NaNs\n",
        "print(\"data6: \\n\", data6)"
      ],
      "id": "d6893554",
      "execution_count": null,
      "outputs": []
    },
    {
      "cell_type": "markdown",
      "metadata": {},
      "source": [
        "### Transform Pandas DataFrame to Numpy Array and viceversa {.unnumbered}\n"
      ],
      "id": "09548c90"
    },
    {
      "cell_type": "code",
      "metadata": {},
      "source": [
        "df = data6\n",
        "print(df)\n",
        "# convert the dataframe to a numpy array\n",
        "arr = df.to_numpy() \n",
        "print(\"arr: \\n\", arr)\n",
        "# convert the numpy array to a dataframe\n",
        "df2 = pd.DataFrame(arr, columns=[\"Name\", \"Formula\", \"Molecular Weight (g/mol)\",\"Viscosity (mPa·s)\",\"pH (Acidity)\",\"Chemical Type\",\"Concentration (M)\",\"Concentration 2 (M)\"])\n",
        "print(\"df2: \\n\", df2)"
      ],
      "id": "0ba997c5",
      "execution_count": null,
      "outputs": []
    },
    {
      "cell_type": "markdown",
      "metadata": {},
      "source": [
        "### Sort data\n"
      ],
      "id": "ed22c6f8"
    },
    {
      "cell_type": "code",
      "metadata": {},
      "source": [
        "print(\"sorted after concentration: \",data.sort_values(by=\"Concentration (M)\", ascending=True))"
      ],
      "id": "8eee2774",
      "execution_count": null,
      "outputs": []
    },
    {
      "cell_type": "markdown",
      "metadata": {},
      "source": [
        "### Statistial Analysis {.unnumbered}\n"
      ],
      "id": "a10edd5f"
    },
    {
      "cell_type": "code",
      "metadata": {},
      "source": [
        "print(\"mean of concentration: \\n\", data[\"Concentration (M)\"].mean()) # mean of concentration\n",
        "print(\"std of concentration: \\n\", data[\"Concentration (M)\"].std()) # standard deviation of concentration\n",
        "print(\"median of concentration: \\n\", data[\"Concentration (M)\"].median()) # median of concentration\n",
        "print(\"max of concentration: \\n\", data[\"Concentration (M)\"].max()) # max of concentration\n",
        "print(\"min of concentration: \\n\", data[\"Concentration (M)\"].min()) # min of concentration\n",
        "print(\"sum of concentration: \\n\", data[\"Concentration (M)\"].sum()) # sum of concentration\n",
        "print(\"Statisical summary: \\n\", data.describe()) # statistical summary\n",
        "# mean of concentration group by type\n",
        "print(\"Mean of concentration group by type: \\n\", data.groupby(\"Chemical Type\")[\"Concentration (M)\"].mean()) \n",
        "# count the chemicals with different concentration\n",
        "print(\"Count the chemicals with the different concentrations \\n\", data[\"Concentration (M)\"].value_counts())"
      ],
      "id": "45c8c63d",
      "execution_count": null,
      "outputs": []
    },
    {
      "cell_type": "markdown",
      "metadata": {},
      "source": [
        "### Pivot Table {.unnumbered}\n",
        "\n",
        "Pivot tables are used to summarize and aggregate data inside a dataframe.\n"
      ],
      "id": "f33b5e22"
    },
    {
      "cell_type": "code",
      "metadata": {},
      "source": [
        "data.pivot_table(index=\"Chemical type\", columns=\"Concentration (M)\", values=\"Molecular Weight (g/mol)\", aggfunc=\"mean\") "
      ],
      "id": "ea0bade7",
      "execution_count": null,
      "outputs": []
    }
  ],
  "metadata": {
    "kernelspec": {
      "name": "python3",
      "language": "python",
      "display_name": "Python 3 (ipykernel)",
      "path": "/Users/stk/y/envs/myenv/share/jupyter/kernels/python3"
    }
  },
  "nbformat": 4,
  "nbformat_minor": 5
}