{
 "cells": [
  {
   "cell_type": "raw",
   "metadata": {
    "vscode": {
     "languageId": "raw"
    }
   },
   "source": [
    "---\n",
    "title: \"Rocketstart to the Python Universe\"\n",
    "execute:\n",
    "    echo: true\n",
    "    eval: true\n",
    "    error: true\n",
    "---"
   ]
  },
  {
   "cell_type": "markdown",
   "metadata": {},
   "source": [
    "This will be a very fast and basic start into coding with Python. "
   ]
  },
  {
   "cell_type": "markdown",
   "metadata": {},
   "source": [
    "## Elemental Syntax{.unnumbered}"
   ]
  },
  {
   "cell_type": "markdown",
   "metadata": {},
   "source": [
    "### Comands{.unnumbered}\n",
    "\n",
    "Each line of code is a command. The computer reads the code from top to bottom and executes each command in order."
   ]
  },
  {
   "cell_type": "markdown",
   "metadata": {},
   "source": [
    ":::{.callout-information}\n",
    "# Example - Hello World\n",
    "`print` is a command that tells the computer to display the text that follows it. \n",
    "```python\n",
    "print(\"Hello World\")\n",
    "```\n",
    ":::"
   ]
  },
  {
   "cell_type": "markdown",
   "metadata": {},
   "source": [
    "Try it out:"
   ]
  },
  {
   "cell_type": "code",
   "execution_count": 9,
   "metadata": {},
   "outputs": [
    {
     "name": "stdout",
     "output_type": "stream",
     "text": [
      "Hello World\n"
     ]
    }
   ],
   "source": [
    "print(\"Hello World\")"
   ]
  },
  {
   "cell_type": "markdown",
   "metadata": {},
   "source": [
    "If you want to span a command over multiple lines you can use `\\` or <br> \n",
    "if you are using parenthesis in your command you can directly use a new line."
   ]
  },
  {
   "cell_type": "markdown",
   "metadata": {},
   "source": [
    "```python\n",
    "result = 1 + 2 + 3 + \\\n",
    "         7 + 8 + 9\n",
    "numbers = [\n",
    "    1, 2, 3,\n",
    "    4, 5, 6,\n",
    "    7, 8, 9\n",
    "]\n",
    "```"
   ]
  },
  {
   "cell_type": "markdown",
   "metadata": {},
   "source": [
    "### Indentation\n",
    "In Python code blocks are not structured by brackets or semicolons like C/C++ or Java but by indentation. This means that the code inside a loop or a function is indented by a tab or four spaces.\n",
    "\n",
    ":::{.callout-warning}\n",
    "Indentations are curcial in Python. \n",
    "If you don't indent your code correctly, you will get an typical beginner error.\n",
    "\n",
    "Pay attention to not mix tabs and spaces in your code.\n",
    ":::\n",
    "\n",
    "\n"
   ]
  },
  {
   "cell_type": "markdown",
   "metadata": {},
   "source": [
    ":::{.callout-information}\n",
    "# Example - Wrong Indentation\n",
    "```python\n",
    "print(\"correct indentation\")\n",
    "    print(\"wrong indentation\")\n",
    "```\n",
    "\n",
    ":::"
   ]
  },
  {
   "cell_type": "markdown",
   "metadata": {},
   "source": [
    "Try it out:"
   ]
  },
  {
   "cell_type": "code",
   "execution_count": 11,
   "metadata": {},
   "outputs": [
    {
     "ename": "IndentationError",
     "evalue": "unexpected indent (3451343029.py, line 2)",
     "output_type": "error",
     "traceback": [
      "\u001b[0;36m  Cell \u001b[0;32mIn[11], line 2\u001b[0;36m\u001b[0m\n\u001b[0;31m    print(\"incorrect indentation\")\u001b[0m\n\u001b[0m    ^\u001b[0m\n\u001b[0;31mIndentationError\u001b[0m\u001b[0;31m:\u001b[0m unexpected indent\n"
     ]
    }
   ],
   "source": [
    "print(\"correct indentation\") # different indentation\n",
    "   print(\"incorrect indentation\")"
   ]
  },
  {
   "cell_type": "markdown",
   "metadata": {},
   "source": []
  },
  {
   "cell_type": "code",
   "execution_count": null,
   "metadata": {},
   "outputs": [
    {
     "name": "stdout",
     "output_type": "stream",
     "text": [
      "correct indentation\n",
      "correct indentation\n",
      "correct indentation\n"
     ]
    }
   ],
   "source": [
    "    print(\"correct indentation\") # all the lines in the block must have the same indentation\n",
    "    print(\"correct indentation\")\n",
    "    print(\"correct indentation\")"
   ]
  },
  {
   "cell_type": "markdown",
   "metadata": {},
   "source": [
    "### Error messages {.unnumbered}\n",
    "\n",
    "When you run a command that has an error, Python will print an error message. \n",
    "\n",
    "The so called stack trace. It is a list of error messages that Python prints when an error occurs.\n",
    "\n",
    "It gives you information about the error and the location of the error in your code.\n",
    "\n",
    "The strack track is read from bottom to top.\n",
    "\n",
    "The last line contains the error message and the line number where the error occured.\n",
    "\n"
   ]
  },
  {
   "cell_type": "markdown",
   "metadata": {},
   "source": [
    "::: {.callout-tip}\n",
    "Often the error messages are not very clear. You can search for the error message in the internet. [Stackoverflow](https://stackoverflow.com/) has a lot of answers to common errors. Or you can ask some AI *e.g.* [ChatGPT](https://chat.openai.com/).\n",
    ":::"
   ]
  },
  {
   "cell_type": "markdown",
   "metadata": {},
   "source": [
    ":::{.callout-information}\n",
    "# Example - Cryptic Error Message\n",
    "```python\n",
    "a = [1,2,3]\n",
    "print(a[3])\n",
    "```\n",
    "\n",
    ":::"
   ]
  },
  {
   "cell_type": "markdown",
   "metadata": {},
   "source": [
    "What does the error message tell you?"
   ]
  },
  {
   "cell_type": "code",
   "execution_count": 12,
   "metadata": {},
   "outputs": [
    {
     "ename": "IndexError",
     "evalue": "list index out of range",
     "output_type": "error",
     "traceback": [
      "\u001b[0;31m---------------------------------------------------------------------------\u001b[0m",
      "\u001b[0;31mIndexError\u001b[0m                                Traceback (most recent call last)",
      "Cell \u001b[0;32mIn[12], line 2\u001b[0m\n\u001b[1;32m      1\u001b[0m a \u001b[38;5;241m=\u001b[39m [\u001b[38;5;241m1\u001b[39m,\u001b[38;5;241m2\u001b[39m,\u001b[38;5;241m3\u001b[39m]\n\u001b[0;32m----> 2\u001b[0m \u001b[38;5;28mprint\u001b[39m(\u001b[43ma\u001b[49m\u001b[43m[\u001b[49m\u001b[38;5;241;43m3\u001b[39;49m\u001b[43m]\u001b[49m)\n",
      "\u001b[0;31mIndexError\u001b[0m: list index out of range"
     ]
    }
   ],
   "source": [
    "a = [1,2,3]\n",
    "print(a[3])"
   ]
  },
  {
   "cell_type": "markdown",
   "metadata": {},
   "source": [
    ":::{.callout-tip collapse=\"true\"}\n",
    "# Solution\n",
    "The error message tells you that you are trying to access an index that is out of range.\n",
    ":::"
   ]
  },
  {
   "cell_type": "markdown",
   "metadata": {},
   "source": [
    "### Comments {.unnumbered}"
   ]
  },
  {
   "cell_type": "markdown",
   "metadata": {},
   "source": [
    "Comments are important. They help you and others to understand your code. <br>\n",
    "You can use the `#` symbol to write comments. <br>"
   ]
  },
  {
   "cell_type": "markdown",
   "metadata": {},
   "source": [
    "Docstrings are used to document the code for example with [pydoc](https://docs.python.org/3/library/pydoc.html). They are written using triple quotes `\"\"\" \"\"\"\"` <br>"
   ]
  },
  {
   "cell_type": "markdown",
   "metadata": {},
   "source": [
    "```python\n",
    "# This is a comment\n",
    "\n",
    "\"\"\"\n",
    "This is a documentation.\n",
    "You can document your code for example by pydoc\n",
    "\"\"\"\n",
    "```"
   ]
  },
  {
   "cell_type": "markdown",
   "metadata": {},
   "source": [
    "## Modules {.unnumbered}\n",
    "There exist a lot of libraries and modules in Python. <br>\n",
    "Libraries is a term to describe a collection of modules. <br>\n",
    "Packages are a way to collect related modules together within a single tree-like hierarchy. <br>\n",
    "Modules are a collection of files. <br>\n",
    "A script is a file that can be run independently. <br>\n",
    "You can use the `import` statement to import the whole module. <br>\n",
    "You can use the `from` statement to import a specific part of the module. <br>\n",
    "You can use the `dir()` function to list the names in a module. <br>\n",
    "You can use the `help()` function to get help on a module. <br>\n",
    "\n",
    "\n"
   ]
  },
  {
   "cell_type": "markdown",
   "metadata": {},
   "source": [
    "```python\n",
    "import numpy as np # the library numpy is imported\n",
    "from matplotlib import pyplot as plt # the library pyplot is imported from matplotlib module\n",
    "```"
   ]
  },
  {
   "cell_type": "markdown",
   "metadata": {},
   "source": []
  },
  {
   "cell_type": "code",
   "execution_count": null,
   "metadata": {},
   "outputs": [],
   "source": []
  },
  {
   "cell_type": "markdown",
   "metadata": {},
   "source": [
    "## I/O (Input/Output) {.unnumbered}"
   ]
  },
  {
   "cell_type": "markdown",
   "metadata": {},
   "source": [
    "You can use the `print()` function to **print a message** to the screen. <br>\n",
    "You can use the `input()` function to get **input from the user**. <br>\n",
    "You can use the `open()` function to **open a file**. <br>\n",
    "You can use the `write()` function to **write to a file**. <br>\n",
    "You can use the `read()` function to **read from a file**. <br>\n",
    "You can use the `close()` function to **close a file**. <br>\n",
    "You can use the `with` statement to **open a file** and **automatically close** it when you are done. <br>\n",
    "You can use the `os` module to **work with files and directories**. <br>\n",
    "You can use the `sys` module to **work with command line arguments**. <br>\n",
    "You can use the `argparse` module to work also with **command line arguments**. <br>"
   ]
  },
  {
   "cell_type": "markdown",
   "metadata": {},
   "source": [
    "```python\n",
    " # This should print \"Hello World!\" to the console\n",
    "print(\"Hello World!\")\n",
    "\n",
    "```"
   ]
  },
  {
   "cell_type": "markdown",
   "metadata": {},
   "source": [
    "```python\n",
    "# This should ask the user to enter a number and print it to the console\n",
    "print(input(\"Enter a number: \"))\n",
    "\n",
    "```"
   ]
  },
  {
   "cell_type": "markdown",
   "metadata": {},
   "source": [
    "```python\n",
    "# This should write \"Hello World!\" to the file \"file.txt\"\n",
    "open(\"file.txt\", \"w\").write(\"Hello World!\") \n",
    "\n",
    "```"
   ]
  },
  {
   "cell_type": "markdown",
   "metadata": {},
   "source": [
    "```python\n",
    "# This should read the file \"file.txt\" and print the content to the console\n",
    "print(open(\"file.txt\").read()) \n",
    "\n",
    "```"
   ]
  },
  {
   "cell_type": "markdown",
   "metadata": {},
   "source": [
    "```python\n",
    "# This should print \"Hello World!\" to the console without a newline\n",
    "print(\"Hello World without newline.\", end=\"\") \n",
    "print(\"Next print statement.\")\n",
    "\n",
    "```"
   ]
  },
  {
   "cell_type": "markdown",
   "metadata": {},
   "source": [
    "```python\n",
    "# This should read the file \"file.txt\" and print the content to the console\n",
    "with open(\"file.txt\", \"r\") as file: print(file.read()) \n",
    "```"
   ]
  },
  {
   "cell_type": "markdown",
   "metadata": {},
   "source": [
    "## System {.unnumbered}"
   ]
  },
  {
   "cell_type": "markdown",
   "metadata": {},
   "source": [
    "There are a lot of modules in Python to work with the system. <br>\n",
    "You can use the `os` module to **work with files and directories**. <br>\n",
    "You can use the `sys` module to **work with command line arguments**. <br>\n",
    "You can use the `argparse` module to work also with **command line arguments**. <br>\n",
    "\n",
    "Most important functions are: <br>\n",
    "- `os.getcwd()` to get the current working directory. <br>\n",
    "- `os.chdir()` to change the current working directory. <br>\n",
    "- `os.listdir()` to list the files in a directory. <br>\n",
    "- `os.mkdir()` to create a directory. <br>\n",
    "- `os.rmdir()` to remove a directory. <br>\n",
    "- `os.remove()` to remove a file. <br>\n",
    "- `os.rename()` to rename a file. <br>\n",
    "- `os.path.exists()` to check if a file or directory exists. <br>\n",
    "- `os.path.isfile()` to check if a file exists. <br>\n",
    "- `os.path.isdir()` to check if a directory exists. <br>\n",
    "- `os.path.join()` to join two paths. <br>\n",
    "- `os.path.basename()` to get the base name of a path. <br>\n",
    "- `os.path.dirname()` to get the directory name of a path. <br>\n",
    "- `os.path.abspath()` to get the absolute path of a path. <br>\n",
    "- `os.path.split()` to split a path into a directory and a file. <br>\n",
    "- `os.path.splitext()` to split a path into a base name and an extension. <br>\n",
    "- `os.path.getsize()` to get the size of a file. <br>\n",
    "- `os.path.getmtime()` to get the modification time of a file. <br>\n",
    "\n",
    "- `sys.argv` to get the command line arguments. <br>\n",
    "- `sys.exit()` to exit the program. <br>\n",
    "- `sys.stdin` to read from the standard input. <br>\n",
    "- `sys.stdout` to write to the standard output. <br>\n",
    "- `sys.stderr` to write to the standard error. <br>\n",
    "\n",
    "- `argparse.ArgumentParser()` to create a parser. <br>\n",
    "- `add_argument()` to add an argument to the parser. <br>\n",
    "- `parse_args()` to parse the command line arguments. <br>\n"
   ]
  },
  {
   "cell_type": "markdown",
   "metadata": {},
   "source": [
    "```python\n",
    "import os\n",
    "# This should remove the file \"file.txt\"\n",
    "os.remove(\"file.txt\")\n",
    "```"
   ]
  },
  {
   "cell_type": "markdown",
   "metadata": {},
   "source": [
    "For `sys` you can use the `sys.argv` to get the command line arguments. <br>\n",
    "`sys.argv` is a list of the command line arguments. <br>\n",
    "`sys.argv[0]` is the name of the script. <br>\n",
    "`sys.argv[1]` is the first argument. <br>\n",
    "\n",
    "```python\n",
    "import sys\n",
    "first_argument = sys.argv[1]\n",
    "```\n",
    "\n",
    "\n",
    "For more information about the sys module you can visit the [official documentation](https://docs.python.org/3/library/sys.html)."
   ]
  },
  {
   "cell_type": "markdown",
   "metadata": {},
   "source": [
    "For `Argparse` you can use the following code:\n",
    "\n",
    "```python\n",
    "from argparse import ArgumentParser\n",
    "# For python scripts:\n",
    "# You can use argparse to parse command line arguments\n",
    "parser = ArgumentParser(description=\"This is a description.\")\n",
    "parser.add_argument(\"--arg1\", help=\"This is the first argument.\")\n",
    "parser.add_argument(\"---arg2\", help=\"This is the second argument.\")\n",
    "args = parser.parse_args()\n",
    "```\n",
    "For more information about `Argparse` you can visit the [official documentation](https://docs.python.org/3/library/argparse.html)."
   ]
  },
  {
   "cell_type": "markdown",
   "metadata": {},
   "source": [
    "## Paths {.unnumbered}\n",
    "\n",
    "Pay attention to the paths in your code. They\n",
    "are different defined in Windows and Linux. In Windows and macOS, you use backslashes `/` and in Linux, you use forward slashes `\\`. \n",
    "\n",
    "To avoid this problem you can use the `os` or `pathlib` module to make your code platform independent."
   ]
  },
  {
   "cell_type": "markdown",
   "metadata": {},
   "source": [
    "```python\n",
    "import os\n",
    "\n",
    "path = os.path.join('folder1', 'folder2', 'folder3', 'data.dat')\n",
    "print(path)\n",
    "```"
   ]
  },
  {
   "cell_type": "markdown",
   "metadata": {},
   "source": [
    "```python   \n",
    "working_dir = os.getcwd()\n",
    "print(working_dir)\n",
    "```"
   ]
  },
  {
   "cell_type": "markdown",
   "metadata": {},
   "source": [
    "```python\n",
    "from pathlib import Path\n",
    "\n",
    "path = Path('folder1') / 'folder2' / 'folder3' / 'data.dat'\n",
    "print(path)\n",
    "```"
   ]
  },
  {
   "cell_type": "markdown",
   "metadata": {},
   "source": [
    "```python\n",
    "working_dir = Path.cwd()\n",
    "print(working_dir)\n",
    "```"
   ]
  },
  {
   "cell_type": "markdown",
   "metadata": {},
   "source": [
    "## Variables {.unnumbered}"
   ]
  },
  {
   "cell_type": "markdown",
   "metadata": {},
   "source": [
    "In Python, you don't need to declare the type of a variable. <br>\n",
    "You can assign a value to a variable using the `=` operator. <br>\n"
   ]
  },
  {
   "cell_type": "code",
   "execution_count": 21,
   "metadata": {},
   "outputs": [
    {
     "name": "stdout",
     "output_type": "stream",
     "text": [
      "1  is an <class 'int'>\n",
      "String  is a <class 'str'>\n"
     ]
    }
   ],
   "source": [
    "a = 1 # a is a variable\n",
    "b = \"String\" # b is a string\n",
    "print(1, \" is an\", type(a))\n",
    "print(b, \" is a\", type(b))"
   ]
  },
  {
   "cell_type": "markdown",
   "metadata": {},
   "source": [
    "## Data Types {.unnumbered}"
   ]
  },
  {
   "cell_type": "markdown",
   "metadata": {},
   "source": [
    "Python has several data types. The most common are:\n",
    "- `int` for integers\n",
    "- `float` for floating point numbers\n",
    "- `str` for strings\n",
    "- `bool` for booleans\n",
    "- `list` for lists\n",
    "- `tuple` for tuples\n",
    "- `dict` for dictionaries\n",
    "- `set` for sets\n",
    "\n",
    "You can use the `type()` function to get the type of a variable. <br>\n",
    "You can use the `isinstance()` function to check if a variable is an instance of a class. <br>\n",
    "Type casting is the process of converting one data type to another. <br>\n",
    "You can use the `int()`, `float()`, `str()`, `bool()`, `list()`, `tuple()`, `dict()`, `set()` functions to cast a variable to a different type. <br>\n"
   ]
  },
  {
   "cell_type": "code",
   "execution_count": 22,
   "metadata": {},
   "outputs": [
    {
     "name": "stdout",
     "output_type": "stream",
     "text": [
      "5 <class 'int'>\n"
     ]
    }
   ],
   "source": [
    "x = 5 # int\n",
    "print(x,type(x)) # print the type of x"
   ]
  },
  {
   "cell_type": "code",
   "execution_count": 23,
   "metadata": {},
   "outputs": [
    {
     "name": "stdout",
     "output_type": "stream",
     "text": [
      "5.12 <class 'float'>\n"
     ]
    }
   ],
   "source": [
    "y = 5.12 # float\n",
    "print(y,type(y))"
   ]
  },
  {
   "cell_type": "code",
   "execution_count": 24,
   "metadata": {},
   "outputs": [
    {
     "name": "stdout",
     "output_type": "stream",
     "text": [
      "2.8j <class 'complex'>\n"
     ]
    }
   ],
   "source": [
    "c = 2.8j # complex\n",
    "print(c,type(c))\n"
   ]
  },
  {
   "cell_type": "code",
   "execution_count": 25,
   "metadata": {},
   "outputs": [
    {
     "name": "stdout",
     "output_type": "stream",
     "text": [
      "Hello World <class 'str'>\n"
     ]
    }
   ],
   "source": [
    "s = \"Hello World\" # string\n",
    "print(s,type(s))"
   ]
  },
  {
   "cell_type": "code",
   "execution_count": 26,
   "metadata": {},
   "outputs": [
    {
     "name": "stdout",
     "output_type": "stream",
     "text": [
      "length of word:  11\n",
      "character on position 2:  l\n",
      "last 3 characters:  rld\n",
      "Hello World!\n",
      "\"Hello world\"!\n"
     ]
    }
   ],
   "source": [
    "\n",
    "print(\"length of word: \", len(s)) # length of string\n",
    "print(\"character on position 2: \", s[2]) \n",
    "print(\"last 3 characters: \", s[-3:])\n",
    "s2 = s + \"!\"\n",
    "print(s2)\n",
    "s3 = \"\\\"Hello world\\\"!\"\n",
    "print(s3)\n",
    "\n"
   ]
  },
  {
   "cell_type": "code",
   "execution_count": 27,
   "metadata": {},
   "outputs": [
    {
     "name": "stdout",
     "output_type": "stream",
     "text": [
      "{'name': 'Max', 'lastname': 'Musterman', 'height': 1.89} <class 'dict'>\n"
     ]
    }
   ],
   "source": [
    "d = dict(name=\"Max\",lastname=\"Musterman\",height=1.89) # dictionary\n",
    "print(d,type(d))"
   ]
  },
  {
   "cell_type": "code",
   "execution_count": 28,
   "metadata": {},
   "outputs": [
    {
     "name": "stdout",
     "output_type": "stream",
     "text": [
      "True <class 'bool'>\n"
     ]
    }
   ],
   "source": [
    "b = True # boolean\n",
    "print(b,type(b))"
   ]
  },
  {
   "cell_type": "code",
   "execution_count": 29,
   "metadata": {},
   "outputs": [
    {
     "name": "stdout",
     "output_type": "stream",
     "text": [
      "{1, 3, 12} <class 'set'>\n"
     ]
    }
   ],
   "source": [
    "dataset = {1,12,3} # set \n",
    "print(dataset,type(dataset))"
   ]
  },
  {
   "cell_type": "code",
   "execution_count": 30,
   "metadata": {},
   "outputs": [
    {
     "name": "stdout",
     "output_type": "stream",
     "text": [
      "{1.2, 2} <class 'set'>\n"
     ]
    }
   ],
   "source": [
    "dataset2 = set((1.2,2,2)) # set\n",
    "print(dataset2,type(dataset2))\n"
   ]
  },
  {
   "cell_type": "code",
   "execution_count": 31,
   "metadata": {},
   "outputs": [
    {
     "name": "stdout",
     "output_type": "stream",
     "text": [
      "range(0, 10, 2) <class 'range'>\n"
     ]
    }
   ],
   "source": [
    "r = range(0,10,2) # range\n",
    "print(r,type(r))\n"
   ]
  },
  {
   "cell_type": "code",
   "execution_count": 32,
   "metadata": {},
   "outputs": [
    {
     "name": "stdout",
     "output_type": "stream",
     "text": [
      "[1, 2, 2, 3] <class 'list'>\n",
      "length of list 4\n"
     ]
    }
   ],
   "source": [
    "l = [1,2,2,3] # list\n",
    "print(l,type(l))\n",
    "print(\"length of list\",len(l))\n"
   ]
  },
  {
   "cell_type": "code",
   "execution_count": 33,
   "metadata": {},
   "outputs": [
    {
     "name": "stdout",
     "output_type": "stream",
     "text": [
      "(1, 2) <class 'tuple'>\n"
     ]
    }
   ],
   "source": [
    "t = (1,2) # tuple\n",
    "print(t,type(t))"
   ]
  },
  {
   "cell_type": "code",
   "execution_count": 34,
   "metadata": {},
   "outputs": [
    {
     "name": "stdout",
     "output_type": "stream",
     "text": [
      "5.0 <class 'float'>\n"
     ]
    }
   ],
   "source": [
    "#type conversion\n",
    "f = float(x)\n",
    "print(f,type(f))"
   ]
  },
  {
   "cell_type": "markdown",
   "metadata": {},
   "source": [
    "## Lists {.unnumbered}\n"
   ]
  },
  {
   "cell_type": "markdown",
   "metadata": {},
   "source": [
    "Lists collect multiple items in a single variable. <br>\n",
    "You can use the `[]` operator to create a list. <br>\n",
    "You can use the `append()` method to add an item to a list. <br>\n",
    "You can use the `insert()` method to add an item at a specific position. <br>\n",
    "You can use the `del` statement to delete an item from a list. <br>\n",
    "You can use the `remove()` method to remove an item from a list. <br>\n",
    "You can use the `pop()` method to remove an item at a specific position. <br>\n",
    "You can use the `clear()` method to remove all items from a list. <br>\n",
    "You can use the `copy()` method to copy a list. <br>\n",
    "You can use the `count()` method to count the number of items in a list. <br>\n",
    "You can use the `sort()` method to sort a list. <br>\n",
    "You can use the `reverse()` method to reverse a list. <br>\n",
    "You can use the `extend()` method to add items from another list. <br>\n",
    "You can use the `index()` method to get the index of an item. <br>\n",
    "You can use the `len()` function to get the length of a list. <br>\n",
    "You can use the `list()` function to create a list. <br>\n",
    "\n",
    "\n",
    "\n"
   ]
  },
  {
   "cell_type": "code",
   "execution_count": null,
   "metadata": {},
   "outputs": [
    {
     "data": {
      "text/plain": [
       "3"
      ]
     },
     "metadata": {},
     "output_type": "display_data"
    }
   ],
   "source": [
    "\n",
    "a = ['a', 'b', 'c']\n",
    "b = [1,3,'a', 1j]\n",
    "len(a) #length of list"
   ]
  },
  {
   "cell_type": "markdown",
   "metadata": {},
   "source": [
    ":::{.callout-warning}\n",
    "Index is starting with **0** in Python.\n",
    ":::"
   ]
  },
  {
   "cell_type": "code",
   "execution_count": null,
   "metadata": {},
   "outputs": [
    {
     "data": {
      "text/plain": [
       "'first'"
      ]
     },
     "metadata": {},
     "output_type": "display_data"
    }
   ],
   "source": [
    "\n",
    "l = ['first', 'second', 'third']\n",
    "l[0]\n"
   ]
  },
  {
   "cell_type": "markdown",
   "metadata": {},
   "source": [
    "Last element is reached by index -1.\n"
   ]
  },
  {
   "cell_type": "code",
   "execution_count": null,
   "metadata": {},
   "outputs": [
    {
     "data": {
      "text/plain": [
       "'third'"
      ]
     },
     "metadata": {},
     "output_type": "display_data"
    }
   ],
   "source": [
    "l[-1]"
   ]
  },
  {
   "cell_type": "code",
   "execution_count": null,
   "metadata": {},
   "outputs": [],
   "source": []
  },
  {
   "cell_type": "markdown",
   "metadata": {},
   "source": [
    "## Mutable and Immutable Objects {.unnumbered}\n",
    "\n",
    "Immutable objects cannot be changed. <br>\n",
    "Mutable objects can be changed. <br>\n",
    "Immutable objects are: `int`, `float`, `bool`, `str`, `tuple`, `frozenset`. <br>\n",
    "Mutable objects are: `list`, `dict`, `set`. <br>\n",
    "\n",
    "That means if you change an immutable object, a new object is created. <br>\n",
    "If you change a mutable object, the object is changed. <br>"
   ]
  },
  {
   "cell_type": "code",
   "execution_count": null,
   "metadata": {},
   "outputs": [
    {
     "name": "stdout",
     "output_type": "stream",
     "text": [
      "a: 1\n",
      "b: 1\n",
      "------\n",
      "a: 2\n",
      "b: 1\n",
      "------\n",
      "a: 2\n",
      "b: 3\n",
      "------\n",
      "a: 2\n",
      "b: 2\n"
     ]
    }
   ],
   "source": [
    "a = 1\n",
    "b = a\n",
    "\n",
    "print(\"a:\",a)\n",
    "print(\"b:\",b)\n",
    "\n",
    "a = 2\n",
    "print(\"------\")\n",
    "print(\"a:\",a)\n",
    "print(\"b:\",b)\n",
    "\n",
    "b = 3\n",
    "print(\"------\")\n",
    "print(\"a:\",a)\n",
    "print(\"b:\",b)\n",
    "\n",
    "b = a\n",
    "print(\"------\")\n",
    "print(\"a:\",a)\n",
    "print(\"b:\",b)\n",
    "\n"
   ]
  },
  {
   "cell_type": "code",
   "execution_count": null,
   "metadata": {},
   "outputs": [
    {
     "name": "stdout",
     "output_type": "stream",
     "text": [
      "a: [1, 2, 3]\n",
      "b: [1, 2, 3]\n",
      "------\n",
      "a: [4, 2, 3]\n",
      "b: [4, 2, 3]\n",
      "------\n",
      "a: [4, 5, 3]\n",
      "b: [4, 5, 3]\n",
      "This happens because a and b are pointing to the same memory location. So if you change a, b will also change. If you want to avoid this, you can use the copy() method.\n",
      "------\n",
      "a: [4, 5, 3]\n",
      "b: [4, 5, 3]\n",
      "------\n",
      "a: [4, 5, 6]\n",
      "b: [4, 5, 3]\n",
      "------\n",
      "a: [4, 5, 6]\n",
      "b: [4, 5, 7]\n"
     ]
    }
   ],
   "source": [
    "# mutable objects\n",
    "a = [1,2,3]\n",
    "b = a\n",
    "\n",
    "print(\"a:\",a)\n",
    "print(\"b:\",b)\n",
    "\n",
    "a[0] = 4\n",
    "print(\"------\")\n",
    "print(\"a:\",a)\n",
    "print(\"b:\",b)\n",
    "\n",
    "b[1] = 5\n",
    "print(\"------\")\n",
    "print(\"a:\",a)\n",
    "print(\"b:\",b)\n",
    "\n"
   ]
  },
  {
   "cell_type": "markdown",
   "metadata": {},
   "source": [
    "This happens because a and b are pointing to the same memory location. So if you change a, b will also change. If you want to avoid this, you can use the copy() method."
   ]
  },
  {
   "cell_type": "code",
   "execution_count": null,
   "metadata": {},
   "outputs": [],
   "source": [
    "b = a.copy()\n",
    "print(\"------\")\n",
    "print(\"a:\",a)\n",
    "print(\"b:\",b)\n",
    "\n",
    "a[2] = 6\n",
    "print(\"------\")\n",
    "print(\"a:\",a)\n",
    "print(\"b:\",b)\n",
    "\n",
    "b[2] = 7\n",
    "print(\"------\")\n",
    "print(\"a:\",a)\n",
    "print(\"b:\",b)"
   ]
  },
  {
   "cell_type": "markdown",
   "metadata": {},
   "source": [
    "## String Formatting {.unnumbered}"
   ]
  },
  {
   "cell_type": "markdown",
   "metadata": {},
   "source": [
    "You can use the following escape characters:\n"
   ]
  },
  {
   "cell_type": "markdown",
   "metadata": {},
   "source": [
    "    `\\n`: new line\n",
    "    `\\t`: tab\n",
    "    `\\\\`: backslash\n",
    "    `\\'`: single quote\n",
    "    `\\\"`: double quote\n",
    "    `\\b`: backspace\n",
    "    `\\r`: carriage return\n",
    "    `\\f`: form feed\n",
    "    `\\ooo`: octal value\n",
    "    `\\xhh`: hex value"
   ]
  },
  {
   "cell_type": "markdown",
   "metadata": {},
   "source": []
  },
  {
   "cell_type": "code",
   "execution_count": null,
   "metadata": {},
   "outputs": [],
   "source": []
  },
  {
   "cell_type": "markdown",
   "metadata": {},
   "source": [
    "You can use the `+` operator to concatenate strings. <br>"
   ]
  },
  {
   "cell_type": "code",
   "execution_count": 35,
   "metadata": {},
   "outputs": [
    {
     "name": "stdout",
     "output_type": "stream",
     "text": [
      "This is a string\n"
     ]
    }
   ],
   "source": [
    "a = \"This \" \n",
    "b = \"is a string\"\n",
    "print(a + b)"
   ]
  },
  {
   "cell_type": "markdown",
   "metadata": {},
   "source": [
    "For print formatting you can use the `format()` method. <br>\n",
    "You can use the `f-string` method. <br>\n",
    "See for more information [here](https://docs.python.org/3/tutorial/inputoutput.html#tut-f-strings)"
   ]
  },
  {
   "cell_type": "code",
   "execution_count": 36,
   "metadata": {},
   "outputs": [
    {
     "name": "stdout",
     "output_type": "stream",
     "text": [
      "This is an integer 1 nm\n",
      "This is a float formating with minimum 1 number of character wide and 2 digits 1.54 nm\n",
      "This is scientific notation with 2 digits 1.54e+00 nm\n",
      "This is a string 1.5434 nm\n",
      "This is an example of using format() method 1.5434 nm\n",
      "This is an example of using format() method with named arguments 1.5434 nm\n"
     ]
    }
   ],
   "source": [
    "a = 1.5434\n",
    "b = \"nm\"\n",
    "print(\"This is an integer %d %s\" % (a, b))\n",
    "print(\"This is a float formating with minimum \\\n",
    "1 number of character wide and 2 digits %1.2f %s\" % (a, b))\n",
    "print(\"This is scientific notation with \\\n",
    "2 digits %.2e %s\" % (a, b))\n",
    "print(\"This is a string %s %s\" % (a, b))\n",
    "print(\"This is an example of using \\\n",
    "format() method {0} {1}\".format(a, b)) \n",
    "print(\"This is an example of using format() \\\n",
    "method with named arguments {a} {b}\".format(a=a, b=b))\n"
   ]
  },
  {
   "cell_type": "markdown",
   "metadata": {},
   "source": [
    "## Operators {.unnumbered}"
   ]
  },
  {
   "cell_type": "markdown",
   "metadata": {},
   "source": [
    "There are different types of operators in Python. <br>"
   ]
  },
  {
   "cell_type": "markdown",
   "metadata": {},
   "source": [
    "    +: addition\n",
    "    -: subtraction\n",
    "    *: multiplication\n",
    "    /: division\n",
    "    %: modulo\n",
    "    **: exponentiation\n",
    "    //: floor division\n",
    "    ==: equal\n",
    "    !=: not equal\n",
    "    <: less than    \n",
    "    >: greater than\n",
    "    <=: less than or equal\n",
    "    >=: greater than or equal\n",
    "    and: logical and\n",
    "    or: logical or\n",
    "    not: logical not\n",
    "    is: identity\n",
    "    in: membership\n",
    "\n",
    "\n",
    "\n"
   ]
  },
  {
   "cell_type": "code",
   "execution_count": 79,
   "metadata": {},
   "outputs": [
    {
     "name": "stdout",
     "output_type": "stream",
     "text": [
      "division:  2.65\n",
      "division:  0.6666666666666666  type:  <class 'float'>\n",
      "integer division:  2.0\n",
      "modulo:  1.2999999999999998\n",
      "float multiplication:  10.6  type:  <class 'float'>\n",
      "integer multiplication:  6  type:  <class 'int'>\n",
      "exponentiation:  28.09\n"
     ]
    }
   ],
   "source": [
    "a = 5.3\n",
    "b = 2\n",
    "c = 3\n",
    "\n",
    "print(\"division: \", a/b)\n",
    "print(\"division: \", b/c, \" type: \", type(b/c))\n",
    "print(\"integer division: \", a//b)\n",
    "print(\"modulo: \", a%b)\n",
    "print(\"float multiplication: \", a*b, \" type: \", type(a*b))\n",
    "print(\"integer multiplication: \", b*c, \" type: \", type(b*c))\n",
    "print(\"exponentiation: \", a**2)"
   ]
  },
  {
   "cell_type": "markdown",
   "metadata": {},
   "source": [
    "## Control Structures {.unnumbered}"
   ]
  },
  {
   "cell_type": "markdown",
   "metadata": {},
   "source": [
    "The most common control structures are:\n",
    "\n",
    "    if\n",
    "    else\n",
    "    elif\n",
    "    for\n",
    "    while\n",
    "    break\n",
    "    continue\n",
    "    pass\n",
    "    return"
   ]
  },
  {
   "cell_type": "markdown",
   "metadata": {},
   "source": [
    "### if statement {.unnumbered}"
   ]
  },
  {
   "cell_type": "code",
   "execution_count": 40,
   "metadata": {},
   "outputs": [
    {
     "name": "stdout",
     "output_type": "stream",
     "text": [
      "x = 0\n"
     ]
    }
   ],
   "source": [
    "x = 0\n",
    "if x < 0:\n",
    "    print(\"x < 0\")\n",
    "elif x > 0:\n",
    "    print(\"x > 0\")\n",
    "else:\n",
    "    print(\"x = 0\")"
   ]
  },
  {
   "cell_type": "markdown",
   "metadata": {},
   "source": [
    "### break,cotinue,pass {.unnumbered}"
   ]
  },
  {
   "cell_type": "code",
   "execution_count": 41,
   "metadata": {},
   "outputs": [
    {
     "name": "stdout",
     "output_type": "stream",
     "text": [
      "0\n",
      "1\n",
      "2\n",
      "3\n",
      "4\n"
     ]
    }
   ],
   "source": [
    "# example break\n",
    "for i in range(10):\n",
    "    if i == 5:\n",
    "        break\n",
    "    print(i)"
   ]
  },
  {
   "cell_type": "code",
   "execution_count": 42,
   "metadata": {},
   "outputs": [
    {
     "name": "stdout",
     "output_type": "stream",
     "text": [
      "0\n",
      "1\n",
      "2\n",
      "3\n",
      "4\n",
      "6\n",
      "7\n",
      "8\n",
      "9\n"
     ]
    }
   ],
   "source": [
    "# example continue\n",
    "for i in range(10):\n",
    "    if i == 5:\n",
    "        continue\n",
    "    print(i)\n",
    "    "
   ]
  },
  {
   "cell_type": "code",
   "execution_count": 43,
   "metadata": {},
   "outputs": [
    {
     "name": "stdout",
     "output_type": "stream",
     "text": [
      "0\n",
      "1\n",
      "2\n",
      "3\n",
      "4\n",
      "5\n",
      "6\n",
      "7\n",
      "8\n",
      "9\n"
     ]
    }
   ],
   "source": [
    "# example pass\n",
    "for i in range(10):\n",
    "    if i == 5:\n",
    "        pass\n",
    "    print(i)"
   ]
  },
  {
   "cell_type": "markdown",
   "metadata": {},
   "source": [
    "###  For Loops {.unnumbered}"
   ]
  },
  {
   "cell_type": "code",
   "execution_count": 44,
   "metadata": {},
   "outputs": [
    {
     "name": "stdout",
     "output_type": "stream",
     "text": [
      "0\n",
      "1\n",
      "2\n",
      "3\n",
      "4\n"
     ]
    }
   ],
   "source": [
    "for i in range(5): #from 0 to 4 \n",
    "    print(i)"
   ]
  },
  {
   "cell_type": "code",
   "execution_count": 45,
   "metadata": {},
   "outputs": [
    {
     "name": "stdout",
     "output_type": "stream",
     "text": [
      "1\n",
      "3\n",
      "5\n",
      "7\n",
      "9\n"
     ]
    }
   ],
   "source": [
    "for i in range(1,10,2): # start 1, stop 10 excluded, step 2\n",
    "    print(i)"
   ]
  },
  {
   "cell_type": "code",
   "execution_count": 46,
   "metadata": {},
   "outputs": [],
   "source": [
    "l = list(range(0,10))"
   ]
  },
  {
   "cell_type": "code",
   "execution_count": 47,
   "metadata": {},
   "outputs": [
    {
     "data": {
      "text/plain": [
       "[0, 1, 2, 3, 4, 5, 6, 7, 8, 9]"
      ]
     },
     "execution_count": 47,
     "metadata": {},
     "output_type": "execute_result"
    }
   ],
   "source": [
    "l"
   ]
  },
  {
   "cell_type": "code",
   "execution_count": 48,
   "metadata": {},
   "outputs": [
    {
     "name": "stdout",
     "output_type": "stream",
     "text": [
      "0\n",
      "1\n",
      "2\n",
      "3\n",
      "4\n",
      "5\n",
      "6\n",
      "7\n",
      "8\n",
      "9\n"
     ]
    }
   ],
   "source": [
    "for i in l: # using list\n",
    "    print(i)"
   ]
  },
  {
   "cell_type": "markdown",
   "metadata": {},
   "source": [
    "### While Loops {.unnumbered}"
   ]
  },
  {
   "cell_type": "code",
   "execution_count": 49,
   "metadata": {},
   "outputs": [
    {
     "name": "stdout",
     "output_type": "stream",
     "text": [
      "0\n",
      "1\n",
      "2\n",
      "3\n"
     ]
    }
   ],
   "source": [
    "x = 0\n",
    "while x  < 4:\n",
    "    print(l[x])\n",
    "    x = x + 1"
   ]
  },
  {
   "cell_type": "code",
   "execution_count": 50,
   "metadata": {},
   "outputs": [
    {
     "name": "stdout",
     "output_type": "stream",
     "text": [
      "while loop with continue and break statement\n",
      "1\n",
      "2\n",
      "3\n",
      "4\n",
      "6\n",
      "The loop reached 7 and will break now.\n"
     ]
    }
   ],
   "source": [
    "print(\"while loop with continue and break statement\")\n",
    "n = 0\n",
    "while(n < 10):\n",
    "    n+=1\n",
    "    if n == 5:\n",
    "        continue\n",
    "    if n == 7:\n",
    "        print(\"The loop reached 7 and will break now.\")\n",
    "        break\n",
    "    print(n)"
   ]
  },
  {
   "cell_type": "markdown",
   "metadata": {},
   "source": [
    "## Functions {.unnumbered}"
   ]
  },
  {
   "cell_type": "markdown",
   "metadata": {},
   "source": [
    "Functions are defined using the `def` keyword. <br>\n",
    "You can use the `return` keyword to return a value from a function. <br>\n",
    "The parameters of a function are defined in the parentheses. <br>\n",
    "Multiple parameters are separated by commas. <br>\n",
    "You can use default values for the parameter *e.g.* `b=5`. <br>\n",
    "Multiple return values are separated by commas. <br>\n",
    "They are stored in a tuple. <br>\n"
   ]
  },
  {
   "cell_type": "code",
   "execution_count": 57,
   "metadata": {},
   "outputs": [],
   "source": [
    "def summation(a,b=5):\n",
    "    return a+b, a-b"
   ]
  },
  {
   "cell_type": "code",
   "execution_count": 58,
   "metadata": {},
   "outputs": [
    {
     "data": {
      "text/plain": [
       "(6, 2)"
      ]
     },
     "execution_count": 58,
     "metadata": {},
     "output_type": "execute_result"
    }
   ],
   "source": [
    "summation(4,2)"
   ]
  },
  {
   "cell_type": "code",
   "execution_count": 60,
   "metadata": {},
   "outputs": [
    {
     "name": "stdout",
     "output_type": "stream",
     "text": [
      "9\n",
      "-1\n"
     ]
    }
   ],
   "source": [
    "sum, sub = summation(4)\n",
    "print(sum)\n",
    "print(sub)"
   ]
  },
  {
   "cell_type": "code",
   "execution_count": 53,
   "metadata": {},
   "outputs": [
    {
     "name": "stdout",
     "output_type": "stream",
     "text": [
      "8 -7\n"
     ]
    }
   ],
   "source": [
    "x = 3\n",
    "\n",
    "\n",
    "def multiple_return_value(x,a,b):\n",
    "    n = x+a\n",
    "    m = x-b\n",
    "    return [n,m]\n",
    "print(multiple_return_value(x,5,10)[0],multiple_return_value(x,5,10)[1])"
   ]
  },
  {
   "cell_type": "markdown",
   "metadata": {},
   "source": [
    "## Style guideline for writing python code {.unnumbered}"
   ]
  },
  {
   "cell_type": "markdown",
   "metadata": {},
   "source": [
    "For writing a readable code, it is important to follow a style guideline. <br>\n",
    "The most common style guideline for Python is [PEP 8](https://www.python.org/dev/peps/pep-0008/). <br>"
   ]
  },
  {
   "cell_type": "markdown",
   "metadata": {},
   "source": [
    "## Exercises {.unnumbered}\n",
    "\n",
    "[Basic Python](exercises/notebooks/student/BasicExercises.ipynb)"
   ]
  },
  {
   "cell_type": "code",
   "execution_count": null,
   "metadata": {},
   "outputs": [],
   "source": []
  }
 ],
 "metadata": {
  "kernelspec": {
   "display_name": "myenv",
   "language": "python",
   "name": "python3"
  },
  "language_info": {
   "codemirror_mode": {
    "name": "ipython",
    "version": 3
   },
   "file_extension": ".py",
   "mimetype": "text/x-python",
   "name": "python",
   "nbconvert_exporter": "python",
   "pygments_lexer": "ipython3",
   "version": "3.12.7"
  }
 },
 "nbformat": 4,
 "nbformat_minor": 2
}
