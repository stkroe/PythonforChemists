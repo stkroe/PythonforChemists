{
 "cells": [
  {
   "cell_type": "raw",
   "metadata": {
    "vscode": {
     "languageId": "raw"
    }
   },
   "source": [
    "---\n",
    "title: \"Simple Data Import\"\n",
    "execute:\n",
    "    echo: true\n",
    "    eval: true\n",
    "--- "
   ]
  },
  {
   "cell_type": "code",
   "execution_count": null,
   "metadata": {},
   "outputs": [],
   "source": []
  },
  {
   "cell_type": "code",
   "execution_count": null,
   "metadata": {},
   "outputs": [],
   "source": []
  },
  {
   "cell_type": "markdown",
   "metadata": {},
   "source": [
    "# 2. Data Reading and Writing"
   ]
  },
  {
   "cell_type": "markdown",
   "metadata": {},
   "source": [
    "## How do you read the data?"
   ]
  },
  {
   "cell_type": "markdown",
   "metadata": {},
   "source": [
    "Depending on the data format, you can use different libraries to read the data."
   ]
  },
  {
   "cell_type": "markdown",
   "metadata": {},
   "source": [
    "### Reading Plain Text Files\n",
    "\n",
    "- **CSV**: You can use the `pandas` library to read CSV files. \n",
    "```python\n",
    "import pandas as pd\n",
    "data = pd.read_csv('data.csv')\n",
    "```\n",
    "\n",
    "- **TXT**: You can use the `open` function to read text files.\n",
    "```python\n",
    "with open('data.txt', 'r') as file:\n",
    "    data = file.read()\n",
    "```\n",
    "\n",
    "### Reading JSON or XML Files\n",
    "\n",
    "- **JSON**: You can use the `json` library to read JSON files.\n",
    "```python\n",
    "import json\n",
    "with open('data.json', 'r') as file:\n",
    "    data = json.load(file)\n",
    "```\n",
    "\n",
    "- **XML**: You can use the `xml` library to read XML files.\n",
    "```python\n",
    "import xml.etree.ElementTree as ET\n",
    "tree = ET.parse('data.xml')\n",
    "root = tree.getroot()\n",
    "```\n",
    "\n",
    "### Reading Binary Files\n",
    "\n",
    "- **HDF5**: You can use the `h5py` library to read HDF5 files.\n",
    "```python\n",
    "import h5py\n",
    "data = h5py.File('data.h5', 'r')\n",
    "```\n",
    "\n",
    "- **Parquet**: You can use the `pandas` library to read Parquet files.\n",
    "```python\n",
    "import pandas as pd\n",
    "data = pd.read_parquet('data.parquet')\n",
    "```\n",
    "\n",
    "- **NetCDF**: You can use the `netCDF4` library to read NetCDF files.\n",
    "```python\n",
    "import netCDF4\n",
    "data = netCDF4.Dataset('data.nc', 'r')\n",
    "```\n",
    "\n",
    "- **Feather**: You can use the `pyarrow` library to read Feather files.\n",
    "```python\n",
    "import pyarrow.feather as feather\n",
    "data = feather.read_feather('data.feather')\n",
    "```\n",
    "\n",
    "- **Pickle**: You can use the `pickle` library to read Pickle files.\n",
    "```python\n",
    "import pickle\n",
    "with open('data.pkl', 'rb') as file:\n",
    "    data = pickle.load(file)\n",
    "```\n",
    "\n",
    "- **npy**: You can use the `numpy` library to read npy files.\n",
    "```python\n",
    "import numpy as np\n",
    "data = np.load('data.npy')\n",
    "```\n",
    "\n",
    "### Reading Databases\n",
    "\n",
    "- **SQL**: You can use the `sqlite3` library to read SQLite databases.\n",
    "```python\n",
    "import sqlite3\n",
    "conn = sqlite3.connect('data.db')\n",
    "cursor = conn.cursor()\n",
    "cursor.execute('SELECT * FROM table')\n",
    "data = cursor.fetchall()\n",
    "```\n"
   ]
  }
 ],
 "metadata": {
  "language_info": {
   "name": "python"
  }
 },
 "nbformat": 4,
 "nbformat_minor": 2
}
