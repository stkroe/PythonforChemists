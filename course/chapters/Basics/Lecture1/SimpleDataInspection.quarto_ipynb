{
  "cells": [
    {
      "cell_type": "markdown",
      "metadata": {},
      "source": [
        "---\n",
        "title: \"Simple Data Inspection\"\n",
        "format: live-html\n",
        "engine: jupyter\n",
        "execute: \n",
        "  echo: True\n",
        "  eval: True\n",
        "code-links:\n",
        "      - text: \"Open in Colab\"\n",
        "        href: \"https://colab.research.google.com/github/stkroe/PythonForChemists/blob/main/course/notebooks/SimpleDataInspection.ipynb\"\n",
        "        icon: \"laptop\"\n",
        "--- \n",
        "\n",
        "\n",
        "\n",
        "\n",
        "\n",
        "## Inspection of Data {.unnumbered}\n",
        "\n",
        "\n",
        "After you load your data you have to inspect it to:\n",
        "- check if no data is consistent, no missing values\n",
        "- check if the data is in the correct format\n",
        "- check if the data is in the correct range\n",
        "- check if the data is in the correct distribution\n",
        "- get first insights into the data\n",
        "\n",
        "\n",
        "### Pandas {.unnumbered}\n",
        "\n",
        "\n",
        "#### Overview of the Data {.unnumbered}\n",
        "\n",
        "\n",
        "You can use the `head()` function to get a quick overview of the first rows of the data.\n"
      ],
      "id": "b88c0080"
    },
    {
      "cell_type": "code",
      "metadata": {
        "tags": [
          "parameters"
        ]
      },
      "source": [
        "temperature_data = \"https://raw.githubusercontent.com/stkroe/PythonForChemists/main/data/temperatures.csv\"\n",
        "temperature_nan_data =\"https://raw.githubusercontent.com/stkroe/PythonForChemists/main/data/temperatures_nan.dat\""
      ],
      "id": "8ef8be52",
      "execution_count": null,
      "outputs": []
    },
    {
      "cell_type": "code",
      "metadata": {},
      "source": [
        "import pandas as pd\n",
        "\n",
        "data = pd.read_csv(temperature_data,sep=';')\n",
        "data.head()"
      ],
      "id": "459d62a0",
      "execution_count": null,
      "outputs": []
    },
    {
      "cell_type": "markdown",
      "metadata": {},
      "source": [
        "The `describe()` function gives you a quick overview of the data distribution.\n"
      ],
      "id": "725e2909"
    },
    {
      "cell_type": "code",
      "metadata": {},
      "source": [
        "data.describe()"
      ],
      "id": "799a2ccb",
      "execution_count": null,
      "outputs": []
    },
    {
      "cell_type": "markdown",
      "metadata": {},
      "source": [
        "The `describe`function shows you the count, mean, standard deviation, minimum, 25%, 50%, 75% and maximum values of the data.\n",
        "\n",
        "In this case, data has 44640 data points, The mean of the temperature is 298(6) K. The minimum temperature is 279 K and the maximum temperature is 316 K. Further the 25% quantile is 294 K, the 50% quantile is 298 K and the 75% quantile is 302 K. The measurement was taken from 1 to 44640 seconds which is 12 hours and 24 minutes.\n",
        "We suppose that is the correct time range which was to be expected.\n",
        " \n",
        "This gives you a quick overview of the data distribution.\n",
        "\n",
        "\n",
        "#### Missing Data and Corrupted Data {.unnumbered}\n",
        "\n",
        "\n",
        "To check if there is missing data in the data set you can use the `isna()` function.\n"
      ],
      "id": "f8854511"
    },
    {
      "cell_type": "code",
      "metadata": {},
      "source": [
        "data.isna().sum()"
      ],
      "id": "5fde99d1",
      "execution_count": null,
      "outputs": []
    },
    {
      "cell_type": "markdown",
      "metadata": {},
      "source": [
        "No missing data is found in this case.\n",
        "\n",
        "\n",
        "You can check the data type using `dtypes` function to check if the data is in the correct format.\n"
      ],
      "id": "77a2345c"
    },
    {
      "cell_type": "code",
      "metadata": {},
      "source": [
        "data.dtypes"
      ],
      "id": "0dfc1da7",
      "execution_count": null,
      "outputs": []
    },
    {
      "cell_type": "code",
      "metadata": {},
      "source": [
        "data.dtypes"
      ],
      "id": "3c08e2bb",
      "execution_count": null,
      "outputs": []
    },
    {
      "cell_type": "markdown",
      "metadata": {},
      "source": [
        "You see that `time` is an `int64` and `temperature` is a `float64`.\n",
        "For the analysis, you might want to convert the `time` to a `float64` as well.\n"
      ],
      "id": "94301b73"
    },
    {
      "cell_type": "code",
      "metadata": {},
      "source": [
        "data['time'] = data['time'].astype('float64')"
      ],
      "id": "97e6ff12",
      "execution_count": null,
      "outputs": []
    },
    {
      "cell_type": "code",
      "metadata": {},
      "source": [
        "data['time'] = data['time'].astype('float64')\n",
        "data.dtypes"
      ],
      "id": "b0a3df42",
      "execution_count": null,
      "outputs": []
    },
    {
      "cell_type": "markdown",
      "metadata": {},
      "source": [
        "If we have missing data we can use the `fillna()` function to fill the missing data with a specific value.\n"
      ],
      "id": "abd040c2"
    },
    {
      "cell_type": "code",
      "metadata": {},
      "source": [
        "data.fillna(0)"
      ],
      "id": "a87cbb1b",
      "execution_count": null,
      "outputs": []
    },
    {
      "cell_type": "code",
      "metadata": {},
      "source": [
        "data_missing = pd.read_csv(temperature_nan_data, header=None, skipinitialspace=True, sep=' ', names=['time', 'temperature'])\n",
        "data_missing.head()"
      ],
      "id": "1388002e",
      "execution_count": null,
      "outputs": []
    },
    {
      "cell_type": "markdown",
      "metadata": {},
      "source": [
        "One value is missing in the `temperature` column. We fill it with 0.\n",
        "\n",
        "First let check where the data is missing.\n"
      ],
      "id": "8db8f0aa"
    },
    {
      "cell_type": "code",
      "metadata": {},
      "source": [
        "data[data['temperature'].isna()]"
      ],
      "id": "a226e72f",
      "execution_count": null,
      "outputs": []
    },
    {
      "cell_type": "markdown",
      "metadata": {},
      "source": [
        "data_missing[data_missing['temperature'].isna()]\n",
        "\n",
        "\n",
        "At index 21 at time 22 s the temperature is missing.\n",
        "\n",
        ":::{.callout-note}\n",
        "The handling of missing data is a complex topic.\n",
        "First of all you have to check why the data is missing. Is it a measurement error, a data processing error etc.\n",
        "\n",
        "You have to decide if you want to fill the missing data with a specific value, drop the row or column or interpolate the missing data. The decision depends on the data and the analysis you want to perform. Droping Data is always a delicate decision because you loose information. Sometimes it is not good scientific practice to drop data. \n",
        "For more information there a lot of research in this topic [https://doi.org/10.1076/edre.7.4.353.8937](https://doi.org/10.1076/edre.7.4.353.8937)\n",
        ":::\n",
        "\n",
        "\n",
        "The time step can be estimated by the difference between the time steps of the previous and the next data point.\n"
      ],
      "id": "7f83fb8b"
    },
    {
      "cell_type": "code",
      "metadata": {},
      "source": [
        "data['time'].diff()"
      ],
      "id": "79067b18",
      "execution_count": null,
      "outputs": []
    },
    {
      "cell_type": "markdown",
      "metadata": {},
      "source": [
        "And we can summarize it via:\n"
      ],
      "id": "3a05c3eb"
    },
    {
      "cell_type": "code",
      "metadata": {},
      "source": [
        "data['time'].diff().value_counts()"
      ],
      "id": "8fd2a07a",
      "execution_count": null,
      "outputs": []
    },
    {
      "cell_type": "code",
      "metadata": {},
      "source": [
        "data_missing['time'].diff().value_counts()"
      ],
      "id": "fd9c609d",
      "execution_count": null,
      "outputs": []
    },
    {
      "cell_type": "markdown",
      "metadata": {},
      "source": [
        "get difference between temperature values\n"
      ],
      "id": "88e46fc7"
    },
    {
      "cell_type": "code",
      "metadata": {},
      "source": [
        "data_missing[10:30].diff()"
      ],
      "id": "cd7b36f0",
      "execution_count": null,
      "outputs": []
    },
    {
      "cell_type": "markdown",
      "metadata": {},
      "source": [
        "The time step is constantly 1 second. \n",
        "The difference between the temperature of the previous and the next data point is at $~10^{-2}$ order.\n",
        "We can assume that in this case the data is consistent enough and we can fill the missing data with the mean of the previous and the next data point.\n"
      ],
      "id": "cb46c61e"
    },
    {
      "cell_type": "code",
      "metadata": {},
      "source": [
        "data['temperature'].fillna((data['temperature'].shift() + data['temperature'].shift(-1))/2, inplace=True)"
      ],
      "id": "1f8579c1",
      "execution_count": null,
      "outputs": []
    },
    {
      "cell_type": "markdown",
      "metadata": {},
      "source": [
        "data_missing['temperature'].fillna((data_missing['temperature'].shift() + data_missing['temperature'].shift(-1))/2, inplace=True)\n",
        "data_missing[20:25]\n",
        "\n",
        "\n",
        "Now can analysis or plot the data.\n",
        " \n",
        "\n",
        "\n",
        "\n",
        "\n",
        "\n",
        "# \n"
      ],
      "id": "62832c92"
    }
  ],
  "metadata": {
    "kernelspec": {
      "name": "python3",
      "language": "python",
      "display_name": "Python 3 (ipykernel)",
      "path": "/Users/stk/y/envs/myenv/share/jupyter/kernels/python3"
    }
  },
  "nbformat": 4,
  "nbformat_minor": 5
}