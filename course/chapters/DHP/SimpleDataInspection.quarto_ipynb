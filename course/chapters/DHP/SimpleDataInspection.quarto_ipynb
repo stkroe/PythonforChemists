{
  "cells": [
    {
      "cell_type": "markdown",
      "metadata": {},
      "source": [
        "---\n",
        "title: \"Simple Data Inspection\"\n",
        "execute: \n",
        "  echo: True\n",
        "  eval: True\n",
        "  error: True\n",
        "other-links: \n",
        "      - text: \"Data tempearture_data\"\n",
        "        href: \"https://raw.githubusercontent.com/stkroe/PythonForChemists/main/course/data/lectures/temperatures.csv\"\n",
        "        icon: \"filetype-csv\"\n",
        "      - text: \"Data temperature_nan_data\"\n",
        "        href: \"https://raw.githubusercontent.com/stkroe/PythonForChemists/main/course/data/lectures/temperatures_nan.csv\"\n",
        "        icon: \"filetype-csv\"\n",
        "      - text: \"Data temperature_dat\"\n",
        "        href: \"https://raw.githubusercontent.com/stkroe/PythonForChemists/main/course/data/lectures/temperatures.dat\"\n",
        "        icon: \"filetype-txt\"\n",
        "      - text: \"Data temperature_nan_dat\"\n",
        "        href: \"https://raw.githubusercontent.com/stkroe/PythonForChemists/main/course/data/lectures/temperatures_nan.dat\"\n",
        "        icon: \"filetype-txt\"\n",
        "      - text: \"Download Code\"\n",
        "        href: \"https://github.com/stkroe/PythonforChemists/blob/main/course/notebooks/SimpleDataInspection.ipynb\"\n",
        "        icon: \"journal\"\n",
        "      - text: \"Example\"\n",
        "        href: \"https://github.com/stkroe/PythonforChemists/blob/main/course/examples/DHP_Example.ipynb\"\n",
        "        icon: journal\n",
        "      - text: \"Open Example in Colab\"\n",
        "        href: \"https://colab.research.google.com/github/stkroe/PythonforChemists/blob/main/course/examples/DHP_Example.ipynb\"\n",
        "        icon: \"laptop\"\n",
        "code-links:\n",
        "      - text: \"Open in Colab\"\n",
        "        href: \"https://colab.research.google.com/github/stkroe/PythonForChemists/blob/main/course/notebooks/SimpleDataInspection.ipynb\"\n",
        "        icon: \"laptop\"\n",
        "--- \n",
        "\n",
        "\n",
        "\n",
        "## Inspection of Data {.unnumbered}\n",
        "\n",
        "After you load your data you have to inspect it to:\n",
        "\n",
        "- check if no data is consistent, no missing values\n",
        "- check if the data is in the correct format\n",
        "- check if the data is in the correct range\n",
        "- check if the data is in the correct distribution\n",
        "- get first insights into the data\n"
      ],
      "id": "04a80fcc"
    },
    {
      "cell_type": "code",
      "metadata": {},
      "source": [
        "#| echo: false\n",
        "#| eval: true\n",
        "temperature_data = \"https://raw.githubusercontent.com/stkroe/PythonForChemists/main/course/data/lectures/temperatures.csv\"\n",
        "temperature_nan_data =\"https://raw.githubusercontent.com/stkroe/PythonForChemists/main/course/data/lectures/temperatures_nan.dat\""
      ],
      "id": "c7cbbb10",
      "execution_count": null,
      "outputs": []
    },
    {
      "cell_type": "markdown",
      "metadata": {},
      "source": [
        "### Numpy {.unnumbered}\n",
        "\n",
        "#### Overview of the Data {.unnumbered}\n"
      ],
      "id": "58c464db"
    },
    {
      "cell_type": "code",
      "metadata": {},
      "source": [
        "import numpy as np\n",
        "data = np.loadtxt(temperature_data, delimiter=';', skiprows=1)"
      ],
      "id": "2c90d374",
      "execution_count": null,
      "outputs": []
    },
    {
      "cell_type": "markdown",
      "metadata": {},
      "source": [
        "First of all you can use the `print()` function to get a quick overview of the data.\n"
      ],
      "id": "52852ea8"
    },
    {
      "cell_type": "code",
      "metadata": {},
      "source": [
        "print(data)"
      ],
      "id": "de7690ee",
      "execution_count": null,
      "outputs": []
    },
    {
      "cell_type": "markdown",
      "metadata": {},
      "source": [
        "In numpy you can use the `shape` attribute to get the shape of the data."
      ],
      "id": "eb2cf0f5"
    },
    {
      "cell_type": "code",
      "metadata": {},
      "source": [
        "print(data.shape)"
      ],
      "id": "0fb73bfb",
      "execution_count": null,
      "outputs": []
    },
    {
      "cell_type": "markdown",
      "metadata": {},
      "source": [
        "The data has 44640 rows and 2 columns.\n",
        "\n",
        "#### Data Type Conversion{.unnumbered}\n",
        "You can use the `dtype` attribute to get the data type of the data."
      ],
      "id": "657c0a16"
    },
    {
      "cell_type": "code",
      "metadata": {},
      "source": [
        "print(data.dtype)"
      ],
      "id": "39d96c76",
      "execution_count": null,
      "outputs": []
    },
    {
      "cell_type": "markdown",
      "metadata": {},
      "source": [
        "The data type is `float64`.\n",
        "\n",
        "You can transform the data to a `float64` data type if it is not already in this format."
      ],
      "id": "f4d28677"
    },
    {
      "cell_type": "code",
      "metadata": {},
      "source": [
        "data = data.astype('float64')"
      ],
      "id": "b7c44884",
      "execution_count": null,
      "outputs": []
    },
    {
      "cell_type": "markdown",
      "metadata": {},
      "source": [
        "#### Missing Data and Corrupted Data {.unnumbered}\n",
        "You can use the `isnan()` function to check if there are missing values in the data.\n"
      ],
      "id": "c5db99aa"
    },
    {
      "cell_type": "code",
      "metadata": {},
      "source": [
        "print(np.isnan(data).sum())"
      ],
      "id": "b3bbc505",
      "execution_count": null,
      "outputs": []
    },
    {
      "cell_type": "markdown",
      "metadata": {},
      "source": [
        "### Pandas {.unnumbered}\n",
        "\n",
        "\n",
        "#### Overview of the Data {.unnumbered}\n",
        "\n",
        "\n",
        "You can use the `head()` function to get a quick overview of the first rows of the data.\n"
      ],
      "id": "0e819f28"
    },
    {
      "cell_type": "code",
      "metadata": {},
      "source": [
        "import pandas as pd\n",
        "\n",
        "data = pd.read_csv(temperature_data,sep=';')\n",
        "data.head()"
      ],
      "id": "23e315d3",
      "execution_count": null,
      "outputs": []
    },
    {
      "cell_type": "markdown",
      "metadata": {},
      "source": [
        "The `describe()` function gives you a quick overview of the data distribution.\n"
      ],
      "id": "9f51827e"
    },
    {
      "cell_type": "code",
      "metadata": {},
      "source": [
        "data.describe()"
      ],
      "id": "d83f96df",
      "execution_count": null,
      "outputs": []
    },
    {
      "cell_type": "markdown",
      "metadata": {},
      "source": [
        "The `describe`function shows you the count, mean, standard deviation, minimum, 25%, 50%, 75% and maximum values of the data.\n",
        "\n",
        "In this case, data has 44640 data points, The mean of the temperature is 298(6) K. The minimum temperature is 279 K and the maximum temperature is 316 K. Further the 25% quantile is 294 K, the 50% quantile is 298 K and the 75% quantile is 302 K. The measurement was taken from 1 to 44640 seconds which is 12 hours and 24 minutes.\n",
        "We suppose that is the correct time range which was to be expected.\n",
        " \n",
        "This gives you a quick overview of the data distribution.\n",
        "\n",
        "\n",
        "#### Missing Data and Corrupted Data {.unnumbered}\n",
        "\n",
        "\n",
        "To check if there is missing data in the data set you can use the `isna()` function.\n"
      ],
      "id": "e04abc91"
    },
    {
      "cell_type": "code",
      "metadata": {},
      "source": [
        "data.isna().sum()"
      ],
      "id": "b082b233",
      "execution_count": null,
      "outputs": []
    },
    {
      "cell_type": "markdown",
      "metadata": {},
      "source": [
        "No missing data is found in this case.\n",
        "\n",
        "\n",
        "You can check the data type using `dtypes` function to check if the data is in the correct format.\n"
      ],
      "id": "f9b224e4"
    },
    {
      "cell_type": "code",
      "metadata": {},
      "source": [
        "data.dtypes"
      ],
      "id": "c6e72027",
      "execution_count": null,
      "outputs": []
    },
    {
      "cell_type": "code",
      "metadata": {},
      "source": [
        "data.dtypes"
      ],
      "id": "67d47f42",
      "execution_count": null,
      "outputs": []
    },
    {
      "cell_type": "markdown",
      "metadata": {},
      "source": [
        "You see that `time` is an `int64` and `temperature` is a `float64`.\n",
        "For the analysis, you might want to convert the `time` to a `float64` as well.\n"
      ],
      "id": "d7e27c54"
    },
    {
      "cell_type": "code",
      "metadata": {},
      "source": [
        "data['time'] = data['time'].astype('float64')"
      ],
      "id": "6d52b760",
      "execution_count": null,
      "outputs": []
    },
    {
      "cell_type": "code",
      "metadata": {},
      "source": [
        "data['time'] = data['time'].astype('float64')\n",
        "data.dtypes"
      ],
      "id": "868853b9",
      "execution_count": null,
      "outputs": []
    },
    {
      "cell_type": "markdown",
      "metadata": {},
      "source": [
        "If we have missing data we can use the `fillna()` function to fill the missing data with a specific value.\n"
      ],
      "id": "810ff921"
    },
    {
      "cell_type": "code",
      "metadata": {},
      "source": [
        "data.fillna(0)"
      ],
      "id": "8a8752a2",
      "execution_count": null,
      "outputs": []
    },
    {
      "cell_type": "code",
      "metadata": {},
      "source": [
        "data_missing = pd.read_csv(temperature_nan_data, header=None, skipinitialspace=True, sep=' ', names=['time', 'temperature'])\n",
        "data_missing.head()"
      ],
      "id": "88916eed",
      "execution_count": null,
      "outputs": []
    },
    {
      "cell_type": "markdown",
      "metadata": {},
      "source": [
        "One value is missing in the `temperature` column. We fill it with 0.\n",
        "\n",
        "First let check where the data is missing.\n"
      ],
      "id": "0e280bcd"
    },
    {
      "cell_type": "code",
      "metadata": {},
      "source": [
        "data[data['temperature'].isna()]"
      ],
      "id": "3d45a30b",
      "execution_count": null,
      "outputs": []
    },
    {
      "cell_type": "markdown",
      "metadata": {},
      "source": [
        "At index 21 at time 22 s the temperature is missing.\n",
        "\n",
        ":::{.callout-note}\n",
        "The handling of missing data is a complex topic.\n",
        "First of all you have to check why the data is missing. Is it a measurement error, a data processing error etc.\n",
        "\n",
        "You have to decide if you want to fill the missing data with a specific value, drop the row or column or interpolate the missing data. The decision depends on the data and the analysis you want to perform. Droping Data is always a delicate decision because you loose information. Sometimes it is not good scientific practice to drop data. \n",
        "For more information there a lot of research in this topic [https://doi.org/10.1076/edre.7.4.353.8937](https://doi.org/10.1076/edre.7.4.353.8937)\n",
        ":::\n",
        "\n",
        "\n",
        "The time step can be estimated by the difference between the time steps of the previous and the next data point.\n"
      ],
      "id": "c9edbe84"
    },
    {
      "cell_type": "code",
      "metadata": {},
      "source": [
        "data['time'].diff()"
      ],
      "id": "d45c1cd7",
      "execution_count": null,
      "outputs": []
    },
    {
      "cell_type": "markdown",
      "metadata": {},
      "source": [
        "And we can summarize it via:\n"
      ],
      "id": "eed2765c"
    },
    {
      "cell_type": "code",
      "metadata": {},
      "source": [
        "data['time'].diff().value_counts()"
      ],
      "id": "55616211",
      "execution_count": null,
      "outputs": []
    },
    {
      "cell_type": "code",
      "metadata": {},
      "source": [
        "data_missing['time'].diff().value_counts()"
      ],
      "id": "ef4b451e",
      "execution_count": null,
      "outputs": []
    },
    {
      "cell_type": "markdown",
      "metadata": {},
      "source": [
        "get difference between temperature values"
      ],
      "id": "f271ba61"
    },
    {
      "cell_type": "code",
      "metadata": {},
      "source": [
        "data_missing[10:30].diff()"
      ],
      "id": "06dfedca",
      "execution_count": null,
      "outputs": []
    },
    {
      "cell_type": "markdown",
      "metadata": {},
      "source": [
        "The time step is constantly 1 second. \n",
        "The difference between the temperature of the previous and the next data point is at $~10^{-2}$ order.\n",
        "We can assume that in this case the data is consistent enough and we can fill the missing data with the mean of the previous and the next data point.\n"
      ],
      "id": "e8d84342"
    },
    {
      "cell_type": "code",
      "metadata": {},
      "source": [
        "data['temperature'].fillna((data['temperature'].shift() + data['temperature'].shift(-1))/2, inplace=True)"
      ],
      "id": "986e846c",
      "execution_count": null,
      "outputs": []
    },
    {
      "cell_type": "code",
      "metadata": {},
      "source": [
        "data_missing['temperature'].fillna((data_missing['temperature'].shift() + data_missing['temperature'].shift(-1))/2, inplace=True)\n",
        "data_missing[20:25]"
      ],
      "id": "359a8230",
      "execution_count": null,
      "outputs": []
    },
    {
      "cell_type": "markdown",
      "metadata": {},
      "source": [
        "Now can analysis or plot the data.\n",
        "\n",
        "#### Data Type Conversion {.unnumbered}\n",
        "\n",
        "You get the data type of the data with the `dtypes` function.\n"
      ],
      "id": "526fe1e9"
    },
    {
      "cell_type": "code",
      "metadata": {},
      "source": [
        "data.dtypes"
      ],
      "id": "9be6f6d3",
      "execution_count": null,
      "outputs": []
    },
    {
      "cell_type": "markdown",
      "metadata": {},
      "source": [
        "You can convert the data type with the `astype()` function.\n"
      ],
      "id": "bd442f48"
    },
    {
      "cell_type": "code",
      "metadata": {},
      "source": [
        "data['time'] = data['time'].astype('float64')"
      ],
      "id": "18d78210",
      "execution_count": null,
      "outputs": []
    },
    {
      "cell_type": "markdown",
      "metadata": {},
      "source": [
        "## Example: Data Import and Inspection {.unnumbered}\n",
        "\n",
        "# Exercises {.unnumbered}\n",
        "Download it locally and try to solve the exercises. <br>\n",
        "\n",
        "[Data Import and Inspection Example](https://github.com/stkroe/PythonforChemists/blob/main/course/examples/DHP_Example.ipynb)\n",
        "\n",
        "\n",
        "Or open it in `Google Colab`:\n",
        "\n",
        "[Data Import and Inspection Example](https://colab.research.google.com/github/stkroe/PythonforChemists/blob/main/course/examples/DHP_Example.ipynb)\n"
      ],
      "id": "9655c311"
    }
  ],
  "metadata": {
    "kernelspec": {
      "name": "python3",
      "language": "python",
      "display_name": "Python 3 (ipykernel)",
      "path": "/Users/stk/y/envs/myenv/share/jupyter/kernels/python3"
    }
  },
  "nbformat": 4,
  "nbformat_minor": 5
}