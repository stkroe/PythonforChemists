{
  "cells": [
    {
      "cell_type": "markdown",
      "metadata": {},
      "source": [
        "---\n",
        "title: \"Interactive Plots\"\n",
        "execute: \n",
        "  echo: True\n",
        "  eval: True\n",
        "other-links: \n",
        "      - text: \"Download Code\"\n",
        "        href: \"https://github.com/stkroe/PythonforChemists/blob/main/course/notebooks/InteractivePlots.ipynb\"\n",
        "        icon: \"journal\"\n",
        "code-links:\n",
        "      - text: \"Open in Colab\"\n",
        "        href: \"https://colab.research.google.com/github/stkroe/PythonForChemists/blob/main/course/notebooks/InteractivePlots.ipynb\"\n",
        "        icon: \"laptop\"\n",
        "--- \n",
        "\n",
        "\n",
        "\n",
        "## Interactive Plots {.unnumbered}\n",
        "\n",
        "### Matplotlib and ipywidget {.unnumbered}\n"
      ],
      "id": "e884e74d"
    },
    {
      "cell_type": "code",
      "metadata": {},
      "source": [
        "from matplotlib import pyplot as plt\n",
        "import numpy as np\n",
        "import ipywidgets as widgets\n",
        "from IPython.display import display\n",
        "\n",
        "x = np.linspace(0, 10, 100)\n",
        "y = np.sin(x)\n",
        "\n",
        "def plot_sine(frequency):\n",
        "    plt.plot(x, np.sin(frequency*x))\n",
        "    plt.show()\n",
        "  \n",
        "frequency_slider = widgets.FloatSlider(value=1, min=0.1, max=10, step=0.1)\n",
        "widgets.interactive(plot_sine, frequency=frequency_slider)"
      ],
      "id": "6ca80b11",
      "execution_count": null,
      "outputs": []
    },
    {
      "cell_type": "markdown",
      "metadata": {},
      "source": [
        "---\n",
        "\n",
        "### Plotly {.unnumbered}\n",
        "\n",
        "Ploty is a library that allows you to create interactive plots and dashboards, see the [Plotly website](https://plotly.com/graphing-libraries/).\n"
      ],
      "id": "ad77bd44"
    },
    {
      "cell_type": "code",
      "metadata": {},
      "source": [
        "import plotly.express as px\n",
        "import numpy as np\n",
        "\n",
        "x = np.linspace(0, 10, 100)\n",
        "y = np.sin(x)\n",
        "\n",
        "fig = px.line(x=x, y=y, title='Sine function')\n",
        "fig.show()"
      ],
      "id": "ee2991b9",
      "execution_count": null,
      "outputs": []
    },
    {
      "cell_type": "markdown",
      "metadata": {},
      "source": [
        "---\n",
        "\n",
        "### Bokeh {.unnumbered}\n",
        "\n",
        "Bokeh is a library that allows you to create interactive plots and dashboards, see the [Bokeh website](https://docs.bokeh.org/en/latest/index.html).\n"
      ],
      "id": "d68be610"
    },
    {
      "cell_type": "code",
      "metadata": {},
      "source": [
        "from bokeh.plotting import figure, show\n",
        "from bokeh.io import output_notebook\n",
        "import numpy as np\n",
        "\n",
        "output_notebook()\n",
        "\n",
        "x = np.linspace(0, 10, 100)\n",
        "y = np.sin(x)\n",
        "\n",
        "p = figure(title='Sine function')\n",
        "p.line(x, y)\n",
        "show(p)"
      ],
      "id": "80f10fc7",
      "execution_count": null,
      "outputs": []
    },
    {
      "cell_type": "markdown",
      "metadata": {},
      "source": [
        "---\n",
        "\n",
        "### Altair {.unnumbered}\n",
        "\n",
        "Altair is a library that allows you to create interactive plots and dashboards, see the [Altair website](https://altair-viz.github.io/).\n"
      ],
      "id": "a212ecd2"
    },
    {
      "cell_type": "code",
      "metadata": {},
      "source": [
        "import altair as alt\n",
        "import pandas as pd\n",
        "import numpy as np\n",
        "\n",
        "x = np.linspace(0, 10, 100)\n",
        "y = np.sin(x)\n",
        "\n",
        "df = pd.DataFrame({'x': x, 'y': y})\n",
        "\n",
        "alt.Chart(df).mark_line().encode(\n",
        "    x='x',\n",
        "    y='y'\n",
        ").properties(\n",
        "    title='Sine function'\n",
        ")"
      ],
      "id": "83af23e8",
      "execution_count": null,
      "outputs": []
    }
  ],
  "metadata": {
    "kernelspec": {
      "name": "python3",
      "language": "python",
      "display_name": "Python 3 (ipykernel)",
      "path": "/Users/stk/y/envs/myenv/share/jupyter/kernels/python3"
    }
  },
  "nbformat": 4,
  "nbformat_minor": 5
}