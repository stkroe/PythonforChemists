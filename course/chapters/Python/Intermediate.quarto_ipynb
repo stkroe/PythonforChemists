{
  "cells": [
    {
      "cell_type": "markdown",
      "metadata": {},
      "source": [
        "---\n",
        "title: \"Python Intermediate\"\n",
        "execute:\n",
        "    echo: true\n",
        "    eval: true\n",
        "    error: true\n",
        "other-links:     \n",
        "    - text: \"Download Code\"\n",
        "      href: \"https://github.com/stkroe/PythonforChemists/blob/main/course/notebooks/intermediate.ipynb\"\n",
        "      icon: \"journal\"\n",
        "code-links:\n",
        "      - text: \"Open in Colab\"\n",
        "        href: \"https://colab.research.google.com/github/stkroe/PythonForChemists/blob/main/course/notebooks/Intermediate.ipynb\"\n",
        "        icon: \"laptop\"\n",
        "---\n",
        "\n",
        "\n",
        "Often we need with user input, files, system and paths. In this chapter we will cover these topics.\n",
        "\n",
        "# I/O (Input/Output) {.unnumbered}\n",
        "\n",
        "\n",
        "You can use the `print()` function to **print a message** to the screen. <br>\n",
        "You can use the `input()` function to get **input from the user**. <br>\n",
        "You can use the `open()` function to **open a file**. <br>\n",
        "You can use the `write()` function to **write to a file**. <br>\n",
        "You can use the `read()` function to **read from a file**. <br>\n",
        "You can use the `close()` function to **close a file**. <br>\n",
        "You can use the `with` statement to **open a file** and **automatically close** it when you are done. <br>\n",
        "You can use the `os` module to **work with files and directories**. <br>\n",
        "You can use the `sys` module to **work with command line arguments**. <br>\n",
        "You can use the `argparse` module to work also with **command line arguments**. <br>\n",
        "\n",
        " This should print \"Hello World!\" to the console"
      ],
      "id": "9f2ec83f"
    },
    {
      "cell_type": "code",
      "metadata": {},
      "source": [
        "print(\"Hello World!\")"
      ],
      "id": "fe6b15c8",
      "execution_count": null,
      "outputs": []
    },
    {
      "cell_type": "markdown",
      "metadata": {},
      "source": [
        "This should ask the user to enter a number and print it to the console"
      ],
      "id": "c736dee7"
    },
    {
      "cell_type": "code",
      "metadata": {},
      "source": [
        "#| eval: false\n",
        "print(input(\"Enter a number: \"))"
      ],
      "id": "3a0259e7",
      "execution_count": null,
      "outputs": []
    },
    {
      "cell_type": "markdown",
      "metadata": {},
      "source": [
        "This should write \"Hello World!\" to the file \"file.txt\""
      ],
      "id": "c3fe681a"
    },
    {
      "cell_type": "code",
      "metadata": {},
      "source": [
        "open(\"file.txt\", \"w\").write(\"Hello World!\") "
      ],
      "id": "85bb073c",
      "execution_count": null,
      "outputs": []
    },
    {
      "cell_type": "markdown",
      "metadata": {},
      "source": [
        "This should read the file \"file.txt\" and print the content to the console"
      ],
      "id": "6985842f"
    },
    {
      "cell_type": "code",
      "metadata": {},
      "source": [
        "print(open(\"file.txt\").read()) "
      ],
      "id": "256e9bb9",
      "execution_count": null,
      "outputs": []
    },
    {
      "cell_type": "markdown",
      "metadata": {},
      "source": [
        "This should print \"Hello World!\" to the console without a newline\n"
      ],
      "id": "8e008d4c"
    },
    {
      "cell_type": "code",
      "metadata": {},
      "source": [
        "print(\"Hello World without newline.\", end=\"\") \n",
        "print(\"Next print statement.\")"
      ],
      "id": "ef516a97",
      "execution_count": null,
      "outputs": []
    },
    {
      "cell_type": "markdown",
      "metadata": {},
      "source": [
        "This should read the file \"file.txt\" and print the content to the console\n"
      ],
      "id": "49aba108"
    },
    {
      "cell_type": "code",
      "metadata": {},
      "source": [
        "with open(\"file.txt\", \"r\") as file: print(file.read()) "
      ],
      "id": "135b657c",
      "execution_count": null,
      "outputs": []
    },
    {
      "cell_type": "markdown",
      "metadata": {},
      "source": [
        "Write a file with the content \"Hello World!\" and close it\n"
      ],
      "id": "7243a39e"
    },
    {
      "cell_type": "code",
      "metadata": {},
      "source": [
        "file = open(\"file.txt\", \"w\")\n",
        "file.write(\"Hello World!\")\n",
        "file.close()"
      ],
      "id": "0bd858f0",
      "execution_count": null,
      "outputs": []
    },
    {
      "cell_type": "markdown",
      "metadata": {},
      "source": [
        "---\n",
        "\n",
        "# System {.unnumbered}\n",
        "\n",
        "\n",
        "There are a lot of modules in Python to work with the system. <br>\n",
        "You can use the `os` module to **work with files and directories**. <br>\n",
        "You can use the `sys` module to **work with command line arguments**. <br>\n",
        "You can use the `argparse` module to work also with **command line arguments**. <br>\n",
        "\n",
        "Most important functions are: <br>\n",
        "- `os.getcwd()` to get the current working directory. <br>\n",
        "- `os.chdir()` to change the current working directory. <br>\n",
        "- `os.listdir()` to list the files in a directory. <br>\n",
        "- `os.mkdir()` to create a directory. <br>\n",
        "- `os.rmdir()` to remove a directory. <br>\n",
        "- `os.remove()` to remove a file. <br>\n",
        "- `os.rename()` to rename a file. <br>\n",
        "- `os.path.exists()` to check if a file or directory exists. <br>\n",
        "- `os.path.isfile()` to check if a file exists. <br>\n",
        "- `os.path.isdir()` to check if a directory exists. <br>\n",
        "- `os.path.join()` to join two paths. <br>\n",
        "- `os.path.basename()` to get the base name of a path. <br>\n",
        "- `os.path.dirname()` to get the directory name of a path. <br>\n",
        "- `os.path.abspath()` to get the absolute path of a path. <br>\n",
        "- `os.path.split()` to split a path into a directory and a file. <br>\n",
        "- `os.path.splitext()` to split a path into a base name and an extension. <br>\n",
        "- `os.path.getsize()` to get the size of a file. <br>\n",
        "- `os.path.getmtime()` to get the modification time of a file. <br>\n",
        "\n",
        "- `sys.argv` to get the command line arguments. <br>\n",
        "- `sys.exit()` to exit the program. <br>\n",
        "- `sys.stdin` to read from the standard input. <br>\n",
        "- `sys.stdout` to write to the standard output. <br>\n",
        "- `sys.stderr` to write to the standard error. <br>\n",
        "\n",
        "- `argparse.ArgumentParser()` to create a parser. <br>\n",
        "- `add_argument()` to add an argument to the parser. <br>\n",
        "- `parse_args()` to parse the command line arguments. <br>\n",
        "\n",
        "\n",
        "This should remove the file \"file.txt\""
      ],
      "id": "b71ee4b5"
    },
    {
      "cell_type": "code",
      "metadata": {},
      "source": [
        "import os\n",
        "os.remove(\"file.txt\")"
      ],
      "id": "3c83c993",
      "execution_count": null,
      "outputs": []
    },
    {
      "cell_type": "markdown",
      "metadata": {},
      "source": [
        "For `sys` you can use the `sys.argv` to get the command line arguments. <br>\n",
        "`sys.argv` is a list of the command line arguments. <br>\n",
        "`sys.argv[0]` is the name of the script. <br>\n",
        "`sys.argv[1]` is the first argument. <br>\n"
      ],
      "id": "4855a449"
    },
    {
      "cell_type": "code",
      "metadata": {},
      "source": [
        "import sys\n",
        "first_argument = sys.argv[1]"
      ],
      "id": "0427da8e",
      "execution_count": null,
      "outputs": []
    },
    {
      "cell_type": "markdown",
      "metadata": {},
      "source": [
        "For more information about the sys module you can visit the [official documentation](https://docs.python.org/3/library/sys.html).\n",
        "\n",
        "\n",
        "For `Argparse` you can use the following code:\n",
        "For python scripts:\n",
        "You can use argparse to parse command line arguments.\n"
      ],
      "id": "ab5e5a9b"
    },
    {
      "cell_type": "code",
      "metadata": {},
      "source": [
        "#| eval: false\n",
        "from argparse import ArgumentParser\n",
        "\n",
        "parser = ArgumentParser(description=\"This is a description.\")\n",
        "parser.add_argument(\"--arg1\", help=\"This is the first argument.\")\n",
        "parser.add_argument(\"---arg2\", help=\"This is the second argument.\")\n",
        "args = parser.parse_args()"
      ],
      "id": "c5b9c03b",
      "execution_count": null,
      "outputs": []
    },
    {
      "cell_type": "markdown",
      "metadata": {},
      "source": [
        "For more information about `Argparse` you can visit the [official documentation](https://docs.python.org/3/library/argparse.html).\n",
        "\n",
        "---\n",
        "\n",
        "# Paths {.unnumbered}\n",
        "\n",
        "Pay attention to the paths in your code. They\n",
        "are different defined in Windows and Linux. In Windows and macOS, you use backslashes `/` and in Linux, you use forward slashes `\\`. \n",
        "\n",
        "To avoid this problem you can use the `os` or `pathlib` module to make your code platform independent.\n"
      ],
      "id": "c1996644"
    },
    {
      "cell_type": "code",
      "metadata": {},
      "source": [
        "import os\n",
        "\n",
        "path = os.path.join('folder1', 'folder2', 'folder3', 'data.dat')\n",
        "print(path)"
      ],
      "id": "6e6a0c7b",
      "execution_count": null,
      "outputs": []
    },
    {
      "cell_type": "code",
      "metadata": {},
      "source": [
        "working_dir = os.getcwd()\n",
        "print(working_dir)"
      ],
      "id": "7fd577b7",
      "execution_count": null,
      "outputs": []
    },
    {
      "cell_type": "code",
      "metadata": {},
      "source": [
        "from pathlib import Path\n",
        "\n",
        "path = Path('folder1') / 'folder2' / 'folder3' / 'data.dat'\n",
        "print(path)"
      ],
      "id": "7026871a",
      "execution_count": null,
      "outputs": []
    },
    {
      "cell_type": "code",
      "metadata": {},
      "source": [
        "working_dir = Path.cwd()\n",
        "print(working_dir)"
      ],
      "id": "851579be",
      "execution_count": null,
      "outputs": []
    }
  ],
  "metadata": {
    "kernelspec": {
      "name": "python3",
      "language": "python",
      "display_name": "Python 3 (ipykernel)",
      "path": "/Users/stk/y/envs/myenv/share/jupyter/kernels/python3"
    }
  },
  "nbformat": 4,
  "nbformat_minor": 5
}